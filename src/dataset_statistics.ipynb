{
 "cells": [
  {
   "cell_type": "code",
   "id": "initial_id",
   "metadata": {
    "collapsed": true,
    "ExecuteTime": {
     "end_time": "2025-03-15T19:20:46.447469Z",
     "start_time": "2025-03-15T19:20:46.445894Z"
    }
   },
   "source": [
    "# Import all required libraries\n",
    "\n",
    "import pandas as pd\n",
    "import numpy as np\n",
    "import os"
   ],
   "outputs": [],
   "execution_count": 1
  },
  {
   "metadata": {
    "ExecuteTime": {
     "end_time": "2025-03-15T19:20:46.454426Z",
     "start_time": "2025-03-15T19:20:46.451240Z"
    }
   },
   "cell_type": "code",
   "source": [
    "exclude_columns = [\"time_stamp\", \"asset_id\", \"id\"]\n",
    "\n",
    "\n",
    "def load_datasets(farm):\n",
    "    event_info = pd.read_csv(f\"../data/care_to_compare/Wind Farm {farm}/event_info.csv\", delimiter=';')\n",
    "    return event_info\n",
    "\n",
    "\n",
    "def load_df_and_annotate_anomalies(farm, event_id):\n",
    "    path = f\"../data/care_to_compare/Wind Farm {farm}/datasets/{event_id}.csv\"\n",
    "    df = pd.read_csv(path, delimiter=';')\n",
    "\n",
    "    event_info = pd.read_csv(f\"../data/care_to_compare/Wind Farm {farm}/event_info.csv\", delimiter=';')\n",
    "\n",
    "    # Find the row where event_id = event_id\n",
    "    metadata = event_info[event_info['event_id'] == event_id]\n",
    "\n",
    "    event_label = metadata[\"event_label\"].values[0]\n",
    "    event_start_id = metadata[\"event_start_id\"].values[0]\n",
    "    event_end_id = metadata[\"event_end_id\"].values[0]\n",
    "\n",
    "    label_value = 1 if event_label == \"anomaly\" else 0\n",
    "\n",
    "    # All rows where the column \"id\" is between event_start_id and event_end_id\n",
    "    df['label'] = 0\n",
    "    df.loc[(df['id'] >= event_start_id) & (df['id'] <= event_end_id), 'label'] = label_value\n",
    "\n",
    "    # Remove columns with suffixes in exclude_columns_with_suffix\n",
    "    df = df[[col for col in df.columns if not col.endswith('_max')]]\n",
    "    df = df[[col for col in df.columns if not col.endswith('_min')]]\n",
    "    df = df[[col for col in df.columns if not col.endswith('_std')]]\n",
    "\n",
    "    # Replace inf values with NaN and drop rows with NaN values\n",
    "    df.replace([np.inf, -np.inf], np.nan, inplace=True)\n",
    "    df.dropna(inplace=True)\n",
    "\n",
    "    return df"
   ],
   "id": "ee2e0d996149c019",
   "outputs": [],
   "execution_count": 2
  },
  {
   "metadata": {
    "ExecuteTime": {
     "end_time": "2025-03-15T19:20:46.541790Z",
     "start_time": "2025-03-15T19:20:46.538538Z"
    }
   },
   "cell_type": "code",
   "source": [
    "stats = pd.DataFrame(\n",
    "    columns=[\"farm\", \"test_train\", \"datasets\", \"number_of_columns\", \"number_of_rows\"])\n"
   ],
   "id": "7d93ce754b53fd82",
   "outputs": [],
   "execution_count": 3
  },
  {
   "metadata": {
    "ExecuteTime": {
     "end_time": "2025-03-15T19:22:55.630768Z",
     "start_time": "2025-03-15T19:22:52.133925Z"
    }
   },
   "cell_type": "code",
   "source": [
    "# Create a dataframe that holds the summary of the data\n",
    "# It should have the columns farm, test_train, datasets, number_of_columns, number_of_columns_for_training, number_of_rows, number_of_rows_for_training\n",
    "\n",
    "\n",
    "wind_farm = \"A\"\n",
    "train_datasets = [25, 69, 13, 24, 3, 17, 38, 71, 14, 92, 51]\n",
    "\n",
    "number_of_rows = 0\n",
    "\n",
    "for element in train_datasets:\n",
    "    data = load_df_and_annotate_anomalies(wind_farm, element)\n",
    "\n",
    "    data = data[data['train_test'] == 'train']\n",
    "    data = data[data['status_type_id'].isin([0, 2])]\n",
    "\n",
    "    data = data.drop(columns=['label', 'train_test', 'status_type_id'])\n",
    "\n",
    "    number_of_columns = len(data.columns)\n",
    "    number_of_rows += len(data)\n",
    "\n",
    "# Join them by comma\n",
    "train_datasets_str = ', '.join([str(elem) for elem in train_datasets])\n",
    "\n",
    "stats.loc[len(stats)] = {\n",
    "    \"farm\": wind_farm,\n",
    "    \"test_train\": \"train\",\n",
    "    \"datasets\": train_datasets_str,\n",
    "    \"number_of_columns\": number_of_columns,\n",
    "    \"number_of_rows\": number_of_rows\n",
    "}\n"
   ],
   "id": "551a11cbf1b6f739",
   "outputs": [],
   "execution_count": 5
  },
  {
   "metadata": {
    "ExecuteTime": {
     "end_time": "2025-03-15T19:22:55.658361Z",
     "start_time": "2025-03-15T19:22:55.648448Z"
    }
   },
   "cell_type": "code",
   "source": "stats.head()",
   "id": "717c5d4715e6d210",
   "outputs": [
    {
     "data": {
      "text/plain": [
       "  farm test_train                                   datasets  \\\n",
       "0    A      train  25, 69, 13, 24, 3, 17, 38, 71, 14, 92, 51   \n",
       "\n",
       "   number_of_columns  number_of_rows  \n",
       "0                 57          430495  "
      ],
      "text/html": [
       "<div>\n",
       "<style scoped>\n",
       "    .dataframe tbody tr th:only-of-type {\n",
       "        vertical-align: middle;\n",
       "    }\n",
       "\n",
       "    .dataframe tbody tr th {\n",
       "        vertical-align: top;\n",
       "    }\n",
       "\n",
       "    .dataframe thead th {\n",
       "        text-align: right;\n",
       "    }\n",
       "</style>\n",
       "<table border=\"1\" class=\"dataframe\">\n",
       "  <thead>\n",
       "    <tr style=\"text-align: right;\">\n",
       "      <th></th>\n",
       "      <th>farm</th>\n",
       "      <th>test_train</th>\n",
       "      <th>datasets</th>\n",
       "      <th>number_of_columns</th>\n",
       "      <th>number_of_rows</th>\n",
       "    </tr>\n",
       "  </thead>\n",
       "  <tbody>\n",
       "    <tr>\n",
       "      <th>0</th>\n",
       "      <td>A</td>\n",
       "      <td>train</td>\n",
       "      <td>25, 69, 13, 24, 3, 17, 38, 71, 14, 92, 51</td>\n",
       "      <td>57</td>\n",
       "      <td>430495</td>\n",
       "    </tr>\n",
       "  </tbody>\n",
       "</table>\n",
       "</div>"
      ]
     },
     "execution_count": 6,
     "metadata": {},
     "output_type": "execute_result"
    }
   ],
   "execution_count": 6
  },
  {
   "metadata": {},
   "cell_type": "code",
   "outputs": [],
   "execution_count": null,
   "source": "test_datasets = [68, 22, 72, 73, 0, 26, 40, 42, 10, 45, 84, 25, 69, 13, 24, 3, 17, 38, 71, 14, 92, 51]\n",
   "id": "ffee34225248f140"
  }
 ],
 "metadata": {
  "kernelspec": {
   "display_name": "Python 3",
   "language": "python",
   "name": "python3"
  },
  "language_info": {
   "codemirror_mode": {
    "name": "ipython",
    "version": 2
   },
   "file_extension": ".py",
   "mimetype": "text/x-python",
   "name": "python",
   "nbconvert_exporter": "python",
   "pygments_lexer": "ipython2",
   "version": "2.7.6"
  }
 },
 "nbformat": 4,
 "nbformat_minor": 5
}
