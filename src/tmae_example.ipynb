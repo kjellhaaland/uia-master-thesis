{
 "cells": [
  {
   "cell_type": "code",
   "id": "initial_id",
   "metadata": {
    "collapsed": true,
    "ExecuteTime": {
     "end_time": "2025-05-23T21:34:03.835476Z",
     "start_time": "2025-05-23T21:34:03.832298Z"
    }
   },
   "source": [
    "import numpy as np\n",
    "from tmu.models.autoencoder.autoencoder import TMAutoEncoder"
   ],
   "outputs": [],
   "execution_count": 296
  },
  {
   "metadata": {
    "ExecuteTime": {
     "end_time": "2025-05-23T21:34:03.843817Z",
     "start_time": "2025-05-23T21:34:03.840876Z"
    }
   },
   "cell_type": "code",
   "source": [
    "def hamming_loss(pred, X_test):\n",
    "    \"\"\"\n",
    "    Computes the Hamming loss between predicted and ground truth binary arrays.\n",
    "\n",
    "    Parameters:\n",
    "    - pred (numpy array): Binary predictions of shape (n_samples, n_bits).\n",
    "    - X_test (numpy array): Ground truth binary values of shape (n_samples, n_bits).\n",
    "\n",
    "    Returns:\n",
    "    - float: Hamming loss (fraction of incorrect bits).\n",
    "    \"\"\"\n",
    "    assert pred.shape == X_test.shape, \"Shapes of pred and X_test must match\"\n",
    "\n",
    "    # Compute the number of differing bits\n",
    "    incorrect_bits = np.sum(pred != X_test)\n",
    "\n",
    "    # Total number of bits\n",
    "    total_bits = np.prod(X_test.shape)\n",
    "\n",
    "    # Hamming loss is the fraction of incorrect bits\n",
    "    return incorrect_bits / total_bits"
   ],
   "id": "fadfb75924b02937",
   "outputs": [],
   "execution_count": 297
  },
  {
   "metadata": {
    "ExecuteTime": {
     "end_time": "2025-05-23T21:34:03.867779Z",
     "start_time": "2025-05-23T21:34:03.860344Z"
    }
   },
   "cell_type": "code",
   "source": [
    "def test(tm, X):\n",
    "    pred = tm.predict(X)\n",
    "\n",
    "    print(pred)\n",
    "\n",
    "    loss = [hamming_loss(X[i], pred[i]) for i in range(len(X))]\n",
    "\n",
    "    return np.mean(loss), np.median(loss), np.max(loss), np.min(loss)"
   ],
   "id": "ea7ad7ad574dfc47",
   "outputs": [],
   "execution_count": 298
  },
  {
   "metadata": {
    "ExecuteTime": {
     "end_time": "2025-05-23T21:34:03.885679Z",
     "start_time": "2025-05-23T21:34:03.877364Z"
    }
   },
   "cell_type": "code",
   "source": [
    "def simulate_data(n_samples):\n",
    "    # First column: isWind\n",
    "    # Second column: two bit integer temperature\n",
    "    # Third column: two bit integer output power\n",
    "\n",
    "    # Generate random values for each column.\n",
    "    # There must be wind and temperature for output power. Higher temperature means higher output power.\n",
    "\n",
    "    for i in range(n_samples):\n",
    "        isWind = np.random.randint(0, 2)\n",
    "        temperature = np.random.randint(0, 4) if isWind else 0\n",
    "        outputPower = np.random.randint(0, 4) if isWind else 0\n",
    "\n",
    "        yield [isWind, temperature, outputPower]"
   ],
   "id": "aa7614231b6134ab",
   "outputs": [],
   "execution_count": 299
  },
  {
   "metadata": {
    "ExecuteTime": {
     "end_time": "2025-05-23T21:34:03.911201Z",
     "start_time": "2025-05-23T21:34:03.905249Z"
    }
   },
   "cell_type": "code",
   "source": [
    "## Example columns: IsWind, Temperature, IsOutputPower,\n",
    "X_train = np.array([\n",
    "    [0, 0, 0, 0, 0],\n",
    "    [1, 1, 1, 1, 1],\n",
    "    [1, 1, 0, 1, 0],\n",
    "    [0, 0, 1, 0, 0],\n",
    "    [0, 0, 1, 0, 0],\n",
    "    [1, 0, 1, 0, 1],\n",
    "    [1, 0, 1, 0, 1],\n",
    "])\n",
    "\n",
    "X_test = np.array([\n",
    "    [0, 0, 0, 0, 0],\n",
    "    [1, 1, 1, 1, 1],\n",
    "    [1, 0, 1, 0, 1],\n",
    "])"
   ],
   "id": "85b66407b18b6042",
   "outputs": [],
   "execution_count": 300
  },
  {
   "metadata": {
    "ExecuteTime": {
     "end_time": "2025-05-23T21:34:03.935703Z",
     "start_time": "2025-05-23T21:34:03.931299Z"
    }
   },
   "cell_type": "code",
   "source": [
    "number_of_features = X_train.shape[1]\n",
    "output_active = np.arange(number_of_features, dtype=np.uint32)\n",
    "\n",
    "tm = TMAutoEncoder(\n",
    "    number_of_clauses=500,\n",
    "    T=500,\n",
    "    s=15.0,\n",
    "    output_active=output_active,\n",
    "    max_included_literals=10,\n",
    "    accumulation=1,\n",
    "    feature_negation=True,\n",
    "    platform=\"CPU\",\n",
    "    output_balancing=0,\n",
    ")\n",
    "\n",
    "print(\"Starting training for 15 epochs\")"
   ],
   "id": "a664bb6d38e34ae0",
   "outputs": [
    {
     "name": "stdout",
     "output_type": "stream",
     "text": [
      "Starting training for 15 epochs\n"
     ]
    }
   ],
   "execution_count": 301
  },
  {
   "metadata": {
    "ExecuteTime": {
     "end_time": "2025-05-23T21:34:04.047479Z",
     "start_time": "2025-05-23T21:34:04.028304Z"
    }
   },
   "cell_type": "code",
   "source": [
    "print(f\"Starting training\")\n",
    "\n",
    "for e in range(15):\n",
    "    tm.fit(X_train, number_of_examples=1)\n",
    "\n",
    "    lmean, lmed, lmax, lmin = test(tm, X_test)\n",
    "    # print(f\"Epoch: {e + 1} Mean loss: {lmean:4f}, Median loss: {lmed:4f}, Max loss: {lmax:4f}, Min loss: {lmin:4f}\")"
   ],
   "id": "a0ce58882aed1c90",
   "outputs": [
    {
     "name": "stdout",
     "output_type": "stream",
     "text": [
      "Starting training\n",
      "[[0 0 0 0 0]\n",
      " [1 1 1 1 1]\n",
      " [0 0 0 0 0]]\n",
      "[[0 0 0 0 0]\n",
      " [1 1 1 1 1]\n",
      " [0 0 0 0 0]]\n",
      "[[0 0 0 0 0]\n",
      " [1 1 1 1 1]\n",
      " [1 0 0 0 0]]\n",
      "[[0 0 0 0 0]\n",
      " [1 1 1 1 1]\n",
      " [1 0 1 0 0]]\n",
      "[[0 0 0 0 0]\n",
      " [1 1 1 1 1]\n",
      " [1 0 1 0 0]]\n",
      "[[0 0 0 0 0]\n",
      " [1 1 1 1 1]\n",
      " [1 0 1 0 0]]\n",
      "[[0 0 0 0 0]\n",
      " [1 1 1 1 1]\n",
      " [1 0 0 0 0]]\n",
      "[[0 0 0 0 0]\n",
      " [1 1 1 1 1]\n",
      " [1 0 0 0 0]]\n",
      "[[0 0 0 0 0]\n",
      " [1 1 1 1 1]\n",
      " [1 0 0 0 0]]\n",
      "[[0 0 0 0 0]\n",
      " [1 1 1 1 1]\n",
      " [1 0 0 0 0]]\n",
      "[[0 0 0 0 0]\n",
      " [1 1 1 1 1]\n",
      " [1 0 1 0 1]]\n",
      "[[0 0 0 0 0]\n",
      " [1 1 1 1 1]\n",
      " [1 0 1 0 0]]\n",
      "[[0 0 0 0 0]\n",
      " [1 1 1 1 1]\n",
      " [1 0 1 0 1]]\n",
      "[[0 0 0 0 0]\n",
      " [1 1 1 1 1]\n",
      " [1 0 1 0 1]]\n",
      "[[0 0 0 0 0]\n",
      " [1 1 1 1 1]\n",
      " [1 0 1 0 1]]\n"
     ]
    }
   ],
   "execution_count": 302
  }
 ],
 "metadata": {
  "kernelspec": {
   "display_name": "Python 3",
   "language": "python",
   "name": "python3"
  },
  "language_info": {
   "codemirror_mode": {
    "name": "ipython",
    "version": 2
   },
   "file_extension": ".py",
   "mimetype": "text/x-python",
   "name": "python",
   "nbconvert_exporter": "python",
   "pygments_lexer": "ipython2",
   "version": "2.7.6"
  }
 },
 "nbformat": 4,
 "nbformat_minor": 5
}
