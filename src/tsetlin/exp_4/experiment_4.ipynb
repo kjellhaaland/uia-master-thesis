{
 "cells": [
  {
   "cell_type": "markdown",
   "metadata": {},
   "source": [
    "## Experiment description\n",
    "\n",
    "Train a TM Classifier to classify anomalies in CARE to comapre SCADA dataset.\n",
    "Train on a subset of the datasets, then evaluate the model on all datasets in Wind Farm C.\n",
    "\n",
    "Use the accuracy score as a simple metric to measure the performace."
   ]
  },
  {
   "cell_type": "code",
   "metadata": {
    "ExecuteTime": {
     "end_time": "2025-02-08T22:23:22.827999Z",
     "start_time": "2025-02-08T22:23:22.826602Z"
    }
   },
   "source": [
    "#%pip install git+https://github.com/cair/tmu.git\n",
    "#%pip install pycuda"
   ],
   "outputs": [],
   "execution_count": 1
  },
  {
   "cell_type": "code",
   "metadata": {
    "ExecuteTime": {
     "end_time": "2025-02-08T22:23:22.848508Z",
     "start_time": "2025-02-08T22:23:22.830438Z"
    }
   },
   "source": [
    "# Import all required libraries\n",
    "\n",
    "import os\n",
    "import pandas as pd\n",
    "import numpy as np\n",
    "import matplotlib.pyplot as plt\n",
    "import seaborn as sns\n",
    "import pickle\n",
    "\n",
    "from tmu.models.classification.vanilla_classifier import TMClassifier"
   ],
   "outputs": [
    {
     "name": "stdout",
     "output_type": "stream",
     "text": [
      "2025-02-08 18:23:22,840 - tmu.util.cuda_profiler - WARNING - Could not import pycuda: No module named 'pycuda'\n",
      "2025-02-08 18:23:22,841 - tmu.clause_bank.clause_bank_cuda - ERROR - No module named 'pycuda'\n",
      "Traceback (most recent call last):\n",
      "  File \"/Users/kjellhaaland/Documents/GitHub/uia-master-thesis/.venv/lib/python3.12/site-packages/tmu/clause_bank/clause_bank_cuda.py\", line 41, in <module>\n",
      "    from pycuda._driver import Device, Context\n",
      "ModuleNotFoundError: No module named 'pycuda'\n",
      "2025-02-08 18:23:22,842 - tmu.clause_bank.clause_bank_cuda - WARNING - Could not import pycuda. This indicates that it is not installed! A possible fix is to run 'pip install pycuda'. Fallback to CPU ClauseBanks.\n"
     ]
    }
   ],
   "execution_count": 2
  },
  {
   "cell_type": "code",
   "metadata": {
    "ExecuteTime": {
     "end_time": "2025-02-08T22:23:22.918533Z",
     "start_time": "2025-02-08T22:23:22.915627Z"
    }
   },
   "source": [
    "exclude_columns = [\"time_stamp\", \"asset_id\", \"id\", \"status_type_id\"],\n",
    "\n",
    "\n",
    "def load_df_and_annotate_anomalies(farm, event_id):\n",
    "    path = f\"../../../data/care_to_compare/Wind Farm {farm}/datasets/{event_id}.csv\"\n",
    "    df = pd.read_csv(path, delimiter=';')\n",
    "\n",
    "    event_info = pd.read_csv(f\"../../../data/care_to_compare/Wind Farm {farm}/event_info.csv\", delimiter=';')\n",
    "\n",
    "    # Find the row where event_id = event_id\n",
    "    metadata = event_info[event_info['event_id'] == event_id]\n",
    "\n",
    "    event_label = metadata[\"event_label\"].values[0]\n",
    "    event_start_id = metadata[\"event_start_id\"].values[0]\n",
    "    event_end_id = metadata[\"event_end_id\"].values[0]\n",
    "\n",
    "    label_value = 1 if event_label == \"anomaly\" else 0\n",
    "\n",
    "    # All rows where the column \"id\" is between event_start_id and event_end_id\n",
    "    df['label'] = 0\n",
    "    df.loc[(df['id'] >= event_start_id) & (df['id'] <= event_end_id), 'label'] = label_value\n",
    "\n",
    "    # Include all columns except for the ones in exclude_columns\n",
    "    df = df[[col for col in df.columns if col not in exclude_columns]]\n",
    "\n",
    "    return df"
   ],
   "outputs": [],
   "execution_count": 3
  },
  {
   "cell_type": "code",
   "metadata": {
    "ExecuteTime": {
     "end_time": "2025-02-08T22:23:32.442551Z",
     "start_time": "2025-02-08T22:23:22.925404Z"
    }
   },
   "source": [
    "# Load all required data for training\n",
    "\n",
    "# Load csv file\n",
    "df_train = pd.concat([\n",
    "    load_df_and_annotate_anomalies('C', 55),\n",
    "    load_df_and_annotate_anomalies('C', 81),\n",
    "])\n",
    "\n",
    "df_test = pd.concat([\n",
    "    load_df_and_annotate_anomalies('C', 47),\n",
    "    load_df_and_annotate_anomalies('C', 8),\n",
    "])\n",
    "\n",
    "# Sensors to use\n",
    "\n",
    "train_data = df_train\n",
    "test_data = df_test[df_test['train_test'] == 'prediction']\n",
    "\n",
    "X_train = train_data.drop(columns=['label', 'train_test'])\n",
    "y_train = train_data['label']\n",
    "\n",
    "X_test = test_data.drop(columns=['label', 'train_test'])\n",
    "y_test = test_data['label']\n",
    "\n",
    "# Print number of 0s and 1s in the label sets\n",
    "train_0s = np.count_nonzero(y_train == 0)\n",
    "train_1s = np.count_nonzero(y_train == 1)\n",
    "\n",
    "print(f\"Train data: {train_0s} 0s and {train_1s} 1s\")\n",
    "\n",
    "test_0s = np.count_nonzero(y_test == 0)\n",
    "test_1s = np.count_nonzero(y_test == 1)\n",
    "\n",
    "print(f\"Test data: {test_0s} 0s and {test_1s} 1s\")\n",
    "\n",
    "df_train.head()"
   ],
   "outputs": [
    {
     "name": "stdout",
     "output_type": "stream",
     "text": [
      "Train data: 106848 0s and 2837 1s\n",
      "Test data: 3106 0s and 713 1s\n"
     ]
    },
    {
     "data": {
      "text/plain": [
       "            time_stamp  asset_id  id train_test  status_type_id  sensor_0_avg  \\\n",
       "0  2017-10-27 11:30:00        50   0      train               0        88.531   \n",
       "1  2017-10-27 11:40:00        50   1      train               0        88.453   \n",
       "2  2017-10-27 11:50:00        50   2      train               0        88.376   \n",
       "3  2017-10-27 12:00:00        50   3      train               0        88.385   \n",
       "4  2017-10-27 12:10:00        50   4      train               0        88.336   \n",
       "\n",
       "   sensor_0_max  sensor_0_min  sensor_0_std  sensor_1_avg  ...  \\\n",
       "0          92.3          83.9         1.483       -0.0023  ...   \n",
       "1          94.3          83.9         1.651        0.0037  ...   \n",
       "2          92.0          84.8         1.497       -0.0006  ...   \n",
       "3          92.3          84.8         1.497       -0.0027  ...   \n",
       "4          91.7          83.9         1.528        0.0010  ...   \n",
       "\n",
       "   wind_speed_236_std  wind_speed_235_avg  wind_speed_235_max  \\\n",
       "0               1.177              13.067                16.5   \n",
       "1               1.268              13.375                16.6   \n",
       "2               1.415              12.775                16.5   \n",
       "3               1.146              13.017                16.3   \n",
       "4               1.397              11.786                16.3   \n",
       "\n",
       "   wind_speed_235_min  wind_speed_235_std  wind_speed_237_avg  \\\n",
       "0                 7.0               1.242              13.404   \n",
       "1                 8.1               1.276              13.778   \n",
       "2                 6.8               1.493              13.125   \n",
       "3                 7.6               1.191              13.350   \n",
       "4                 4.7               1.464              12.201   \n",
       "\n",
       "   wind_speed_237_max  wind_speed_237_min  wind_speed_237_std  label  \n",
       "0                17.4                 7.0               1.458      0  \n",
       "1                18.4                 7.7               1.614      0  \n",
       "2                17.0                 5.6               1.654      0  \n",
       "3                16.9                 6.4               1.448      0  \n",
       "4                16.4                 4.7               1.669      0  \n",
       "\n",
       "[5 rows x 958 columns]"
      ],
      "text/html": [
       "<div>\n",
       "<style scoped>\n",
       "    .dataframe tbody tr th:only-of-type {\n",
       "        vertical-align: middle;\n",
       "    }\n",
       "\n",
       "    .dataframe tbody tr th {\n",
       "        vertical-align: top;\n",
       "    }\n",
       "\n",
       "    .dataframe thead th {\n",
       "        text-align: right;\n",
       "    }\n",
       "</style>\n",
       "<table border=\"1\" class=\"dataframe\">\n",
       "  <thead>\n",
       "    <tr style=\"text-align: right;\">\n",
       "      <th></th>\n",
       "      <th>time_stamp</th>\n",
       "      <th>asset_id</th>\n",
       "      <th>id</th>\n",
       "      <th>train_test</th>\n",
       "      <th>status_type_id</th>\n",
       "      <th>sensor_0_avg</th>\n",
       "      <th>sensor_0_max</th>\n",
       "      <th>sensor_0_min</th>\n",
       "      <th>sensor_0_std</th>\n",
       "      <th>sensor_1_avg</th>\n",
       "      <th>...</th>\n",
       "      <th>wind_speed_236_std</th>\n",
       "      <th>wind_speed_235_avg</th>\n",
       "      <th>wind_speed_235_max</th>\n",
       "      <th>wind_speed_235_min</th>\n",
       "      <th>wind_speed_235_std</th>\n",
       "      <th>wind_speed_237_avg</th>\n",
       "      <th>wind_speed_237_max</th>\n",
       "      <th>wind_speed_237_min</th>\n",
       "      <th>wind_speed_237_std</th>\n",
       "      <th>label</th>\n",
       "    </tr>\n",
       "  </thead>\n",
       "  <tbody>\n",
       "    <tr>\n",
       "      <th>0</th>\n",
       "      <td>2017-10-27 11:30:00</td>\n",
       "      <td>50</td>\n",
       "      <td>0</td>\n",
       "      <td>train</td>\n",
       "      <td>0</td>\n",
       "      <td>88.531</td>\n",
       "      <td>92.3</td>\n",
       "      <td>83.9</td>\n",
       "      <td>1.483</td>\n",
       "      <td>-0.0023</td>\n",
       "      <td>...</td>\n",
       "      <td>1.177</td>\n",
       "      <td>13.067</td>\n",
       "      <td>16.5</td>\n",
       "      <td>7.0</td>\n",
       "      <td>1.242</td>\n",
       "      <td>13.404</td>\n",
       "      <td>17.4</td>\n",
       "      <td>7.0</td>\n",
       "      <td>1.458</td>\n",
       "      <td>0</td>\n",
       "    </tr>\n",
       "    <tr>\n",
       "      <th>1</th>\n",
       "      <td>2017-10-27 11:40:00</td>\n",
       "      <td>50</td>\n",
       "      <td>1</td>\n",
       "      <td>train</td>\n",
       "      <td>0</td>\n",
       "      <td>88.453</td>\n",
       "      <td>94.3</td>\n",
       "      <td>83.9</td>\n",
       "      <td>1.651</td>\n",
       "      <td>0.0037</td>\n",
       "      <td>...</td>\n",
       "      <td>1.268</td>\n",
       "      <td>13.375</td>\n",
       "      <td>16.6</td>\n",
       "      <td>8.1</td>\n",
       "      <td>1.276</td>\n",
       "      <td>13.778</td>\n",
       "      <td>18.4</td>\n",
       "      <td>7.7</td>\n",
       "      <td>1.614</td>\n",
       "      <td>0</td>\n",
       "    </tr>\n",
       "    <tr>\n",
       "      <th>2</th>\n",
       "      <td>2017-10-27 11:50:00</td>\n",
       "      <td>50</td>\n",
       "      <td>2</td>\n",
       "      <td>train</td>\n",
       "      <td>0</td>\n",
       "      <td>88.376</td>\n",
       "      <td>92.0</td>\n",
       "      <td>84.8</td>\n",
       "      <td>1.497</td>\n",
       "      <td>-0.0006</td>\n",
       "      <td>...</td>\n",
       "      <td>1.415</td>\n",
       "      <td>12.775</td>\n",
       "      <td>16.5</td>\n",
       "      <td>6.8</td>\n",
       "      <td>1.493</td>\n",
       "      <td>13.125</td>\n",
       "      <td>17.0</td>\n",
       "      <td>5.6</td>\n",
       "      <td>1.654</td>\n",
       "      <td>0</td>\n",
       "    </tr>\n",
       "    <tr>\n",
       "      <th>3</th>\n",
       "      <td>2017-10-27 12:00:00</td>\n",
       "      <td>50</td>\n",
       "      <td>3</td>\n",
       "      <td>train</td>\n",
       "      <td>0</td>\n",
       "      <td>88.385</td>\n",
       "      <td>92.3</td>\n",
       "      <td>84.8</td>\n",
       "      <td>1.497</td>\n",
       "      <td>-0.0027</td>\n",
       "      <td>...</td>\n",
       "      <td>1.146</td>\n",
       "      <td>13.017</td>\n",
       "      <td>16.3</td>\n",
       "      <td>7.6</td>\n",
       "      <td>1.191</td>\n",
       "      <td>13.350</td>\n",
       "      <td>16.9</td>\n",
       "      <td>6.4</td>\n",
       "      <td>1.448</td>\n",
       "      <td>0</td>\n",
       "    </tr>\n",
       "    <tr>\n",
       "      <th>4</th>\n",
       "      <td>2017-10-27 12:10:00</td>\n",
       "      <td>50</td>\n",
       "      <td>4</td>\n",
       "      <td>train</td>\n",
       "      <td>0</td>\n",
       "      <td>88.336</td>\n",
       "      <td>91.7</td>\n",
       "      <td>83.9</td>\n",
       "      <td>1.528</td>\n",
       "      <td>0.0010</td>\n",
       "      <td>...</td>\n",
       "      <td>1.397</td>\n",
       "      <td>11.786</td>\n",
       "      <td>16.3</td>\n",
       "      <td>4.7</td>\n",
       "      <td>1.464</td>\n",
       "      <td>12.201</td>\n",
       "      <td>16.4</td>\n",
       "      <td>4.7</td>\n",
       "      <td>1.669</td>\n",
       "      <td>0</td>\n",
       "    </tr>\n",
       "  </tbody>\n",
       "</table>\n",
       "<p>5 rows × 958 columns</p>\n",
       "</div>"
      ]
     },
     "execution_count": 4,
     "metadata": {},
     "output_type": "execute_result"
    }
   ],
   "execution_count": 4
  },
  {
   "cell_type": "code",
   "metadata": {
    "ExecuteTime": {
     "end_time": "2025-02-08T22:23:34.051605Z",
     "start_time": "2025-02-08T22:23:32.463021Z"
    }
   },
   "source": [
    "# Remove all columns where the value is not a number\n",
    "X_train = X_train.apply(pd.to_numeric, errors='coerce')\n",
    "X_train = X_train.dropna(axis=1)\n",
    "\n",
    "X_test = X_test.apply(pd.to_numeric, errors='coerce')\n",
    "X_test = X_test.dropna(axis=1)"
   ],
   "outputs": [],
   "execution_count": 5
  },
  {
   "cell_type": "code",
   "metadata": {
    "ExecuteTime": {
     "end_time": "2025-02-08T22:26:15.785021Z",
     "start_time": "2025-02-08T22:23:34.125441Z"
    }
   },
   "source": [
    "def convert_to_10bit_integers(df):\n",
    "    normalized_df = df.copy()\n",
    "\n",
    "    for col in df.columns:\n",
    "        min_val = df[col].min()\n",
    "        max_val = df[col].max()\n",
    "\n",
    "        # Edge case where all values are 0\n",
    "        if min_val == max_val:\n",
    "            normalized_df[col] = 0\n",
    "        else:\n",
    "            normalized_df[col] = ((df[col] - min_val) / (max_val - min_val) * 1023)\n",
    "\n",
    "    # Convert the normalized values to integers\n",
    "    int_df = normalized_df.astype(int)\n",
    "\n",
    "    # Flatten each row into an array of 10-bit integers\n",
    "    int_arrays = int_df.apply(lambda row: row.values.flatten(), axis=1).tolist()\n",
    "\n",
    "    # Represent each cell as a 10-bit integer string\n",
    "    bin_arrays = [[f\"{cell:010b}\" for cell in row] for row in int_arrays]\n",
    "\n",
    "    # Split each 10-bit integer string into individual integers for each row\n",
    "    # preserve the columns of bin_arrays\n",
    "    bin_int_arrays = [[int(cell) for cell in list(''.join(row))] for row in bin_arrays]\n",
    "\n",
    "    # Convert to numpy array\n",
    "    int_arrays = np.array(bin_int_arrays)\n",
    "\n",
    "    return int_arrays\n",
    "\n",
    "\n",
    "# Example usage\n",
    "X_train_binarized = convert_to_10bit_integers(X_train).astype(np.uint32)\n",
    "X_test_binarized = convert_to_10bit_integers(X_test).astype(np.uint32)\n",
    "\n",
    "y_train_binarized = y_train.values.astype(np.uint32)\n",
    "y_test_binarized = y_test.values.astype(np.uint32)\n",
    "\n",
    "# Print dimensions of the integer arrays\n",
    "print(len(X_train_binarized), len(X_train_binarized[0]))"
   ],
   "outputs": [
    {
     "name": "stdout",
     "output_type": "stream",
     "text": [
      "109685 9550\n"
     ]
    }
   ],
   "execution_count": 6
  },
  {
   "cell_type": "code",
   "metadata": {
    "ExecuteTime": {
     "end_time": "2025-02-08T22:26:15.956623Z",
     "start_time": "2025-02-08T22:26:15.954176Z"
    }
   },
   "source": [
    "print(X_train_binarized.shape)\n",
    "print(y_train_binarized.shape)\n",
    "print(X_test_binarized.shape)\n",
    "print(y_test_binarized.shape)"
   ],
   "outputs": [
    {
     "name": "stdout",
     "output_type": "stream",
     "text": [
      "(109685, 9550)\n",
      "(109685,)\n",
      "(3819, 9550)\n",
      "(3819,)\n"
     ]
    }
   ],
   "execution_count": 7
  },
  {
   "cell_type": "code",
   "metadata": {
    "ExecuteTime": {
     "end_time": "2025-02-08T22:26:16.000338Z",
     "start_time": "2025-02-08T22:26:15.997761Z"
    }
   },
   "source": [
    "# Save the model\n",
    "def save_model(model, filename):\n",
    "    with open(filename, \"wb\") as f:\n",
    "        pickle.dump(model, f)\n",
    "\n",
    "\n",
    "def save_accuracy(epoch, accuracy, filename):\n",
    "    with open(filename, \"a\") as f:\n",
    "        f.write(f\"{epoch},{accuracy}\\n\")"
   ],
   "outputs": [],
   "execution_count": 8
  },
  {
   "cell_type": "code",
   "metadata": {
    "ExecuteTime": {
     "end_time": "2025-02-08T22:27:34.454485Z",
     "start_time": "2025-02-08T22:27:34.405553Z"
    }
   },
   "source": [
    "epochs = 10\n",
    "\n",
    "tm = TMClassifier(\n",
    "    number_of_clauses=1000,\n",
    "    T=1000,\n",
    "    s=10.0,\n",
    "    max_included_literals=32,\n",
    "    weighted_clauses=True,\n",
    "    platform=\"CPU\",\n",
    "    batch_size=1000,\n",
    ")\n",
    "\n",
    "best_accuracy = 0\n",
    "\n",
    "print(f\"Running {TMClassifier} for {epochs} epochs\")\n",
    "\n",
    "for epoch in range(epochs):\n",
    "    tm.fit(X_train_binarized, y_train_binarized)\n",
    "\n",
    "    print(\"Finished fitting\")\n",
    "\n",
    "    pred = tm.predict(X_test_binarized)\n",
    "\n",
    "    pred_0s = np.count_nonzero(pred == 0)\n",
    "    pred_1s = np.count_nonzero(pred == 1)\n",
    "\n",
    "    print(f\"Predicted 0s: {pred_0s}, Predicted 1s: {pred_1s}\")\n",
    "\n",
    "    # the number of false positives based on g and p\n",
    "    fp = np.sum((pred == 1) & (y_test_binarized == 0))\n",
    "\n",
    "    # the number of true negatives based on g and p\n",
    "    tn = np.sum((pred == 0) & (y_test_binarized == 0))\n",
    "\n",
    "    acc = tn / (fp + tn)\n",
    "\n",
    "    print(f\"Accuracy = {acc:.5f}\")\n",
    "\n",
    "    save_accuracy(epoch, acc, \"accuracy.txt\")\n",
    "\n",
    "    # Print every 20 epochs\n",
    "    #if (epoch + 1) % 20 == 0:\n",
    "    print(f\"Epoch: {epoch + 1}, Accuracy: {acc:.5f}\")\n",
    "\n",
    "    if acc > best_accuracy:\n",
    "        best_accuracy = acc\n",
    "\n",
    "        print(\"Saving model\")\n",
    "        save_model(tm, \"best.pkl\")\n"
   ],
   "outputs": [
    {
     "name": "stdout",
     "output_type": "stream",
     "text": [
      "Running <class 'tmu.models.classification.vanilla_classifier.TMClassifier'> for 10 epochs\n"
     ]
    },
    {
     "ename": "OverflowError",
     "evalue": "Python integer -1 out of bounds for uint32",
     "output_type": "error",
     "traceback": [
      "\u001B[0;31m---------------------------------------------------------------------------\u001B[0m",
      "\u001B[0;31mOverflowError\u001B[0m                             Traceback (most recent call last)",
      "Cell \u001B[0;32mIn[10], line 18\u001B[0m\n\u001B[1;32m     15\u001B[0m \u001B[38;5;28mprint\u001B[39m(\u001B[38;5;124mf\u001B[39m\u001B[38;5;124m\"\u001B[39m\u001B[38;5;124mRunning \u001B[39m\u001B[38;5;132;01m{\u001B[39;00mTMClassifier\u001B[38;5;132;01m}\u001B[39;00m\u001B[38;5;124m for \u001B[39m\u001B[38;5;132;01m{\u001B[39;00mepochs\u001B[38;5;132;01m}\u001B[39;00m\u001B[38;5;124m epochs\u001B[39m\u001B[38;5;124m\"\u001B[39m)\n\u001B[1;32m     17\u001B[0m \u001B[38;5;28;01mfor\u001B[39;00m epoch \u001B[38;5;129;01min\u001B[39;00m \u001B[38;5;28mrange\u001B[39m(epochs):\n\u001B[0;32m---> 18\u001B[0m     \u001B[43mtm\u001B[49m\u001B[38;5;241;43m.\u001B[39;49m\u001B[43mfit\u001B[49m\u001B[43m(\u001B[49m\u001B[43mX_train_binarized\u001B[49m\u001B[43m,\u001B[49m\u001B[43m \u001B[49m\u001B[43my_train_binarized\u001B[49m\u001B[43m)\u001B[49m\n\u001B[1;32m     20\u001B[0m     \u001B[38;5;28mprint\u001B[39m(\u001B[38;5;124m\"\u001B[39m\u001B[38;5;124mFinished fitting\u001B[39m\u001B[38;5;124m\"\u001B[39m)\n\u001B[1;32m     22\u001B[0m     pred \u001B[38;5;241m=\u001B[39m tm\u001B[38;5;241m.\u001B[39mpredict(X_test_binarized)\n",
      "File \u001B[0;32m~/Documents/GitHub/uia-master-thesis/.venv/lib/python3.12/site-packages/tmu/models/classification/vanilla_classifier.py:383\u001B[0m, in \u001B[0;36mTMClassifier.fit\u001B[0;34m(self, X, Y, shuffle, metrics, *args, **kwargs)\u001B[0m\n\u001B[1;32m    380\u001B[0m \u001B[38;5;28;01massert\u001B[39;00m X\u001B[38;5;241m.\u001B[39mdtype \u001B[38;5;241m==\u001B[39m np\u001B[38;5;241m.\u001B[39muint32, \u001B[38;5;124m\"\u001B[39m\u001B[38;5;124mX must be of type uint32\u001B[39m\u001B[38;5;124m\"\u001B[39m\n\u001B[1;32m    381\u001B[0m \u001B[38;5;28;01massert\u001B[39;00m Y\u001B[38;5;241m.\u001B[39mdtype \u001B[38;5;241m==\u001B[39m np\u001B[38;5;241m.\u001B[39muint32, \u001B[38;5;124m\"\u001B[39m\u001B[38;5;124mY must be of type uint32\u001B[39m\u001B[38;5;124m\"\u001B[39m\n\u001B[0;32m--> 383\u001B[0m \u001B[38;5;28;43mself\u001B[39;49m\u001B[38;5;241;43m.\u001B[39;49m\u001B[43minit\u001B[49m\u001B[43m(\u001B[49m\u001B[43mX\u001B[49m\u001B[43m,\u001B[49m\u001B[43m \u001B[49m\u001B[43mY\u001B[49m\u001B[43m)\u001B[49m\n\u001B[1;32m    384\u001B[0m \u001B[38;5;28mself\u001B[39m\u001B[38;5;241m.\u001B[39mmetrics\u001B[38;5;241m.\u001B[39mclear()\n\u001B[1;32m    386\u001B[0m encoded_X_train: np\u001B[38;5;241m.\u001B[39mndarray \u001B[38;5;241m=\u001B[39m \u001B[38;5;28mself\u001B[39m\u001B[38;5;241m.\u001B[39mtrain_encoder_cache\u001B[38;5;241m.\u001B[39mget_encoded_data(\n\u001B[1;32m    387\u001B[0m     data\u001B[38;5;241m=\u001B[39mX,\n\u001B[1;32m    388\u001B[0m     encoder_func\u001B[38;5;241m=\u001B[39m\u001B[38;5;28;01mlambda\u001B[39;00m x: \u001B[38;5;28mself\u001B[39m\u001B[38;5;241m.\u001B[39mclause_banks[\u001B[38;5;241m0\u001B[39m]\u001B[38;5;241m.\u001B[39mprepare_X(x)\n\u001B[1;32m    389\u001B[0m )\n",
      "File \u001B[0;32m~/Documents/GitHub/uia-master-thesis/.venv/lib/python3.12/site-packages/tmu/models/base.py:216\u001B[0m, in \u001B[0;36mTMBaseModel.init\u001B[0;34m(self, X, Y)\u001B[0m\n\u001B[1;32m    214\u001B[0m \u001B[38;5;28mself\u001B[39m\u001B[38;5;241m.\u001B[39mnumber_of_classes \u001B[38;5;241m=\u001B[39m \u001B[38;5;28mself\u001B[39m\u001B[38;5;241m.\u001B[39minit_num_classes(X, Y)\n\u001B[1;32m    215\u001B[0m \u001B[38;5;28mself\u001B[39m\u001B[38;5;241m.\u001B[39minit_before(X, Y)\n\u001B[0;32m--> 216\u001B[0m \u001B[38;5;28;43mself\u001B[39;49m\u001B[38;5;241;43m.\u001B[39;49m\u001B[43minit_clause_bank\u001B[49m\u001B[43m(\u001B[49m\u001B[43mX\u001B[49m\u001B[43m,\u001B[49m\u001B[43m \u001B[49m\u001B[43mY\u001B[49m\u001B[43m)\u001B[49m\n\u001B[1;32m    217\u001B[0m \u001B[38;5;28mself\u001B[39m\u001B[38;5;241m.\u001B[39minit_weight_bank(X, Y)\n\u001B[1;32m    218\u001B[0m \u001B[38;5;28mself\u001B[39m\u001B[38;5;241m.\u001B[39minit_after(X, Y)\n",
      "File \u001B[0;32m~/Documents/GitHub/uia-master-thesis/.venv/lib/python3.12/site-packages/tmu/models/classification/vanilla_classifier.py:110\u001B[0m, in \u001B[0;36mTMClassifier.init_clause_bank\u001B[0;34m(self, X, Y)\u001B[0m\n\u001B[1;32m    108\u001B[0m clause_bank_type, clause_bank_args \u001B[38;5;241m=\u001B[39m \u001B[38;5;28mself\u001B[39m\u001B[38;5;241m.\u001B[39mbuild_clause_bank(X\u001B[38;5;241m=\u001B[39mX)\n\u001B[1;32m    109\u001B[0m \u001B[38;5;28mself\u001B[39m\u001B[38;5;241m.\u001B[39mclause_banks\u001B[38;5;241m.\u001B[39mset_clause_init(clause_bank_type, clause_bank_args)\n\u001B[0;32m--> 110\u001B[0m \u001B[38;5;28;43mself\u001B[39;49m\u001B[38;5;241;43m.\u001B[39;49m\u001B[43mclause_banks\u001B[49m\u001B[38;5;241;43m.\u001B[39;49m\u001B[43mpopulate\u001B[49m\u001B[43m(\u001B[49m\u001B[38;5;28;43mlist\u001B[39;49m\u001B[43m(\u001B[49m\u001B[38;5;28;43mrange\u001B[39;49m\u001B[43m(\u001B[49m\u001B[38;5;28;43mself\u001B[39;49m\u001B[38;5;241;43m.\u001B[39;49m\u001B[43mnumber_of_classes\u001B[49m\u001B[43m)\u001B[49m\u001B[43m)\u001B[49m\u001B[43m)\u001B[49m\n",
      "File \u001B[0;32m~/Documents/GitHub/uia-master-thesis/.venv/lib/python3.12/site-packages/tmu/util/sparse_clause_container.py:79\u001B[0m, in \u001B[0;36mSparseClauseContainer.populate\u001B[0;34m(self, keys)\u001B[0m\n\u001B[1;32m     77\u001B[0m \u001B[38;5;28;01mdef\u001B[39;00m \u001B[38;5;21mpopulate\u001B[39m(\u001B[38;5;28mself\u001B[39m, keys):\n\u001B[1;32m     78\u001B[0m     \u001B[38;5;28;01mfor\u001B[39;00m key \u001B[38;5;129;01min\u001B[39;00m keys:\n\u001B[0;32m---> 79\u001B[0m         \u001B[38;5;28mself\u001B[39m\u001B[38;5;241m.\u001B[39minsert(key, value\u001B[38;5;241m=\u001B[39m\u001B[38;5;28;43mself\u001B[39;49m\u001B[38;5;241;43m.\u001B[39;49m\u001B[43m_clause_type\u001B[49m\u001B[43m(\u001B[49m\u001B[38;5;241;43m*\u001B[39;49m\u001B[38;5;241;43m*\u001B[39;49m\u001B[38;5;28;43mself\u001B[39;49m\u001B[38;5;241;43m.\u001B[39;49m\u001B[43m_clause_args\u001B[49m\u001B[43m)\u001B[49m)\n",
      "File \u001B[0;32m~/Documents/GitHub/uia-master-thesis/.venv/lib/python3.12/site-packages/tmu/clause_bank/clause_bank.py:93\u001B[0m, in \u001B[0;36mClauseBank.__init__\u001B[0;34m(self, seed, d, number_of_state_bits_ind, number_of_state_bits_ta, batch_size, incremental, **kwargs)\u001B[0m\n\u001B[1;32m     82\u001B[0m \u001B[38;5;28mself\u001B[39m\u001B[38;5;241m.\u001B[39mfalse_literals_per_clause \u001B[38;5;241m=\u001B[39m np\u001B[38;5;241m.\u001B[39mempty(\n\u001B[1;32m     83\u001B[0m     \u001B[38;5;28mint\u001B[39m(\u001B[38;5;28mself\u001B[39m\u001B[38;5;241m.\u001B[39mnumber_of_clauses \u001B[38;5;241m*\u001B[39m \u001B[38;5;28mself\u001B[39m\u001B[38;5;241m.\u001B[39mnumber_of_patches),\n\u001B[1;32m     84\u001B[0m     dtype\u001B[38;5;241m=\u001B[39mnp\u001B[38;5;241m.\u001B[39muint32,\n\u001B[1;32m     85\u001B[0m     order\u001B[38;5;241m=\u001B[39m\u001B[38;5;124m\"\u001B[39m\u001B[38;5;124mc\u001B[39m\u001B[38;5;124m\"\u001B[39m\n\u001B[1;32m     86\u001B[0m )\n\u001B[1;32m     87\u001B[0m \u001B[38;5;28mself\u001B[39m\u001B[38;5;241m.\u001B[39mprevious_xi \u001B[38;5;241m=\u001B[39m np\u001B[38;5;241m.\u001B[39mempty(\n\u001B[1;32m     88\u001B[0m     \u001B[38;5;28mint\u001B[39m(\u001B[38;5;28mself\u001B[39m\u001B[38;5;241m.\u001B[39mnumber_of_ta_chunks) \u001B[38;5;241m*\u001B[39m \u001B[38;5;28mint\u001B[39m(\u001B[38;5;28mself\u001B[39m\u001B[38;5;241m.\u001B[39mnumber_of_patches),\n\u001B[1;32m     89\u001B[0m     dtype\u001B[38;5;241m=\u001B[39mnp\u001B[38;5;241m.\u001B[39muint32,\n\u001B[1;32m     90\u001B[0m     order\u001B[38;5;241m=\u001B[39m\u001B[38;5;124m\"\u001B[39m\u001B[38;5;124mc\u001B[39m\u001B[38;5;124m\"\u001B[39m\n\u001B[1;32m     91\u001B[0m )\n\u001B[0;32m---> 93\u001B[0m \u001B[38;5;28;43mself\u001B[39;49m\u001B[38;5;241;43m.\u001B[39;49m\u001B[43minitialize_clauses\u001B[49m\u001B[43m(\u001B[49m\u001B[43m)\u001B[49m\n\u001B[1;32m     95\u001B[0m \u001B[38;5;66;03m# Finally, map numpy arrays to CFFI compatible pointers.\u001B[39;00m\n\u001B[1;32m     96\u001B[0m \u001B[38;5;28mself\u001B[39m\u001B[38;5;241m.\u001B[39m_cffi_init()\n",
      "File \u001B[0;32m~/Documents/GitHub/uia-master-thesis/.venv/lib/python3.12/site-packages/tmu/clause_bank/clause_bank.py:136\u001B[0m, in \u001B[0;36mClauseBank.initialize_clauses\u001B[0;34m(self)\u001B[0m\n\u001B[1;32m    129\u001B[0m \u001B[38;5;28;01mdef\u001B[39;00m \u001B[38;5;21minitialize_clauses\u001B[39m(\u001B[38;5;28mself\u001B[39m):\n\u001B[1;32m    130\u001B[0m     \u001B[38;5;28mself\u001B[39m\u001B[38;5;241m.\u001B[39mclause_bank \u001B[38;5;241m=\u001B[39m np\u001B[38;5;241m.\u001B[39mempty(\n\u001B[1;32m    131\u001B[0m         shape\u001B[38;5;241m=\u001B[39m(\u001B[38;5;28mself\u001B[39m\u001B[38;5;241m.\u001B[39mnumber_of_clauses, \u001B[38;5;28mself\u001B[39m\u001B[38;5;241m.\u001B[39mnumber_of_ta_chunks, \u001B[38;5;28mself\u001B[39m\u001B[38;5;241m.\u001B[39mnumber_of_state_bits_ta),\n\u001B[1;32m    132\u001B[0m         dtype\u001B[38;5;241m=\u001B[39mnp\u001B[38;5;241m.\u001B[39muint32,\n\u001B[1;32m    133\u001B[0m         order\u001B[38;5;241m=\u001B[39m\u001B[38;5;124m\"\u001B[39m\u001B[38;5;124mc\u001B[39m\u001B[38;5;124m\"\u001B[39m\n\u001B[1;32m    134\u001B[0m     )\n\u001B[0;32m--> 136\u001B[0m     \u001B[38;5;28mself\u001B[39m\u001B[38;5;241m.\u001B[39mclause_bank[:, :, \u001B[38;5;241m0\u001B[39m: \u001B[38;5;28mself\u001B[39m\u001B[38;5;241m.\u001B[39mnumber_of_state_bits_ta \u001B[38;5;241m-\u001B[39m \u001B[38;5;241m1\u001B[39m] \u001B[38;5;241m=\u001B[39m \u001B[43mnp\u001B[49m\u001B[38;5;241;43m.\u001B[39;49m\u001B[43muint32\u001B[49m\u001B[43m(\u001B[49m\u001B[38;5;241;43m~\u001B[39;49m\u001B[38;5;241;43m0\u001B[39;49m\u001B[43m)\u001B[49m\n\u001B[1;32m    137\u001B[0m     \u001B[38;5;28mself\u001B[39m\u001B[38;5;241m.\u001B[39mclause_bank[:, :, \u001B[38;5;28mself\u001B[39m\u001B[38;5;241m.\u001B[39mnumber_of_state_bits_ta \u001B[38;5;241m-\u001B[39m \u001B[38;5;241m1\u001B[39m] \u001B[38;5;241m=\u001B[39m \u001B[38;5;241m0\u001B[39m\n\u001B[1;32m    138\u001B[0m     \u001B[38;5;28mself\u001B[39m\u001B[38;5;241m.\u001B[39mclause_bank \u001B[38;5;241m=\u001B[39m np\u001B[38;5;241m.\u001B[39mascontiguousarray(\u001B[38;5;28mself\u001B[39m\u001B[38;5;241m.\u001B[39mclause_bank\u001B[38;5;241m.\u001B[39mreshape(\n\u001B[1;32m    139\u001B[0m         (\u001B[38;5;28mself\u001B[39m\u001B[38;5;241m.\u001B[39mnumber_of_clauses \u001B[38;5;241m*\u001B[39m \u001B[38;5;28mself\u001B[39m\u001B[38;5;241m.\u001B[39mnumber_of_ta_chunks \u001B[38;5;241m*\u001B[39m \u001B[38;5;28mself\u001B[39m\u001B[38;5;241m.\u001B[39mnumber_of_state_bits_ta)))\n",
      "\u001B[0;31mOverflowError\u001B[0m: Python integer -1 out of bounds for uint32"
     ]
    }
   ],
   "execution_count": 10
  }
 ],
 "metadata": {
  "kernelspec": {
   "display_name": "Python 3",
   "language": "python",
   "name": "python3"
  },
  "language_info": {
   "codemirror_mode": {
    "name": "ipython",
    "version": 3
   },
   "file_extension": ".py",
   "mimetype": "text/x-python",
   "name": "python",
   "nbconvert_exporter": "python",
   "pygments_lexer": "ipython3",
   "version": "3.10.11"
  }
 },
 "nbformat": 4,
 "nbformat_minor": 4
}
