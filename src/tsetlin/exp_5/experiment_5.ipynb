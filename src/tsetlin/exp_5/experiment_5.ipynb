{
 "cells": [
  {
   "metadata": {},
   "cell_type": "markdown",
   "source": [
    "## Experiment description\n",
    "\n",
    "The goal of this experiment is to train a TM classifier trained on 40% of the data available in Wind Farm C, and then evaluate the model on the remaining 60% of the data. The model will be evaluated on the accuracy score."
   ],
   "id": "4119dfa93395eeea"
  },
  {
   "metadata": {
    "ExecuteTime": {
     "end_time": "2025-02-09T22:05:06.485200Z",
     "start_time": "2025-02-09T22:05:06.480275Z"
    }
   },
   "cell_type": "code",
   "source": [
    "# Import all required libraries\n",
    "\n",
    "import numpy as np\n",
    "import pickle\n",
    "\n",
    "from tmu.models.classification.vanilla_classifier import TMClassifier"
   ],
   "id": "8baea2e564ddf695",
   "outputs": [],
   "execution_count": 52
  },
  {
   "metadata": {
    "ExecuteTime": {
     "end_time": "2025-02-09T22:05:06.831122Z",
     "start_time": "2025-02-09T22:05:06.826699Z"
    }
   },
   "cell_type": "code",
   "source": [
    "train_datasets = np.array([49, 31, 67])\n",
    "# test_datasets = np.array([55, 81, 47, 12, 4, 18, 28, 39, 66, 15, 78, 79, 30, 33, 11, 44])\n",
    "test_datasets = np.array([55])"
   ],
   "id": "94385f556b07c8a1",
   "outputs": [],
   "execution_count": 53
  },
  {
   "metadata": {
    "ExecuteTime": {
     "end_time": "2025-02-09T22:05:07.142048Z",
     "start_time": "2025-02-09T22:05:07.134022Z"
    }
   },
   "cell_type": "code",
   "source": [
    "## Helper functions for saving the model and accuracy\n",
    "\n",
    "# Helper function to save the model\n",
    "def save_model(model, filename):\n",
    "    with open(filename, \"wb\") as f:\n",
    "        pickle.dump(model, f)\n",
    "\n",
    "\n",
    "# Helper function to save the accuracy\n",
    "def save_accuracy(epoch, accuracy, tp, tn, fp, fn):\n",
    "    with open(\"accuracy.txt\", \"a\") as f:\n",
    "        f.write(f\"{epoch},{accuracy},{tp},{tn},{fp},{fn}\\n\")\n",
    "\n",
    "\n",
    "# Helper function to load dataset\n",
    "def load_dataset(farm, event_id):\n",
    "    X = np.loadtxt(f\"./data/X_{farm}_{event_id}_10b.txt\", dtype=np.uint32)\n",
    "    X = np.array(X).astype(np.uint32)\n",
    "    return X\n",
    "\n",
    "\n",
    "def load_dataset_labels(farm, event_id):\n",
    "    y = np.loadtxt(f\"./data/y_{farm}_{event_id}_10b.txt\", dtype=np.uint32)\n",
    "    y = np.array(y).astype(np.uint32)\n",
    "    return y\n",
    "\n",
    "\n",
    "def get_train_dataset():\n",
    "    # Load all train datasets and concat them\n",
    "    dataset = np.concatenate([load_dataset(\"C\", dataset) for dataset in train_datasets])\n",
    "    labels = np.concatenate([load_dataset_labels(\"C\", dataset) for dataset in train_datasets])\n",
    "    return dataset, labels\n",
    "\n",
    "\n",
    "def get_test_dataset():\n",
    "    dataset = load_dataset(\"C\", 55)\n",
    "    labels = load_dataset_labels(\"C\", 55)\n",
    "    return dataset, labels"
   ],
   "id": "8cb88a4abbf812e8",
   "outputs": [],
   "execution_count": 54
  },
  {
   "metadata": {
    "ExecuteTime": {
     "end_time": "2025-02-09T22:06:39.087Z",
     "start_time": "2025-02-09T22:05:07.424565Z"
    }
   },
   "cell_type": "code",
   "source": [
    "epochs = 100\n",
    "platform = \"CPU\"\n",
    "\n",
    "tm = TMClassifier(\n",
    "    number_of_clauses=1000,\n",
    "    T=1000,\n",
    "    s=10.0,\n",
    "    max_included_literals=32,\n",
    "    weighted_clauses=True,\n",
    "    platform=platform,\n",
    "    batch_size=250,\n",
    ")\n",
    "\n",
    "best_accuracy = 0\n",
    "\n",
    "print(f\"Running {TMClassifier} for {epochs} epochs\")\n",
    "\n",
    "(X_train, y_train) = get_train_dataset()\n",
    "(X_test, y_test) = get_test_dataset()\n",
    "\n",
    "for epoch in range(epochs):\n",
    "\n",
    "    tm.fit(X_train, y_train)\n",
    "\n",
    "    pred = tm.predict(X_test)\n",
    "\n",
    "    pred_0s = np.count_nonzero(pred == 0)\n",
    "    pred_1s = np.count_nonzero(pred == 1)\n",
    "\n",
    "    print(f\"Predicted 0s: {pred_0s}, Predicted 1s: {pred_1s}\")\n",
    "\n",
    "    # the number of false positives based on g and p\n",
    "    fp = np.sum((pred == 1) & (y_test == 0))\n",
    "\n",
    "    # the number of true negatives based on g and p\n",
    "    tn = np.sum((pred == 0) & (y_test == 0))\n",
    "\n",
    "    # the number of true positives based on g and p\n",
    "    tp = np.sum((pred == 1) & (y_test == 1))\n",
    "\n",
    "    # the number of false negatives based on g and p\n",
    "    fn = np.sum((pred == 0) & (y_test == 1))\n",
    "\n",
    "    acc = tn / (fp + tn)\n",
    "\n",
    "    print(f\"Accuracy = {acc:.5f}\")\n",
    "\n",
    "    save_accuracy(epoch, acc, tp, tn, fp, fn)\n",
    "\n",
    "    # Print every 20 epochs\n",
    "    #if (epoch + 1) % 20 == 0:\n",
    "    print(f\"Epoch: {epoch + 1}, Accuracy: {acc:.5f}\")\n",
    "\n",
    "    if acc > best_accuracy:\n",
    "        best_accuracy = acc\n",
    "\n",
    "        print(\"Saving model\")\n",
    "        save_model(tm, \"best.pkl\")\n"
   ],
   "id": "a664e28d460efae1",
   "outputs": [
    {
     "name": "stdout",
     "output_type": "stream",
     "text": [
      "Running <class 'tmu.models.classification.vanilla_classifier.TMClassifier'> for 100 epochs\n"
     ]
    },
    {
     "ename": "OverflowError",
     "evalue": "Python integer -1 out of bounds for uint32",
     "output_type": "error",
     "traceback": [
      "\u001B[0;31m---------------------------------------------------------------------------\u001B[0m",
      "\u001B[0;31mOverflowError\u001B[0m                             Traceback (most recent call last)",
      "Cell \u001B[0;32mIn[55], line 23\u001B[0m\n\u001B[1;32m     19\u001B[0m (X_test, y_test) \u001B[38;5;241m=\u001B[39m get_test_dataset()\n\u001B[1;32m     21\u001B[0m \u001B[38;5;28;01mfor\u001B[39;00m epoch \u001B[38;5;129;01min\u001B[39;00m \u001B[38;5;28mrange\u001B[39m(epochs):\n\u001B[0;32m---> 23\u001B[0m     \u001B[43mtm\u001B[49m\u001B[38;5;241;43m.\u001B[39;49m\u001B[43mfit\u001B[49m\u001B[43m(\u001B[49m\u001B[43mX_train\u001B[49m\u001B[43m,\u001B[49m\u001B[43m \u001B[49m\u001B[43my_train\u001B[49m\u001B[43m)\u001B[49m\n\u001B[1;32m     25\u001B[0m     pred \u001B[38;5;241m=\u001B[39m tm\u001B[38;5;241m.\u001B[39mpredict(X_test)\n\u001B[1;32m     27\u001B[0m     pred_0s \u001B[38;5;241m=\u001B[39m np\u001B[38;5;241m.\u001B[39mcount_nonzero(pred \u001B[38;5;241m==\u001B[39m \u001B[38;5;241m0\u001B[39m)\n",
      "File \u001B[0;32m~/Documents/GitHub/uia-master-thesis/.venv/lib/python3.12/site-packages/tmu/models/classification/vanilla_classifier.py:383\u001B[0m, in \u001B[0;36mTMClassifier.fit\u001B[0;34m(self, X, Y, shuffle, metrics, *args, **kwargs)\u001B[0m\n\u001B[1;32m    380\u001B[0m \u001B[38;5;28;01massert\u001B[39;00m X\u001B[38;5;241m.\u001B[39mdtype \u001B[38;5;241m==\u001B[39m np\u001B[38;5;241m.\u001B[39muint32, \u001B[38;5;124m\"\u001B[39m\u001B[38;5;124mX must be of type uint32\u001B[39m\u001B[38;5;124m\"\u001B[39m\n\u001B[1;32m    381\u001B[0m \u001B[38;5;28;01massert\u001B[39;00m Y\u001B[38;5;241m.\u001B[39mdtype \u001B[38;5;241m==\u001B[39m np\u001B[38;5;241m.\u001B[39muint32, \u001B[38;5;124m\"\u001B[39m\u001B[38;5;124mY must be of type uint32\u001B[39m\u001B[38;5;124m\"\u001B[39m\n\u001B[0;32m--> 383\u001B[0m \u001B[38;5;28;43mself\u001B[39;49m\u001B[38;5;241;43m.\u001B[39;49m\u001B[43minit\u001B[49m\u001B[43m(\u001B[49m\u001B[43mX\u001B[49m\u001B[43m,\u001B[49m\u001B[43m \u001B[49m\u001B[43mY\u001B[49m\u001B[43m)\u001B[49m\n\u001B[1;32m    384\u001B[0m \u001B[38;5;28mself\u001B[39m\u001B[38;5;241m.\u001B[39mmetrics\u001B[38;5;241m.\u001B[39mclear()\n\u001B[1;32m    386\u001B[0m encoded_X_train: np\u001B[38;5;241m.\u001B[39mndarray \u001B[38;5;241m=\u001B[39m \u001B[38;5;28mself\u001B[39m\u001B[38;5;241m.\u001B[39mtrain_encoder_cache\u001B[38;5;241m.\u001B[39mget_encoded_data(\n\u001B[1;32m    387\u001B[0m     data\u001B[38;5;241m=\u001B[39mX,\n\u001B[1;32m    388\u001B[0m     encoder_func\u001B[38;5;241m=\u001B[39m\u001B[38;5;28;01mlambda\u001B[39;00m x: \u001B[38;5;28mself\u001B[39m\u001B[38;5;241m.\u001B[39mclause_banks[\u001B[38;5;241m0\u001B[39m]\u001B[38;5;241m.\u001B[39mprepare_X(x)\n\u001B[1;32m    389\u001B[0m )\n",
      "File \u001B[0;32m~/Documents/GitHub/uia-master-thesis/.venv/lib/python3.12/site-packages/tmu/models/base.py:216\u001B[0m, in \u001B[0;36mTMBaseModel.init\u001B[0;34m(self, X, Y)\u001B[0m\n\u001B[1;32m    214\u001B[0m \u001B[38;5;28mself\u001B[39m\u001B[38;5;241m.\u001B[39mnumber_of_classes \u001B[38;5;241m=\u001B[39m \u001B[38;5;28mself\u001B[39m\u001B[38;5;241m.\u001B[39minit_num_classes(X, Y)\n\u001B[1;32m    215\u001B[0m \u001B[38;5;28mself\u001B[39m\u001B[38;5;241m.\u001B[39minit_before(X, Y)\n\u001B[0;32m--> 216\u001B[0m \u001B[38;5;28;43mself\u001B[39;49m\u001B[38;5;241;43m.\u001B[39;49m\u001B[43minit_clause_bank\u001B[49m\u001B[43m(\u001B[49m\u001B[43mX\u001B[49m\u001B[43m,\u001B[49m\u001B[43m \u001B[49m\u001B[43mY\u001B[49m\u001B[43m)\u001B[49m\n\u001B[1;32m    217\u001B[0m \u001B[38;5;28mself\u001B[39m\u001B[38;5;241m.\u001B[39minit_weight_bank(X, Y)\n\u001B[1;32m    218\u001B[0m \u001B[38;5;28mself\u001B[39m\u001B[38;5;241m.\u001B[39minit_after(X, Y)\n",
      "File \u001B[0;32m~/Documents/GitHub/uia-master-thesis/.venv/lib/python3.12/site-packages/tmu/models/classification/vanilla_classifier.py:110\u001B[0m, in \u001B[0;36mTMClassifier.init_clause_bank\u001B[0;34m(self, X, Y)\u001B[0m\n\u001B[1;32m    108\u001B[0m clause_bank_type, clause_bank_args \u001B[38;5;241m=\u001B[39m \u001B[38;5;28mself\u001B[39m\u001B[38;5;241m.\u001B[39mbuild_clause_bank(X\u001B[38;5;241m=\u001B[39mX)\n\u001B[1;32m    109\u001B[0m \u001B[38;5;28mself\u001B[39m\u001B[38;5;241m.\u001B[39mclause_banks\u001B[38;5;241m.\u001B[39mset_clause_init(clause_bank_type, clause_bank_args)\n\u001B[0;32m--> 110\u001B[0m \u001B[38;5;28;43mself\u001B[39;49m\u001B[38;5;241;43m.\u001B[39;49m\u001B[43mclause_banks\u001B[49m\u001B[38;5;241;43m.\u001B[39;49m\u001B[43mpopulate\u001B[49m\u001B[43m(\u001B[49m\u001B[38;5;28;43mlist\u001B[39;49m\u001B[43m(\u001B[49m\u001B[38;5;28;43mrange\u001B[39;49m\u001B[43m(\u001B[49m\u001B[38;5;28;43mself\u001B[39;49m\u001B[38;5;241;43m.\u001B[39;49m\u001B[43mnumber_of_classes\u001B[49m\u001B[43m)\u001B[49m\u001B[43m)\u001B[49m\u001B[43m)\u001B[49m\n",
      "File \u001B[0;32m~/Documents/GitHub/uia-master-thesis/.venv/lib/python3.12/site-packages/tmu/util/sparse_clause_container.py:79\u001B[0m, in \u001B[0;36mSparseClauseContainer.populate\u001B[0;34m(self, keys)\u001B[0m\n\u001B[1;32m     77\u001B[0m \u001B[38;5;28;01mdef\u001B[39;00m \u001B[38;5;21mpopulate\u001B[39m(\u001B[38;5;28mself\u001B[39m, keys):\n\u001B[1;32m     78\u001B[0m     \u001B[38;5;28;01mfor\u001B[39;00m key \u001B[38;5;129;01min\u001B[39;00m keys:\n\u001B[0;32m---> 79\u001B[0m         \u001B[38;5;28mself\u001B[39m\u001B[38;5;241m.\u001B[39minsert(key, value\u001B[38;5;241m=\u001B[39m\u001B[38;5;28;43mself\u001B[39;49m\u001B[38;5;241;43m.\u001B[39;49m\u001B[43m_clause_type\u001B[49m\u001B[43m(\u001B[49m\u001B[38;5;241;43m*\u001B[39;49m\u001B[38;5;241;43m*\u001B[39;49m\u001B[38;5;28;43mself\u001B[39;49m\u001B[38;5;241;43m.\u001B[39;49m\u001B[43m_clause_args\u001B[49m\u001B[43m)\u001B[49m)\n",
      "File \u001B[0;32m~/Documents/GitHub/uia-master-thesis/.venv/lib/python3.12/site-packages/tmu/clause_bank/clause_bank.py:93\u001B[0m, in \u001B[0;36mClauseBank.__init__\u001B[0;34m(self, seed, d, number_of_state_bits_ind, number_of_state_bits_ta, batch_size, incremental, **kwargs)\u001B[0m\n\u001B[1;32m     82\u001B[0m \u001B[38;5;28mself\u001B[39m\u001B[38;5;241m.\u001B[39mfalse_literals_per_clause \u001B[38;5;241m=\u001B[39m np\u001B[38;5;241m.\u001B[39mempty(\n\u001B[1;32m     83\u001B[0m     \u001B[38;5;28mint\u001B[39m(\u001B[38;5;28mself\u001B[39m\u001B[38;5;241m.\u001B[39mnumber_of_clauses \u001B[38;5;241m*\u001B[39m \u001B[38;5;28mself\u001B[39m\u001B[38;5;241m.\u001B[39mnumber_of_patches),\n\u001B[1;32m     84\u001B[0m     dtype\u001B[38;5;241m=\u001B[39mnp\u001B[38;5;241m.\u001B[39muint32,\n\u001B[1;32m     85\u001B[0m     order\u001B[38;5;241m=\u001B[39m\u001B[38;5;124m\"\u001B[39m\u001B[38;5;124mc\u001B[39m\u001B[38;5;124m\"\u001B[39m\n\u001B[1;32m     86\u001B[0m )\n\u001B[1;32m     87\u001B[0m \u001B[38;5;28mself\u001B[39m\u001B[38;5;241m.\u001B[39mprevious_xi \u001B[38;5;241m=\u001B[39m np\u001B[38;5;241m.\u001B[39mempty(\n\u001B[1;32m     88\u001B[0m     \u001B[38;5;28mint\u001B[39m(\u001B[38;5;28mself\u001B[39m\u001B[38;5;241m.\u001B[39mnumber_of_ta_chunks) \u001B[38;5;241m*\u001B[39m \u001B[38;5;28mint\u001B[39m(\u001B[38;5;28mself\u001B[39m\u001B[38;5;241m.\u001B[39mnumber_of_patches),\n\u001B[1;32m     89\u001B[0m     dtype\u001B[38;5;241m=\u001B[39mnp\u001B[38;5;241m.\u001B[39muint32,\n\u001B[1;32m     90\u001B[0m     order\u001B[38;5;241m=\u001B[39m\u001B[38;5;124m\"\u001B[39m\u001B[38;5;124mc\u001B[39m\u001B[38;5;124m\"\u001B[39m\n\u001B[1;32m     91\u001B[0m )\n\u001B[0;32m---> 93\u001B[0m \u001B[38;5;28;43mself\u001B[39;49m\u001B[38;5;241;43m.\u001B[39;49m\u001B[43minitialize_clauses\u001B[49m\u001B[43m(\u001B[49m\u001B[43m)\u001B[49m\n\u001B[1;32m     95\u001B[0m \u001B[38;5;66;03m# Finally, map numpy arrays to CFFI compatible pointers.\u001B[39;00m\n\u001B[1;32m     96\u001B[0m \u001B[38;5;28mself\u001B[39m\u001B[38;5;241m.\u001B[39m_cffi_init()\n",
      "File \u001B[0;32m~/Documents/GitHub/uia-master-thesis/.venv/lib/python3.12/site-packages/tmu/clause_bank/clause_bank.py:136\u001B[0m, in \u001B[0;36mClauseBank.initialize_clauses\u001B[0;34m(self)\u001B[0m\n\u001B[1;32m    129\u001B[0m \u001B[38;5;28;01mdef\u001B[39;00m \u001B[38;5;21minitialize_clauses\u001B[39m(\u001B[38;5;28mself\u001B[39m):\n\u001B[1;32m    130\u001B[0m     \u001B[38;5;28mself\u001B[39m\u001B[38;5;241m.\u001B[39mclause_bank \u001B[38;5;241m=\u001B[39m np\u001B[38;5;241m.\u001B[39mempty(\n\u001B[1;32m    131\u001B[0m         shape\u001B[38;5;241m=\u001B[39m(\u001B[38;5;28mself\u001B[39m\u001B[38;5;241m.\u001B[39mnumber_of_clauses, \u001B[38;5;28mself\u001B[39m\u001B[38;5;241m.\u001B[39mnumber_of_ta_chunks, \u001B[38;5;28mself\u001B[39m\u001B[38;5;241m.\u001B[39mnumber_of_state_bits_ta),\n\u001B[1;32m    132\u001B[0m         dtype\u001B[38;5;241m=\u001B[39mnp\u001B[38;5;241m.\u001B[39muint32,\n\u001B[1;32m    133\u001B[0m         order\u001B[38;5;241m=\u001B[39m\u001B[38;5;124m\"\u001B[39m\u001B[38;5;124mc\u001B[39m\u001B[38;5;124m\"\u001B[39m\n\u001B[1;32m    134\u001B[0m     )\n\u001B[0;32m--> 136\u001B[0m     \u001B[38;5;28mself\u001B[39m\u001B[38;5;241m.\u001B[39mclause_bank[:, :, \u001B[38;5;241m0\u001B[39m: \u001B[38;5;28mself\u001B[39m\u001B[38;5;241m.\u001B[39mnumber_of_state_bits_ta \u001B[38;5;241m-\u001B[39m \u001B[38;5;241m1\u001B[39m] \u001B[38;5;241m=\u001B[39m \u001B[43mnp\u001B[49m\u001B[38;5;241;43m.\u001B[39;49m\u001B[43muint32\u001B[49m\u001B[43m(\u001B[49m\u001B[38;5;241;43m~\u001B[39;49m\u001B[38;5;241;43m0\u001B[39;49m\u001B[43m)\u001B[49m\n\u001B[1;32m    137\u001B[0m     \u001B[38;5;28mself\u001B[39m\u001B[38;5;241m.\u001B[39mclause_bank[:, :, \u001B[38;5;28mself\u001B[39m\u001B[38;5;241m.\u001B[39mnumber_of_state_bits_ta \u001B[38;5;241m-\u001B[39m \u001B[38;5;241m1\u001B[39m] \u001B[38;5;241m=\u001B[39m \u001B[38;5;241m0\u001B[39m\n\u001B[1;32m    138\u001B[0m     \u001B[38;5;28mself\u001B[39m\u001B[38;5;241m.\u001B[39mclause_bank \u001B[38;5;241m=\u001B[39m np\u001B[38;5;241m.\u001B[39mascontiguousarray(\u001B[38;5;28mself\u001B[39m\u001B[38;5;241m.\u001B[39mclause_bank\u001B[38;5;241m.\u001B[39mreshape(\n\u001B[1;32m    139\u001B[0m         (\u001B[38;5;28mself\u001B[39m\u001B[38;5;241m.\u001B[39mnumber_of_clauses \u001B[38;5;241m*\u001B[39m \u001B[38;5;28mself\u001B[39m\u001B[38;5;241m.\u001B[39mnumber_of_ta_chunks \u001B[38;5;241m*\u001B[39m \u001B[38;5;28mself\u001B[39m\u001B[38;5;241m.\u001B[39mnumber_of_state_bits_ta)))\n",
      "\u001B[0;31mOverflowError\u001B[0m: Python integer -1 out of bounds for uint32"
     ]
    }
   ],
   "execution_count": 55
  },
  {
   "metadata": {},
   "cell_type": "code",
   "outputs": [],
   "execution_count": null,
   "source": "",
   "id": "a50b9f6259c3e38"
  }
 ],
 "metadata": {
  "kernelspec": {
   "display_name": "Python 3",
   "language": "python",
   "name": "python3"
  },
  "language_info": {
   "codemirror_mode": {
    "name": "ipython",
    "version": 2
   },
   "file_extension": ".py",
   "mimetype": "text/x-python",
   "name": "python",
   "nbconvert_exporter": "python",
   "pygments_lexer": "ipython2",
   "version": "2.7.6"
  }
 },
 "nbformat": 4,
 "nbformat_minor": 5
}
