{
 "cells": [
  {
   "cell_type": "code",
   "id": "initial_id",
   "metadata": {
    "collapsed": true,
    "ExecuteTime": {
     "end_time": "2025-02-17T17:33:33.019191Z",
     "start_time": "2025-02-17T17:33:33.017704Z"
    }
   },
   "source": [
    "# Use 70% of the data for training and 30% for testing\n",
    "\n",
    "# 10 datasets 51000 rows each, 50000 normal and 1000 anomalies\n",
    "# 1000 normals and 1000 anomalies from each\n",
    "\n",
    "# 10 datasets * 2000 rows = 20000 rows\n"
   ],
   "outputs": [],
   "execution_count": 1
  },
  {
   "metadata": {},
   "cell_type": "code",
   "outputs": [],
   "execution_count": null,
   "source": "",
   "id": "b2d253529a6f8a61"
  }
 ],
 "metadata": {
  "kernelspec": {
   "display_name": "Python 3",
   "language": "python",
   "name": "python3"
  },
  "language_info": {
   "codemirror_mode": {
    "name": "ipython",
    "version": 2
   },
   "file_extension": ".py",
   "mimetype": "text/x-python",
   "name": "python",
   "nbconvert_exporter": "python",
   "pygments_lexer": "ipython2",
   "version": "2.7.6"
  }
 },
 "nbformat": 4,
 "nbformat_minor": 5
}
