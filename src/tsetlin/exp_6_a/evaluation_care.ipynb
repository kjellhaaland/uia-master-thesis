{
 "cells": [
  {
   "cell_type": "code",
   "id": "initial_id",
   "metadata": {
    "collapsed": true,
    "ExecuteTime": {
     "end_time": "2025-05-15T16:48:44.915974Z",
     "start_time": "2025-05-15T16:48:44.911452Z"
    }
   },
   "source": [
    "import numpy as np\n",
    "import matplotlib.pyplot as plt\n",
    "import pandas as pd\n",
    "import os\n",
    "import seaborn as sns\n",
    "import pickle\n",
    "\n",
    "from tmu.models.classification.vanilla_classifier import TMClassifier\n",
    "from sklearn.metrics import confusion_matrix\n",
    "from src.lib.care import calculate_care_score"
   ],
   "outputs": [],
   "execution_count": 20
  },
  {
   "metadata": {
    "ExecuteTime": {
     "end_time": "2025-05-15T16:48:44.923128Z",
     "start_time": "2025-05-15T16:48:44.920688Z"
    }
   },
   "cell_type": "code",
   "source": [
    "# Create folder figures_1 if it does not exist\n",
    "os.makedirs(\"figures\", exist_ok=True)"
   ],
   "id": "12722105cfb66efa",
   "outputs": [],
   "execution_count": 21
  },
  {
   "metadata": {
    "ExecuteTime": {
     "end_time": "2025-05-15T16:48:44.936438Z",
     "start_time": "2025-05-15T16:48:44.932388Z"
    }
   },
   "cell_type": "code",
   "source": [
    "def load_test_dataset(farm, event_id):\n",
    "    X = np.loadtxt(f\"./data_test/X_{farm}_{event_id}.txt\", dtype=np.uint32)\n",
    "    X = np.array(X).astype(np.uint32)\n",
    "\n",
    "    # Take the first 3000 rows\n",
    "    #X = X[:3000]\n",
    "\n",
    "    return X\n",
    "\n",
    "\n",
    "def load_test_labels(farm, event_id):\n",
    "    # Load dataframe from file\n",
    "    df = pd.read_csv(f\"./data_test/y_{farm}_{event_id}.csv\")\n",
    "\n",
    "    labels = df['label'].values\n",
    "    status_ids = df['status_type_id'].values\n",
    "    train_test = df['train_test'].values\n",
    "\n",
    "    # Take the first 3000 rows\n",
    "    #labels = labels[:3000]\n",
    "    #status_ids = status_ids[:3000]\n",
    "    #train_test = train_test[:3000]\n",
    "\n",
    "    return np.array(labels).astype(np.uint32), np.array(status_ids).astype(np.uint32), train_test\n",
    "\n",
    "\n",
    "def load_test_label(farm, event_id):\n",
    "    event_info = pd.read_csv(f\"../../../data/care_to_compare/Wind Farm {farm}/event_info.csv\", delimiter=';')\n",
    "\n",
    "    metadata = event_info[event_info['event_id'] == event_id]\n",
    "\n",
    "    event_label = metadata[\"event_label\"].values[0]\n",
    "\n",
    "    return False if event_label == \"anomaly\" else True"
   ],
   "id": "9afef311a40435c8",
   "outputs": [],
   "execution_count": 22
  },
  {
   "metadata": {
    "ExecuteTime": {
     "end_time": "2025-05-15T16:48:44.953545Z",
     "start_time": "2025-05-15T16:48:44.951433Z"
    }
   },
   "cell_type": "code",
   "source": [
    "def calculate_accuracy(labels, predictions):\n",
    "    accuracy = np.sum(labels == predictions) / len(labels)\n",
    "    return accuracy"
   ],
   "id": "4a1549d328c78582",
   "outputs": [],
   "execution_count": 23
  },
  {
   "metadata": {
    "ExecuteTime": {
     "end_time": "2025-05-15T16:48:44.958201Z",
     "start_time": "2025-05-15T16:48:44.956321Z"
    }
   },
   "cell_type": "code",
   "source": [
    "def load_model(filename) -> TMClassifier:\n",
    "    with open(filename, \"rb\") as f:\n",
    "        model = pickle.load(f)\n",
    "\n",
    "    return model"
   ],
   "id": "652d72a575fd0627",
   "outputs": [],
   "execution_count": 24
  },
  {
   "metadata": {
    "ExecuteTime": {
     "end_time": "2025-05-15T16:48:44.967622Z",
     "start_time": "2025-05-15T16:48:44.965096Z"
    }
   },
   "cell_type": "code",
   "source": [
    "def plot_predictions(X, y, z, p, name):\n",
    "    cm = confusion_matrix(y, p)\n",
    "\n",
    "    sns.heatmap(cm, annot=True, fmt='d', cmap='YlOrBr',\n",
    "                xticklabels=['Predicted normal', 'Predicted anomaly'],\n",
    "                yticklabels=['Actual normal', 'Actual anomaly'])\n",
    "\n",
    "    plt.xlabel('Predicted')\n",
    "    plt.ylabel('Actual')\n",
    "    plt.title('Confusion Matrix')\n",
    "\n",
    "    plt.savefig(f\"./figures/confusion_matrix{name}.pdf\")\n",
    "    plt.close()\n",
    "\n",
    "\n",
    "def get_predictions(X, y, z, name, tm):\n",
    "    X_predictions = tm.predict(X)\n",
    "\n",
    "    # Accuracy\n",
    "    accuracy = calculate_accuracy(y, X_predictions)\n",
    "\n",
    "    plot_predictions(X, y, z, X_predictions, name)\n",
    "\n",
    "    return X_predictions, accuracy"
   ],
   "id": "e96b8166de1ca4ee",
   "outputs": [],
   "execution_count": 25
  },
  {
   "metadata": {
    "ExecuteTime": {
     "end_time": "2025-05-15T16:48:45.019667Z",
     "start_time": "2025-05-15T16:48:44.974769Z"
    }
   },
   "cell_type": "code",
   "source": [
    "# test_datasets = [40, 26, 42, 10, 45, 84, 25, 69, 13, 24, 3, 17, 38, 71, 14, 92, 51]\n",
    "test_datasets = [40, 26, 42, 10, 45, 84, 17, 38, 71, 14, 92, 51]\n",
    "tm_classifier = load_model(\"best.pkl\")\n",
    "\n",
    "\n",
    "def run_prediction(farm, dataset):\n",
    "    X = load_test_dataset(farm, dataset)\n",
    "    labels, status_ids, train_test = load_test_labels(farm, dataset)\n",
    "\n",
    "    is_normal = load_test_label(farm, dataset)\n",
    "\n",
    "    predictions, accuracy = get_predictions(X, labels, status_ids, f\"{farm}_{dataset}\", tm_classifier)\n",
    "\n",
    "    return X, labels, status_ids, train_test, is_normal, predictions, accuracy\n"
   ],
   "id": "986c2e3634919b34",
   "outputs": [],
   "execution_count": 26
  },
  {
   "metadata": {
    "ExecuteTime": {
     "end_time": "2025-05-15T16:48:48.390509Z",
     "start_time": "2025-05-15T16:48:45.033487Z"
    }
   },
   "cell_type": "code",
   "source": [
    "# Create a dataframe with status_type_id;label;prediction\n",
    "elements = []\n",
    "\n",
    "for set in test_datasets:\n",
    "    res = run_prediction(\"A\", set)\n",
    "\n",
    "    result_df = pd.DataFrame({\n",
    "        'status_type_id': res[2],\n",
    "        'label': res[1],\n",
    "        'prediction': res[5],\n",
    "        'train_test': res[3],\n",
    "    })\n",
    "\n",
    "    print(f\"Done with {set}. Accuracy: {res[6]}\")\n",
    "\n",
    "    elements.append({'dataset': set, 'normal': res[4], 'data': result_df, 'accuracy': res[6]})"
   ],
   "id": "70e024b9cc85e8c9",
   "outputs": [
    {
     "name": "stdout",
     "output_type": "stream",
     "text": [
      "2025-05-15 18:48:45,421 - matplotlib.backends.backend_pdf - DEBUG - Assigning font /F1 = '/System/Library/Fonts/Supplemental/Arial.ttf'\n",
      "2025-05-15 18:48:45,433 - matplotlib.backends.backend_pdf - DEBUG - Embedding font /System/Library/Fonts/Supplemental/Arial.ttf.\n",
      "2025-05-15 18:48:45,433 - matplotlib.backends.backend_pdf - DEBUG - Writing TrueType font.\n",
      "Done with 40. Accuracy: 0.30078995341300385\n",
      "2025-05-15 18:48:45,616 - matplotlib.backends.backend_pdf - DEBUG - Assigning font /F1 = '/System/Library/Fonts/Supplemental/Arial.ttf'\n",
      "2025-05-15 18:48:45,633 - matplotlib.backends.backend_pdf - DEBUG - Embedding font /System/Library/Fonts/Supplemental/Arial.ttf.\n",
      "2025-05-15 18:48:45,633 - matplotlib.backends.backend_pdf - DEBUG - Writing TrueType font.\n",
      "Done with 26. Accuracy: 0.6724496877168633\n",
      "2025-05-15 18:48:45,906 - matplotlib.backends.backend_pdf - DEBUG - Assigning font /F1 = '/System/Library/Fonts/Supplemental/Arial.ttf'\n",
      "2025-05-15 18:48:45,920 - matplotlib.backends.backend_pdf - DEBUG - Embedding font /System/Library/Fonts/Supplemental/Arial.ttf.\n",
      "2025-05-15 18:48:45,921 - matplotlib.backends.backend_pdf - DEBUG - Writing TrueType font.\n",
      "Done with 42. Accuracy: 0.693619709412508\n",
      "2025-05-15 18:48:46,099 - matplotlib.backends.backend_pdf - DEBUG - Assigning font /F1 = '/System/Library/Fonts/Supplemental/Arial.ttf'\n",
      "2025-05-15 18:48:46,114 - matplotlib.backends.backend_pdf - DEBUG - Embedding font /System/Library/Fonts/Supplemental/Arial.ttf.\n",
      "2025-05-15 18:48:46,115 - matplotlib.backends.backend_pdf - DEBUG - Writing TrueType font.\n",
      "Done with 10. Accuracy: 0.6674546887312844\n",
      "2025-05-15 18:48:46,295 - matplotlib.backends.backend_pdf - DEBUG - Assigning font /F1 = '/System/Library/Fonts/Supplemental/Arial.ttf'\n",
      "2025-05-15 18:48:46,305 - matplotlib.backends.backend_pdf - DEBUG - Embedding font /System/Library/Fonts/Supplemental/Arial.ttf.\n",
      "2025-05-15 18:48:46,305 - matplotlib.backends.backend_pdf - DEBUG - Writing TrueType font.\n",
      "Done with 45. Accuracy: 0.2916666666666667\n",
      "2025-05-15 18:48:46,470 - matplotlib.backends.backend_pdf - DEBUG - Assigning font /F1 = '/System/Library/Fonts/Supplemental/Arial.ttf'\n",
      "2025-05-15 18:48:46,480 - matplotlib.backends.backend_pdf - DEBUG - Embedding font /System/Library/Fonts/Supplemental/Arial.ttf.\n",
      "2025-05-15 18:48:46,481 - matplotlib.backends.backend_pdf - DEBUG - Writing TrueType font.\n",
      "Done with 84. Accuracy: 0.5741127348643006\n",
      "2025-05-15 18:48:46,769 - matplotlib.backends.backend_pdf - DEBUG - Assigning font /F1 = '/System/Library/Fonts/Supplemental/Arial.ttf'\n",
      "2025-05-15 18:48:46,786 - matplotlib.backends.backend_pdf - DEBUG - Embedding font /System/Library/Fonts/Supplemental/Arial.ttf.\n",
      "2025-05-15 18:48:46,786 - matplotlib.backends.backend_pdf - DEBUG - Writing TrueType font.\n",
      "Done with 17. Accuracy: 0.5422509888529305\n",
      "2025-05-15 18:48:47,084 - matplotlib.backends.backend_pdf - DEBUG - Assigning font /F1 = '/System/Library/Fonts/Supplemental/Arial.ttf'\n",
      "2025-05-15 18:48:47,097 - matplotlib.backends.backend_pdf - DEBUG - Embedding font /System/Library/Fonts/Supplemental/Arial.ttf.\n",
      "2025-05-15 18:48:47,098 - matplotlib.backends.backend_pdf - DEBUG - Writing TrueType font.\n",
      "Done with 38. Accuracy: 0.452437106918239\n",
      "2025-05-15 18:48:47,407 - matplotlib.backends.backend_pdf - DEBUG - Assigning font /F1 = '/System/Library/Fonts/Supplemental/Arial.ttf'\n",
      "2025-05-15 18:48:47,419 - matplotlib.backends.backend_pdf - DEBUG - Embedding font /System/Library/Fonts/Supplemental/Arial.ttf.\n",
      "2025-05-15 18:48:47,420 - matplotlib.backends.backend_pdf - DEBUG - Writing TrueType font.\n",
      "Done with 71. Accuracy: 0.9546753777051857\n",
      "2025-05-15 18:48:47,661 - matplotlib.backends.backend_pdf - DEBUG - Assigning font /F1 = '/System/Library/Fonts/Supplemental/Arial.ttf'\n",
      "2025-05-15 18:48:47,673 - matplotlib.backends.backend_pdf - DEBUG - Embedding font /System/Library/Fonts/Supplemental/Arial.ttf.\n",
      "2025-05-15 18:48:47,674 - matplotlib.backends.backend_pdf - DEBUG - Writing TrueType font.\n",
      "Done with 14. Accuracy: 0.9058390320883746\n",
      "2025-05-15 18:48:47,962 - matplotlib.backends.backend_pdf - DEBUG - Assigning font /F1 = '/System/Library/Fonts/Supplemental/Arial.ttf'\n",
      "2025-05-15 18:48:47,985 - matplotlib.backends.backend_pdf - DEBUG - Embedding font /System/Library/Fonts/Supplemental/Arial.ttf.\n",
      "2025-05-15 18:48:47,985 - matplotlib.backends.backend_pdf - DEBUG - Writing TrueType font.\n",
      "Done with 92. Accuracy: 0.8878241262683202\n",
      "2025-05-15 18:48:48,346 - matplotlib.backends.backend_pdf - DEBUG - Assigning font /F1 = '/System/Library/Fonts/Supplemental/Arial.ttf'\n",
      "2025-05-15 18:48:48,359 - matplotlib.backends.backend_pdf - DEBUG - Embedding font /System/Library/Fonts/Supplemental/Arial.ttf.\n",
      "2025-05-15 18:48:48,359 - matplotlib.backends.backend_pdf - DEBUG - Writing TrueType font.\n",
      "Done with 51. Accuracy: 0.2498955286251567\n"
     ]
    }
   ],
   "execution_count": 27
  },
  {
   "metadata": {
    "ExecuteTime": {
     "end_time": "2025-05-15T16:48:48.410578Z",
     "start_time": "2025-05-15T16:48:48.403863Z"
    }
   },
   "cell_type": "code",
   "source": [
    "# Safe the results to results.pkl\n",
    "with open(\"results.pkl\", \"wb\") as f:\n",
    "    pickle.dump(elements, f)"
   ],
   "id": "135d0e12a45b534b",
   "outputs": [],
   "execution_count": 28
  },
  {
   "metadata": {
    "ExecuteTime": {
     "end_time": "2025-05-15T16:50:12.660053Z",
     "start_time": "2025-05-15T16:49:39.626413Z"
    }
   },
   "cell_type": "code",
   "source": [
    "score = calculate_care_score(elements)\n",
    "print(score)"
   ],
   "id": "b116da78c34ecd6b",
   "outputs": [
    {
     "name": "stdout",
     "output_type": "stream",
     "text": [
      "0.6124051306033145\n"
     ]
    }
   ],
   "execution_count": 30
  }
 ],
 "metadata": {
  "kernelspec": {
   "display_name": "Python 3",
   "language": "python",
   "name": "python3"
  },
  "language_info": {
   "codemirror_mode": {
    "name": "ipython",
    "version": 2
   },
   "file_extension": ".py",
   "mimetype": "text/x-python",
   "name": "python",
   "nbconvert_exporter": "python",
   "pygments_lexer": "ipython2",
   "version": "2.7.6"
  }
 },
 "nbformat": 4,
 "nbformat_minor": 5
}
