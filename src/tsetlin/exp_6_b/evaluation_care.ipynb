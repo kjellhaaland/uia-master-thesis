{
 "cells": [
  {
   "cell_type": "code",
   "id": "initial_id",
   "metadata": {
    "collapsed": true,
    "ExecuteTime": {
     "end_time": "2025-05-15T16:51:09.836575Z",
     "start_time": "2025-05-15T16:51:09.833610Z"
    }
   },
   "source": [
    "import numpy as np\n",
    "import matplotlib.pyplot as plt\n",
    "import pandas as pd\n",
    "import os\n",
    "import seaborn as sns\n",
    "import pickle\n",
    "\n",
    "from tmu.models.classification.vanilla_classifier import TMClassifier\n",
    "from sklearn.metrics import confusion_matrix\n",
    "from src.lib.care import calculate_care_score"
   ],
   "outputs": [],
   "execution_count": 20
  },
  {
   "metadata": {
    "ExecuteTime": {
     "end_time": "2025-05-15T16:51:09.843019Z",
     "start_time": "2025-05-15T16:51:09.840915Z"
    }
   },
   "cell_type": "code",
   "source": [
    "# Create folder figures_1 if it does not exist\n",
    "os.makedirs(\"figures\", exist_ok=True)"
   ],
   "id": "12722105cfb66efa",
   "outputs": [],
   "execution_count": 21
  },
  {
   "metadata": {
    "ExecuteTime": {
     "end_time": "2025-05-15T16:51:09.854147Z",
     "start_time": "2025-05-15T16:51:09.850293Z"
    }
   },
   "cell_type": "code",
   "source": [
    "def load_test_dataset(farm, event_id):\n",
    "    X = np.loadtxt(f\"./data_test/X_{farm}_{event_id}.txt\", dtype=np.uint32)\n",
    "    X = np.array(X).astype(np.uint32)\n",
    "\n",
    "    # Take the first 3000 rows\n",
    "    #X = X[:3000]\n",
    "\n",
    "    return X\n",
    "\n",
    "\n",
    "def load_test_labels(farm, event_id):\n",
    "    # Load dataframe from file\n",
    "    df = pd.read_csv(f\"./data_test/y_{farm}_{event_id}.csv\")\n",
    "\n",
    "    labels = df['label'].values\n",
    "    status_ids = df['status_type_id'].values\n",
    "    train_test = df['train_test'].values\n",
    "\n",
    "    # Take the first 3000 rows\n",
    "    #labels = labels[:3000]\n",
    "    #status_ids = status_ids[:3000]\n",
    "    #train_test = train_test[:3000]\n",
    "\n",
    "    return np.array(labels).astype(np.uint32), np.array(status_ids).astype(np.uint32), train_test\n",
    "\n",
    "\n",
    "def load_test_label(farm, event_id):\n",
    "    event_info = pd.read_csv(f\"../../../data/care_to_compare/Wind Farm {farm}/event_info.csv\", delimiter=';')\n",
    "\n",
    "    metadata = event_info[event_info['event_id'] == event_id]\n",
    "\n",
    "    event_label = metadata[\"event_label\"].values[0]\n",
    "\n",
    "    return False if event_label == \"anomaly\" else True"
   ],
   "id": "9afef311a40435c8",
   "outputs": [],
   "execution_count": 22
  },
  {
   "metadata": {
    "ExecuteTime": {
     "end_time": "2025-05-15T16:51:09.862520Z",
     "start_time": "2025-05-15T16:51:09.860641Z"
    }
   },
   "cell_type": "code",
   "source": [
    "def calculate_accuracy(labels, predictions):\n",
    "    accuracy = np.sum(labels == predictions) / len(labels)\n",
    "    return accuracy"
   ],
   "id": "4a1549d328c78582",
   "outputs": [],
   "execution_count": 23
  },
  {
   "metadata": {
    "ExecuteTime": {
     "end_time": "2025-05-15T16:51:09.870938Z",
     "start_time": "2025-05-15T16:51:09.868625Z"
    }
   },
   "cell_type": "code",
   "source": [
    "def load_model(filename) -> TMClassifier:\n",
    "    with open(filename, \"rb\") as f:\n",
    "        model = pickle.load(f)\n",
    "\n",
    "    return model"
   ],
   "id": "652d72a575fd0627",
   "outputs": [],
   "execution_count": 24
  },
  {
   "metadata": {
    "ExecuteTime": {
     "end_time": "2025-05-15T16:51:09.879669Z",
     "start_time": "2025-05-15T16:51:09.876654Z"
    }
   },
   "cell_type": "code",
   "source": [
    "def plot_predictions(X, y, z, p, name):\n",
    "    cm = confusion_matrix(y, p)\n",
    "\n",
    "    sns.heatmap(cm, annot=True, fmt='d', cmap='YlOrBr',\n",
    "                xticklabels=['Predicted normal', 'Predicted anomaly'],\n",
    "                yticklabels=['Actual normal', 'Actual anomaly'])\n",
    "\n",
    "    plt.xlabel('Predicted')\n",
    "    plt.ylabel('Actual')\n",
    "    plt.title('Confusion Matrix')\n",
    "\n",
    "    plt.savefig(f\"./figures/confusion_matrix{name}.pdf\")\n",
    "    plt.close()\n",
    "\n",
    "\n",
    "def get_predictions(X, y, z, name, tm):\n",
    "    X_predictions = tm.predict(X)\n",
    "\n",
    "    # Accuracy\n",
    "    accuracy = calculate_accuracy(y, X_predictions)\n",
    "\n",
    "    plot_predictions(X, y, z, X_predictions, name)\n",
    "\n",
    "    return X_predictions, accuracy"
   ],
   "id": "e96b8166de1ca4ee",
   "outputs": [],
   "execution_count": 25
  },
  {
   "metadata": {
    "ExecuteTime": {
     "end_time": "2025-05-15T16:51:09.906483Z",
     "start_time": "2025-05-15T16:51:09.885922Z"
    }
   },
   "cell_type": "code",
   "source": [
    "# test_datasets = [19, 27, 77, 83, 52, 21, 2, 23, 87, 74, 86, 82]\n",
    "test_datasets = [19, 27, 77, 2, 23, 87, 74, 86, 82]\n",
    "\n",
    "tm_classifier = load_model(\"best_1.pkl\")\n",
    "\n",
    "\n",
    "def run_prediction(farm, dataset):\n",
    "    X = load_test_dataset(farm, dataset)\n",
    "    labels, status_ids, train_test = load_test_labels(farm, dataset)\n",
    "\n",
    "    is_normal = load_test_label(farm, dataset)\n",
    "\n",
    "    predictions, accuracy = get_predictions(X, labels, status_ids, f\"{farm}_{dataset}\", tm_classifier)\n",
    "\n",
    "    return X, labels, status_ids, train_test, is_normal, predictions, accuracy\n"
   ],
   "id": "986c2e3634919b34",
   "outputs": [],
   "execution_count": 26
  },
  {
   "metadata": {
    "ExecuteTime": {
     "end_time": "2025-05-15T16:51:12.863751Z",
     "start_time": "2025-05-15T16:51:09.913235Z"
    }
   },
   "cell_type": "code",
   "source": [
    "# Create a dataframe with status_type_id;label;prediction\n",
    "elements = []\n",
    "\n",
    "for set in test_datasets:\n",
    "    res = run_prediction(\"B\", set)\n",
    "\n",
    "    result_df = pd.DataFrame({\n",
    "        'status_type_id': res[2],\n",
    "        'label': res[1],\n",
    "        'prediction': res[5],\n",
    "        'train_test': res[3],\n",
    "    })\n",
    "\n",
    "    print(f\"Done with {set}. Accuracy: {res[6]}\")\n",
    "\n",
    "    elements.append({'dataset': set, 'normal': res[4], 'data': result_df, 'accuracy': res[6]})"
   ],
   "id": "70e024b9cc85e8c9",
   "outputs": [
    {
     "name": "stdout",
     "output_type": "stream",
     "text": [
      "2025-05-15 18:51:10,175 - matplotlib.backends.backend_pdf - DEBUG - Assigning font /F1 = '/System/Library/Fonts/Supplemental/Arial.ttf'\n",
      "2025-05-15 18:51:10,193 - matplotlib.backends.backend_pdf - DEBUG - Embedding font /System/Library/Fonts/Supplemental/Arial.ttf.\n",
      "2025-05-15 18:51:10,193 - matplotlib.backends.backend_pdf - DEBUG - Writing TrueType font.\n",
      "Done with 19. Accuracy: 0.6429906542056075\n",
      "2025-05-15 18:51:10,773 - matplotlib.backends.backend_pdf - DEBUG - Assigning font /F1 = '/System/Library/Fonts/Supplemental/Arial.ttf'\n",
      "2025-05-15 18:51:10,785 - matplotlib.backends.backend_pdf - DEBUG - Embedding font /System/Library/Fonts/Supplemental/Arial.ttf.\n",
      "2025-05-15 18:51:10,786 - matplotlib.backends.backend_pdf - DEBUG - Writing TrueType font.\n",
      "Done with 27. Accuracy: 0.4780114722753346\n",
      "2025-05-15 18:51:11,401 - matplotlib.backends.backend_pdf - DEBUG - Assigning font /F1 = '/System/Library/Fonts/Supplemental/Arial.ttf'\n",
      "2025-05-15 18:51:11,411 - matplotlib.backends.backend_pdf - DEBUG - Embedding font /System/Library/Fonts/Supplemental/Arial.ttf.\n",
      "2025-05-15 18:51:11,411 - matplotlib.backends.backend_pdf - DEBUG - Writing TrueType font.\n",
      "Done with 77. Accuracy: 0.5620049907779103\n",
      "2025-05-15 18:51:11,583 - matplotlib.backends.backend_pdf - DEBUG - Assigning font /F1 = '/System/Library/Fonts/Supplemental/Arial.ttf'\n",
      "2025-05-15 18:51:11,595 - matplotlib.backends.backend_pdf - DEBUG - Embedding font /System/Library/Fonts/Supplemental/Arial.ttf.\n",
      "2025-05-15 18:51:11,595 - matplotlib.backends.backend_pdf - DEBUG - Writing TrueType font.\n",
      "Done with 2. Accuracy: 0.2505643340857788\n",
      "2025-05-15 18:51:11,772 - matplotlib.backends.backend_pdf - DEBUG - Assigning font /F1 = '/System/Library/Fonts/Supplemental/Arial.ttf'\n",
      "2025-05-15 18:51:11,783 - matplotlib.backends.backend_pdf - DEBUG - Embedding font /System/Library/Fonts/Supplemental/Arial.ttf.\n",
      "2025-05-15 18:51:11,784 - matplotlib.backends.backend_pdf - DEBUG - Writing TrueType font.\n",
      "Done with 23. Accuracy: 0.9818456883509834\n",
      "2025-05-15 18:51:12,007 - matplotlib.backends.backend_pdf - DEBUG - Assigning font /F1 = '/System/Library/Fonts/Supplemental/Arial.ttf'\n",
      "2025-05-15 18:51:12,020 - matplotlib.backends.backend_pdf - DEBUG - Embedding font /System/Library/Fonts/Supplemental/Arial.ttf.\n",
      "2025-05-15 18:51:12,021 - matplotlib.backends.backend_pdf - DEBUG - Writing TrueType font.\n",
      "Done with 87. Accuracy: 0.512396694214876\n",
      "2025-05-15 18:51:12,328 - matplotlib.backends.backend_pdf - DEBUG - Assigning font /F1 = '/System/Library/Fonts/Supplemental/Arial.ttf'\n",
      "2025-05-15 18:51:12,349 - matplotlib.backends.backend_pdf - DEBUG - Embedding font /System/Library/Fonts/Supplemental/Arial.ttf.\n",
      "2025-05-15 18:51:12,350 - matplotlib.backends.backend_pdf - DEBUG - Writing TrueType font.\n",
      "Done with 74. Accuracy: 0.467621217051741\n",
      "2025-05-15 18:51:12,597 - matplotlib.backends.backend_pdf - DEBUG - Assigning font /F1 = '/System/Library/Fonts/Supplemental/Arial.ttf'\n",
      "2025-05-15 18:51:12,616 - matplotlib.backends.backend_pdf - DEBUG - Embedding font /System/Library/Fonts/Supplemental/Arial.ttf.\n",
      "2025-05-15 18:51:12,616 - matplotlib.backends.backend_pdf - DEBUG - Writing TrueType font.\n",
      "Done with 86. Accuracy: 0.9460198155107619\n",
      "2025-05-15 18:51:12,826 - matplotlib.backends.backend_pdf - DEBUG - Assigning font /F1 = '/System/Library/Fonts/Supplemental/Arial.ttf'\n",
      "2025-05-15 18:51:12,839 - matplotlib.backends.backend_pdf - DEBUG - Embedding font /System/Library/Fonts/Supplemental/Arial.ttf.\n",
      "2025-05-15 18:51:12,839 - matplotlib.backends.backend_pdf - DEBUG - Writing TrueType font.\n",
      "Done with 82. Accuracy: 0.4993875051041241\n"
     ]
    }
   ],
   "execution_count": 27
  },
  {
   "metadata": {
    "ExecuteTime": {
     "end_time": "2025-05-15T16:51:12.884152Z",
     "start_time": "2025-05-15T16:51:12.877495Z"
    }
   },
   "cell_type": "code",
   "source": [
    "# Safe the results to results.pkl\n",
    "with open(\"results.pkl\", \"wb\") as f:\n",
    "    pickle.dump(elements, f)"
   ],
   "id": "135d0e12a45b534b",
   "outputs": [],
   "execution_count": 28
  },
  {
   "metadata": {
    "ExecuteTime": {
     "end_time": "2025-05-15T16:51:59.154893Z",
     "start_time": "2025-05-15T16:51:17.683072Z"
    }
   },
   "cell_type": "code",
   "source": [
    "score = calculate_care_score(elements)\n",
    "print(score)"
   ],
   "id": "b116da78c34ecd6b",
   "outputs": [
    {
     "name": "stdout",
     "output_type": "stream",
     "text": [
      "0.6384027854214592\n"
     ]
    }
   ],
   "execution_count": 30
  }
 ],
 "metadata": {
  "kernelspec": {
   "display_name": "Python 3",
   "language": "python",
   "name": "python3"
  },
  "language_info": {
   "codemirror_mode": {
    "name": "ipython",
    "version": 2
   },
   "file_extension": ".py",
   "mimetype": "text/x-python",
   "name": "python",
   "nbconvert_exporter": "python",
   "pygments_lexer": "ipython2",
   "version": "2.7.6"
  }
 },
 "nbformat": 4,
 "nbformat_minor": 5
}
