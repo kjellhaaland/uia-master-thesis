{
 "cells": [
  {
   "metadata": {},
   "cell_type": "markdown",
   "source": [
    "## Experiment description\n",
    "\n",
    "The goal of this notebook is to preprocess all datasets in Wind Farm C to a binary format that can be used for training a TM Classifier."
   ],
   "id": "e85b94674bcffa5c"
  },
  {
   "metadata": {
    "ExecuteTime": {
     "end_time": "2025-05-14T17:33:53.941298Z",
     "start_time": "2025-05-14T17:33:53.934363Z"
    }
   },
   "cell_type": "code",
   "source": [
    "# Import all required libraries\n",
    "\n",
    "import pandas as pd\n",
    "import numpy as np\n",
    "import os"
   ],
   "id": "a7fa0f63187f7de2",
   "outputs": [],
   "execution_count": 1
  },
  {
   "metadata": {
    "ExecuteTime": {
     "end_time": "2025-05-14T17:33:53.957187Z",
     "start_time": "2025-05-14T17:33:53.953257Z"
    }
   },
   "cell_type": "code",
   "source": [
    "wind_farm = \"B\"\n",
    "train_datasets = [34, 7, 53]  # , 53, 27, 19, 77, 83, 52, 21, 2, 23, 87, 74, 86, 82\n",
    "test_datasets = [34, 7, 53, 27, 19, 77, 83, 52, 21, 2, 23, 87, 74, 86, 82]\n"
   ],
   "id": "7de2a6ba82e2aea6",
   "outputs": [],
   "execution_count": 2
  },
  {
   "metadata": {
    "ExecuteTime": {
     "end_time": "2025-05-14T17:33:54.095465Z",
     "start_time": "2025-05-14T17:33:54.091126Z"
    }
   },
   "cell_type": "code",
   "source": [
    "# Create folders data_test and data_train if they do not exist\n",
    "os.makedirs(\"data_test\", exist_ok=True)\n",
    "os.makedirs(\"data_train\", exist_ok=True)"
   ],
   "id": "33fcab2e88c188e5",
   "outputs": [],
   "execution_count": 3
  },
  {
   "metadata": {
    "ExecuteTime": {
     "end_time": "2025-05-14T17:33:54.159896Z",
     "start_time": "2025-05-14T17:33:54.136343Z"
    }
   },
   "cell_type": "code",
   "source": [
    "exclude_columns = [\"time_stamp\", \"asset_id\", \"id\"]\n",
    "\n",
    "\n",
    "def load_df_and_annotate_anomalies(farm, event_id):\n",
    "    path = f\"../../../data/care_to_compare/Wind Farm {farm}/datasets/{event_id}.csv\"\n",
    "    df = pd.read_csv(path, delimiter=';')\n",
    "\n",
    "    event_info = pd.read_csv(f\"../../../data/care_to_compare/Wind Farm {farm}/event_info.csv\", delimiter=';')\n",
    "\n",
    "    # Find the row where event_id = event_id\n",
    "    metadata = event_info[event_info['event_id'] == event_id]\n",
    "\n",
    "    event_label = metadata[\"event_label\"].values[0]\n",
    "    event_start_id = metadata[\"event_start_id\"].values[0]\n",
    "    event_end_id = metadata[\"event_end_id\"].values[0]\n",
    "\n",
    "    label_value = 1 if event_label == \"anomaly\" else 0\n",
    "\n",
    "    # All rows where the column \"id\" is between event_start_id and event_end_id\n",
    "    df['label'] = 0\n",
    "    df.loc[(df['id'] >= event_start_id) & (df['id'] <= event_end_id), 'label'] = label_value\n",
    "\n",
    "    # Include all columns except for the ones in exclude_columns\n",
    "    df = df[[col for col in df.columns if col not in exclude_columns]]\n",
    "\n",
    "    # Replace inf values with NaN and drop rows with NaN values\n",
    "    df.replace([np.inf, -np.inf], np.nan, inplace=True)\n",
    "    df.dropna(inplace=True)\n",
    "\n",
    "    return df"
   ],
   "id": "890df7a6f9bbbd18",
   "outputs": [],
   "execution_count": 4
  },
  {
   "metadata": {
    "ExecuteTime": {
     "end_time": "2025-05-14T17:33:54.198818Z",
     "start_time": "2025-05-14T17:33:54.193040Z"
    }
   },
   "cell_type": "code",
   "source": [
    "def split_dataset(data: pd.DataFrame):\n",
    "    data = data[data['status_type_id'].isin([0, 2])]\n",
    "\n",
    "    df_prediction = data[data['train_test'] == 'prediction']\n",
    "    df_train = data[data['train_test'] == 'train']\n",
    "\n",
    "    df_anomalies = df_prediction[df_prediction['label'] == 1]\n",
    "    df_normal = df_train[df_train['label'] == 0]\n",
    "\n",
    "    # Take as many normal samples as there are anomalies\n",
    "    n = len(df_anomalies)\n",
    "\n",
    "    df_normal = df_normal.sample(n=n)\n",
    "\n",
    "    # Combine the two dataframes\n",
    "    df = pd.concat([df_normal, df_anomalies])\n",
    "\n",
    "    return df"
   ],
   "id": "d8bf8042a38a65f0",
   "outputs": [],
   "execution_count": 5
  },
  {
   "metadata": {
    "ExecuteTime": {
     "end_time": "2025-05-14T17:33:54.222547Z",
     "start_time": "2025-05-14T17:33:54.214581Z"
    }
   },
   "cell_type": "code",
   "source": [
    "def calculate_min_max(farm, dataset_ids):\n",
    "    # For each column get the min and max value\n",
    "    min_max_values = {}\n",
    "\n",
    "    for dataset_id in dataset_ids:\n",
    "        df = load_df_and_annotate_anomalies(farm, dataset_id)\n",
    "\n",
    "        for col in df.columns:\n",
    "            min_val = df[col].min()\n",
    "            max_val = df[col].max()\n",
    "\n",
    "            if col not in min_max_values:\n",
    "                min_max_values[col] = (min_val, max_val)\n",
    "            else:\n",
    "                current_min, current_max = min_max_values[col]\n",
    "                min_max_values[col] = (min(min_val, current_min), max(max_val, current_max))\n",
    "\n",
    "    return min_max_values"
   ],
   "id": "a044eef9e1b7a0f8",
   "outputs": [],
   "execution_count": 6
  },
  {
   "metadata": {
    "ExecuteTime": {
     "end_time": "2025-05-14T17:33:54.241409Z",
     "start_time": "2025-05-14T17:33:54.231040Z"
    }
   },
   "cell_type": "code",
   "source": [
    "def convert_to_bit_integers(df, minmax, bits_per_column=8):\n",
    "    normalized_df = df.copy()\n",
    "\n",
    "    for col in df.columns:\n",
    "        min_val = minmax[col][0]\n",
    "        max_val = minmax[col][1]\n",
    "\n",
    "        # If all values are the same, set all to 0\n",
    "        if min_val == max_val:\n",
    "            normalized_df[col] = 0\n",
    "            continue\n",
    "\n",
    "        # Min-Max normalization\n",
    "        normalized_df[col] = (normalized_df[col] - min_val) / (max_val - min_val)\n",
    "        normalized_df[col] *= (2 ** bits_per_column) - 1\n",
    "\n",
    "    # Convert the normalized values to integers\n",
    "    int_df = normalized_df.astype(int)\n",
    "\n",
    "    # Flatten each row into an array of bit integers\n",
    "    int_arrays = int_df.apply(lambda row: row.values.flatten(), axis=1).tolist()\n",
    "\n",
    "    # Convert each integer to a binary string of fixed length\n",
    "    bin_arrays = [[f\"{cell:0{bits_per_column}b}\" for cell in row] for row in int_arrays]\n",
    "\n",
    "    # Convert binary strings into individual bits\n",
    "    bin_int_arrays = [[int(bit) for bit in ''.join(row)] for row in bin_arrays]\n",
    "\n",
    "    # Convert to numpy array\n",
    "    int_arrays = np.array(bin_int_arrays)\n",
    "\n",
    "    return int_arrays"
   ],
   "id": "383106dfae1e5bf4",
   "outputs": [],
   "execution_count": 7
  },
  {
   "metadata": {
    "ExecuteTime": {
     "end_time": "2025-05-14T17:33:54.260404Z",
     "start_time": "2025-05-14T17:33:54.250040Z"
    }
   },
   "cell_type": "code",
   "source": [
    "def binarize_dataset_for_training(farm, event_id, output_path, min_max_values, bits_per_column=8):\n",
    "    # Load original dataset from file\n",
    "    df = load_df_and_annotate_anomalies(farm, event_id)\n",
    "    df = split_dataset(df)\n",
    "\n",
    "    # Split into data and labels\n",
    "    X_values = df.drop(columns=['label', 'train_test', 'status_type_id'])\n",
    "    y_values = df['label'].values.astype(np.uint32)\n",
    "\n",
    "    #X_values = X_values.apply(pd.to_numeric, errors='coerce')\n",
    "\n",
    "    X_values_bin = convert_to_bit_integers(X_values, min_max_values, bits_per_column).astype(np.uint32)\n",
    "\n",
    "    # Output to file using np\n",
    "    np.savetxt(f\"{output_path}/X_{farm}_{event_id}.txt\", X_values_bin, fmt='%d')\n",
    "    np.savetxt(f\"{output_path}/y_{farm}_{event_id}.txt\", y_values, fmt='%d')\n",
    "\n",
    "    label_df = pd.DataFrame({\n",
    "        'label': df['label'].values,\n",
    "        'status_type_id': df['status_type_id'].values,\n",
    "        'train_test': df['train_test'].values\n",
    "    })\n",
    "\n",
    "    label_df.to_csv(f\"{output_path}/y_{farm}_{event_id}.csv\", index=False)\n",
    "\n",
    "    print(f\"Done with {event_id}: {X_values_bin.shape}\")\n",
    "\n",
    "\n",
    "def binarize_dataset_for_testing(farm, event_id, output_path, min_max_values, bits_per_column=8):\n",
    "    # Load original dataset from file\n",
    "    df = load_df_and_annotate_anomalies(farm, event_id)\n",
    "\n",
    "    # Only take the data that is in the prediction set\n",
    "    df = df[df['train_test'] == 'prediction']\n",
    "\n",
    "    # Split into data and labels\n",
    "    X_values = df.drop(columns=['label', 'train_test', 'status_type_id'])\n",
    "    y_values = df['label'].values.astype(np.uint32)\n",
    "\n",
    "    #X_values = X_values.apply(pd.to_numeric, errors='coerce')\n",
    "\n",
    "    X_values_bin = convert_to_bit_integers(X_values, min_max_values, bits_per_column).astype(np.uint32)\n",
    "\n",
    "    # Output to file using np\n",
    "    np.savetxt(f\"{output_path}/X_{farm}_{event_id}.txt\", X_values_bin, fmt='%d')\n",
    "    np.savetxt(f\"{output_path}/y_{farm}_{event_id}.txt\", y_values, fmt='%d')\n",
    "\n",
    "    label_df = pd.DataFrame({\n",
    "        'label': df['label'].values,\n",
    "        'status_type_id': df['status_type_id'].values,\n",
    "        'train_test': df['train_test'].values\n",
    "    })\n",
    "\n",
    "    label_df.to_csv(f\"{output_path}/y_{farm}_{event_id}.csv\", index=False)\n",
    "\n",
    "    print(f\"Done with {event_id}: {X_values_bin.shape}\")"
   ],
   "id": "67a9eb610d672ee3",
   "outputs": [],
   "execution_count": 8
  },
  {
   "metadata": {
    "ExecuteTime": {
     "end_time": "2025-05-14T17:34:11.649359Z",
     "start_time": "2025-05-14T17:33:54.275175Z"
    }
   },
   "cell_type": "code",
   "source": [
    "datasets = list(set(train_datasets + test_datasets))\n",
    "min_max_values_dict = calculate_min_max(wind_farm, datasets)\n",
    "\n",
    "# Save to file\n",
    "with open(\"min_max_values.txt\", \"w\") as f:\n",
    "    for key, value in min_max_values_dict.items():\n",
    "        f.write(f\"{key}: {value}\\n\")"
   ],
   "id": "b140f91bb2a74030",
   "outputs": [],
   "execution_count": 9
  },
  {
   "metadata": {
    "ExecuteTime": {
     "end_time": "2025-05-14T17:34:11.691811Z",
     "start_time": "2025-05-14T17:34:11.681109Z"
    }
   },
   "cell_type": "code",
   "source": "bits = 5",
   "id": "a824517b052b4a92",
   "outputs": [],
   "execution_count": 10
  },
  {
   "metadata": {
    "ExecuteTime": {
     "end_time": "2025-05-14T17:34:59.391090Z",
     "start_time": "2025-05-14T17:34:11.698793Z"
    }
   },
   "cell_type": "code",
   "source": [
    "for dataset in test_datasets:\n",
    "    binarize_dataset_for_testing(wind_farm, dataset, \"./data_test\", min_max_values_dict, bits)"
   ],
   "id": "e879c62b0a552f43",
   "outputs": [
    {
     "name": "stdout",
     "output_type": "stream",
     "text": [
      "Done with 34: (4033, 1260)\n",
      "Done with 7: (5328, 1260)\n",
      "Done with 53: (6048, 1260)\n",
      "Done with 27: (9937, 1260)\n",
      "Done with 19: (3745, 1260)\n",
      "Done with 77: (9217, 1260)\n",
      "Done with 83: (14113, 1260)\n",
      "Done with 52: (2737, 1260)\n",
      "Done with 21: (1297, 1260)\n",
      "Done with 2: (2215, 1260)\n",
      "Done with 23: (1983, 1260)\n",
      "Done with 87: (3025, 1260)\n",
      "Done with 74: (3073, 1260)\n",
      "Done with 86: (2927, 1260)\n",
      "Done with 82: (2449, 1260)\n"
     ]
    }
   ],
   "execution_count": 11
  },
  {
   "metadata": {
    "ExecuteTime": {
     "end_time": "2025-05-14T17:35:12.562564Z",
     "start_time": "2025-05-14T17:34:59.442448Z"
    }
   },
   "cell_type": "code",
   "source": [
    "for dataset in train_datasets:\n",
    "    binarize_dataset_for_training(wind_farm, dataset, \"./data_train\", min_max_values_dict, bits)"
   ],
   "id": "a312821be058472e",
   "outputs": [
    {
     "name": "stdout",
     "output_type": "stream",
     "text": [
      "Done with 34: (6092, 1260)\n",
      "Done with 7: (8420, 1260)\n",
      "Done with 53: (11422, 1260)\n"
     ]
    }
   ],
   "execution_count": 12
  }
 ],
 "metadata": {
  "kernelspec": {
   "display_name": "Python 3",
   "language": "python",
   "name": "python3"
  },
  "language_info": {
   "codemirror_mode": {
    "name": "ipython",
    "version": 2
   },
   "file_extension": ".py",
   "mimetype": "text/x-python",
   "name": "python",
   "nbconvert_exporter": "python",
   "pygments_lexer": "ipython2",
   "version": "2.7.6"
  }
 },
 "nbformat": 4,
 "nbformat_minor": 5
}
