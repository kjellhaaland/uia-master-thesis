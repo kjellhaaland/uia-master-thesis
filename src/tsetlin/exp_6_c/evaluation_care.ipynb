{
 "cells": [
  {
   "cell_type": "code",
   "id": "initial_id",
   "metadata": {
    "collapsed": true,
    "ExecuteTime": {
     "end_time": "2025-05-15T16:53:57.014716Z",
     "start_time": "2025-05-15T16:53:57.009728Z"
    }
   },
   "source": [
    "import numpy as np\n",
    "import matplotlib.pyplot as plt\n",
    "import pandas as pd\n",
    "import os\n",
    "import seaborn as sns\n",
    "import pickle\n",
    "\n",
    "from tmu.models.classification.vanilla_classifier import TMClassifier\n",
    "from sklearn.metrics import confusion_matrix\n",
    "from src.lib.care import calculate_care_score"
   ],
   "outputs": [],
   "execution_count": 20
  },
  {
   "metadata": {
    "ExecuteTime": {
     "end_time": "2025-05-15T16:53:57.021574Z",
     "start_time": "2025-05-15T16:53:57.019265Z"
    }
   },
   "cell_type": "code",
   "source": [
    "# Create folder figures_1 if it does not exist\n",
    "os.makedirs(\"figures\", exist_ok=True)"
   ],
   "id": "12722105cfb66efa",
   "outputs": [],
   "execution_count": 21
  },
  {
   "metadata": {
    "ExecuteTime": {
     "end_time": "2025-05-15T16:53:57.039174Z",
     "start_time": "2025-05-15T16:53:57.033652Z"
    }
   },
   "cell_type": "code",
   "source": [
    "def load_test_dataset(farm, event_id):\n",
    "    X = np.loadtxt(f\"./data_test/X_{farm}_{event_id}.txt\", dtype=np.uint32)\n",
    "    X = np.array(X).astype(np.uint32)\n",
    "\n",
    "    # Take the first 3000 rows\n",
    "    #X = X[:3000]\n",
    "\n",
    "    return X\n",
    "\n",
    "\n",
    "def load_test_labels(farm, event_id):\n",
    "    # Load dataframe from file\n",
    "    df = pd.read_csv(f\"./data_test/y_{farm}_{event_id}.csv\")\n",
    "\n",
    "    labels = df['label'].values\n",
    "    status_ids = df['status_type_id'].values\n",
    "    train_test = df['train_test'].values\n",
    "\n",
    "    # Take the first 3000 rows\n",
    "    #labels = labels[:3000]\n",
    "    #status_ids = status_ids[:3000]\n",
    "    #train_test = train_test[:3000]\n",
    "\n",
    "    return np.array(labels).astype(np.uint32), np.array(status_ids).astype(np.uint32), train_test\n",
    "\n",
    "\n",
    "def load_test_label(farm, event_id):\n",
    "    event_info = pd.read_csv(f\"../../../data/care_to_compare/Wind Farm {farm}/event_info.csv\", delimiter=';')\n",
    "\n",
    "    metadata = event_info[event_info['event_id'] == event_id]\n",
    "\n",
    "    event_label = metadata[\"event_label\"].values[0]\n",
    "\n",
    "    return False if event_label == \"anomaly\" else True"
   ],
   "id": "9afef311a40435c8",
   "outputs": [],
   "execution_count": 22
  },
  {
   "metadata": {
    "ExecuteTime": {
     "end_time": "2025-05-15T16:53:57.049127Z",
     "start_time": "2025-05-15T16:53:57.046193Z"
    }
   },
   "cell_type": "code",
   "source": [
    "def calculate_accuracy(labels, predictions):\n",
    "    accuracy = np.sum(labels == predictions) / len(labels)\n",
    "    return accuracy"
   ],
   "id": "4a1549d328c78582",
   "outputs": [],
   "execution_count": 23
  },
  {
   "metadata": {
    "ExecuteTime": {
     "end_time": "2025-05-15T16:53:57.058232Z",
     "start_time": "2025-05-15T16:53:57.055645Z"
    }
   },
   "cell_type": "code",
   "source": [
    "def load_model(filename) -> TMClassifier:\n",
    "    with open(filename, \"rb\") as f:\n",
    "        model = pickle.load(f)\n",
    "\n",
    "    return model"
   ],
   "id": "652d72a575fd0627",
   "outputs": [],
   "execution_count": 24
  },
  {
   "metadata": {
    "ExecuteTime": {
     "end_time": "2025-05-15T16:53:57.067394Z",
     "start_time": "2025-05-15T16:53:57.064012Z"
    }
   },
   "cell_type": "code",
   "source": [
    "def plot_predictions(X, y, z, p, name):\n",
    "    cm = confusion_matrix(y, p)\n",
    "\n",
    "    sns.heatmap(cm, annot=True, fmt='d', cmap='YlOrBr',\n",
    "                xticklabels=['Predicted normal', 'Predicted anomaly'],\n",
    "                yticklabels=['Actual normal', 'Actual anomaly'])\n",
    "\n",
    "    plt.xlabel('Predicted')\n",
    "    plt.ylabel('Actual')\n",
    "    plt.title('Confusion Matrix')\n",
    "\n",
    "    plt.savefig(f\"./figures/confusion_matrix{name}.pdf\")\n",
    "    plt.close()\n",
    "\n",
    "\n",
    "def get_predictions(X, y, z, name, tm):\n",
    "    X_predictions = tm.predict(X)\n",
    "\n",
    "    # Accuracy\n",
    "    accuracy = calculate_accuracy(y, X_predictions)\n",
    "\n",
    "    plot_predictions(X, y, z, X_predictions, name)\n",
    "\n",
    "    return X_predictions, accuracy"
   ],
   "id": "e96b8166de1ca4ee",
   "outputs": [],
   "execution_count": 25
  },
  {
   "metadata": {
    "ExecuteTime": {
     "end_time": "2025-05-15T16:53:57.219879Z",
     "start_time": "2025-05-15T16:53:57.074072Z"
    }
   },
   "cell_type": "code",
   "source": [
    "#test_datasets = [44, 33, 11, 49, 31, 67, 9, 91, 5, 90, 70, 35, 16, 76, 8, 85, 6, 62, 36, 56, 94, 54, 43, 50, 64, 46, 65, 61, 93, 75, 41, 58, 48, 88, 57, 32, 89, 59, 63, 80, 37, 29, 1, 20, 60]\n",
    "test_datasets = [11, 33, 44, 49, 31, 67, 9, 91, 5, 90, 70, 35, 16,\n",
    "                 76, 61, 93, 75, 41, 58, 48, 88, 57, 32, 89, 59, 63,\n",
    "                 80, 37, 29, 1, 20, 60]\n",
    "\n",
    "tm_classifier = load_model(\"best_1.pkl\")\n",
    "\n",
    "\n",
    "def run_prediction(farm, dataset):\n",
    "    X = load_test_dataset(farm, dataset)\n",
    "    labels, status_ids, train_test = load_test_labels(farm, dataset)\n",
    "\n",
    "    is_normal = load_test_label(farm, dataset)\n",
    "\n",
    "    predictions, accuracy = get_predictions(X, labels, status_ids, f\"{farm}_{dataset}\", tm_classifier)\n",
    "\n",
    "    return X, labels, status_ids, train_test, is_normal, predictions, accuracy\n"
   ],
   "id": "986c2e3634919b34",
   "outputs": [],
   "execution_count": 26
  },
  {
   "metadata": {
    "ExecuteTime": {
     "end_time": "2025-05-15T16:54:13.960036Z",
     "start_time": "2025-05-15T16:53:57.226580Z"
    }
   },
   "cell_type": "code",
   "source": [
    "# Create a dataframe with status_type_id;label;prediction\n",
    "elements = []\n",
    "\n",
    "for set in test_datasets:\n",
    "    res = run_prediction(\"C\", set)\n",
    "\n",
    "    result_df = pd.DataFrame({\n",
    "        'status_type_id': res[2],\n",
    "        'label': res[1],\n",
    "        'prediction': res[5],\n",
    "        'train_test': res[3],\n",
    "    })\n",
    "\n",
    "    print(f\"Done with {set}. Accuracy: {res[6]}\")\n",
    "\n",
    "    elements.append({'dataset': set, 'normal': res[4], 'data': result_df, 'accuracy': res[6]})"
   ],
   "id": "70e024b9cc85e8c9",
   "outputs": [
    {
     "name": "stdout",
     "output_type": "stream",
     "text": [
      "2025-05-15 18:53:57,903 - matplotlib.backends.backend_pdf - DEBUG - Assigning font /F1 = '/System/Library/Fonts/Supplemental/Arial.ttf'\n",
      "2025-05-15 18:53:57,919 - matplotlib.backends.backend_pdf - DEBUG - Embedding font /System/Library/Fonts/Supplemental/Arial.ttf.\n",
      "2025-05-15 18:53:57,919 - matplotlib.backends.backend_pdf - DEBUG - Writing TrueType font.\n",
      "Done with 11. Accuracy: 0.19348420790848048\n",
      "2025-05-15 18:53:58,461 - matplotlib.backends.backend_pdf - DEBUG - Assigning font /F1 = '/System/Library/Fonts/Supplemental/Arial.ttf'\n",
      "2025-05-15 18:53:58,474 - matplotlib.backends.backend_pdf - DEBUG - Embedding font /System/Library/Fonts/Supplemental/Arial.ttf.\n",
      "2025-05-15 18:53:58,475 - matplotlib.backends.backend_pdf - DEBUG - Writing TrueType font.\n",
      "Done with 33. Accuracy: 0.30817989737398127\n",
      "2025-05-15 18:54:00,054 - matplotlib.backends.backend_pdf - DEBUG - Assigning font /F1 = '/System/Library/Fonts/Supplemental/Arial.ttf'\n",
      "2025-05-15 18:54:00,067 - matplotlib.backends.backend_pdf - DEBUG - Embedding font /System/Library/Fonts/Supplemental/Arial.ttf.\n",
      "2025-05-15 18:54:00,068 - matplotlib.backends.backend_pdf - DEBUG - Writing TrueType font.\n",
      "Done with 44. Accuracy: 0.19697404960260462\n",
      "2025-05-15 18:54:00,330 - matplotlib.backends.backend_pdf - DEBUG - Assigning font /F1 = '/System/Library/Fonts/Supplemental/Arial.ttf'\n",
      "2025-05-15 18:54:00,345 - matplotlib.backends.backend_pdf - DEBUG - Embedding font /System/Library/Fonts/Supplemental/Arial.ttf.\n",
      "2025-05-15 18:54:00,346 - matplotlib.backends.backend_pdf - DEBUG - Writing TrueType font.\n",
      "Done with 49. Accuracy: 0.410958904109589\n",
      "2025-05-15 18:54:00,670 - matplotlib.backends.backend_pdf - DEBUG - Assigning font /F1 = '/System/Library/Fonts/Supplemental/Arial.ttf'\n",
      "2025-05-15 18:54:00,680 - matplotlib.backends.backend_pdf - DEBUG - Embedding font /System/Library/Fonts/Supplemental/Arial.ttf.\n",
      "2025-05-15 18:54:00,681 - matplotlib.backends.backend_pdf - DEBUG - Writing TrueType font.\n",
      "Done with 31. Accuracy: 0.7796944307540661\n",
      "2025-05-15 18:54:01,954 - matplotlib.backends.backend_pdf - DEBUG - Assigning font /F1 = '/System/Library/Fonts/Supplemental/Arial.ttf'\n",
      "2025-05-15 18:54:01,967 - matplotlib.backends.backend_pdf - DEBUG - Embedding font /System/Library/Fonts/Supplemental/Arial.ttf.\n",
      "2025-05-15 18:54:01,967 - matplotlib.backends.backend_pdf - DEBUG - Writing TrueType font.\n",
      "Done with 67. Accuracy: 0.06484488744540262\n",
      "2025-05-15 18:54:02,477 - matplotlib.backends.backend_pdf - DEBUG - Assigning font /F1 = '/System/Library/Fonts/Supplemental/Arial.ttf'\n",
      "2025-05-15 18:54:02,488 - matplotlib.backends.backend_pdf - DEBUG - Embedding font /System/Library/Fonts/Supplemental/Arial.ttf.\n",
      "2025-05-15 18:54:02,489 - matplotlib.backends.backend_pdf - DEBUG - Writing TrueType font.\n",
      "Done with 9. Accuracy: 0.39002594407610264\n",
      "2025-05-15 18:54:03,087 - matplotlib.backends.backend_pdf - DEBUG - Assigning font /F1 = '/System/Library/Fonts/Supplemental/Arial.ttf'\n",
      "2025-05-15 18:54:03,097 - matplotlib.backends.backend_pdf - DEBUG - Embedding font /System/Library/Fonts/Supplemental/Arial.ttf.\n",
      "2025-05-15 18:54:03,097 - matplotlib.backends.backend_pdf - DEBUG - Writing TrueType font.\n",
      "Done with 91. Accuracy: 0.3038537549407115\n",
      "2025-05-15 18:54:03,315 - matplotlib.backends.backend_pdf - DEBUG - Assigning font /F1 = '/System/Library/Fonts/Supplemental/Arial.ttf'\n",
      "2025-05-15 18:54:03,326 - matplotlib.backends.backend_pdf - DEBUG - Embedding font /System/Library/Fonts/Supplemental/Arial.ttf.\n",
      "2025-05-15 18:54:03,326 - matplotlib.backends.backend_pdf - DEBUG - Writing TrueType font.\n",
      "Done with 5. Accuracy: 0.3733133433283358\n",
      "2025-05-15 18:54:03,694 - matplotlib.backends.backend_pdf - DEBUG - Assigning font /F1 = '/System/Library/Fonts/Supplemental/Arial.ttf'\n",
      "2025-05-15 18:54:03,705 - matplotlib.backends.backend_pdf - DEBUG - Embedding font /System/Library/Fonts/Supplemental/Arial.ttf.\n",
      "2025-05-15 18:54:03,706 - matplotlib.backends.backend_pdf - DEBUG - Writing TrueType font.\n",
      "Done with 90. Accuracy: 0.325\n",
      "2025-05-15 18:54:04,228 - matplotlib.backends.backend_pdf - DEBUG - Assigning font /F1 = '/System/Library/Fonts/Supplemental/Arial.ttf'\n",
      "2025-05-15 18:54:04,239 - matplotlib.backends.backend_pdf - DEBUG - Embedding font /System/Library/Fonts/Supplemental/Arial.ttf.\n",
      "2025-05-15 18:54:04,240 - matplotlib.backends.backend_pdf - DEBUG - Writing TrueType font.\n",
      "Done with 70. Accuracy: 0.24324324324324326\n",
      "2025-05-15 18:54:04,467 - matplotlib.backends.backend_pdf - DEBUG - Assigning font /F1 = '/System/Library/Fonts/Supplemental/Arial.ttf'\n",
      "2025-05-15 18:54:04,479 - matplotlib.backends.backend_pdf - DEBUG - Embedding font /System/Library/Fonts/Supplemental/Arial.ttf.\n",
      "2025-05-15 18:54:04,479 - matplotlib.backends.backend_pdf - DEBUG - Writing TrueType font.\n",
      "Done with 35. Accuracy: 0.07870753935376967\n",
      "2025-05-15 18:54:04,826 - matplotlib.backends.backend_pdf - DEBUG - Assigning font /F1 = '/System/Library/Fonts/Supplemental/Arial.ttf'\n",
      "2025-05-15 18:54:04,837 - matplotlib.backends.backend_pdf - DEBUG - Embedding font /System/Library/Fonts/Supplemental/Arial.ttf.\n",
      "2025-05-15 18:54:04,838 - matplotlib.backends.backend_pdf - DEBUG - Writing TrueType font.\n",
      "Done with 16. Accuracy: 0.2842881944444444\n",
      "2025-05-15 18:54:05,009 - matplotlib.backends.backend_pdf - DEBUG - Assigning font /F1 = '/System/Library/Fonts/Supplemental/Arial.ttf'\n",
      "2025-05-15 18:54:05,020 - matplotlib.backends.backend_pdf - DEBUG - Embedding font /System/Library/Fonts/Supplemental/Arial.ttf.\n",
      "2025-05-15 18:54:05,021 - matplotlib.backends.backend_pdf - DEBUG - Writing TrueType font.\n",
      "Done with 76. Accuracy: 0.7250608272506083\n",
      "2025-05-15 18:54:05,476 - matplotlib.backends.backend_pdf - DEBUG - Assigning font /F1 = '/System/Library/Fonts/Supplemental/Arial.ttf'\n",
      "2025-05-15 18:54:05,490 - matplotlib.backends.backend_pdf - DEBUG - Embedding font /System/Library/Fonts/Supplemental/Arial.ttf.\n",
      "2025-05-15 18:54:05,491 - matplotlib.backends.backend_pdf - DEBUG - Writing TrueType font.\n",
      "Done with 61. Accuracy: 0.9897520661157024\n",
      "2025-05-15 18:54:05,985 - matplotlib.backends.backend_pdf - DEBUG - Assigning font /F1 = '/System/Library/Fonts/Supplemental/Arial.ttf'\n",
      "2025-05-15 18:54:05,996 - matplotlib.backends.backend_pdf - DEBUG - Embedding font /System/Library/Fonts/Supplemental/Arial.ttf.\n",
      "2025-05-15 18:54:05,997 - matplotlib.backends.backend_pdf - DEBUG - Writing TrueType font.\n",
      "Done with 93. Accuracy: 0.9378207063084817\n",
      "2025-05-15 18:54:06,567 - matplotlib.backends.backend_pdf - DEBUG - Assigning font /F1 = '/System/Library/Fonts/Supplemental/Arial.ttf'\n",
      "2025-05-15 18:54:06,578 - matplotlib.backends.backend_pdf - DEBUG - Embedding font /System/Library/Fonts/Supplemental/Arial.ttf.\n",
      "2025-05-15 18:54:06,578 - matplotlib.backends.backend_pdf - DEBUG - Writing TrueType font.\n",
      "Done with 75. Accuracy: 0.9505692863093586\n",
      "2025-05-15 18:54:07,320 - matplotlib.backends.backend_pdf - DEBUG - Assigning font /F1 = '/System/Library/Fonts/Supplemental/Arial.ttf'\n",
      "2025-05-15 18:54:07,333 - matplotlib.backends.backend_pdf - DEBUG - Embedding font /System/Library/Fonts/Supplemental/Arial.ttf.\n",
      "2025-05-15 18:54:07,334 - matplotlib.backends.backend_pdf - DEBUG - Writing TrueType font.\n",
      "Done with 41. Accuracy: 0.6317519962423673\n",
      "2025-05-15 18:54:07,739 - matplotlib.backends.backend_pdf - DEBUG - Assigning font /F1 = '/System/Library/Fonts/Supplemental/Arial.ttf'\n",
      "2025-05-15 18:54:07,752 - matplotlib.backends.backend_pdf - DEBUG - Embedding font /System/Library/Fonts/Supplemental/Arial.ttf.\n",
      "2025-05-15 18:54:07,753 - matplotlib.backends.backend_pdf - DEBUG - Writing TrueType font.\n",
      "Done with 58. Accuracy: 0.99359316604378\n",
      "2025-05-15 18:54:08,248 - matplotlib.backends.backend_pdf - DEBUG - Assigning font /F1 = '/System/Library/Fonts/Supplemental/Arial.ttf'\n",
      "2025-05-15 18:54:08,272 - matplotlib.backends.backend_pdf - DEBUG - Embedding font /System/Library/Fonts/Supplemental/Arial.ttf.\n",
      "2025-05-15 18:54:08,273 - matplotlib.backends.backend_pdf - DEBUG - Writing TrueType font.\n"
     ]
    },
    {
     "name": "stderr",
     "output_type": "stream",
     "text": [
      "/Users/kjellhaaland/Documents/GitHub/uia-master-thesis/.venv/lib/python3.12/site-packages/sklearn/metrics/_classification.py:409: UserWarning: A single label was found in 'y_true' and 'y_pred'. For the confusion matrix to have the correct shape, use the 'labels' parameter to pass all known labels.\n",
      "  warnings.warn(\n"
     ]
    },
    {
     "name": "stdout",
     "output_type": "stream",
     "text": [
      "Done with 48. Accuracy: 1.0\n",
      "2025-05-15 18:54:08,930 - matplotlib.backends.backend_pdf - DEBUG - Assigning font /F1 = '/System/Library/Fonts/Supplemental/Arial.ttf'\n",
      "2025-05-15 18:54:08,953 - matplotlib.backends.backend_pdf - DEBUG - Embedding font /System/Library/Fonts/Supplemental/Arial.ttf.\n",
      "2025-05-15 18:54:08,953 - matplotlib.backends.backend_pdf - DEBUG - Writing TrueType font.\n",
      "Done with 88. Accuracy: 0.754599097535578\n",
      "2025-05-15 18:54:09,467 - matplotlib.backends.backend_pdf - DEBUG - Assigning font /F1 = '/System/Library/Fonts/Supplemental/Arial.ttf'\n",
      "2025-05-15 18:54:09,484 - matplotlib.backends.backend_pdf - DEBUG - Embedding font /System/Library/Fonts/Supplemental/Arial.ttf.\n",
      "2025-05-15 18:54:09,485 - matplotlib.backends.backend_pdf - DEBUG - Writing TrueType font.\n",
      "Done with 57. Accuracy: 0.9530420579828501\n",
      "2025-05-15 18:54:09,934 - matplotlib.backends.backend_pdf - DEBUG - Assigning font /F1 = '/System/Library/Fonts/Supplemental/Arial.ttf'\n",
      "2025-05-15 18:54:09,947 - matplotlib.backends.backend_pdf - DEBUG - Embedding font /System/Library/Fonts/Supplemental/Arial.ttf.\n",
      "2025-05-15 18:54:09,948 - matplotlib.backends.backend_pdf - DEBUG - Writing TrueType font.\n",
      "Done with 32. Accuracy: 0.9979583503470805\n",
      "2025-05-15 18:54:10,481 - matplotlib.backends.backend_pdf - DEBUG - Assigning font /F1 = '/System/Library/Fonts/Supplemental/Arial.ttf'\n",
      "2025-05-15 18:54:10,492 - matplotlib.backends.backend_pdf - DEBUG - Embedding font /System/Library/Fonts/Supplemental/Arial.ttf.\n",
      "2025-05-15 18:54:10,493 - matplotlib.backends.backend_pdf - DEBUG - Writing TrueType font.\n",
      "Done with 89. Accuracy: 0.9846547314578005\n",
      "2025-05-15 18:54:10,970 - matplotlib.backends.backend_pdf - DEBUG - Assigning font /F1 = '/System/Library/Fonts/Supplemental/Arial.ttf'\n",
      "2025-05-15 18:54:10,982 - matplotlib.backends.backend_pdf - DEBUG - Embedding font /System/Library/Fonts/Supplemental/Arial.ttf.\n",
      "2025-05-15 18:54:10,982 - matplotlib.backends.backend_pdf - DEBUG - Writing TrueType font.\n",
      "Done with 59. Accuracy: 0.9934234563390574\n",
      "2025-05-15 18:54:11,419 - matplotlib.backends.backend_pdf - DEBUG - Assigning font /F1 = '/System/Library/Fonts/Supplemental/Arial.ttf'\n",
      "2025-05-15 18:54:11,440 - matplotlib.backends.backend_pdf - DEBUG - Embedding font /System/Library/Fonts/Supplemental/Arial.ttf.\n",
      "2025-05-15 18:54:11,441 - matplotlib.backends.backend_pdf - DEBUG - Writing TrueType font.\n",
      "Done with 63. Accuracy: 0.9691973969631237\n",
      "2025-05-15 18:54:11,854 - matplotlib.backends.backend_pdf - DEBUG - Assigning font /F1 = '/System/Library/Fonts/Supplemental/Arial.ttf'\n",
      "2025-05-15 18:54:11,864 - matplotlib.backends.backend_pdf - DEBUG - Embedding font /System/Library/Fonts/Supplemental/Arial.ttf.\n",
      "2025-05-15 18:54:11,864 - matplotlib.backends.backend_pdf - DEBUG - Writing TrueType font.\n",
      "Done with 80. Accuracy: 0.9936251593710157\n",
      "2025-05-15 18:54:12,250 - matplotlib.backends.backend_pdf - DEBUG - Assigning font /F1 = '/System/Library/Fonts/Supplemental/Arial.ttf'\n",
      "2025-05-15 18:54:12,261 - matplotlib.backends.backend_pdf - DEBUG - Embedding font /System/Library/Fonts/Supplemental/Arial.ttf.\n",
      "2025-05-15 18:54:12,263 - matplotlib.backends.backend_pdf - DEBUG - Writing TrueType font.\n",
      "Done with 37. Accuracy: 0.9893834218048183\n",
      "2025-05-15 18:54:12,686 - matplotlib.backends.backend_pdf - DEBUG - Assigning font /F1 = '/System/Library/Fonts/Supplemental/Arial.ttf'\n",
      "2025-05-15 18:54:12,701 - matplotlib.backends.backend_pdf - DEBUG - Embedding font /System/Library/Fonts/Supplemental/Arial.ttf.\n",
      "2025-05-15 18:54:12,702 - matplotlib.backends.backend_pdf - DEBUG - Writing TrueType font.\n",
      "Done with 29. Accuracy: 0.9817787418655097\n",
      "2025-05-15 18:54:13,076 - matplotlib.backends.backend_pdf - DEBUG - Assigning font /F1 = '/System/Library/Fonts/Supplemental/Arial.ttf'\n",
      "2025-05-15 18:54:13,089 - matplotlib.backends.backend_pdf - DEBUG - Embedding font /System/Library/Fonts/Supplemental/Arial.ttf.\n",
      "2025-05-15 18:54:13,089 - matplotlib.backends.backend_pdf - DEBUG - Writing TrueType font.\n",
      "Done with 1. Accuracy: 0.9805645534474781\n",
      "2025-05-15 18:54:13,541 - matplotlib.backends.backend_pdf - DEBUG - Assigning font /F1 = '/System/Library/Fonts/Supplemental/Arial.ttf'\n",
      "2025-05-15 18:54:13,551 - matplotlib.backends.backend_pdf - DEBUG - Embedding font /System/Library/Fonts/Supplemental/Arial.ttf.\n",
      "2025-05-15 18:54:13,551 - matplotlib.backends.backend_pdf - DEBUG - Writing TrueType font.\n",
      "Done with 20. Accuracy: 0.9668337832626301\n",
      "2025-05-15 18:54:13,926 - matplotlib.backends.backend_pdf - DEBUG - Assigning font /F1 = '/System/Library/Fonts/Supplemental/Arial.ttf'\n",
      "2025-05-15 18:54:13,937 - matplotlib.backends.backend_pdf - DEBUG - Embedding font /System/Library/Fonts/Supplemental/Arial.ttf.\n",
      "2025-05-15 18:54:13,937 - matplotlib.backends.backend_pdf - DEBUG - Writing TrueType font.\n",
      "Done with 60. Accuracy: 0.9432421396488363\n"
     ]
    }
   ],
   "execution_count": 27
  },
  {
   "metadata": {
    "ExecuteTime": {
     "end_time": "2025-05-15T16:54:13.990523Z",
     "start_time": "2025-05-15T16:54:13.976325Z"
    }
   },
   "cell_type": "code",
   "source": [
    "# Safe the results to results.pkl\n",
    "with open(\"results.pkl\", \"wb\") as f:\n",
    "    pickle.dump(elements, f)"
   ],
   "id": "135d0e12a45b534b",
   "outputs": [],
   "execution_count": 28
  },
  {
   "metadata": {
    "ExecuteTime": {
     "end_time": "2025-05-15T17:04:25.656748Z",
     "start_time": "2025-05-15T17:03:40.413852Z"
    }
   },
   "cell_type": "code",
   "source": [
    "score = calculate_care_score(elements)\n",
    "print(score)"
   ],
   "id": "b116da78c34ecd6b",
   "outputs": [
    {
     "name": "stdout",
     "output_type": "stream",
     "text": [
      "0.6814294026433256\n"
     ]
    }
   ],
   "execution_count": 30
  }
 ],
 "metadata": {
  "kernelspec": {
   "display_name": "Python 3",
   "language": "python",
   "name": "python3"
  },
  "language_info": {
   "codemirror_mode": {
    "name": "ipython",
    "version": 2
   },
   "file_extension": ".py",
   "mimetype": "text/x-python",
   "name": "python",
   "nbconvert_exporter": "python",
   "pygments_lexer": "ipython2",
   "version": "2.7.6"
  }
 },
 "nbformat": 4,
 "nbformat_minor": 5
}
