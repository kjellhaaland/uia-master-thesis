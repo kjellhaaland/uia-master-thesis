{
 "cells": [
  {
   "metadata": {},
   "cell_type": "markdown",
   "source": [
    "## Experiment description\n",
    "\n",
    "The goal of this notebook is to preprocess all datasets in Wind Farm C to a binary format that can be used for training a TM Classifier."
   ],
   "id": "e85b94674bcffa5c"
  },
  {
   "metadata": {
    "ExecuteTime": {
     "end_time": "2025-05-14T17:34:06.197069Z",
     "start_time": "2025-05-14T17:34:06.195197Z"
    }
   },
   "cell_type": "code",
   "source": [
    "# Import all required libraries\n",
    "\n",
    "import pandas as pd\n",
    "import numpy as np\n",
    "import os"
   ],
   "id": "a7fa0f63187f7de2",
   "outputs": [],
   "execution_count": 1
  },
  {
   "metadata": {
    "ExecuteTime": {
     "end_time": "2025-05-14T17:34:06.290712Z",
     "start_time": "2025-05-14T17:34:06.286871Z"
    }
   },
   "cell_type": "code",
   "source": [
    "wind_farm = \"C\"\n",
    "train_datasets = [55, 81, 47, 12, 4, 18, 28, 39, 66, 15, 78, 79, 30]\n",
    "test_datasets = [55, 81, 47, 12, 4, 18, 28, 39, 66, 15, 78, 79, 30, 33, 11, 44, 49, 31, 67, 9, 91, 5, 90, 70, 35, 16,\n",
    "                 76, 8, 85, 6, 62, 36, 56, 94, 54, 43, 50, 64, 46, 65,\n",
    "                 61, 93, 75, 41, 58, 48, 88, 57, 32, 89, 59, 63, 80, 37, 29, 1, 20, 60]"
   ],
   "id": "7de2a6ba82e2aea6",
   "outputs": [],
   "execution_count": 2
  },
  {
   "metadata": {
    "ExecuteTime": {
     "end_time": "2025-05-14T17:34:06.311938Z",
     "start_time": "2025-05-14T17:34:06.309108Z"
    }
   },
   "cell_type": "code",
   "source": [
    "# Create folders data_test and data_train if they do not exist\n",
    "os.makedirs(\"data_test\", exist_ok=True)\n",
    "os.makedirs(\"data_train\", exist_ok=True)"
   ],
   "id": "33fcab2e88c188e5",
   "outputs": [],
   "execution_count": 3
  },
  {
   "metadata": {
    "ExecuteTime": {
     "end_time": "2025-05-14T17:34:06.322775Z",
     "start_time": "2025-05-14T17:34:06.319159Z"
    }
   },
   "cell_type": "code",
   "source": [
    "exclude_columns = [\"time_stamp\", \"asset_id\", \"id\"]\n",
    "\n",
    "\n",
    "def load_df_and_annotate_anomalies(farm, event_id):\n",
    "    path = f\"../../../data/care_to_compare/Wind Farm {farm}/datasets/{event_id}.csv\"\n",
    "    df = pd.read_csv(path, delimiter=';')\n",
    "\n",
    "    event_info = pd.read_csv(f\"../../../data/care_to_compare/Wind Farm {farm}/event_info.csv\", delimiter=';')\n",
    "\n",
    "    # Find the row where event_id = event_id\n",
    "    metadata = event_info[event_info['event_id'] == event_id]\n",
    "\n",
    "    event_label = metadata[\"event_label\"].values[0]\n",
    "    event_start_id = metadata[\"event_start_id\"].values[0]\n",
    "    event_end_id = metadata[\"event_end_id\"].values[0]\n",
    "\n",
    "    label_value = 1 if event_label == \"anomaly\" else 0\n",
    "\n",
    "    # All rows where the column \"id\" is between event_start_id and event_end_id\n",
    "    df['label'] = 0\n",
    "    df.loc[(df['id'] >= event_start_id) & (df['id'] <= event_end_id), 'label'] = label_value\n",
    "\n",
    "    # Include all columns except for the ones in exclude_columns\n",
    "    df = df[[col for col in df.columns if col not in exclude_columns]]\n",
    "\n",
    "    # Replace inf values with NaN and drop rows with NaN values\n",
    "    df.replace([np.inf, -np.inf], np.nan, inplace=True)\n",
    "    df.dropna(inplace=True)\n",
    "\n",
    "    return df"
   ],
   "id": "890df7a6f9bbbd18",
   "outputs": [],
   "execution_count": 4
  },
  {
   "metadata": {
    "ExecuteTime": {
     "end_time": "2025-05-14T17:34:06.332082Z",
     "start_time": "2025-05-14T17:34:06.329034Z"
    }
   },
   "cell_type": "code",
   "source": [
    "def split_dataset(data: pd.DataFrame):\n",
    "    data = data[data['status_type_id'].isin([0, 2])]\n",
    "\n",
    "    df_prediction = data[data['train_test'] == 'prediction']\n",
    "    df_train = data[data['train_test'] == 'train']\n",
    "\n",
    "    df_anomalies = df_prediction[df_prediction['label'] == 1]\n",
    "    df_normal = df_train[df_train['label'] == 0]\n",
    "\n",
    "    # Take as many normal samples as there are anomalies\n",
    "    n = len(df_anomalies)\n",
    "\n",
    "    df_normal = df_normal.sample(n=n)\n",
    "\n",
    "    # Combine the two dataframes\n",
    "    df = pd.concat([df_normal, df_anomalies])\n",
    "\n",
    "    return df"
   ],
   "id": "d8bf8042a38a65f0",
   "outputs": [],
   "execution_count": 5
  },
  {
   "metadata": {
    "ExecuteTime": {
     "end_time": "2025-05-14T17:34:06.357075Z",
     "start_time": "2025-05-14T17:34:06.346332Z"
    }
   },
   "cell_type": "code",
   "source": [
    "def calculate_min_max(farm, dataset_ids):\n",
    "    # For each column get the min and max value\n",
    "    min_max_values = {}\n",
    "\n",
    "    for dataset_id in dataset_ids:\n",
    "        df = load_df_and_annotate_anomalies(farm, dataset_id)\n",
    "\n",
    "        for col in df.columns:\n",
    "            min_val = df[col].min()\n",
    "            max_val = df[col].max()\n",
    "\n",
    "            if col not in min_max_values:\n",
    "                min_max_values[col] = (min_val, max_val)\n",
    "            else:\n",
    "                current_min, current_max = min_max_values[col]\n",
    "                min_max_values[col] = (min(min_val, current_min), max(max_val, current_max))\n",
    "\n",
    "    return min_max_values"
   ],
   "id": "a044eef9e1b7a0f8",
   "outputs": [],
   "execution_count": 6
  },
  {
   "metadata": {
    "ExecuteTime": {
     "end_time": "2025-05-14T17:34:06.380597Z",
     "start_time": "2025-05-14T17:34:06.376504Z"
    }
   },
   "cell_type": "code",
   "source": [
    "def convert_to_bit_integers(df, minmax, bits_per_column=8):\n",
    "    normalized_df = df.copy()\n",
    "\n",
    "    for col in df.columns:\n",
    "        min_val = minmax[col][0]\n",
    "        max_val = minmax[col][1]\n",
    "\n",
    "        # If all values are the same, set all to 0\n",
    "        if min_val == max_val:\n",
    "            normalized_df[col] = 0\n",
    "            continue\n",
    "\n",
    "        # Min-Max normalization\n",
    "        normalized_df[col] = (normalized_df[col] - min_val) / (max_val - min_val)\n",
    "        normalized_df[col] *= (2 ** bits_per_column) - 1\n",
    "\n",
    "    # Convert the normalized values to integers\n",
    "    int_df = normalized_df.astype(int)\n",
    "\n",
    "    # Flatten each row into an array of bit integers\n",
    "    int_arrays = int_df.apply(lambda row: row.values.flatten(), axis=1).tolist()\n",
    "\n",
    "    # Convert each integer to a binary string of fixed length\n",
    "    bin_arrays = [[f\"{cell:0{bits_per_column}b}\" for cell in row] for row in int_arrays]\n",
    "\n",
    "    # Convert binary strings into individual bits\n",
    "    bin_int_arrays = [[int(bit) for bit in ''.join(row)] for row in bin_arrays]\n",
    "\n",
    "    # Convert to numpy array\n",
    "    int_arrays = np.array(bin_int_arrays)\n",
    "\n",
    "    return int_arrays"
   ],
   "id": "383106dfae1e5bf4",
   "outputs": [],
   "execution_count": 7
  },
  {
   "metadata": {
    "ExecuteTime": {
     "end_time": "2025-05-14T17:34:06.392517Z",
     "start_time": "2025-05-14T17:34:06.387117Z"
    }
   },
   "cell_type": "code",
   "source": [
    "def binarize_dataset_for_training(farm, event_id, output_path, min_max_values, bits_per_column=8):\n",
    "    # Load original dataset from file\n",
    "    df = load_df_and_annotate_anomalies(farm, event_id)\n",
    "    df = split_dataset(df)\n",
    "\n",
    "    # Split into data and labels\n",
    "    X_values = df.drop(columns=['label', 'train_test', 'status_type_id'])\n",
    "    y_values = df['label'].values.astype(np.uint32)\n",
    "\n",
    "    #X_values = X_values.apply(pd.to_numeric, errors='coerce')\n",
    "\n",
    "    X_values_bin = convert_to_bit_integers(X_values, min_max_values, bits_per_column).astype(np.uint32)\n",
    "\n",
    "    # Output to file using np\n",
    "    np.savetxt(f\"{output_path}/X_{farm}_{event_id}.txt\", X_values_bin, fmt='%d')\n",
    "    np.savetxt(f\"{output_path}/y_{farm}_{event_id}.txt\", y_values, fmt='%d')\n",
    "\n",
    "    label_df = pd.DataFrame({\n",
    "        'label': df['label'].values,\n",
    "        'status_type_id': df['status_type_id'].values,\n",
    "        'train_test': df['train_test'].values\n",
    "    })\n",
    "\n",
    "    label_df.to_csv(f\"{output_path}/y_{farm}_{event_id}.csv\", index=False)\n",
    "\n",
    "    print(f\"Done with {event_id}: {X_values_bin.shape}\")\n",
    "\n",
    "\n",
    "def binarize_dataset_for_testing(farm, event_id, output_path, min_max_values, bits_per_column=8):\n",
    "    # Load original dataset from file\n",
    "    df = load_df_and_annotate_anomalies(farm, event_id)\n",
    "\n",
    "    # Only take the data that is in the prediction set\n",
    "    df = df[df['train_test'] == 'prediction']\n",
    "\n",
    "    # Split into data and labels\n",
    "    X_values = df.drop(columns=['label', 'train_test', 'status_type_id'])\n",
    "    y_values = df['label'].values.astype(np.uint32)\n",
    "\n",
    "    #X_values = X_values.apply(pd.to_numeric, errors='coerce')\n",
    "\n",
    "    X_values_bin = convert_to_bit_integers(X_values, min_max_values, bits_per_column).astype(np.uint32)\n",
    "\n",
    "    # Output to file using np\n",
    "    np.savetxt(f\"{output_path}/X_{farm}_{event_id}.txt\", X_values_bin, fmt='%d')\n",
    "    np.savetxt(f\"{output_path}/y_{farm}_{event_id}.txt\", y_values, fmt='%d')\n",
    "\n",
    "    label_df = pd.DataFrame({\n",
    "        'label': df['label'].values,\n",
    "        'status_type_id': df['status_type_id'].values,\n",
    "        'train_test': df['train_test'].values\n",
    "    })\n",
    "\n",
    "    label_df.to_csv(f\"{output_path}/y_{farm}_{event_id}.csv\", index=False)\n",
    "\n",
    "    print(f\"Done with {event_id}: {X_values_bin.shape}\")"
   ],
   "id": "67a9eb610d672ee3",
   "outputs": [],
   "execution_count": 8
  },
  {
   "metadata": {
    "ExecuteTime": {
     "end_time": "2025-05-14T17:37:34.375242Z",
     "start_time": "2025-05-14T17:34:06.398030Z"
    }
   },
   "cell_type": "code",
   "source": [
    "datasets = list(set(train_datasets + test_datasets))\n",
    "min_max_values_dict = calculate_min_max(wind_farm, datasets)\n",
    "\n",
    "# Save to file\n",
    "with open(\"min_max_values.txt\", \"w\") as f:\n",
    "    for key, value in min_max_values_dict.items():\n",
    "        f.write(f\"{key}: {value}\\n\")"
   ],
   "id": "b140f91bb2a74030",
   "outputs": [],
   "execution_count": 9
  },
  {
   "metadata": {
    "ExecuteTime": {
     "end_time": "2025-05-14T17:37:34.413517Z",
     "start_time": "2025-05-14T17:37:34.411348Z"
    }
   },
   "cell_type": "code",
   "source": "bits = 5",
   "id": "a824517b052b4a92",
   "outputs": [],
   "execution_count": 10
  },
  {
   "metadata": {
    "ExecuteTime": {
     "end_time": "2025-05-14T17:43:43.694228Z",
     "start_time": "2025-05-14T17:37:34.452273Z"
    }
   },
   "cell_type": "code",
   "source": [
    "for dataset in test_datasets:\n",
    "    binarize_dataset_for_testing(wind_farm, dataset, \"./data_test\", min_max_values_dict, bits)"
   ],
   "id": "e879c62b0a552f43",
   "outputs": [
    {
     "name": "stdout",
     "output_type": "stream",
     "text": [
      "Done with 55: (3193, 4760)\n",
      "Done with 81: (1372, 4760)\n",
      "Done with 47: (1577, 4760)\n",
      "Done with 12: (3547, 4760)\n",
      "Done with 4: (3889, 4760)\n",
      "Done with 18: (1728, 4760)\n",
      "Done with 28: (3358, 4760)\n",
      "Done with 39: (1167, 4760)\n",
      "Done with 66: (1807, 4760)\n",
      "Done with 15: (2737, 4760)\n",
      "Done with 78: (586, 4760)\n",
      "Done with 79: (721, 4760)\n",
      "Done with 30: (3551, 4760)\n",
      "Done with 33: (3313, 4760)\n",
      "Done with 11: (4021, 4760)\n",
      "Done with 44: (10443, 4760)\n",
      "Done with 49: (1606, 4760)\n",
      "Done with 31: (2029, 4760)\n",
      "Done with 67: (8929, 4760)\n",
      "Done with 9: (3469, 4760)\n",
      "Done with 91: (4048, 4760)\n",
      "Done with 5: (667, 4760)\n",
      "Done with 90: (2320, 4760)\n",
      "Done with 70: (3478, 4760)\n",
      "Done with 35: (1207, 4760)\n",
      "Done with 16: (2304, 4760)\n",
      "Done with 76: (822, 4760)\n",
      "Done with 8: (2242, 4760)\n",
      "Done with 85: (1585, 4760)\n",
      "Done with 6: (2305, 4760)\n",
      "Done with 62: (1032, 4760)\n",
      "Done with 36: (2168, 4760)\n",
      "Done with 56: (2296, 4760)\n",
      "Done with 94: (2737, 4760)\n",
      "Done with 54: (3025, 4760)\n",
      "Done with 43: (2593, 4760)\n",
      "Done with 50: (3457, 4760)\n",
      "Done with 64: (1873, 4760)\n",
      "Done with 46: (2573, 4760)\n",
      "Done with 65: (3358, 4760)\n",
      "Done with 61: (3025, 4760)\n",
      "Done with 93: (3313, 4760)\n",
      "Done with 75: (3601, 4760)\n",
      "Done with 41: (4258, 4760)\n",
      "Done with 58: (1873, 4760)\n",
      "Done with 48: (2737, 4760)\n",
      "Done with 88: (2881, 4760)\n",
      "Done with 57: (2449, 4760)\n",
      "Done with 32: (2449, 4760)\n",
      "Done with 89: (2737, 4760)\n",
      "Done with 59: (2737, 4760)\n",
      "Done with 63: (2305, 4760)\n",
      "Done with 80: (2353, 4760)\n",
      "Done with 37: (2449, 4760)\n",
      "Done with 29: (2305, 4760)\n",
      "Done with 1: (2161, 4760)\n",
      "Done with 20: (2593, 4760)\n",
      "Done with 60: (2449, 4760)\n"
     ]
    }
   ],
   "execution_count": 11
  },
  {
   "metadata": {
    "ExecuteTime": {
     "end_time": "2025-05-14T17:45:02.002471Z",
     "start_time": "2025-05-14T17:43:43.731920Z"
    }
   },
   "cell_type": "code",
   "source": [
    "for dataset in train_datasets:\n",
    "    binarize_dataset_for_training(wind_farm, dataset, \"./data_train\", min_max_values_dict, bits)"
   ],
   "id": "a312821be058472e",
   "outputs": [
    {
     "name": "stdout",
     "output_type": "stream",
     "text": [
      "Done with 55: (4742, 4760)\n",
      "Done with 81: (394, 4760)\n",
      "Done with 47: (1384, 4760)\n",
      "Done with 12: (5898, 4760)\n",
      "Done with 4: (5190, 4760)\n",
      "Done with 18: (1106, 4760)\n",
      "Done with 28: (4750, 4760)\n",
      "Done with 39: (484, 4760)\n",
      "Done with 66: (336, 4760)\n",
      "Done with 15: (4852, 4760)\n",
      "Done with 78: (500, 4760)\n",
      "Done with 79: (338, 4760)\n",
      "Done with 30: (866, 4760)\n"
     ]
    }
   ],
   "execution_count": 12
  }
 ],
 "metadata": {
  "kernelspec": {
   "display_name": "Python 3",
   "language": "python",
   "name": "python3"
  },
  "language_info": {
   "codemirror_mode": {
    "name": "ipython",
    "version": 2
   },
   "file_extension": ".py",
   "mimetype": "text/x-python",
   "name": "python",
   "nbconvert_exporter": "python",
   "pygments_lexer": "ipython2",
   "version": "2.7.6"
  }
 },
 "nbformat": 4,
 "nbformat_minor": 5
}
