{
 "cells": [
  {
   "cell_type": "code",
   "id": "initial_id",
   "metadata": {
    "collapsed": true,
    "ExecuteTime": {
     "end_time": "2025-04-18T20:29:08.769362Z",
     "start_time": "2025-04-18T20:29:08.738262Z"
    }
   },
   "source": [
    "import numpy as np\n",
    "import matplotlib.pyplot as plt\n",
    "import pandas as pd\n",
    "import os\n",
    "\n",
    "import pickle\n",
    "\n",
    "from sklearn.metrics import confusion_matrix\n",
    "import seaborn as sns\n",
    "from tmu.models.classification.vanilla_classifier import TMClassifier\n",
    "from src.lib.care import calculate_care_score"
   ],
   "outputs": [],
   "execution_count": 175
  },
  {
   "metadata": {
    "ExecuteTime": {
     "end_time": "2025-04-18T20:29:08.843674Z",
     "start_time": "2025-04-18T20:29:08.834228Z"
    }
   },
   "cell_type": "code",
   "source": [
    "# Create folder figures_1 if it does not exist\n",
    "os.makedirs(\"figures\", exist_ok=True)"
   ],
   "id": "12722105cfb66efa",
   "outputs": [],
   "execution_count": 176
  },
  {
   "metadata": {
    "ExecuteTime": {
     "end_time": "2025-04-18T20:29:08.856303Z",
     "start_time": "2025-04-18T20:29:08.852525Z"
    }
   },
   "cell_type": "code",
   "source": [
    "def load_test_dataset(farm, event_id):\n",
    "    X = np.loadtxt(f\"./data_test/X_{farm}_{event_id}.txt\", dtype=np.uint32)\n",
    "    X = np.array(X).astype(np.uint32)\n",
    "\n",
    "    # Take the first 3000 rows\n",
    "    #X = X[:3000]\n",
    "\n",
    "    return X\n",
    "\n",
    "\n",
    "def load_test_labels(farm, event_id):\n",
    "    # Load dataframe from file\n",
    "    df = pd.read_csv(f\"./data_test/y_{farm}_{event_id}.csv\")\n",
    "\n",
    "    labels = df['label'].values\n",
    "    status_ids = df['status_type_id'].values\n",
    "    train_test = df['train_test'].values\n",
    "\n",
    "    # Take the first 3000 rows\n",
    "    #labels = labels[:3000]\n",
    "    #status_ids = status_ids[:3000]\n",
    "    #train_test = train_test[:3000]\n",
    "\n",
    "    return np.array(labels).astype(np.uint32), np.array(status_ids).astype(np.uint32), train_test\n",
    "\n",
    "\n",
    "def load_test_label(farm, event_id):\n",
    "    event_info = pd.read_csv(f\"../../../data/care_to_compare/Wind Farm {farm}/event_info.csv\", delimiter=';')\n",
    "\n",
    "    metadata = event_info[event_info['event_id'] == event_id]\n",
    "\n",
    "    event_label = metadata[\"event_label\"].values[0]\n",
    "\n",
    "    return False if event_label == \"anomaly\" else True"
   ],
   "id": "9afef311a40435c8",
   "outputs": [],
   "execution_count": 177
  },
  {
   "metadata": {
    "ExecuteTime": {
     "end_time": "2025-04-18T20:29:08.868749Z",
     "start_time": "2025-04-18T20:29:08.865558Z"
    }
   },
   "cell_type": "code",
   "source": [
    "def calculate_accuracy(labels, predictions):\n",
    "    # Calculate the accuracy\n",
    "    accuracy = np.sum(labels == predictions) / len(labels)\n",
    "    return accuracy"
   ],
   "id": "4a1549d328c78582",
   "outputs": [],
   "execution_count": 178
  },
  {
   "metadata": {
    "ExecuteTime": {
     "end_time": "2025-04-18T20:29:08.880410Z",
     "start_time": "2025-04-18T20:29:08.877443Z"
    }
   },
   "cell_type": "code",
   "source": [
    "def load_model(filename) -> TMClassifier:\n",
    "    with open(filename, \"rb\") as f:\n",
    "        model = pickle.load(f)\n",
    "\n",
    "    return model"
   ],
   "id": "652d72a575fd0627",
   "outputs": [],
   "execution_count": 179
  },
  {
   "metadata": {
    "ExecuteTime": {
     "end_time": "2025-04-18T20:29:08.901378Z",
     "start_time": "2025-04-18T20:29:08.892186Z"
    }
   },
   "cell_type": "code",
   "source": [
    "def plot_predictions(X, y, z, p, name):\n",
    "    cmap = plt.colormaps['RdBu']\n",
    "\n",
    "    x = np.arange(0, len(X))  # Time or index\n",
    "\n",
    "    y_mapped = np.where(y == 0, -0.2, -0.1)\n",
    "    p_mapped = np.where(p == 0, 0, 0.1)\n",
    "\n",
    "    # Create a single plot\n",
    "    fig, ax = plt.subplots(figsize=(12, 6))\n",
    "\n",
    "    # Plot all data on the single plot\n",
    "    ax.plot(x, p_mapped, label=\"Predicted anomalies\", alpha=0.7, color=cmap(0.1))\n",
    "    ax.plot(x, y_mapped, label=\"Actual Anomalies (y)\", color=cmap(0.8), linestyle='-', linewidth=2)\n",
    "\n",
    "    # Add horizontal reference lines\n",
    "    ax.axhline(y=0.1, color='black', linestyle='dotted', linewidth=1, alpha=0.5)\n",
    "    ax.axhline(y=-0.1, color='black', linestyle='dotted', linewidth=1, alpha=0.5)\n",
    "    ax.axhline(y=-0.2, color='black', linestyle='dotted', linewidth=1, alpha=0.5)\n",
    "\n",
    "    # Set plot labels and limits\n",
    "    ax.set_title(\"Anomalies and Reconstruction Loss\")\n",
    "    ax.set_xlabel(\"Time\")\n",
    "    ax.set_ylabel(\"Values\")\n",
    "    ax.set_ylim(-0.3, 0.3)\n",
    "    ax.legend()\n",
    "\n",
    "    # Adjust layout\n",
    "    plt.tight_layout()\n",
    "    plt.grid(True)\n",
    "\n",
    "    # plt.show()\n",
    "\n",
    "    # Save the plot\n",
    "    plt.savefig(f\"./figures/plot_detections_{name}.pdf\")\n",
    "\n",
    "    plt.close()\n",
    "\n",
    "\n",
    "def plot_matrix(y, p, name):\n",
    "    cm = confusion_matrix(y, p)\n",
    "\n",
    "    sns.heatmap(cm, annot=True, fmt='d', cmap='YlOrRd', xticklabels=['Normal', 'Anomaly'],\n",
    "                yticklabels=['Normal', 'Anomaly'])\n",
    "\n",
    "    plt.xlabel('Predicted')\n",
    "    plt.ylabel('Actual')\n",
    "    plt.title(f'Confusion Matrix (dataset {name})')\n",
    "\n",
    "    # Save the plot\n",
    "    plt.savefig(f\"./figures/plot_matrix_{name}.pdf\")\n",
    "    plt.close()\n",
    "\n",
    "\n",
    "def get_predictions(X, y, z, name, tm):\n",
    "    X_predictions = tm.predict(X)\n",
    "\n",
    "    # Accuracy\n",
    "    accuracy = calculate_accuracy(y, X_predictions)\n",
    "\n",
    "    plot_predictions(X, y, z, X_predictions, name)\n",
    "    plot_matrix(y, X_predictions, name)\n",
    "\n",
    "    return X_predictions, accuracy"
   ],
   "id": "e96b8166de1ca4ee",
   "outputs": [],
   "execution_count": 180
  },
  {
   "metadata": {
    "ExecuteTime": {
     "end_time": "2025-04-18T20:29:08.998056Z",
     "start_time": "2025-04-18T20:29:08.925875Z"
    }
   },
   "cell_type": "code",
   "source": [
    "wind_farm = \"A\"\n",
    "test_datasets = [25, 69, 13, 24, 3, 17, 38, 71, 14, 92, 51]\n",
    "\n",
    "tm_classifier = load_model(\"models/best.pkl\")\n",
    "\n",
    "\n",
    "def run_prediction(farm, dataset):\n",
    "    X = load_test_dataset(farm, dataset)\n",
    "    labels, status_ids, train_test = load_test_labels(farm, dataset)\n",
    "\n",
    "    is_normal = load_test_label(farm, dataset)\n",
    "\n",
    "    predictions, accuracy = get_predictions(X, labels, status_ids, f\"{farm}_{dataset}\", tm_classifier)\n",
    "\n",
    "    return X, labels, status_ids, train_test, is_normal, predictions, accuracy\n"
   ],
   "id": "986c2e3634919b34",
   "outputs": [],
   "execution_count": 181
  },
  {
   "metadata": {
    "ExecuteTime": {
     "end_time": "2025-04-18T20:29:22.906322Z",
     "start_time": "2025-04-18T20:29:09.005426Z"
    }
   },
   "cell_type": "code",
   "source": [
    "# Create a dataframe with status_type_id;label;prediction\n",
    "elements = []\n",
    "\n",
    "for set in test_datasets:\n",
    "    res = run_prediction(wind_farm, set)\n",
    "\n",
    "    result_df = pd.DataFrame({\n",
    "        'status_type_id': res[2],\n",
    "        'label': res[1],\n",
    "        'prediction': res[5],\n",
    "        'train_test': res[3],\n",
    "    })\n",
    "\n",
    "    print(f\"Done with {set}. Accuracy: {res[6]}\")\n",
    "\n",
    "    elements.append({'dataset': set, 'normal': res[4], 'data': result_df, 'accuracy': res[6]})"
   ],
   "id": "70e024b9cc85e8c9",
   "outputs": [
    {
     "name": "stdout",
     "output_type": "stream",
     "text": [
      "2025-04-18 22:29:09,694 - matplotlib.backends.backend_pdf - DEBUG - Assigning font /F1 = '/System/Library/Fonts/Supplemental/Arial.ttf'\n",
      "2025-04-18 22:29:09,743 - matplotlib.backends.backend_pdf - DEBUG - Embedding font /System/Library/Fonts/Supplemental/Arial.ttf.\n",
      "2025-04-18 22:29:09,744 - matplotlib.backends.backend_pdf - DEBUG - Writing TrueType font.\n",
      "2025-04-18 22:29:09,956 - matplotlib.backends.backend_pdf - DEBUG - Assigning font /F1 = '/System/Library/Fonts/Supplemental/Arial.ttf'\n",
      "2025-04-18 22:29:09,979 - matplotlib.backends.backend_pdf - DEBUG - Embedding font /System/Library/Fonts/Supplemental/Arial.ttf.\n",
      "2025-04-18 22:29:09,979 - matplotlib.backends.backend_pdf - DEBUG - Writing TrueType font.\n",
      "Done with 68. Accuracy: 0.7084967320261438\n",
      "2025-04-18 22:29:10,328 - matplotlib.backends.backend_pdf - DEBUG - Assigning font /F1 = '/System/Library/Fonts/Supplemental/Arial.ttf'\n",
      "2025-04-18 22:29:10,362 - matplotlib.backends.backend_pdf - DEBUG - Embedding font /System/Library/Fonts/Supplemental/Arial.ttf.\n",
      "2025-04-18 22:29:10,365 - matplotlib.backends.backend_pdf - DEBUG - Writing TrueType font.\n",
      "2025-04-18 22:29:10,522 - matplotlib.backends.backend_pdf - DEBUG - Assigning font /F1 = '/System/Library/Fonts/Supplemental/Arial.ttf'\n",
      "2025-04-18 22:29:10,542 - matplotlib.backends.backend_pdf - DEBUG - Embedding font /System/Library/Fonts/Supplemental/Arial.ttf.\n",
      "2025-04-18 22:29:10,542 - matplotlib.backends.backend_pdf - DEBUG - Writing TrueType font.\n",
      "Done with 22. Accuracy: 0.7855274629468177\n",
      "2025-04-18 22:29:10,923 - matplotlib.backends.backend_pdf - DEBUG - Assigning font /F1 = '/System/Library/Fonts/Supplemental/Arial.ttf'\n",
      "2025-04-18 22:29:10,945 - matplotlib.backends.backend_pdf - DEBUG - Embedding font /System/Library/Fonts/Supplemental/Arial.ttf.\n",
      "2025-04-18 22:29:10,945 - matplotlib.backends.backend_pdf - DEBUG - Writing TrueType font.\n",
      "2025-04-18 22:29:11,040 - matplotlib.backends.backend_pdf - DEBUG - Assigning font /F1 = '/System/Library/Fonts/Supplemental/Arial.ttf'\n",
      "2025-04-18 22:29:11,061 - matplotlib.backends.backend_pdf - DEBUG - Embedding font /System/Library/Fonts/Supplemental/Arial.ttf.\n",
      "2025-04-18 22:29:11,066 - matplotlib.backends.backend_pdf - DEBUG - Writing TrueType font.\n",
      "Done with 72. Accuracy: 0.6038671294000991\n",
      "2025-04-18 22:29:11,474 - matplotlib.backends.backend_pdf - DEBUG - Assigning font /F1 = '/System/Library/Fonts/Supplemental/Arial.ttf'\n",
      "2025-04-18 22:29:11,505 - matplotlib.backends.backend_pdf - DEBUG - Embedding font /System/Library/Fonts/Supplemental/Arial.ttf.\n",
      "2025-04-18 22:29:11,516 - matplotlib.backends.backend_pdf - DEBUG - Writing TrueType font.\n",
      "2025-04-18 22:29:11,627 - matplotlib.backends.backend_pdf - DEBUG - Assigning font /F1 = '/System/Library/Fonts/Supplemental/Arial.ttf'\n",
      "2025-04-18 22:29:11,650 - matplotlib.backends.backend_pdf - DEBUG - Embedding font /System/Library/Fonts/Supplemental/Arial.ttf.\n",
      "2025-04-18 22:29:11,651 - matplotlib.backends.backend_pdf - DEBUG - Writing TrueType font.\n",
      "Done with 73. Accuracy: 0.7368421052631579\n",
      "2025-04-18 22:29:12,128 - matplotlib.backends.backend_pdf - DEBUG - Assigning font /F1 = '/System/Library/Fonts/Supplemental/Arial.ttf'\n",
      "2025-04-18 22:29:12,146 - matplotlib.backends.backend_pdf - DEBUG - Embedding font /System/Library/Fonts/Supplemental/Arial.ttf.\n",
      "2025-04-18 22:29:12,147 - matplotlib.backends.backend_pdf - DEBUG - Writing TrueType font.\n",
      "2025-04-18 22:29:12,289 - matplotlib.backends.backend_pdf - DEBUG - Assigning font /F1 = '/System/Library/Fonts/Supplemental/Arial.ttf'\n",
      "2025-04-18 22:29:12,317 - matplotlib.backends.backend_pdf - DEBUG - Embedding font /System/Library/Fonts/Supplemental/Arial.ttf.\n",
      "2025-04-18 22:29:12,321 - matplotlib.backends.backend_pdf - DEBUG - Writing TrueType font.\n",
      "Done with 0. Accuracy: 0.6362354599929503\n",
      "2025-04-18 22:29:12,670 - matplotlib.backends.backend_pdf - DEBUG - Assigning font /F1 = '/System/Library/Fonts/Supplemental/Arial.ttf'\n",
      "2025-04-18 22:29:12,699 - matplotlib.backends.backend_pdf - DEBUG - Embedding font /System/Library/Fonts/Supplemental/Arial.ttf.\n",
      "2025-04-18 22:29:12,702 - matplotlib.backends.backend_pdf - DEBUG - Writing TrueType font.\n",
      "2025-04-18 22:29:12,833 - matplotlib.backends.backend_pdf - DEBUG - Assigning font /F1 = '/System/Library/Fonts/Supplemental/Arial.ttf'\n",
      "2025-04-18 22:29:12,858 - matplotlib.backends.backend_pdf - DEBUG - Embedding font /System/Library/Fonts/Supplemental/Arial.ttf.\n",
      "2025-04-18 22:29:12,859 - matplotlib.backends.backend_pdf - DEBUG - Writing TrueType font.\n",
      "Done with 26. Accuracy: 0.6925746009715475\n",
      "2025-04-18 22:29:13,954 - matplotlib.backends.backend_pdf - DEBUG - Assigning font /F1 = '/System/Library/Fonts/Supplemental/Arial.ttf'\n",
      "2025-04-18 22:29:13,983 - matplotlib.backends.backend_pdf - DEBUG - Embedding font /System/Library/Fonts/Supplemental/Arial.ttf.\n",
      "2025-04-18 22:29:13,986 - matplotlib.backends.backend_pdf - DEBUG - Writing TrueType font.\n",
      "2025-04-18 22:29:14,127 - matplotlib.backends.backend_pdf - DEBUG - Assigning font /F1 = '/System/Library/Fonts/Supplemental/Arial.ttf'\n",
      "2025-04-18 22:29:14,148 - matplotlib.backends.backend_pdf - DEBUG - Embedding font /System/Library/Fonts/Supplemental/Arial.ttf.\n",
      "2025-04-18 22:29:14,150 - matplotlib.backends.backend_pdf - DEBUG - Writing TrueType font.\n",
      "Done with 40. Accuracy: 0.6121126189993923\n",
      "2025-04-18 22:29:14,515 - matplotlib.backends.backend_pdf - DEBUG - Assigning font /F1 = '/System/Library/Fonts/Supplemental/Arial.ttf'\n",
      "2025-04-18 22:29:14,554 - matplotlib.backends.backend_pdf - DEBUG - Embedding font /System/Library/Fonts/Supplemental/Arial.ttf.\n",
      "2025-04-18 22:29:14,555 - matplotlib.backends.backend_pdf - DEBUG - Writing TrueType font.\n",
      "2025-04-18 22:29:14,658 - matplotlib.backends.backend_pdf - DEBUG - Assigning font /F1 = '/System/Library/Fonts/Supplemental/Arial.ttf'\n",
      "2025-04-18 22:29:14,672 - matplotlib.backends.backend_pdf - DEBUG - Embedding font /System/Library/Fonts/Supplemental/Arial.ttf.\n",
      "2025-04-18 22:29:14,673 - matplotlib.backends.backend_pdf - DEBUG - Writing TrueType font.\n",
      "Done with 42. Accuracy: 0.6380290587492103\n",
      "2025-04-18 22:29:14,962 - matplotlib.backends.backend_pdf - DEBUG - Assigning font /F1 = '/System/Library/Fonts/Supplemental/Arial.ttf'\n",
      "2025-04-18 22:29:14,984 - matplotlib.backends.backend_pdf - DEBUG - Embedding font /System/Library/Fonts/Supplemental/Arial.ttf.\n",
      "2025-04-18 22:29:14,985 - matplotlib.backends.backend_pdf - DEBUG - Writing TrueType font.\n",
      "2025-04-18 22:29:15,085 - matplotlib.backends.backend_pdf - DEBUG - Assigning font /F1 = '/System/Library/Fonts/Supplemental/Arial.ttf'\n",
      "2025-04-18 22:29:15,116 - matplotlib.backends.backend_pdf - DEBUG - Embedding font /System/Library/Fonts/Supplemental/Arial.ttf.\n",
      "2025-04-18 22:29:15,118 - matplotlib.backends.backend_pdf - DEBUG - Writing TrueType font.\n",
      "Done with 10. Accuracy: 0.6256895193065406\n",
      "2025-04-18 22:29:15,439 - matplotlib.backends.backend_pdf - DEBUG - Assigning font /F1 = '/System/Library/Fonts/Supplemental/Arial.ttf'\n",
      "2025-04-18 22:29:15,471 - matplotlib.backends.backend_pdf - DEBUG - Embedding font /System/Library/Fonts/Supplemental/Arial.ttf.\n",
      "2025-04-18 22:29:15,473 - matplotlib.backends.backend_pdf - DEBUG - Writing TrueType font.\n",
      "2025-04-18 22:29:15,587 - matplotlib.backends.backend_pdf - DEBUG - Assigning font /F1 = '/System/Library/Fonts/Supplemental/Arial.ttf'\n",
      "2025-04-18 22:29:15,624 - matplotlib.backends.backend_pdf - DEBUG - Embedding font /System/Library/Fonts/Supplemental/Arial.ttf.\n",
      "2025-04-18 22:29:15,628 - matplotlib.backends.backend_pdf - DEBUG - Writing TrueType font.\n",
      "Done with 45. Accuracy: 0.22083333333333333\n",
      "2025-04-18 22:29:16,021 - matplotlib.backends.backend_pdf - DEBUG - Assigning font /F1 = '/System/Library/Fonts/Supplemental/Arial.ttf'\n",
      "2025-04-18 22:29:16,051 - matplotlib.backends.backend_pdf - DEBUG - Embedding font /System/Library/Fonts/Supplemental/Arial.ttf.\n",
      "2025-04-18 22:29:16,052 - matplotlib.backends.backend_pdf - DEBUG - Writing TrueType font.\n",
      "2025-04-18 22:29:16,163 - matplotlib.backends.backend_pdf - DEBUG - Assigning font /F1 = '/System/Library/Fonts/Supplemental/Arial.ttf'\n",
      "2025-04-18 22:29:16,195 - matplotlib.backends.backend_pdf - DEBUG - Embedding font /System/Library/Fonts/Supplemental/Arial.ttf.\n",
      "2025-04-18 22:29:16,196 - matplotlib.backends.backend_pdf - DEBUG - Writing TrueType font.\n",
      "Done with 84. Accuracy: 0.29227557411273486\n",
      "2025-04-18 22:29:16,633 - matplotlib.backends.backend_pdf - DEBUG - Assigning font /F1 = '/System/Library/Fonts/Supplemental/Arial.ttf'\n",
      "2025-04-18 22:29:16,658 - matplotlib.backends.backend_pdf - DEBUG - Embedding font /System/Library/Fonts/Supplemental/Arial.ttf.\n",
      "2025-04-18 22:29:16,659 - matplotlib.backends.backend_pdf - DEBUG - Writing TrueType font.\n",
      "2025-04-18 22:29:16,760 - matplotlib.backends.backend_pdf - DEBUG - Assigning font /F1 = '/System/Library/Fonts/Supplemental/Arial.ttf'\n",
      "2025-04-18 22:29:16,786 - matplotlib.backends.backend_pdf - DEBUG - Embedding font /System/Library/Fonts/Supplemental/Arial.ttf.\n",
      "2025-04-18 22:29:16,788 - matplotlib.backends.backend_pdf - DEBUG - Writing TrueType font.\n",
      "Done with 25. Accuracy: 0.5893520429219975\n",
      "2025-04-18 22:29:17,212 - matplotlib.backends.backend_pdf - DEBUG - Assigning font /F1 = '/System/Library/Fonts/Supplemental/Arial.ttf'\n",
      "2025-04-18 22:29:17,245 - matplotlib.backends.backend_pdf - DEBUG - Embedding font /System/Library/Fonts/Supplemental/Arial.ttf.\n",
      "2025-04-18 22:29:17,246 - matplotlib.backends.backend_pdf - DEBUG - Writing TrueType font.\n",
      "2025-04-18 22:29:17,355 - matplotlib.backends.backend_pdf - DEBUG - Assigning font /F1 = '/System/Library/Fonts/Supplemental/Arial.ttf'\n",
      "2025-04-18 22:29:17,376 - matplotlib.backends.backend_pdf - DEBUG - Embedding font /System/Library/Fonts/Supplemental/Arial.ttf.\n",
      "2025-04-18 22:29:17,377 - matplotlib.backends.backend_pdf - DEBUG - Writing TrueType font.\n",
      "Done with 69. Accuracy: 0.5723100655611261\n",
      "2025-04-18 22:29:17,954 - matplotlib.backends.backend_pdf - DEBUG - Assigning font /F1 = '/System/Library/Fonts/Supplemental/Arial.ttf'\n",
      "2025-04-18 22:29:17,986 - matplotlib.backends.backend_pdf - DEBUG - Embedding font /System/Library/Fonts/Supplemental/Arial.ttf.\n",
      "2025-04-18 22:29:17,987 - matplotlib.backends.backend_pdf - DEBUG - Writing TrueType font.\n",
      "2025-04-18 22:29:18,123 - matplotlib.backends.backend_pdf - DEBUG - Assigning font /F1 = '/System/Library/Fonts/Supplemental/Arial.ttf'\n",
      "2025-04-18 22:29:18,142 - matplotlib.backends.backend_pdf - DEBUG - Embedding font /System/Library/Fonts/Supplemental/Arial.ttf.\n",
      "2025-04-18 22:29:18,143 - matplotlib.backends.backend_pdf - DEBUG - Writing TrueType font.\n",
      "Done with 13. Accuracy: 0.7943064471113592\n",
      "2025-04-18 22:29:18,621 - matplotlib.backends.backend_pdf - DEBUG - Assigning font /F1 = '/System/Library/Fonts/Supplemental/Arial.ttf'\n",
      "2025-04-18 22:29:18,637 - matplotlib.backends.backend_pdf - DEBUG - Embedding font /System/Library/Fonts/Supplemental/Arial.ttf.\n",
      "2025-04-18 22:29:18,638 - matplotlib.backends.backend_pdf - DEBUG - Writing TrueType font.\n",
      "2025-04-18 22:29:18,742 - matplotlib.backends.backend_pdf - DEBUG - Assigning font /F1 = '/System/Library/Fonts/Supplemental/Arial.ttf'\n",
      "2025-04-18 22:29:18,760 - matplotlib.backends.backend_pdf - DEBUG - Embedding font /System/Library/Fonts/Supplemental/Arial.ttf.\n",
      "2025-04-18 22:29:18,760 - matplotlib.backends.backend_pdf - DEBUG - Writing TrueType font.\n",
      "Done with 24. Accuracy: 0.6599115696389094\n",
      "2025-04-18 22:29:19,296 - matplotlib.backends.backend_pdf - DEBUG - Assigning font /F1 = '/System/Library/Fonts/Supplemental/Arial.ttf'\n",
      "2025-04-18 22:29:19,329 - matplotlib.backends.backend_pdf - DEBUG - Embedding font /System/Library/Fonts/Supplemental/Arial.ttf.\n",
      "2025-04-18 22:29:19,331 - matplotlib.backends.backend_pdf - DEBUG - Writing TrueType font.\n",
      "2025-04-18 22:29:19,448 - matplotlib.backends.backend_pdf - DEBUG - Assigning font /F1 = '/System/Library/Fonts/Supplemental/Arial.ttf'\n",
      "2025-04-18 22:29:19,470 - matplotlib.backends.backend_pdf - DEBUG - Embedding font /System/Library/Fonts/Supplemental/Arial.ttf.\n",
      "2025-04-18 22:29:19,471 - matplotlib.backends.backend_pdf - DEBUG - Writing TrueType font.\n",
      "Done with 3. Accuracy: 0.6826165960024227\n",
      "2025-04-18 22:29:19,922 - matplotlib.backends.backend_pdf - DEBUG - Assigning font /F1 = '/System/Library/Fonts/Supplemental/Arial.ttf'\n",
      "2025-04-18 22:29:19,952 - matplotlib.backends.backend_pdf - DEBUG - Embedding font /System/Library/Fonts/Supplemental/Arial.ttf.\n",
      "2025-04-18 22:29:19,953 - matplotlib.backends.backend_pdf - DEBUG - Writing TrueType font.\n",
      "2025-04-18 22:29:20,040 - matplotlib.backends.backend_pdf - DEBUG - Assigning font /F1 = '/System/Library/Fonts/Supplemental/Arial.ttf'\n",
      "2025-04-18 22:29:20,069 - matplotlib.backends.backend_pdf - DEBUG - Embedding font /System/Library/Fonts/Supplemental/Arial.ttf.\n",
      "2025-04-18 22:29:20,070 - matplotlib.backends.backend_pdf - DEBUG - Writing TrueType font.\n",
      "Done with 17. Accuracy: 0.6832074793239842\n",
      "2025-04-18 22:29:20,512 - matplotlib.backends.backend_pdf - DEBUG - Assigning font /F1 = '/System/Library/Fonts/Supplemental/Arial.ttf'\n",
      "2025-04-18 22:29:20,536 - matplotlib.backends.backend_pdf - DEBUG - Embedding font /System/Library/Fonts/Supplemental/Arial.ttf.\n",
      "2025-04-18 22:29:20,539 - matplotlib.backends.backend_pdf - DEBUG - Writing TrueType font.\n",
      "2025-04-18 22:29:20,640 - matplotlib.backends.backend_pdf - DEBUG - Assigning font /F1 = '/System/Library/Fonts/Supplemental/Arial.ttf'\n",
      "2025-04-18 22:29:20,678 - matplotlib.backends.backend_pdf - DEBUG - Embedding font /System/Library/Fonts/Supplemental/Arial.ttf.\n",
      "2025-04-18 22:29:20,702 - matplotlib.backends.backend_pdf - DEBUG - Writing TrueType font.\n",
      "Done with 38. Accuracy: 0.7213050314465409\n",
      "2025-04-18 22:29:21,156 - matplotlib.backends.backend_pdf - DEBUG - Assigning font /F1 = '/System/Library/Fonts/Supplemental/Arial.ttf'\n",
      "2025-04-18 22:29:21,171 - matplotlib.backends.backend_pdf - DEBUG - Embedding font /System/Library/Fonts/Supplemental/Arial.ttf.\n",
      "2025-04-18 22:29:21,172 - matplotlib.backends.backend_pdf - DEBUG - Writing TrueType font.\n",
      "2025-04-18 22:29:21,260 - matplotlib.backends.backend_pdf - DEBUG - Assigning font /F1 = '/System/Library/Fonts/Supplemental/Arial.ttf'\n",
      "2025-04-18 22:29:21,281 - matplotlib.backends.backend_pdf - DEBUG - Embedding font /System/Library/Fonts/Supplemental/Arial.ttf.\n",
      "2025-04-18 22:29:21,284 - matplotlib.backends.backend_pdf - DEBUG - Writing TrueType font.\n",
      "Done with 71. Accuracy: 0.6676194365046958\n",
      "2025-04-18 22:29:21,672 - matplotlib.backends.backend_pdf - DEBUG - Assigning font /F1 = '/System/Library/Fonts/Supplemental/Arial.ttf'\n",
      "2025-04-18 22:29:21,692 - matplotlib.backends.backend_pdf - DEBUG - Embedding font /System/Library/Fonts/Supplemental/Arial.ttf.\n",
      "2025-04-18 22:29:21,693 - matplotlib.backends.backend_pdf - DEBUG - Writing TrueType font.\n",
      "2025-04-18 22:29:21,785 - matplotlib.backends.backend_pdf - DEBUG - Assigning font /F1 = '/System/Library/Fonts/Supplemental/Arial.ttf'\n",
      "2025-04-18 22:29:21,809 - matplotlib.backends.backend_pdf - DEBUG - Embedding font /System/Library/Fonts/Supplemental/Arial.ttf.\n",
      "2025-04-18 22:29:21,810 - matplotlib.backends.backend_pdf - DEBUG - Writing TrueType font.\n",
      "Done with 14. Accuracy: 0.6612309310889006\n",
      "2025-04-18 22:29:22,191 - matplotlib.backends.backend_pdf - DEBUG - Assigning font /F1 = '/System/Library/Fonts/Supplemental/Arial.ttf'\n",
      "2025-04-18 22:29:22,212 - matplotlib.backends.backend_pdf - DEBUG - Embedding font /System/Library/Fonts/Supplemental/Arial.ttf.\n",
      "2025-04-18 22:29:22,214 - matplotlib.backends.backend_pdf - DEBUG - Writing TrueType font.\n",
      "2025-04-18 22:29:22,315 - matplotlib.backends.backend_pdf - DEBUG - Assigning font /F1 = '/System/Library/Fonts/Supplemental/Arial.ttf'\n",
      "2025-04-18 22:29:22,338 - matplotlib.backends.backend_pdf - DEBUG - Embedding font /System/Library/Fonts/Supplemental/Arial.ttf.\n",
      "2025-04-18 22:29:22,339 - matplotlib.backends.backend_pdf - DEBUG - Writing TrueType font.\n",
      "Done with 92. Accuracy: 0.7807215332581736\n",
      "2025-04-18 22:29:22,754 - matplotlib.backends.backend_pdf - DEBUG - Assigning font /F1 = '/System/Library/Fonts/Supplemental/Arial.ttf'\n",
      "2025-04-18 22:29:22,774 - matplotlib.backends.backend_pdf - DEBUG - Embedding font /System/Library/Fonts/Supplemental/Arial.ttf.\n",
      "2025-04-18 22:29:22,775 - matplotlib.backends.backend_pdf - DEBUG - Writing TrueType font.\n",
      "2025-04-18 22:29:22,850 - matplotlib.backends.backend_pdf - DEBUG - Assigning font /F1 = '/System/Library/Fonts/Supplemental/Arial.ttf'\n",
      "2025-04-18 22:29:22,872 - matplotlib.backends.backend_pdf - DEBUG - Embedding font /System/Library/Fonts/Supplemental/Arial.ttf.\n",
      "2025-04-18 22:29:22,873 - matplotlib.backends.backend_pdf - DEBUG - Writing TrueType font.\n",
      "Done with 51. Accuracy: 0.7204346009193481\n"
     ]
    }
   ],
   "execution_count": 182
  },
  {
   "metadata": {
    "ExecuteTime": {
     "end_time": "2025-04-18T20:29:23.174813Z",
     "start_time": "2025-04-18T20:29:23.140645Z"
    }
   },
   "cell_type": "code",
   "source": [
    "# Safe the results to results.pkl\n",
    "with open(\"results.pkl\", \"wb\") as f:\n",
    "    pickle.dump(elements, f)"
   ],
   "id": "135d0e12a45b534b",
   "outputs": [],
   "execution_count": 183
  },
  {
   "metadata": {
    "ExecuteTime": {
     "end_time": "2025-04-18T20:29:23.498637Z",
     "start_time": "2025-04-18T20:29:23.233659Z"
    }
   },
   "cell_type": "code",
   "source": [
    "score = calculate_care_score(elements)\n",
    "print(score)"
   ],
   "id": "b116da78c34ecd6b",
   "outputs": [
    {
     "ename": "ZeroDivisionError",
     "evalue": "float division by zero",
     "output_type": "error",
     "traceback": [
      "\u001B[0;31m---------------------------------------------------------------------------\u001B[0m",
      "\u001B[0;31mZeroDivisionError\u001B[0m                         Traceback (most recent call last)",
      "Cell \u001B[0;32mIn[184], line 1\u001B[0m\n\u001B[0;32m----> 1\u001B[0m score \u001B[38;5;241m=\u001B[39m \u001B[43mcalculate_care_score\u001B[49m\u001B[43m(\u001B[49m\u001B[43melements\u001B[49m\u001B[43m)\u001B[49m\n\u001B[1;32m      2\u001B[0m \u001B[38;5;28mprint\u001B[39m(score)\n",
      "File \u001B[0;32m~/Documents/GitHub/uia-master-thesis/src/lib/care/care.py:27\u001B[0m, in \u001B[0;36mcalculate_care_score\u001B[0;34m(events)\u001B[0m\n\u001B[1;32m     25\u001B[0m g \u001B[38;5;241m=\u001B[39m normal[\u001B[38;5;124m'\u001B[39m\u001B[38;5;124mlabel\u001B[39m\u001B[38;5;124m'\u001B[39m]\u001B[38;5;241m.\u001B[39mvalues\n\u001B[1;32m     26\u001B[0m p \u001B[38;5;241m=\u001B[39m normal[\u001B[38;5;124m'\u001B[39m\u001B[38;5;124mprediction\u001B[39m\u001B[38;5;124m'\u001B[39m]\u001B[38;5;241m.\u001B[39mvalues\n\u001B[0;32m---> 27\u001B[0m fb \u001B[38;5;241m=\u001B[39m \u001B[43mfunctions\u001B[49m\u001B[38;5;241;43m.\u001B[39;49m\u001B[43mcalculate_coverage\u001B[49m\u001B[43m(\u001B[49m\u001B[43mg\u001B[49m\u001B[43m,\u001B[49m\u001B[43m \u001B[49m\u001B[43mp\u001B[49m\u001B[43m)\u001B[49m\n\u001B[1;32m     28\u001B[0m fb_sum \u001B[38;5;241m+\u001B[39m\u001B[38;5;241m=\u001B[39m fb\n\u001B[1;32m     29\u001B[0m ws \u001B[38;5;241m=\u001B[39m functions\u001B[38;5;241m.\u001B[39mcalculate_earliness(p)\n",
      "File \u001B[0;32m~/Documents/GitHub/uia-master-thesis/src/lib/care/care_functions.py:15\u001B[0m, in \u001B[0;36mcalculate_coverage\u001B[0;34m(g, p)\u001B[0m\n\u001B[1;32m     14\u001B[0m \u001B[38;5;28;01mdef\u001B[39;00m \u001B[38;5;21mcalculate_coverage\u001B[39m(g, p):\n\u001B[0;32m---> 15\u001B[0m     fb_score \u001B[38;5;241m=\u001B[39m \u001B[43mutility\u001B[49m\u001B[38;5;241;43m.\u001B[39;49m\u001B[43mfb_score\u001B[49m\u001B[43m(\u001B[49m\u001B[43mg\u001B[49m\u001B[43m,\u001B[49m\u001B[43m \u001B[49m\u001B[43mp\u001B[49m\u001B[43m)\u001B[49m\n\u001B[1;32m     16\u001B[0m     \u001B[38;5;28;01mreturn\u001B[39;00m fb_score\n",
      "File \u001B[0;32m~/Documents/GitHub/uia-master-thesis/src/lib/care/utility.py:28\u001B[0m, in \u001B[0;36mfb_score\u001B[0;34m(g, p)\u001B[0m\n\u001B[1;32m     24\u001B[0m tp, fn, fp, tn \u001B[38;5;241m=\u001B[39m get_counts(g, p)\n\u001B[1;32m     26\u001B[0m \u001B[38;5;66;03m# correct formula taken from\u001B[39;00m\n\u001B[1;32m     27\u001B[0m \u001B[38;5;66;03m# https://papers.nips.cc/paper_files/paper/2015/file/33e8075e9970de0cfea955afd4644bb2-Paper.pdf\u001B[39;00m\n\u001B[0;32m---> 28\u001B[0m \u001B[38;5;28;01mreturn\u001B[39;00m \u001B[43m(\u001B[49m\u001B[38;5;241;43m1\u001B[39;49m\u001B[43m \u001B[49m\u001B[38;5;241;43m+\u001B[39;49m\u001B[43m \u001B[49m\u001B[43mb\u001B[49m\u001B[43m \u001B[49m\u001B[38;5;241;43m*\u001B[39;49m\u001B[38;5;241;43m*\u001B[39;49m\u001B[43m \u001B[49m\u001B[38;5;241;43m2\u001B[39;49m\u001B[43m)\u001B[49m\u001B[43m \u001B[49m\u001B[38;5;241;43m*\u001B[39;49m\u001B[43m \u001B[49m\u001B[43m(\u001B[49m\u001B[43mtp\u001B[49m\u001B[43m \u001B[49m\u001B[38;5;241;43m+\u001B[39;49m\u001B[43m \u001B[49m\u001B[43mtn\u001B[49m\u001B[43m)\u001B[49m\u001B[43m \u001B[49m\u001B[38;5;241;43m/\u001B[39;49m\u001B[43m \u001B[49m\u001B[43m(\u001B[49m\u001B[43m(\u001B[49m\u001B[38;5;241;43m1\u001B[39;49m\u001B[43m \u001B[49m\u001B[38;5;241;43m+\u001B[39;49m\u001B[43m \u001B[49m\u001B[43mb\u001B[49m\u001B[43m \u001B[49m\u001B[38;5;241;43m*\u001B[39;49m\u001B[38;5;241;43m*\u001B[39;49m\u001B[43m \u001B[49m\u001B[38;5;241;43m2\u001B[39;49m\u001B[43m)\u001B[49m\u001B[43m \u001B[49m\u001B[38;5;241;43m*\u001B[39;49m\u001B[43m \u001B[49m\u001B[43m(\u001B[49m\u001B[43mtp\u001B[49m\u001B[43m \u001B[49m\u001B[38;5;241;43m+\u001B[39;49m\u001B[43m \u001B[49m\u001B[43mtn\u001B[49m\u001B[43m)\u001B[49m\u001B[43m \u001B[49m\u001B[38;5;241;43m+\u001B[39;49m\u001B[43m \u001B[49m\u001B[43mfp\u001B[49m\u001B[43m \u001B[49m\u001B[38;5;241;43m+\u001B[39;49m\u001B[43m \u001B[49m\u001B[43mb\u001B[49m\u001B[43m \u001B[49m\u001B[38;5;241;43m*\u001B[39;49m\u001B[38;5;241;43m*\u001B[39;49m\u001B[43m \u001B[49m\u001B[38;5;241;43m2\u001B[39;49m\u001B[43m \u001B[49m\u001B[38;5;241;43m*\u001B[39;49m\u001B[43m \u001B[49m\u001B[43mfn\u001B[49m\u001B[43m)\u001B[49m\n",
      "\u001B[0;31mZeroDivisionError\u001B[0m: float division by zero"
     ]
    }
   ],
   "execution_count": 184
  },
  {
   "metadata": {
    "ExecuteTime": {
     "end_time": "2025-04-18T20:29:23.506853Z",
     "start_time": "2025-04-07T21:29:44.592106Z"
    }
   },
   "cell_type": "code",
   "source": "",
   "id": "e3277735f7fc3202",
   "outputs": [
    {
     "data": {
      "text/plain": [
       "<Figure size 640x480 with 2 Axes>"
      ],
      "image/png": "[encoded data removed]"
     },
     "metadata": {},
     "output_type": "display_data"
    }
   ],
   "execution_count": 79
  },
  {
   "metadata": {
    "ExecuteTime": {
     "end_time": "2025-04-18T20:29:23.507454Z",
     "start_time": "2025-04-07T21:29:44.672373Z"
    }
   },
   "cell_type": "code",
   "source": "",
   "id": "eafa63eb09d0c468",
   "outputs": [],
   "execution_count": null
  }
 ],
 "metadata": {
  "kernelspec": {
   "display_name": "Python 3",
   "language": "python",
   "name": "python3"
  },
  "language_info": {
   "codemirror_mode": {
    "name": "ipython",
    "version": 2
   },
   "file_extension": ".py",
   "mimetype": "text/x-python",
   "name": "python",
   "nbconvert_exporter": "python",
   "pygments_lexer": "ipython2",
   "version": "2.7.6"
  }
 },
 "nbformat": 4,
 "nbformat_minor": 5
}
