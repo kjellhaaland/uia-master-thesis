{
 "cells": [
  {
   "metadata": {},
   "cell_type": "markdown",
   "source": [
    "## Experiment description\n",
    "\n",
    "The goal of this experiment is to train a TM classifier trained on 40% of the data available in Wind Farm C, and then evaluate the model on the remaining 60% of the data. The model will be evaluated on the accuracy score."
   ],
   "id": "4119dfa93395eeea"
  },
  {
   "metadata": {
    "ExecuteTime": {
     "end_time": "2025-04-23T15:12:30.415080Z",
     "start_time": "2025-04-23T15:12:30.348366Z"
    }
   },
   "cell_type": "code",
   "source": [
    "# Import all required libraries\n",
    "\n",
    "import numpy as np\n",
    "import pandas as pd\n",
    "import pickle\n",
    "import os\n",
    "\n",
    "from tmu.models.classification.vanilla_classifier import TMClassifier"
   ],
   "id": "8baea2e564ddf695",
   "outputs": [
    {
     "name": "stdout",
     "output_type": "stream",
     "text": [
      "2025-04-23 17:12:30,398 - tmu.util.cuda_profiler - WARNING - Could not import pycuda: No module named 'pycuda'\n",
      "2025-04-23 17:12:30,398 - tmu.clause_bank.clause_bank_cuda - ERROR - No module named 'pycuda'\n",
      "Traceback (most recent call last):\n",
      "  File \"/Users/kjellhaaland/Documents/GitHub/uia-master-thesis/.venv/lib/python3.12/site-packages/tmu/clause_bank/clause_bank_cuda.py\", line 41, in <module>\n",
      "    from pycuda._driver import Device, Context\n",
      "ModuleNotFoundError: No module named 'pycuda'\n",
      "2025-04-23 17:12:30,399 - tmu.clause_bank.clause_bank_cuda - WARNING - Could not import pycuda. This indicates that it is not installed! A possible fix is to run 'pip install pycuda'. Fallback to CPU ClauseBanks.\n"
     ]
    }
   ],
   "execution_count": 1
  },
  {
   "metadata": {
    "ExecuteTime": {
     "end_time": "2025-04-23T15:12:30.429535Z",
     "start_time": "2025-04-23T15:12:30.426783Z"
    }
   },
   "cell_type": "code",
   "source": [
    "os.makedirs(\"models\", exist_ok=True)\n",
    "os.makedirs(\"logs\", exist_ok=True)"
   ],
   "id": "9346c37274c96892",
   "outputs": [],
   "execution_count": 2
  },
  {
   "metadata": {
    "ExecuteTime": {
     "end_time": "2025-04-23T15:12:30.518696Z",
     "start_time": "2025-04-23T15:12:30.513966Z"
    }
   },
   "cell_type": "code",
   "source": [
    "wind_farm = \"A\"\n",
    "train_datasets = np.array([68, 22, 72, 73, 0])\n",
    "test_datasets = np.array([26, 40])"
   ],
   "id": "94385f556b07c8a1",
   "outputs": [],
   "execution_count": 3
  },
  {
   "metadata": {
    "ExecuteTime": {
     "end_time": "2025-04-23T15:12:30.533181Z",
     "start_time": "2025-04-23T15:12:30.527959Z"
    }
   },
   "cell_type": "code",
   "source": [
    "## Helper functions for saving the model and accuracy\n",
    "\n",
    "# Helper function to save the model\n",
    "def save_model(model, filename):\n",
    "    with open(filename, \"wb\") as f:\n",
    "        pickle.dump(model, f)\n",
    "\n",
    "\n",
    "# Helper function to save the accuracy\n",
    "def save_accuracy(epoch, accuracy, tp, tn, fp, fn):\n",
    "    with open(\"logs/accuracy.txt\", \"a\") as f:\n",
    "        f.write(f\"{epoch},{accuracy},{tp},{tn},{fp},{fn}\\n\")\n",
    "\n",
    "\n",
    "def load_train_dataset(farm, event_id):\n",
    "    X = np.loadtxt(f\"./data_train/X_{farm}_{event_id}.txt\", dtype=np.uint32)\n",
    "    X = np.array(X).astype(np.uint32)\n",
    "    return X\n",
    "\n",
    "\n",
    "def load_train_labels(farm, event_id):\n",
    "    # Load dataframe from file\n",
    "    df = pd.read_csv(f\"./data_train/y_{farm}_{event_id}.csv\")\n",
    "\n",
    "    labels = df['label'].values\n",
    "    status_ids = df['status_type_id'].values\n",
    "    train_test = df['train_test'].values\n",
    "\n",
    "    return np.array(labels).astype(np.uint32)  #, np.array(status_ids).astype(np.uint32), train_test\n",
    "\n",
    "\n",
    "def load_test_dataset(farm, event_id):\n",
    "    X = np.loadtxt(f\"./data_test/X_{farm}_{event_id}.txt\", dtype=np.uint32)\n",
    "    X = np.array(X).astype(np.uint32)\n",
    "    return X\n",
    "\n",
    "\n",
    "def load_test_labels(farm, event_id):\n",
    "    # Load dataframe from file\n",
    "    df = pd.read_csv(f\"./data_test/y_{farm}_{event_id}.csv\")\n",
    "\n",
    "    labels = df['label'].values\n",
    "    status_ids = df['status_type_id'].values\n",
    "    train_test = df['train_test'].values\n",
    "\n",
    "    return np.array(labels).astype(np.uint32)  #, np.array(status_ids).astype(np.uint32), train_test\n",
    "\n",
    "\n",
    "def get_train_dataset():\n",
    "    # Load all train datasets and concat them\n",
    "    dataset = np.concatenate([load_train_dataset(wind_farm, dataset) for dataset in train_datasets])\n",
    "    labels = np.concatenate([load_train_labels(wind_farm, dataset) for dataset in train_datasets])\n",
    "    #labels = [x for (x, y, z) in labels]\n",
    "    return dataset, labels\n",
    "\n",
    "\n",
    "def get_test_dataset():\n",
    "    # Load all train datasets and concat them\n",
    "    dataset = np.concatenate([load_train_dataset(wind_farm, dataset) for dataset in test_datasets])\n",
    "    labels = np.concatenate([load_train_labels(wind_farm, dataset) for dataset in test_datasets])\n",
    "    #labels = [x for (x, y, z) in labels]\n",
    "    return dataset, labels"
   ],
   "id": "8cb88a4abbf812e8",
   "outputs": [],
   "execution_count": 4
  },
  {
   "metadata": {
    "ExecuteTime": {
     "end_time": "2025-04-23T15:12:35.460760Z",
     "start_time": "2025-04-23T15:12:30.540976Z"
    }
   },
   "cell_type": "code",
   "source": [
    "# Number of features\n",
    "\n",
    "(X_train, y_train) = get_train_dataset()\n",
    "(X_test, y_test) = get_test_dataset()\n",
    "\n",
    "print(f\"Train dataset shape: {X_train.shape}\")\n",
    "print(f\"Test dataset shape: {X_test.shape}\")\n"
   ],
   "id": "4bf0fba60595ccb7",
   "outputs": [
    {
     "name": "stdout",
     "output_type": "stream",
     "text": [
      "Train dataset shape: (30000, 10000)\n",
      "Test dataset shape: (12000, 2000)\n"
     ]
    }
   ],
   "execution_count": 5
  },
  {
   "metadata": {
    "jupyter": {
     "is_executing": true
    },
    "ExecuteTime": {
     "start_time": "2025-04-23T15:12:35.536566Z"
    }
   },
   "cell_type": "code",
   "source": [
    "epochs = 100\n",
    "platform = \"CPU\"\n",
    "\n",
    "tm = TMClassifier(\n",
    "    number_of_clauses=2000,\n",
    "    T=800,\n",
    "    s=15.0,\n",
    "    max_included_literals=180,\n",
    "    weighted_clauses=True,\n",
    "    platform=platform,\n",
    "    batch_size=250,\n",
    ")\n",
    "\n",
    "best_accuracy = 0\n",
    "\n",
    "print(f\"Running {TMClassifier} for {epochs} epochs\")\n",
    "\n",
    "for epoch in range(epochs):\n",
    "\n",
    "    tm.fit(X_train, y_train)\n",
    "\n",
    "    pred = tm.predict(X_test)\n",
    "\n",
    "    pred_0s = np.count_nonzero(pred == 0)\n",
    "    pred_1s = np.count_nonzero(pred == 1)\n",
    "\n",
    "    print(f\"Predicted 0s: {pred_0s}, Predicted 1s: {pred_1s}\")\n",
    "\n",
    "    accuracy = np.sum(pred == y_test) / len(y_test)\n",
    "\n",
    "    # the number of false positives based on g and p\n",
    "    fp = np.sum((pred == 1) & (y_test == 0))\n",
    "\n",
    "    # the number of true negatives based on g and p\n",
    "    tn = np.sum((pred == 0) & (y_test == 0))\n",
    "\n",
    "    # the number of true positives based on g and p\n",
    "    tp = np.sum((pred == 1) & (y_test == 1))\n",
    "\n",
    "    # the number of false negatives based on g and p\n",
    "    fn = np.sum((pred == 0) & (y_test == 1))\n",
    "\n",
    "    print(f\"Accuracy = {accuracy:.5f}, TP = {tp}, TN = {tn}, FP = {fp}, FN = {fn}\")\n",
    "\n",
    "    save_accuracy(epoch, accuracy, tp, tn, fp, fn)\n",
    "\n",
    "    # Print every 20 epochs\n",
    "    #if (epoch + 1) % 20 == 0:\n",
    "    print(f\"Epoch: {epoch + 1}, Accuracy: {accuracy:.5f}\")\n",
    "\n",
    "    if accuracy > best_accuracy:\n",
    "        best_accuracy = accuracy\n",
    "\n",
    "        print(\"Saving model\")\n",
    "        save_model(tm, \"models/best.pkl\")\n"
   ],
   "id": "a664e28d460efae1",
   "outputs": [
    {
     "name": "stdout",
     "output_type": "stream",
     "text": [
      "Running <class 'tmu.models.classification.vanilla_classifier.TMClassifier'> for 100 epochs\n"
     ]
    }
   ],
   "execution_count": null
  }
 ],
 "metadata": {
  "kernelspec": {
   "display_name": "Python 3",
   "language": "python",
   "name": "python3"
  },
  "language_info": {
   "codemirror_mode": {
    "name": "ipython",
    "version": 2
   },
   "file_extension": ".py",
   "mimetype": "text/x-python",
   "name": "python",
   "nbconvert_exporter": "python",
   "pygments_lexer": "ipython2",
   "version": "2.7.6"
  }
 },
 "nbformat": 4,
 "nbformat_minor": 5
}
