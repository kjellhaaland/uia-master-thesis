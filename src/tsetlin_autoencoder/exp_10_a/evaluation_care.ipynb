{
 "cells": [
  {
   "cell_type": "code",
   "id": "initial_id",
   "metadata": {
    "collapsed": true,
    "ExecuteTime": {
     "end_time": "2025-04-16T19:34:20.846567Z",
     "start_time": "2025-04-16T19:34:20.836741Z"
    }
   },
   "source": [
    "import numpy as np\n",
    "import seaborn as sns\n",
    "import matplotlib.pyplot as plt\n",
    "import pandas as pd\n",
    "import os\n",
    "\n",
    "import pickle\n",
    "\n",
    "from tmu.models.autoencoder.autoencoder import TMAutoEncoder\n",
    "from src.lib.care import calculate_care_score"
   ],
   "outputs": [],
   "execution_count": 10
  },
  {
   "metadata": {
    "ExecuteTime": {
     "end_time": "2025-04-16T19:34:20.862115Z",
     "start_time": "2025-04-16T19:34:20.857739Z"
    }
   },
   "cell_type": "code",
   "source": [
    "# Create folder figures_1 if it does not exist\n",
    "os.makedirs(\"figures_1\", exist_ok=True)"
   ],
   "id": "12722105cfb66efa",
   "outputs": [],
   "execution_count": 11
  },
  {
   "metadata": {
    "ExecuteTime": {
     "end_time": "2025-04-16T19:34:20.879226Z",
     "start_time": "2025-04-16T19:34:20.874131Z"
    }
   },
   "cell_type": "code",
   "source": [
    "def load_test_dataset(farm, event_id):\n",
    "    X = np.loadtxt(f\"./data_test/X_{farm}_{event_id}.txt\", dtype=np.uint32)\n",
    "    X = np.array(X).astype(np.uint32)\n",
    "    return X\n",
    "\n",
    "\n",
    "def load_thresh_dataset(farm, event_id):\n",
    "    X = np.loadtxt(f\"./data_test/X_{farm}_{event_id}.txt\", dtype=np.uint32)\n",
    "    X = np.array(X).astype(np.uint32)\n",
    "\n",
    "    # Take the first 5000 rows\n",
    "    X = X[:10000]\n",
    "    return X\n",
    "\n",
    "\n",
    "def load_test_labels(farm, event_id):\n",
    "    # Load dataframe from file\n",
    "    df = pd.read_csv(f\"./data_test/y_{farm}_{event_id}.csv\")\n",
    "\n",
    "    labels = df['label'].values\n",
    "    status_ids = df['status_type_id'].values\n",
    "    train_test = df['train_test'].values\n",
    "\n",
    "    return np.array(labels).astype(np.uint32), np.array(status_ids).astype(np.uint32), train_test\n",
    "\n",
    "\n",
    "def load_test_label(farm, event_id):\n",
    "    event_info = pd.read_csv(f\"../../../data/care_to_compare/Wind Farm {farm}/event_info.csv\", delimiter=';')\n",
    "\n",
    "    metadata = event_info[event_info['event_id'] == event_id]\n",
    "\n",
    "    event_label = metadata[\"event_label\"].values[0]\n",
    "\n",
    "    return False if event_label == \"anomaly\" else True"
   ],
   "id": "9afef311a40435c8",
   "outputs": [],
   "execution_count": 12
  },
  {
   "metadata": {
    "ExecuteTime": {
     "end_time": "2025-04-16T19:34:20.896968Z",
     "start_time": "2025-04-16T19:34:20.892426Z"
    }
   },
   "cell_type": "code",
   "source": [
    "def calculate_accuracy(labels, predictions):\n",
    "    # Calculate the accuracy\n",
    "    accuracy = np.sum(labels == predictions) / len(labels)\n",
    "\n",
    "    return accuracy\n",
    "\n",
    "\n",
    "def calculate_threshold(X, pred):\n",
    "    losses = [hamming_loss(X[i], pred[i]) for i in range(len(X))]\n",
    "\n",
    "    # Set the threshold as the lowest 1% of the losses\n",
    "    threshold = np.percentile(losses, 90)\n",
    "\n",
    "    return threshold\n"
   ],
   "id": "4a1549d328c78582",
   "outputs": [],
   "execution_count": 13
  },
  {
   "metadata": {
    "ExecuteTime": {
     "end_time": "2025-04-16T19:34:20.931707Z",
     "start_time": "2025-04-16T19:34:20.924993Z"
    }
   },
   "cell_type": "code",
   "source": [
    "def load_model(filename) -> TMAutoEncoder:\n",
    "    with open(filename, \"rb\") as f:\n",
    "        model = pickle.load(f)\n",
    "\n",
    "    return model"
   ],
   "id": "652d72a575fd0627",
   "outputs": [],
   "execution_count": 14
  },
  {
   "metadata": {
    "ExecuteTime": {
     "end_time": "2025-04-16T19:34:20.969047Z",
     "start_time": "2025-04-16T19:34:20.964085Z"
    }
   },
   "cell_type": "code",
   "source": [
    "def hamming_loss(pred, X_test):\n",
    "    \"\"\"\n",
    "    Computes the Hamming loss between predicted and ground truth binary arrays.\n",
    "\n",
    "    Parameters:\n",
    "    - pred (numpy array): Binary predictions of shape (n_samples, n_bits).\n",
    "    - X_test (numpy array): Ground truth binary values of shape (n_samples, n_bits).\n",
    "\n",
    "    Returns:\n",
    "    - float: Hamming loss (fraction of incorrect bits).\n",
    "    \"\"\"\n",
    "    assert pred.shape == X_test.shape, \"Shapes of pred and X_test must match\"\n",
    "\n",
    "    # Compute the number of differing bits\n",
    "    incorrect_bits = np.sum(pred != X_test)\n",
    "\n",
    "    # Total number of bits\n",
    "    total_bits = np.prod(X_test.shape)\n",
    "\n",
    "    # Hamming loss is the fraction of incorrect bits\n",
    "    return incorrect_bits / total_bits"
   ],
   "id": "e362b0e33bf545cd",
   "outputs": [],
   "execution_count": 15
  },
  {
   "metadata": {
    "ExecuteTime": {
     "end_time": "2025-04-16T19:34:21.036529Z",
     "start_time": "2025-04-16T19:34:21.015750Z"
    }
   },
   "cell_type": "code",
   "source": [
    "def reconstruction_accuracy(X, pred):\n",
    "    correct = np.sum(X == pred)\n",
    "    accuracy = correct / len(X)\n",
    "    return accuracy\n",
    "\n",
    "\n",
    "def plot_mse(X, y, pred, name, threshold):\n",
    "    # Compute MSE for each row\n",
    "    mse_per_row = [hamming_loss(X[i], pred[i]) for i in range(len(X))]\n",
    "\n",
    "    # Plot SNS plot of all MSE values\n",
    "    plt.figure(figsize=(8, 4))\n",
    "    sns.histplot(mse_per_row, bins=50, kde=True, color='b')\n",
    "\n",
    "    # Add a threshold line\n",
    "    plt.axvline(threshold, color='r', linestyle='--')\n",
    "\n",
    "    # Save the plot\n",
    "    plt.savefig(f\"./figures_1/plot_reconstruction_acc_{name}.png\")\n",
    "\n",
    "    plt.close()\n",
    "\n",
    "\n",
    "def plot_predictions(X, y, z, pred, p, name, threshold):\n",
    "    x = np.arange(0, len(X))  # Time or index\n",
    "    r = [hamming_loss(X[i], pred[i]) for i in range(len(X))]\n",
    "\n",
    "    anomalies = np.array([1 if (p[i] == 1 and z[i] == 0) else 0 for i in range(len(X))])\n",
    "\n",
    "    y_mapped = np.where(y == 0, -0.2, -0.1)\n",
    "    a_mapped = np.where(anomalies == 0, -0.4, -0.3)\n",
    "    p_mapped = np.where(p == 0, -0.6, -0.5)\n",
    "    z_mapped = np.where(np.logical_or(z == 0, z == 2), -0.8, -0.7)\n",
    "\n",
    "    # Create a figure with two subplots (1 row, 2 columns)\n",
    "    fig, axes = plt.subplots(2, 1, figsize=(12, 10))\n",
    "\n",
    "    # First chart\n",
    "    # If z is 0 or 2, then the color is orange, if y[i] is 1, then the color is red, otherwise blue\n",
    "    colors = ['red' if y[i] == 1 else 'blue' if z[i] == 0 or z[i] == 2 else 'orange' for i in range(len(z))]\n",
    "\n",
    "    axes[0].scatter(x, r, label=\"Reconstruction Loss\", c=colors, alpha=0.7)\n",
    "    axes[0].axhline(threshold, color='red', linestyle='--', label=\"Threshold\")\n",
    "\n",
    "    axes[0].set_title(\"Reconstruction Loss\")\n",
    "    axes[0].set_xlabel(\"Time\")\n",
    "    axes[0].set_ylabel(\"Reconstruction Loss\")\n",
    "    axes[0].legend()\n",
    "\n",
    "    # Second chart\n",
    "    axes[1].plot(x, y_mapped, label=\"Actual Anomalies (y)\", color='red', linestyle='-', linewidth=2)\n",
    "    axes[1].plot(x, a_mapped, label=\"Detected Anomalies (a)\", color='purple', linestyle='-', linewidth=2)\n",
    "    axes[1].plot(x, p_mapped, label=\"Predicted Anomalies (p)\", color='green', linestyle='-', linewidth=2)\n",
    "    axes[1].plot(x, z_mapped, label=\"Status Type Id (z)\", color='orange', linestyle='-', linewidth=2)\n",
    "\n",
    "    axes[1].axhline(y=-0.1, color='black', linestyle='dotted', linewidth=1, alpha=0.5)\n",
    "    axes[1].axhline(y=-0.2, color='black', linestyle='dotted', linewidth=1, alpha=0.5)\n",
    "    axes[1].axhline(y=-0.3, color='black', linestyle='dotted', linewidth=1, alpha=0.5)\n",
    "    axes[1].axhline(y=-0.4, color='black', linestyle='dotted', linewidth=1, alpha=0.5)\n",
    "    axes[1].axhline(y=-0.5, color='black', linestyle='dotted', linewidth=1, alpha=0.5)\n",
    "    axes[1].axhline(y=-0.6, color='black', linestyle='dotted', linewidth=1, alpha=0.5)\n",
    "    axes[1].axhline(y=-0.7, color='black', linestyle='dotted', linewidth=1, alpha=0.5)\n",
    "    axes[1].axhline(y=-0.8, color='black', linestyle='dotted', linewidth=1, alpha=0.5)\n",
    "\n",
    "    axes[1].set_ylim(-0.9, 0)\n",
    "\n",
    "    axes[1].set_title(\"Anomalies\")\n",
    "    axes[1].legend()\n",
    "\n",
    "    # Adjust layout\n",
    "    plt.tight_layout()\n",
    "    plt.grid(True)\n",
    "\n",
    "    # plt.show()\n",
    "\n",
    "    # Save the plot\n",
    "    plt.savefig(f\"./figures_1/plot_detections_{name}.png\")\n",
    "\n",
    "    plt.close()\n",
    "\n",
    "\n",
    "def get_predictions(X, y, z, name, tm, threshold):\n",
    "    pred = tm.predict(X)\n",
    "\n",
    "    # For each row in pred, if the MSE is greater than the threshold, then it is an anomaly\n",
    "    losses = [hamming_loss(X[i], pred[i]) for i in range(len(X))]\n",
    "\n",
    "    X_predictions = np.array([1 if losses[i] > threshold else 0 for i in range(len(X))])\n",
    "\n",
    "    # Accuracy\n",
    "    accuracy = calculate_accuracy(y, X_predictions)\n",
    "\n",
    "    plot_mse(X, y, pred, name, threshold)\n",
    "    plot_predictions(X, y, z, pred, X_predictions, name, threshold)\n",
    "\n",
    "    return X_predictions, accuracy"
   ],
   "id": "e96b8166de1ca4ee",
   "outputs": [],
   "execution_count": 16
  },
  {
   "metadata": {
    "ExecuteTime": {
     "end_time": "2025-04-16T19:34:21.189571Z",
     "start_time": "2025-04-16T19:34:21.091017Z"
    }
   },
   "cell_type": "code",
   "source": [
    "test_datasets = [68, 22, 72, 73, 0, 26, 40, 42, 10, 45, 84, 25, 69, 13, 24, 3, 17, 38, 71, 14, 92, 51]\n",
    "\n",
    "tm_autoencoder = load_model(\"models/latest_2.pkl\")\n",
    "\n",
    "#threshold = calculate_threshold(X_thresh, X_thresh_pred)\n",
    "threshold = 0.50\n",
    "\n",
    "print(f\"Threshold: {threshold}\")\n",
    "\n",
    "\n",
    "def run_prediction(farm, dataset):\n",
    "    X = load_test_dataset(farm, dataset)\n",
    "    labels, status_ids, train_test = load_test_labels(farm, dataset)\n",
    "\n",
    "    is_normal = load_test_label(farm, dataset)\n",
    "\n",
    "    predictions, accuracy = get_predictions(X, labels, status_ids, f\"{farm}_{dataset}\", tm_autoencoder, threshold)\n",
    "\n",
    "    return X, labels, status_ids, train_test, is_normal, predictions, accuracy\n"
   ],
   "id": "986c2e3634919b34",
   "outputs": [
    {
     "name": "stdout",
     "output_type": "stream",
     "text": [
      "Threshold: 0.5\n"
     ]
    }
   ],
   "execution_count": 17
  },
  {
   "metadata": {
    "ExecuteTime": {
     "end_time": "2025-04-16T19:42:58.499552Z",
     "start_time": "2025-04-16T19:34:21.270148Z"
    }
   },
   "cell_type": "code",
   "source": [
    "# Create a dataframe with status_type_id;label;prediction\n",
    "elements = []\n",
    "\n",
    "for set in test_datasets:\n",
    "    res = run_prediction(\"A\", set)\n",
    "\n",
    "    result_df = pd.DataFrame({\n",
    "        'status_type_id': res[2],\n",
    "        'label': res[1],\n",
    "        'prediction': res[5],\n",
    "        'train_test': res[3],\n",
    "    })\n",
    "\n",
    "    print(f\"Done with {set}. Accuracy: {res[6]}\")\n",
    "\n",
    "    elements.append({'dataset': set, 'normal': res[4], 'data': result_df, 'accuracy': res[6]})"
   ],
   "id": "70e024b9cc85e8c9",
   "outputs": [
    {
     "name": "stdout",
     "output_type": "stream",
     "text": [
      "Done with 68. Accuracy: 0.40217864923747276\n",
      "Done with 22. Accuracy: 0.3365300784655623\n",
      "Done with 72. Accuracy: 0.5061973227565691\n",
      "Done with 73. Accuracy: 0.42799305957200695\n",
      "Done with 0. Accuracy: 0.38949594642227703\n",
      "Done with 26. Accuracy: 0.4621790423317141\n",
      "Done with 40. Accuracy: 0.23536560664371076\n",
      "Done with 42. Accuracy: 0.5578016424510424\n",
      "Done with 10. Accuracy: 0.5240346729708432\n",
      "Done with 45. Accuracy: 0.43194444444444446\n",
      "Done with 84. Accuracy: 0.40848990953375086\n",
      "Done with 25. Accuracy: 0.7408171687990095\n",
      "Done with 69. Accuracy: 0.561897416120324\n",
      "Done with 13. Accuracy: 0.5978230533072844\n",
      "Done with 24. Accuracy: 0.7313927781871776\n",
      "Done with 3. Accuracy: 0.7277407631738341\n",
      "Done with 17. Accuracy: 0.6037396619920892\n",
      "Done with 38. Accuracy: 0.7558962264150944\n",
      "Done with 71. Accuracy: 0.6659861167823602\n",
      "Done with 14. Accuracy: 0.8290373487638085\n",
      "Done with 92. Accuracy: 0.48647125140924463\n",
      "Done with 51. Accuracy: 0.6435436690346845\n"
     ]
    }
   ],
   "execution_count": 18
  },
  {
   "metadata": {
    "ExecuteTime": {
     "end_time": "2025-04-16T19:42:58.558820Z",
     "start_time": "2025-04-16T19:42:58.547439Z"
    }
   },
   "cell_type": "code",
   "source": [
    "# Safe the results to results.pkl\n",
    "with open(\"results_full_99.pkl\", \"wb\") as f:\n",
    "    pickle.dump(elements, f)"
   ],
   "id": "135d0e12a45b534b",
   "outputs": [],
   "execution_count": 19
  },
  {
   "metadata": {
    "ExecuteTime": {
     "end_time": "2025-04-16T19:53:22.411259Z",
     "start_time": "2025-04-16T19:52:10.616778Z"
    }
   },
   "cell_type": "code",
   "source": [
    "import pickle\n",
    "import importlib\n",
    "import src.lib.care as care\n",
    "\n",
    "importlib.reload(care)\n",
    "\n",
    "# Load elements from results_full_99.pkl\n",
    "with open(\"results_full_99.pkl\", \"rb\") as f:\n",
    "    elements = pickle.load(f)\n",
    "\n",
    "elements_to_filter_out = [45, 84]\n",
    "elements_to_process = [elem for elem in elements if elem['dataset'] not in elements_to_filter_out]\n",
    "\n",
    "score = care.calculate_care_score(elements_to_process)\n",
    "print(score)"
   ],
   "id": "aa6756d8794bc14c",
   "outputs": [
    {
     "name": "stdout",
     "output_type": "stream",
     "text": [
      "0.6571183687312054\n"
     ]
    }
   ],
   "execution_count": 27
  },
  {
   "metadata": {
    "ExecuteTime": {
     "end_time": "2025-04-16T19:42:58.758719Z",
     "start_time": "2025-04-16T13:44:25.933612Z"
    }
   },
   "cell_type": "code",
   "source": [
    "# Trained on only two 5 bit datasets: 0.6608247996790653\n",
    "# Trained on all 5 bit datasets: 0.6661408285906466\n",
    "\n",
    "# 0.7009776086993085"
   ],
   "id": "12adca5fe3b5d6b6",
   "outputs": [],
   "execution_count": 14
  }
 ],
 "metadata": {
  "kernelspec": {
   "display_name": "Python 3",
   "language": "python",
   "name": "python3"
  },
  "language_info": {
   "codemirror_mode": {
    "name": "ipython",
    "version": 2
   },
   "file_extension": ".py",
   "mimetype": "text/x-python",
   "name": "python",
   "nbconvert_exporter": "python",
   "pygments_lexer": "ipython2",
   "version": "2.7.6"
  }
 },
 "nbformat": 4,
 "nbformat_minor": 5
}
