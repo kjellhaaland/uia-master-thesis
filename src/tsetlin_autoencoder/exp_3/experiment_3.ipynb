{
 "cells": [
  {
   "cell_type": "code",
   "id": "e28183c3-d395-4a3a-8eb4-dba55cb1d527",
   "metadata": {
    "ExecuteTime": {
     "end_time": "2025-02-24T23:25:57.787284Z",
     "start_time": "2025-02-24T23:25:45.686738Z"
    }
   },
   "source": [
    "%pip install git+https://github.com/cair/tmu.git\n",
    "%pip install numpy==1.26.4"
   ],
   "outputs": [
    {
     "name": "stdout",
     "output_type": "stream",
     "text": [
      "Collecting git+https://github.com/cair/tmu.git\r\n",
      "  Cloning https://github.com/cair/tmu.git to /private/var/folders/3f/ltvwyfm53nb435_nt2n_7b9h0000gn/T/pip-req-build-sp8ij1xw\r\n",
      "  Running command git clone --filter=blob:none --quiet https://github.com/cair/tmu.git /private/var/folders/3f/ltvwyfm53nb435_nt2n_7b9h0000gn/T/pip-req-build-sp8ij1xw\r\n",
      "  Resolved https://github.com/cair/tmu.git to commit fd3d39f7cb0b28393c2d8463a6d93b6d363d487f\r\n",
      "  Installing build dependencies ... \u001B[?25ldone\r\n",
      "\u001B[?25h  Getting requirements to build wheel ... \u001B[?25ldone\r\n",
      "\u001B[?25h  Preparing metadata (pyproject.toml) ... \u001B[?25ldone\r\n",
      "\u001B[?25hRequirement already satisfied: cffi>=1.15.0 in /Users/kjellhaaland/Documents/GitHub/uia-master-thesis/.venv/lib/python3.12/site-packages (from tmu==0.8.3) (1.17.1)\r\n",
      "Requirement already satisfied: numpy in /Users/kjellhaaland/Documents/GitHub/uia-master-thesis/.venv/lib/python3.12/site-packages (from tmu==0.8.3) (1.26.4)\r\n",
      "Requirement already satisfied: pandas in /Users/kjellhaaland/Documents/GitHub/uia-master-thesis/.venv/lib/python3.12/site-packages (from tmu==0.8.3) (2.2.3)\r\n",
      "Requirement already satisfied: scikit-learn in /Users/kjellhaaland/Documents/GitHub/uia-master-thesis/.venv/lib/python3.12/site-packages (from tmu==0.8.3) (1.5.2)\r\n",
      "Requirement already satisfied: tqdm in /Users/kjellhaaland/Documents/GitHub/uia-master-thesis/.venv/lib/python3.12/site-packages (from tmu==0.8.3) (4.67.0)\r\n",
      "Requirement already satisfied: requests in /Users/kjellhaaland/Documents/GitHub/uia-master-thesis/.venv/lib/python3.12/site-packages (from tmu==0.8.3) (2.32.3)\r\n",
      "Requirement already satisfied: xxhash in /Users/kjellhaaland/Documents/GitHub/uia-master-thesis/.venv/lib/python3.12/site-packages (from tmu==0.8.3) (3.5.0)\r\n",
      "Requirement already satisfied: pycparser in /Users/kjellhaaland/Documents/GitHub/uia-master-thesis/.venv/lib/python3.12/site-packages (from cffi>=1.15.0->tmu==0.8.3) (2.22)\r\n",
      "Requirement already satisfied: python-dateutil>=2.8.2 in /Users/kjellhaaland/Documents/GitHub/uia-master-thesis/.venv/lib/python3.12/site-packages (from pandas->tmu==0.8.3) (2.9.0.post0)\r\n",
      "Requirement already satisfied: pytz>=2020.1 in /Users/kjellhaaland/Documents/GitHub/uia-master-thesis/.venv/lib/python3.12/site-packages (from pandas->tmu==0.8.3) (2024.2)\r\n",
      "Requirement already satisfied: tzdata>=2022.7 in /Users/kjellhaaland/Documents/GitHub/uia-master-thesis/.venv/lib/python3.12/site-packages (from pandas->tmu==0.8.3) (2024.2)\r\n",
      "Requirement already satisfied: charset-normalizer<4,>=2 in /Users/kjellhaaland/Documents/GitHub/uia-master-thesis/.venv/lib/python3.12/site-packages (from requests->tmu==0.8.3) (3.4.0)\r\n",
      "Requirement already satisfied: idna<4,>=2.5 in /Users/kjellhaaland/Documents/GitHub/uia-master-thesis/.venv/lib/python3.12/site-packages (from requests->tmu==0.8.3) (3.10)\r\n",
      "Requirement already satisfied: urllib3<3,>=1.21.1 in /Users/kjellhaaland/Documents/GitHub/uia-master-thesis/.venv/lib/python3.12/site-packages (from requests->tmu==0.8.3) (2.2.3)\r\n",
      "Requirement already satisfied: certifi>=2017.4.17 in /Users/kjellhaaland/Documents/GitHub/uia-master-thesis/.venv/lib/python3.12/site-packages (from requests->tmu==0.8.3) (2024.8.30)\r\n",
      "Requirement already satisfied: scipy>=1.6.0 in /Users/kjellhaaland/Documents/GitHub/uia-master-thesis/.venv/lib/python3.12/site-packages (from scikit-learn->tmu==0.8.3) (1.14.1)\r\n",
      "Requirement already satisfied: joblib>=1.2.0 in /Users/kjellhaaland/Documents/GitHub/uia-master-thesis/.venv/lib/python3.12/site-packages (from scikit-learn->tmu==0.8.3) (1.4.2)\r\n",
      "Requirement already satisfied: threadpoolctl>=3.1.0 in /Users/kjellhaaland/Documents/GitHub/uia-master-thesis/.venv/lib/python3.12/site-packages (from scikit-learn->tmu==0.8.3) (3.5.0)\r\n",
      "Requirement already satisfied: six>=1.5 in /Users/kjellhaaland/Documents/GitHub/uia-master-thesis/.venv/lib/python3.12/site-packages (from python-dateutil>=2.8.2->pandas->tmu==0.8.3) (1.16.0)\r\n",
      "\r\n",
      "\u001B[1m[\u001B[0m\u001B[34;49mnotice\u001B[0m\u001B[1;39;49m]\u001B[0m\u001B[39;49m A new release of pip is available: \u001B[0m\u001B[31;49m24.3\u001B[0m\u001B[39;49m -> \u001B[0m\u001B[32;49m25.0.1\u001B[0m\r\n",
      "\u001B[1m[\u001B[0m\u001B[34;49mnotice\u001B[0m\u001B[1;39;49m]\u001B[0m\u001B[39;49m To update, run: \u001B[0m\u001B[32;49mpip install --upgrade pip\u001B[0m\r\n",
      "Note: you may need to restart the kernel to use updated packages.\n",
      "Requirement already satisfied: numpy==1.26.4 in /Users/kjellhaaland/Documents/GitHub/uia-master-thesis/.venv/lib/python3.12/site-packages (1.26.4)\r\n",
      "\r\n",
      "\u001B[1m[\u001B[0m\u001B[34;49mnotice\u001B[0m\u001B[1;39;49m]\u001B[0m\u001B[39;49m A new release of pip is available: \u001B[0m\u001B[31;49m24.3\u001B[0m\u001B[39;49m -> \u001B[0m\u001B[32;49m25.0.1\u001B[0m\r\n",
      "\u001B[1m[\u001B[0m\u001B[34;49mnotice\u001B[0m\u001B[1;39;49m]\u001B[0m\u001B[39;49m To update, run: \u001B[0m\u001B[32;49mpip install --upgrade pip\u001B[0m\r\n",
      "Note: you may need to restart the kernel to use updated packages.\n"
     ]
    }
   ],
   "execution_count": 13
  },
  {
   "cell_type": "code",
   "id": "2b757c20539f2247",
   "metadata": {
    "ExecuteTime": {
     "end_time": "2025-02-24T22:39:08.867789Z",
     "start_time": "2025-02-24T22:39:08.637919Z"
    }
   },
   "source": [
    "import numpy as np\n",
    "import pickle\n",
    "\n",
    "from tmu.models.autoencoder.autoencoder import TMAutoEncoder"
   ],
   "outputs": [
    {
     "name": "stdout",
     "output_type": "stream",
     "text": [
      "2025-02-24 18:39:08,834 - tmu.util.cuda_profiler - WARNING - Could not import pycuda: No module named 'pycuda'\n",
      "2025-02-24 18:39:08,835 - tmu.clause_bank.clause_bank_cuda - ERROR - No module named 'pycuda'\n",
      "Traceback (most recent call last):\n",
      "  File \"/Users/kjellhaaland/Documents/GitHub/uia-master-thesis/.venv/lib/python3.12/site-packages/tmu/clause_bank/clause_bank_cuda.py\", line 41, in <module>\n",
      "    from pycuda._driver import Device, Context\n",
      "ModuleNotFoundError: No module named 'pycuda'\n",
      "2025-02-24 18:39:08,839 - tmu.clause_bank.clause_bank_cuda - WARNING - Could not import pycuda. This indicates that it is not installed! A possible fix is to run 'pip install pycuda'. Fallback to CPU ClauseBanks.\n"
     ]
    }
   ],
   "execution_count": 1
  },
  {
   "cell_type": "code",
   "id": "28162fc330bc11f1",
   "metadata": {
    "ExecuteTime": {
     "end_time": "2025-02-24T22:39:35.626006Z",
     "start_time": "2025-02-24T22:39:35.618499Z"
    }
   },
   "source": [
    "def load_train_dataset(farm, event_id):\n",
    "    X = np.loadtxt(f\"./data_train/X_{farm}_{event_id}.txt\", dtype=np.uint32)\n",
    "    X = np.array(X).astype(np.uint32)\n",
    "\n",
    "    # Take only the first 2000 rows\n",
    "    X = X[:2000]\n",
    "\n",
    "    return X"
   ],
   "outputs": [],
   "execution_count": 6
  },
  {
   "cell_type": "code",
   "id": "e519a677ad3c4716",
   "metadata": {
    "ExecuteTime": {
     "end_time": "2025-02-24T22:39:36.019402Z",
     "start_time": "2025-02-24T22:39:36.016831Z"
    }
   },
   "source": [
    "def log_results(epoch, precision, recall):\n",
    "    with open(\"results.txt\", \"a\") as f:\n",
    "        f.write(f\"{epoch},{precision},{recall}\\n\")"
   ],
   "outputs": [],
   "execution_count": 7
  },
  {
   "cell_type": "code",
   "id": "da4ff95f-ff25-4203-89c8-7e6046e4356b",
   "metadata": {
    "ExecuteTime": {
     "end_time": "2025-02-24T22:39:36.437396Z",
     "start_time": "2025-02-24T22:39:36.434773Z"
    }
   },
   "source": [
    "def save_model(tm: TMAutoEncoder, filename: str):\n",
    "    a, d = tm.X_train, tm.encoded_X_train\n",
    "\n",
    "    tm.X_train = None\n",
    "    tm.encoded_X_train = None\n",
    "\n",
    "    with open(filename, \"wb\") as f:\n",
    "        pickle.dump(tm, f)\n",
    "\n",
    "    tm.X_train = a\n",
    "    tm.encoded_X_train = d"
   ],
   "outputs": [],
   "execution_count": 8
  },
  {
   "metadata": {
    "ExecuteTime": {
     "end_time": "2025-02-24T22:39:37.242635Z",
     "start_time": "2025-02-24T22:39:37.025575Z"
    }
   },
   "cell_type": "code",
   "source": [
    "# TODO: Load X_train from a dataset\n",
    "X_train = load_train_dataset(\"B\", 34)"
   ],
   "id": "a31d2f9342f1de77",
   "outputs": [],
   "execution_count": 9
  },
  {
   "cell_type": "code",
   "id": "initial_id",
   "metadata": {
    "ExecuteTime": {
     "end_time": "2025-02-24T22:42:07.236102Z",
     "start_time": "2025-02-24T22:42:07.228542Z"
    }
   },
   "source": [
    "def train(args):\n",
    "    tm = TMAutoEncoder(\n",
    "        number_of_clauses=args[\"num_clauses\"],\n",
    "        T=args[\"T\"],\n",
    "        s=args[\"s\"],\n",
    "        output_active=args[\"output_active\"],\n",
    "        max_included_literals=args[\"max_included_literals\"],\n",
    "        accumulation=args[\"accumulation\"],\n",
    "        feature_negation=args[\"feature_negation\"],\n",
    "        platform=args[\"platform\"],\n",
    "        output_balancing=args[\"output_balancing\"],\n",
    "    )\n",
    "\n",
    "    print(f\"Starting training for {args['epochs']} epochs\")\n",
    "\n",
    "    for e in range(args[\"epochs\"]):\n",
    "        tm.fit(X_train, number_of_examples=args[\"number_of_examples\"])\n",
    "\n",
    "        save_model(tm, \"latest_new.pkl\")\n",
    "        print(f\"Epoch: {e + 1}\")\n"
   ],
   "outputs": [],
   "execution_count": 11
  },
  {
   "cell_type": "code",
   "id": "d4dc7e4da5c88e88",
   "metadata": {
    "ExecuteTime": {
     "end_time": "2025-02-24T23:23:12.754510Z",
     "start_time": "2025-02-24T22:42:07.810564Z"
    }
   },
   "source": [
    "number_of_features = 63 * 5\n",
    "output_active = np.arange(number_of_features, dtype=np.uint32)\n",
    "\n",
    "number_of_clauses = 1024\n",
    "\n",
    "args: dict = {\n",
    "    \"clause_weight_threshold\": 0,\n",
    "    \"number_of_examples\": 10000,\n",
    "    \"output_active\": output_active,\n",
    "    \"accumulation\": 1,\n",
    "    \"num_clauses\": number_of_clauses,\n",
    "    \"T\": int(number_of_clauses * 0.75),\n",
    "    \"s\": 10,\n",
    "    \"epochs\": 50,\n",
    "    \"platform\": \"CPU\",\n",
    "    \"output_balancing\": 0,\n",
    "    \"max_included_literals\": number_of_features * 2,\n",
    "    \"feature_negation\": True,\n",
    "}\n",
    "\n",
    "result = train(args)"
   ],
   "outputs": [
    {
     "name": "stdout",
     "output_type": "stream",
     "text": [
      "Starting training for 50 epochs\n",
      "Epoch: 1\n",
      "Epoch: 2\n",
      "Epoch: 3\n",
      "Epoch: 4\n",
      "Epoch: 5\n",
      "Epoch: 6\n",
      "Epoch: 7\n",
      "Epoch: 8\n",
      "Epoch: 9\n"
     ]
    },
    {
     "ename": "KeyboardInterrupt",
     "evalue": "",
     "output_type": "error",
     "traceback": [
      "\u001B[0;31m---------------------------------------------------------------------------\u001B[0m",
      "\u001B[0;31mKeyboardInterrupt\u001B[0m                         Traceback (most recent call last)",
      "Cell \u001B[0;32mIn[12], line 21\u001B[0m\n\u001B[1;32m      4\u001B[0m number_of_clauses \u001B[38;5;241m=\u001B[39m \u001B[38;5;241m1024\u001B[39m\n\u001B[1;32m      6\u001B[0m args: \u001B[38;5;28mdict\u001B[39m \u001B[38;5;241m=\u001B[39m {\n\u001B[1;32m      7\u001B[0m     \u001B[38;5;124m\"\u001B[39m\u001B[38;5;124mclause_weight_threshold\u001B[39m\u001B[38;5;124m\"\u001B[39m: \u001B[38;5;241m0\u001B[39m,\n\u001B[1;32m      8\u001B[0m     \u001B[38;5;124m\"\u001B[39m\u001B[38;5;124mnumber_of_examples\u001B[39m\u001B[38;5;124m\"\u001B[39m: \u001B[38;5;241m10000\u001B[39m,\n\u001B[0;32m   (...)\u001B[0m\n\u001B[1;32m     18\u001B[0m     \u001B[38;5;124m\"\u001B[39m\u001B[38;5;124mfeature_negation\u001B[39m\u001B[38;5;124m\"\u001B[39m: \u001B[38;5;28;01mTrue\u001B[39;00m,\n\u001B[1;32m     19\u001B[0m }\n\u001B[0;32m---> 21\u001B[0m result \u001B[38;5;241m=\u001B[39m \u001B[43mtrain\u001B[49m\u001B[43m(\u001B[49m\u001B[43margs\u001B[49m\u001B[43m)\u001B[49m\n",
      "Cell \u001B[0;32mIn[11], line 17\u001B[0m, in \u001B[0;36mtrain\u001B[0;34m(args)\u001B[0m\n\u001B[1;32m     14\u001B[0m \u001B[38;5;28mprint\u001B[39m(\u001B[38;5;124mf\u001B[39m\u001B[38;5;124m\"\u001B[39m\u001B[38;5;124mStarting training for \u001B[39m\u001B[38;5;132;01m{\u001B[39;00margs[\u001B[38;5;124m'\u001B[39m\u001B[38;5;124mepochs\u001B[39m\u001B[38;5;124m'\u001B[39m]\u001B[38;5;132;01m}\u001B[39;00m\u001B[38;5;124m epochs\u001B[39m\u001B[38;5;124m\"\u001B[39m)\n\u001B[1;32m     16\u001B[0m \u001B[38;5;28;01mfor\u001B[39;00m e \u001B[38;5;129;01min\u001B[39;00m \u001B[38;5;28mrange\u001B[39m(args[\u001B[38;5;124m\"\u001B[39m\u001B[38;5;124mepochs\u001B[39m\u001B[38;5;124m\"\u001B[39m]):\n\u001B[0;32m---> 17\u001B[0m     \u001B[43mtm\u001B[49m\u001B[38;5;241;43m.\u001B[39;49m\u001B[43mfit\u001B[49m\u001B[43m(\u001B[49m\u001B[43mX_train\u001B[49m\u001B[43m,\u001B[49m\u001B[43m \u001B[49m\u001B[43mnumber_of_examples\u001B[49m\u001B[38;5;241;43m=\u001B[39;49m\u001B[43margs\u001B[49m\u001B[43m[\u001B[49m\u001B[38;5;124;43m\"\u001B[39;49m\u001B[38;5;124;43mnumber_of_examples\u001B[39;49m\u001B[38;5;124;43m\"\u001B[39;49m\u001B[43m]\u001B[49m\u001B[43m)\u001B[49m\n\u001B[1;32m     19\u001B[0m     save_model(tm, \u001B[38;5;124m\"\u001B[39m\u001B[38;5;124mlatest_new.pkl\u001B[39m\u001B[38;5;124m\"\u001B[39m)\n\u001B[1;32m     20\u001B[0m     \u001B[38;5;28mprint\u001B[39m(\u001B[38;5;124mf\u001B[39m\u001B[38;5;124m\"\u001B[39m\u001B[38;5;124mEpoch: \u001B[39m\u001B[38;5;132;01m{\u001B[39;00me\u001B[38;5;250m \u001B[39m\u001B[38;5;241m+\u001B[39m\u001B[38;5;250m \u001B[39m\u001B[38;5;241m1\u001B[39m\u001B[38;5;132;01m}\u001B[39;00m\u001B[38;5;124m\"\u001B[39m)\n",
      "File \u001B[0;32m~/Documents/GitHub/uia-master-thesis/.venv/lib/python3.12/site-packages/tmu/models/autoencoder/autoencoder.py:292\u001B[0m, in \u001B[0;36mTMAutoEncoder.fit\u001B[0;34m(self, X, number_of_examples, shuffle, *kwargs)\u001B[0m\n\u001B[1;32m    288\u001B[0m     literal_active[ta_chunk_negated] \u001B[38;5;241m&\u001B[39m\u001B[38;5;241m=\u001B[39m \u001B[38;5;241m~\u001B[39m(\u001B[38;5;241m1\u001B[39m \u001B[38;5;241m<<\u001B[39m chunk_pos_negated)\n\u001B[1;32m    290\u001B[0m literal_active[ta_chunk] \u001B[38;5;241m&\u001B[39m\u001B[38;5;241m=\u001B[39m \u001B[38;5;241m~\u001B[39m(\u001B[38;5;241m1\u001B[39m \u001B[38;5;241m<<\u001B[39m chunk_pos)\n\u001B[0;32m--> 292\u001B[0m \u001B[38;5;28;43mself\u001B[39;49m\u001B[38;5;241;43m.\u001B[39;49m\u001B[43mupdate\u001B[49m\u001B[43m(\u001B[49m\u001B[43mi\u001B[49m\u001B[43m,\u001B[49m\u001B[43m \u001B[49m\u001B[43mYu\u001B[49m\u001B[43m,\u001B[49m\u001B[43m \u001B[49m\u001B[43mXu\u001B[49m\u001B[43m,\u001B[49m\u001B[43m \u001B[49m\u001B[43mupdate_clause\u001B[49m\u001B[43m \u001B[49m\u001B[38;5;241;43m*\u001B[39;49m\u001B[43m \u001B[49m\u001B[43mclause_active\u001B[49m\u001B[43m,\u001B[49m\u001B[43m \u001B[49m\u001B[43mliteral_active\u001B[49m\u001B[43m)\u001B[49m\n\u001B[1;32m    294\u001B[0m \u001B[38;5;28;01mif\u001B[39;00m \u001B[38;5;28mself\u001B[39m\u001B[38;5;241m.\u001B[39mfeature_negation:\n\u001B[1;32m    295\u001B[0m     literal_active[ta_chunk_negated] \u001B[38;5;241m=\u001B[39m copy_literal_active_ta_chunk_negated\n",
      "File \u001B[0;32m~/Documents/GitHub/uia-master-thesis/.venv/lib/python3.12/site-packages/tmu/models/autoencoder/autoencoder.py:121\u001B[0m, in \u001B[0;36mTMAutoEncoder.update\u001B[0;34m(self, target_output, Y, encoded_X, clause_active, literal_active)\u001B[0m\n\u001B[1;32m    113\u001B[0m \u001B[38;5;28;01mdef\u001B[39;00m \u001B[38;5;21mupdate\u001B[39m(\n\u001B[1;32m    114\u001B[0m         \u001B[38;5;28mself\u001B[39m,\n\u001B[1;32m    115\u001B[0m         target_output,\n\u001B[0;32m   (...)\u001B[0m\n\u001B[1;32m    119\u001B[0m         literal_active\n\u001B[1;32m    120\u001B[0m ):\n\u001B[0;32m--> 121\u001B[0m     all_literal_active \u001B[38;5;241m=\u001B[39m \u001B[43m(\u001B[49m\u001B[43mnp\u001B[49m\u001B[38;5;241;43m.\u001B[39;49m\u001B[43mzeros\u001B[49m\u001B[43m(\u001B[49m\u001B[38;5;28;43mself\u001B[39;49m\u001B[38;5;241;43m.\u001B[39;49m\u001B[43mclause_bank\u001B[49m\u001B[38;5;241;43m.\u001B[39;49m\u001B[43mnumber_of_ta_chunks\u001B[49m\u001B[43m,\u001B[49m\u001B[43m \u001B[49m\u001B[43mdtype\u001B[49m\u001B[38;5;241;43m=\u001B[39;49m\u001B[43mnp\u001B[49m\u001B[38;5;241;43m.\u001B[39;49m\u001B[43muint32\u001B[49m\u001B[43m)\u001B[49m\u001B[43m \u001B[49m\u001B[38;5;241;43m|\u001B[39;49m\u001B[43m \u001B[49m\u001B[38;5;241;43m~\u001B[39;49m\u001B[38;5;241;43m0\u001B[39;49m\u001B[43m)\u001B[49m\u001B[38;5;241;43m.\u001B[39;49m\u001B[43mastype\u001B[49m\u001B[43m(\u001B[49m\u001B[43mnp\u001B[49m\u001B[38;5;241;43m.\u001B[39;49m\u001B[43muint32\u001B[49m\u001B[43m)\u001B[49m\n\u001B[1;32m    122\u001B[0m     clause_outputs \u001B[38;5;241m=\u001B[39m \u001B[38;5;28mself\u001B[39m\u001B[38;5;241m.\u001B[39mclause_bank\u001B[38;5;241m.\u001B[39mcalculate_clause_outputs_update(all_literal_active, encoded_X, \u001B[38;5;241m0\u001B[39m)\n\u001B[1;32m    124\u001B[0m     class_sum \u001B[38;5;241m=\u001B[39m np\u001B[38;5;241m.\u001B[39mdot(clause_active \u001B[38;5;241m*\u001B[39m \u001B[38;5;28mself\u001B[39m\u001B[38;5;241m.\u001B[39mweight_banks[target_output]\u001B[38;5;241m.\u001B[39mget_weights(), clause_outputs)\u001B[38;5;241m.\u001B[39mastype(\n\u001B[1;32m    125\u001B[0m         np\u001B[38;5;241m.\u001B[39mint32)\n",
      "\u001B[0;31mKeyboardInterrupt\u001B[0m: "
     ]
    }
   ],
   "execution_count": 12
  }
 ],
 "metadata": {
  "kernelspec": {
   "display_name": "Python 3 (ipykernel)",
   "language": "python",
   "name": "python3"
  },
  "language_info": {
   "codemirror_mode": {
    "name": "ipython",
    "version": 3
   },
   "file_extension": ".py",
   "mimetype": "text/x-python",
   "name": "python",
   "nbconvert_exporter": "python",
   "pygments_lexer": "ipython3",
   "version": "3.11.6"
  }
 },
 "nbformat": 4,
 "nbformat_minor": 5
}
