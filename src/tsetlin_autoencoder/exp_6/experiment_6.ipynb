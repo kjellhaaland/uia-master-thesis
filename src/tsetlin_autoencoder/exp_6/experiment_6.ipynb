{
 "cells": [
  {
   "cell_type": "code",
   "id": "e28183c3-d395-4a3a-8eb4-dba55cb1d527",
   "metadata": {
    "ExecuteTime": {
     "end_time": "2025-02-28T18:39:43.739229Z",
     "start_time": "2025-02-28T18:39:43.136675Z"
    }
   },
   "source": "%pip install optuna",
   "outputs": [
    {
     "name": "stdout",
     "output_type": "stream",
     "text": [
      "Requirement already satisfied: optuna in /Users/kjellhaaland/Documents/GitHub/uia-master-thesis/.venv/lib/python3.12/site-packages (4.2.1)\r\n",
      "Requirement already satisfied: alembic>=1.5.0 in /Users/kjellhaaland/Documents/GitHub/uia-master-thesis/.venv/lib/python3.12/site-packages (from optuna) (1.14.1)\r\n",
      "Requirement already satisfied: colorlog in /Users/kjellhaaland/Documents/GitHub/uia-master-thesis/.venv/lib/python3.12/site-packages (from optuna) (6.9.0)\r\n",
      "Requirement already satisfied: numpy in /Users/kjellhaaland/Documents/GitHub/uia-master-thesis/.venv/lib/python3.12/site-packages (from optuna) (1.26.4)\r\n",
      "Requirement already satisfied: packaging>=20.0 in /Users/kjellhaaland/Documents/GitHub/uia-master-thesis/.venv/lib/python3.12/site-packages (from optuna) (24.1)\r\n",
      "Requirement already satisfied: sqlalchemy>=1.4.2 in /Users/kjellhaaland/Documents/GitHub/uia-master-thesis/.venv/lib/python3.12/site-packages (from optuna) (2.0.38)\r\n",
      "Requirement already satisfied: tqdm in /Users/kjellhaaland/Documents/GitHub/uia-master-thesis/.venv/lib/python3.12/site-packages (from optuna) (4.67.0)\r\n",
      "Requirement already satisfied: PyYAML in /Users/kjellhaaland/Documents/GitHub/uia-master-thesis/.venv/lib/python3.12/site-packages (from optuna) (6.0.2)\r\n",
      "Requirement already satisfied: Mako in /Users/kjellhaaland/Documents/GitHub/uia-master-thesis/.venv/lib/python3.12/site-packages (from alembic>=1.5.0->optuna) (1.3.9)\r\n",
      "Requirement already satisfied: typing-extensions>=4 in /Users/kjellhaaland/Documents/GitHub/uia-master-thesis/.venv/lib/python3.12/site-packages (from alembic>=1.5.0->optuna) (4.12.2)\r\n",
      "Requirement already satisfied: MarkupSafe>=0.9.2 in /Users/kjellhaaland/Documents/GitHub/uia-master-thesis/.venv/lib/python3.12/site-packages (from Mako->alembic>=1.5.0->optuna) (3.0.2)\r\n",
      "\r\n",
      "\u001B[1m[\u001B[0m\u001B[34;49mnotice\u001B[0m\u001B[1;39;49m]\u001B[0m\u001B[39;49m A new release of pip is available: \u001B[0m\u001B[31;49m24.3\u001B[0m\u001B[39;49m -> \u001B[0m\u001B[32;49m25.0.1\u001B[0m\r\n",
      "\u001B[1m[\u001B[0m\u001B[34;49mnotice\u001B[0m\u001B[1;39;49m]\u001B[0m\u001B[39;49m To update, run: \u001B[0m\u001B[32;49mpip install --upgrade pip\u001B[0m\r\n",
      "Note: you may need to restart the kernel to use updated packages.\n"
     ]
    }
   ],
   "execution_count": 45
  },
  {
   "cell_type": "code",
   "id": "2b757c20539f2247",
   "metadata": {
    "ExecuteTime": {
     "end_time": "2025-02-28T18:39:43.744326Z",
     "start_time": "2025-02-28T18:39:43.742391Z"
    }
   },
   "source": [
    "import numpy as np\n",
    "import optuna\n",
    "import pickle\n",
    "\n",
    "from tmu.models.autoencoder.autoencoder import TMAutoEncoder"
   ],
   "outputs": [],
   "execution_count": 46
  },
  {
   "metadata": {
    "ExecuteTime": {
     "end_time": "2025-02-28T18:39:43.752017Z",
     "start_time": "2025-02-28T18:39:43.750415Z"
    }
   },
   "cell_type": "code",
   "source": [
    "platform = \"CPU\"\n",
    "windfarm = \"B\""
   ],
   "id": "787058f476248d90",
   "outputs": [],
   "execution_count": 47
  },
  {
   "cell_type": "code",
   "id": "28162fc330bc11f1",
   "metadata": {
    "ExecuteTime": {
     "end_time": "2025-02-28T18:39:43.760847Z",
     "start_time": "2025-02-28T18:39:43.757967Z"
    }
   },
   "source": [
    "def load_train_dataset(farm, event_id):\n",
    "    X = np.loadtxt(f\"./data_train/X_{farm}_{event_id}.txt\", dtype=np.uint32)\n",
    "    X = np.array(X).astype(np.uint32)\n",
    "    return X\n",
    "\n",
    "\n",
    "def load_thresh_dataset(farm, event_id):\n",
    "    X = np.loadtxt(f\"./data_train/X_{farm}_{event_id}.txt\", dtype=np.uint32)\n",
    "    X = np.array(X).astype(np.uint32)\n",
    "\n",
    "    # Take the first 5000 rows\n",
    "    X = X[:5000]\n",
    "\n",
    "    return X\n",
    "\n",
    "\n",
    "def load_test_dataset(farm, event_id):\n",
    "    X = np.loadtxt(f\"./data_test/X_{farm}_{event_id}.txt\", dtype=np.uint32)\n",
    "    X = np.array(X).astype(np.uint32)\n",
    "    return X\n",
    "\n",
    "\n",
    "def load_test_labels(farm, event_id):\n",
    "    y = np.loadtxt(f\"./data_test/y_{farm}_{event_id}.txt\", dtype=np.uint32)\n",
    "    y = np.array(y).astype(np.uint32)\n",
    "    return y\n",
    "\n",
    "\n",
    "def load_model(filename) -> TMAutoEncoder:\n",
    "    with open(filename, \"rb\") as f:\n",
    "        model = pickle.load(f)\n",
    "\n",
    "    return model"
   ],
   "outputs": [],
   "execution_count": 48
  },
  {
   "cell_type": "code",
   "id": "da4ff95f-ff25-4203-89c8-7e6046e4356b",
   "metadata": {
    "ExecuteTime": {
     "end_time": "2025-02-28T18:39:43.768691Z",
     "start_time": "2025-02-28T18:39:43.765592Z"
    }
   },
   "source": [
    "def calculate_reconstruction_accuracy(X, pred):\n",
    "    correct = np.sum(X == pred)\n",
    "    accuracy = correct / len(X)\n",
    "    return accuracy\n",
    "\n",
    "\n",
    "def calculate_accuracy(X, pred, labels, threshold=0.5):\n",
    "    losses = [calculate_reconstruction_accuracy(X[i], pred[i]) for i in range(len(X))]\n",
    "\n",
    "    predictions = np.array([1 if losses[i] < threshold else 0 for i in range(len(X))])\n",
    "\n",
    "    accuracy = np.sum(labels == predictions) / len(labels)\n",
    "\n",
    "    return accuracy\n",
    "\n",
    "\n",
    "def calculate_threshold(X, pred):\n",
    "    losses = [calculate_reconstruction_accuracy(X[i], pred[i]) for i in range(len(X))]\n",
    "\n",
    "    # Set the threshold as the lowest 1% of the losses\n",
    "    threshold = np.percentile(losses, 1)\n",
    "\n",
    "    return threshold\n"
   ],
   "outputs": [],
   "execution_count": 49
  },
  {
   "metadata": {
    "ExecuteTime": {
     "end_time": "2025-02-28T18:39:44.910973Z",
     "start_time": "2025-02-28T18:39:43.775870Z"
    }
   },
   "cell_type": "code",
   "source": [
    "train_datasets = [52, 21]\n",
    "test_datasets = [34, 7]\n",
    "\n",
    "thresh_datasets = [83]\n",
    "\n",
    "# Load all datasets into one array\n",
    "X_train = np.concatenate([load_train_dataset(windfarm, i) for i in train_datasets])\n",
    "\n",
    "X_thresh = np.concatenate([load_thresh_dataset(windfarm, i) for i in thresh_datasets])\n",
    "\n",
    "X_test = np.concatenate([load_test_dataset(windfarm, i) for i in test_datasets])\n",
    "y_test = np.concatenate([load_test_labels(windfarm, i) for i in test_datasets])\n",
    "\n",
    "print(f\"X_train shape: {X_train.shape}\")\n",
    "print(f\"X_test shape: {X_test.shape}\")"
   ],
   "id": "a31d2f9342f1de77",
   "outputs": [
    {
     "name": "stdout",
     "output_type": "stream",
     "text": [
      "X_train shape: (91991, 315)\n",
      "X_test shape: (114452, 315)\n"
     ]
    }
   ],
   "execution_count": 50
  },
  {
   "cell_type": "code",
   "id": "initial_id",
   "metadata": {
    "ExecuteTime": {
     "end_time": "2025-02-28T18:47:51.229228Z",
     "start_time": "2025-02-28T18:47:51.222360Z"
    }
   },
   "source": [
    "def run_evaluation(tm: TMAutoEncoder) -> float:\n",
    "    pred_thresh = tm.predict(X_thresh)\n",
    "    threshold = calculate_threshold(X_thresh, pred_thresh)\n",
    "\n",
    "    pred = tm.predict(X_test)\n",
    "\n",
    "    accuracy = calculate_accuracy(X_test, pred, y_test, threshold=threshold)\n",
    "\n",
    "    print(f\"Threshold: {threshold}\")\n",
    "    print(f\"Test accuracy: {accuracy}\")\n",
    "\n",
    "    return accuracy\n",
    "\n",
    "\n",
    "def objective(trial: optuna.Trial) -> float:\n",
    "    number_of_features = X_train.shape[1]\n",
    "    output_active = np.arange(number_of_features, dtype=np.uint32)\n",
    "\n",
    "    number_of_clauses = trial.suggest_int(\"number_of_clauses\", 50, 2000)\n",
    "    T = trial.suggest_int(\"T\", 50, 50000)\n",
    "    s = trial.suggest_int(\"s\", 1, 100)\n",
    "    max_included_literals = trial.suggest_int(\"max_included_literals\", 1, 3 * number_of_features)\n",
    "    accumulation = trial.suggest_int(\"accumulation\", 1, 10)\n",
    "    feature_negation = trial.suggest_categorical(\"feature_negation\", [True, False])\n",
    "    output_balancing = trial.suggest_float(\"output_balancing\", 0, 10)\n",
    "    number_of_examples = trial.suggest_int(\"number_of_examples\", 10, 1000)\n",
    "\n",
    "    tm = TMAutoEncoder(\n",
    "        number_of_clauses=number_of_clauses,\n",
    "        T=T,\n",
    "        s=s,\n",
    "        output_active=output_active,\n",
    "        max_included_literals=max_included_literals,\n",
    "        accumulation=accumulation,\n",
    "        feature_negation=feature_negation,\n",
    "        platform=\"CPU\",  # TODO: Change to CUDA\n",
    "        output_balancing=output_balancing,\n",
    "    )\n",
    "\n",
    "    print(f\"Finished training for trial {trial.number}\")\n",
    "\n",
    "    for e in range(15):\n",
    "        tm.fit(X_train, number_of_examples=number_of_examples)\n",
    "        print(\"Finished epoch\", e)\n",
    "\n",
    "    return run_evaluation(tm)\n"
   ],
   "outputs": [],
   "execution_count": 53
  },
  {
   "metadata": {
    "jupyter": {
     "is_executing": true
    },
    "ExecuteTime": {
     "start_time": "2025-02-28T18:47:53.105882Z"
    }
   },
   "cell_type": "code",
   "source": [
    "study = optuna.create_study(direction=\"maximize\")\n",
    "study.optimize(objective, n_trials=100)\n",
    "\n",
    "# Save the best params to file\n",
    "best_params = study.best_params\n",
    "\n",
    "print(f\"Best params: {best_params}\")\n",
    "\n",
    "with open(\"best_params.txt\", \"w\") as f:\n",
    "    for key, value in best_params.items():\n",
    "        f.write(f\"{key}: {value}\\n\")"
   ],
   "id": "10f909a3ca1174f",
   "outputs": [
    {
     "name": "stdout",
     "output_type": "stream",
     "text": [
      "Finished training for trial 0\n"
     ]
    }
   ],
   "execution_count": null
  },
  {
   "metadata": {
    "ExecuteTime": {
     "end_time": "2025-02-28T18:47:49.866538Z",
     "start_time": "2025-02-28T14:28:59.532357Z"
    }
   },
   "cell_type": "code",
   "source": [
    "model = load_model(\"latest.pkl\")\n",
    "test_acc = run_evaluation(model)\n",
    "\n",
    "print(f\"Test accuracy: {test_acc}\")"
   ],
   "id": "2bdde5208fc6fccb",
   "outputs": [
    {
     "name": "stdout",
     "output_type": "stream",
     "text": [
      "Threshold: 0.8126984126984127\n",
      "Test accuracy: 0.8457694055149757\n",
      "Test accuracy: 0.8457694055149757\n"
     ]
    }
   ],
   "execution_count": 35
  }
 ],
 "metadata": {
  "kernelspec": {
   "display_name": "Python 3 (ipykernel)",
   "language": "python",
   "name": "python3"
  },
  "language_info": {
   "codemirror_mode": {
    "name": "ipython",
    "version": 3
   },
   "file_extension": ".py",
   "mimetype": "text/x-python",
   "name": "python",
   "nbconvert_exporter": "python",
   "pygments_lexer": "ipython3",
   "version": "3.11.6"
  }
 },
 "nbformat": 4,
 "nbformat_minor": 5
}
