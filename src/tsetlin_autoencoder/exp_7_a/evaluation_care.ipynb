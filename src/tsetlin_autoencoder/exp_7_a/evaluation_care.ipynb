{
 "cells": [
  {
   "cell_type": "code",
   "id": "initial_id",
   "metadata": {
    "collapsed": true,
    "ExecuteTime": {
     "end_time": "2025-03-24T13:08:37.738684Z",
     "start_time": "2025-03-24T13:08:37.692215Z"
    }
   },
   "source": [
    "import numpy as np\n",
    "import seaborn as sns\n",
    "import matplotlib.pyplot as plt\n",
    "import pandas as pd\n",
    "import os\n",
    "\n",
    "import pickle\n",
    "\n",
    "from tmu.models.autoencoder.autoencoder import TMAutoEncoder\n",
    "from src.lib.care import calculate_care_score"
   ],
   "outputs": [],
   "execution_count": 303
  },
  {
   "metadata": {
    "ExecuteTime": {
     "end_time": "2025-03-24T13:08:37.764375Z",
     "start_time": "2025-03-24T13:08:37.755283Z"
    }
   },
   "cell_type": "code",
   "source": "bits = 8",
   "id": "d4820b1cbda0e727",
   "outputs": [],
   "execution_count": 304
  },
  {
   "metadata": {
    "ExecuteTime": {
     "end_time": "2025-03-24T13:08:38.066664Z",
     "start_time": "2025-03-24T13:08:38.040699Z"
    }
   },
   "cell_type": "code",
   "source": [
    "# Create folder figures if it does not exist\n",
    "os.makedirs(\"figures\", exist_ok=True)"
   ],
   "id": "12722105cfb66efa",
   "outputs": [],
   "execution_count": 305
  },
  {
   "metadata": {
    "ExecuteTime": {
     "end_time": "2025-03-24T13:08:38.206218Z",
     "start_time": "2025-03-24T13:08:38.157215Z"
    }
   },
   "cell_type": "code",
   "source": [
    "def load_test_dataset(farm, event_id):\n",
    "    X = np.loadtxt(f\"./data_test/X_{farm}_{event_id}.txt\", dtype=np.uint32)\n",
    "    X = np.array(X).astype(np.uint32)\n",
    "    return X\n",
    "\n",
    "\n",
    "def load_test_labels(farm, event_id):\n",
    "    y = np.loadtxt(f\"./data_test/y_{farm}_{event_id}.txt\", dtype=np.uint32)\n",
    "    y = np.array(y).astype(np.uint32)\n",
    "    return y\n",
    "\n",
    "\n",
    "def load_test_status_labels(farm, event_id):\n",
    "    z = np.loadtxt(f\"./data_test/z_{farm}_{event_id}.txt\", dtype=np.uint32)\n",
    "    z = np.array(z).astype(np.uint32)\n",
    "    return z\n",
    "\n",
    "\n",
    "def load_test_label(farm, event_id):\n",
    "    event_info = pd.read_csv(f\"../../../data/care_to_compare/Wind Farm {farm}/event_info.csv\", delimiter=';')\n",
    "\n",
    "    metadata = event_info[event_info['event_id'] == event_id]\n",
    "\n",
    "    event_label = metadata[\"event_label\"].values[0]\n",
    "\n",
    "    return False if event_label == \"anomaly\" else True"
   ],
   "id": "9afef311a40435c8",
   "outputs": [],
   "execution_count": 306
  },
  {
   "metadata": {
    "ExecuteTime": {
     "end_time": "2025-03-24T13:08:38.238990Z",
     "start_time": "2025-03-24T13:08:38.229695Z"
    }
   },
   "cell_type": "code",
   "source": [
    "def load_model(filename) -> TMAutoEncoder:\n",
    "    with open(filename, \"rb\") as f:\n",
    "        model = pickle.load(f)\n",
    "\n",
    "    return model"
   ],
   "id": "652d72a575fd0627",
   "outputs": [],
   "execution_count": 307
  },
  {
   "metadata": {
    "ExecuteTime": {
     "end_time": "2025-03-24T13:08:38.298317Z",
     "start_time": "2025-03-24T13:08:38.291616Z"
    }
   },
   "cell_type": "code",
   "source": [
    "def calculate_accuracy(labels, predictions):\n",
    "    # Calculate the accuracy\n",
    "    accuracy = np.sum(labels == predictions) / len(labels)\n",
    "\n",
    "    return accuracy"
   ],
   "id": "4a1549d328c78582",
   "outputs": [],
   "execution_count": 308
  },
  {
   "metadata": {
    "ExecuteTime": {
     "end_time": "2025-03-24T13:08:38.368014Z",
     "start_time": "2025-03-24T13:08:38.340656Z"
    }
   },
   "cell_type": "code",
   "source": [
    "def binary_to_float(bin_array):\n",
    "    \"\"\"Convert a 10-bit binary array to a float between 0 and 1.\"\"\"\n",
    "    return np.dot(bin_array, 2 ** np.arange(len(bin_array))[::-1]) / (2 ** len(bin_array) - 1)\n",
    "\n",
    "\n",
    "def mse_loss(X, pred, bits_per_value=bits):\n",
    "    \"\"\"\n",
    "    Compute MSE loss for flattened binary inputs.\n",
    "    - X and pred are 1D arrays of length `num_values * bits_per_value`.\n",
    "    - We reshape them into (num_values, bits_per_value) before converting.\n",
    "    \"\"\"\n",
    "\n",
    "    num_values = int(len(X) // bits_per_value)\n",
    "\n",
    "    # Reshape into (num_values, bits_per_value)\n",
    "    X_reshaped = X.reshape(num_values, bits_per_value)\n",
    "    pred_reshaped = pred.reshape(num_values, bits_per_value)\n",
    "\n",
    "    # Convert binary sequences back to float values\n",
    "    X_floats = np.array([binary_to_float(row) for row in X_reshaped])\n",
    "    pred_floats = np.array([binary_to_float(row) for row in pred_reshaped])\n",
    "\n",
    "    # Compute MSE\n",
    "    mse = np.mean((X_floats - pred_floats) ** 2)\n",
    "    return mse\n",
    "\n",
    "\n",
    "def mae_loss(X, pred, bits_per_value=bits):\n",
    "    \"\"\"\n",
    "    Compute MAE loss for flattened binary inputs.\n",
    "    - X and pred are 1D arrays of length `num_values * bits_per_value`.\n",
    "    - We reshape them into (num_values, bits_per_value) before converting.\n",
    "    \"\"\"\n",
    "\n",
    "    num_values = int(len(X) // bits_per_value)\n",
    "\n",
    "    # Reshape into (num_values, bits_per_value)\n",
    "    X_reshaped = X.reshape(num_values, bits_per_value)\n",
    "    pred_reshaped = pred.reshape(num_values, bits_per_value)\n",
    "\n",
    "    # Convert binary sequences back to float values\n",
    "    X_floats = np.array([binary_to_float(row) for row in X_reshaped])\n",
    "    pred_floats = np.array([binary_to_float(row) for row in pred_reshaped])\n",
    "\n",
    "    # Compute MAE\n",
    "    mae = np.mean(np.abs(X_floats - pred_floats))\n",
    "    return mae\n",
    "\n",
    "\n",
    "def hamming_loss(pred, X_test):\n",
    "    \"\"\"\n",
    "    Computes the Hamming loss between predicted and ground truth binary arrays.\n",
    "\n",
    "    Parameters:\n",
    "    - pred (numpy array): Binary predictions of shape (n_samples, n_bits).\n",
    "    - X_test (numpy array): Ground truth binary values of shape (n_samples, n_bits).\n",
    "\n",
    "    Returns:\n",
    "    - float: Hamming loss (fraction of incorrect bits).\n",
    "    \"\"\"\n",
    "    assert pred.shape == X_test.shape, \"Shapes of pred and X_test must match\"\n",
    "\n",
    "    # Compute the number of differing bits\n",
    "    incorrect_bits = np.sum(pred != X_test)\n",
    "\n",
    "    # Total number of bits\n",
    "    total_bits = np.prod(X_test.shape)\n",
    "\n",
    "    # Hamming loss is the fraction of incorrect bits\n",
    "    return incorrect_bits / total_bits"
   ],
   "id": "7198d6b336b0cf6f",
   "outputs": [],
   "execution_count": 309
  },
  {
   "metadata": {
    "ExecuteTime": {
     "end_time": "2025-03-24T13:08:38.439151Z",
     "start_time": "2025-03-24T13:08:38.405479Z"
    }
   },
   "cell_type": "code",
   "source": [
    "def reconstruction_accuracy(X, pred):\n",
    "    correct = np.sum(X == pred)\n",
    "    accuracy = correct / len(X)\n",
    "    return accuracy\n",
    "\n",
    "\n",
    "def plot_mse(X, y, pred, name, threshold):\n",
    "    # Compute MSE for each row\n",
    "    mse_per_row = [hamming_loss(X[i], pred[i]) for i in range(len(X))]\n",
    "\n",
    "    # Plot SNS plot of all MSE values\n",
    "    plt.figure(figsize=(8, 4))\n",
    "    sns.histplot(mse_per_row, bins=50, kde=True, color='b')\n",
    "\n",
    "    # Add a threshold line\n",
    "    plt.axvline(threshold, color='r', linestyle='--')\n",
    "\n",
    "    # Save the plot\n",
    "    plt.savefig(f\"./figures/plot_reconstruction_acc_{name}.png\")\n",
    "\n",
    "    plt.close()\n",
    "\n",
    "\n",
    "def plot_predictions(X, y, z, pred, p, name, threshold):\n",
    "    x = np.arange(0, len(X))  # Time or index\n",
    "    r = [hamming_loss(X[i], pred[i]) for i in range(len(X))]\n",
    "\n",
    "    plt.figure(figsize=(12, 6))\n",
    "\n",
    "    # Plot reconstruction accuracy (main plot)\n",
    "    plt.scatter(x, r, label=\"Reconstruction Accuracy\", color='blue', alpha=0.7)\n",
    "\n",
    "    # Plot a line at the threshold\n",
    "    plt.axhline(y=threshold, color='red', linestyle='--', label=\"Threshold\")\n",
    "\n",
    "    y_mapped = np.where(y == 0, -0.2, -0.1)\n",
    "    plt.plot(x, y_mapped, label=\"Actual Anomalies (y)\", color='red', linestyle='-', linewidth=2)\n",
    "\n",
    "    # Plot p (predicted anomalies) as a binary line at -0.2 (stacked below y)\n",
    "    p_mapped = np.where(p == 0, -0.4, -0.3)\n",
    "    plt.plot(x, p_mapped, label=\"Predicted Anomalies (p)\", color='green', linestyle='-', linewidth=2)\n",
    "\n",
    "    z_mapped = np.where(np.logical_or(z == 0, z == 2), -0.6, -0.5)\n",
    "    plt.plot(x, z_mapped, label=\"Status Type Id (z)\", color='orange', linestyle='-', linewidth=2)\n",
    "\n",
    "    # Formatting\n",
    "    plt.xlabel(\"Time\")\n",
    "    plt.ylabel(\"Reconstruction Accuracy\")\n",
    "    plt.title(\"Anomaly Detection Visualization\")\n",
    "\n",
    "    # Set y-limits to make space for stacked lines\n",
    "    plt.ylim(-0.7, 1.1)\n",
    "\n",
    "    # Add horizontal reference lines for y and p\n",
    "    plt.axhline(y=-0.2, color='black', linestyle='dotted', linewidth=1, alpha=0.5)\n",
    "    plt.axhline(y=-0.4, color='black', linestyle='dotted', linewidth=1, alpha=0.5)\n",
    "    plt.axhline(y=-0.6, color='black', linestyle='dotted', linewidth=1, alpha=0.5)\n",
    "\n",
    "    # Add grid and legend\n",
    "    plt.legend()\n",
    "    plt.grid(True)\n",
    "\n",
    "    # Save the plot\n",
    "    plt.savefig(f\"./figures/plot_detections_{name}.png\")\n",
    "\n",
    "    plt.close()\n",
    "\n",
    "\n",
    "def get_predictions(X, y, z, name):\n",
    "    tm = load_model(\"models/latest_2.pkl\")\n",
    "\n",
    "    pred = tm.predict(X)\n",
    "\n",
    "    threshold = 0.45\n",
    "\n",
    "    # For each row in pred, if the MSE is greater than the threshold, then it is an anomaly\n",
    "    losses = [hamming_loss(X[i], pred[i]) for i in range(len(X))]\n",
    "\n",
    "    X_predictions = np.array([1 if losses[i] > threshold else 0 for i in range(len(X))])\n",
    "\n",
    "    # Accuracy\n",
    "    accuracy = calculate_accuracy(y, X_predictions)\n",
    "\n",
    "    plot_mse(X, y, pred, name, threshold)\n",
    "    plot_predictions(X, y, z, pred, X_predictions, name, threshold)\n",
    "\n",
    "    return X_predictions, accuracy"
   ],
   "id": "e96b8166de1ca4ee",
   "outputs": [],
   "execution_count": 310
  },
  {
   "metadata": {
    "ExecuteTime": {
     "end_time": "2025-03-24T13:08:38.462489Z",
     "start_time": "2025-03-24T13:08:38.455031Z"
    }
   },
   "cell_type": "code",
   "source": [
    "test_datasets = [68, 22, 72, 73, 0, 38, 71, 14, 92, 51]  #26, 40, 42, 10, 45, 84, 25, 69, 13, 24, 3, 17, ]\n",
    "\n",
    "\n",
    "#test_datasets = [68, 51]\n",
    "\n",
    "\n",
    "def run_prediction(farm, dataset):\n",
    "    X = load_test_dataset(farm, dataset)\n",
    "    y = load_test_labels(farm, dataset)\n",
    "    z = load_test_status_labels(farm, dataset)\n",
    "\n",
    "    is_normal = load_test_label(farm, dataset)\n",
    "\n",
    "    predictions, accuracy = get_predictions(X, y, z, f\"{farm}_{dataset}\")\n",
    "\n",
    "    return X, y, z, is_normal, predictions, accuracy\n"
   ],
   "id": "986c2e3634919b34",
   "outputs": [],
   "execution_count": 311
  },
  {
   "metadata": {
    "ExecuteTime": {
     "end_time": "2025-03-24T13:23:25.634566Z",
     "start_time": "2025-03-24T13:08:38.500970Z"
    }
   },
   "cell_type": "code",
   "source": [
    "# Create a dataframe with status_type_id;label;prediction\n",
    "elements = []\n",
    "\n",
    "for set in test_datasets:\n",
    "    res = run_prediction(\"A\", set)\n",
    "\n",
    "    result_df = pd.DataFrame({\n",
    "        'status_type_id': res[2],\n",
    "        'label': res[1],\n",
    "        'prediction': res[4]\n",
    "    })\n",
    "\n",
    "    print(f\"Done with {set}. Accuracy: {res[5]}\")\n",
    "\n",
    "    elements.append({'dataset': set, 'normal': res[3], 'data': result_df, 'accuracy': res[5]})"
   ],
   "id": "70e024b9cc85e8c9",
   "outputs": [
    {
     "name": "stdout",
     "output_type": "stream",
     "text": [
      "Done with 68. Accuracy: 0.5551160822693991\n",
      "Done with 22. Accuracy: 0.5286508909210899\n",
      "Done with 72. Accuracy: 0.5356040014052995\n",
      "Done with 73. Accuracy: 0.5642093186780652\n",
      "Done with 0. Accuracy: 0.5501864144766755\n",
      "Done with 38. Accuracy: 0.5876538707030181\n",
      "Done with 71. Accuracy: 0.539492912465293\n",
      "Done with 14. Accuracy: 0.5500488956953337\n",
      "Done with 92. Accuracy: 0.5362420700242292\n",
      "Done with 51. Accuracy: 0.5534858087627446\n"
     ]
    }
   ],
   "execution_count": 312
  },
  {
   "metadata": {
    "ExecuteTime": {
     "end_time": "2025-03-24T13:28:31.198234Z",
     "start_time": "2025-03-24T13:28:28.541180Z"
    }
   },
   "cell_type": "code",
   "source": [
    "score = calculate_care_score(elements)\n",
    "print(score)"
   ],
   "id": "aa6756d8794bc14c",
   "outputs": [
    {
     "name": "stdout",
     "output_type": "stream",
     "text": [
      "0.544724673028113\n"
     ]
    }
   ],
   "execution_count": 315
  },
  {
   "metadata": {
    "ExecuteTime": {
     "end_time": "2025-03-24T13:23:27.663175Z",
     "start_time": "2025-03-24T13:23:27.661506Z"
    }
   },
   "cell_type": "code",
   "source": [
    "# 0.6704789824108351\n",
    "# 0.6297079292997327"
   ],
   "id": "bf2b64cd5563128f",
   "outputs": [],
   "execution_count": 314
  }
 ],
 "metadata": {
  "kernelspec": {
   "display_name": "Python 3",
   "language": "python",
   "name": "python3"
  },
  "language_info": {
   "codemirror_mode": {
    "name": "ipython",
    "version": 2
   },
   "file_extension": ".py",
   "mimetype": "text/x-python",
   "name": "python",
   "nbconvert_exporter": "python",
   "pygments_lexer": "ipython2",
   "version": "2.7.6"
  }
 },
 "nbformat": 4,
 "nbformat_minor": 5
}
