{
 "cells": [
  {
   "cell_type": "code",
   "id": "initial_id",
   "metadata": {
    "collapsed": true,
    "ExecuteTime": {
     "end_time": "2025-03-23T02:15:43.845306Z",
     "start_time": "2025-03-23T02:15:43.831129Z"
    }
   },
   "source": [
    "import numpy as np\n",
    "import seaborn as sns\n",
    "import matplotlib.pyplot as plt\n",
    "import pandas as pd\n",
    "import os\n",
    "\n",
    "import pickle\n",
    "\n",
    "from tmu.models.autoencoder.autoencoder import TMAutoEncoder\n",
    "from src.lib.care import calculate_care_score"
   ],
   "outputs": [
    {
     "name": "stdout",
     "output_type": "stream",
     "text": [
      "2025-03-22 22:15:43,839 - tmu.util.cuda_profiler - WARNING - Could not import pycuda: No module named 'pycuda'\n",
      "2025-03-22 22:15:43,840 - tmu.clause_bank.clause_bank_cuda - ERROR - No module named 'pycuda'\n",
      "Traceback (most recent call last):\n",
      "  File \"/Users/kjellhaaland/Documents/GitHub/uia-master-thesis/.venv/lib/python3.12/site-packages/tmu/clause_bank/clause_bank_cuda.py\", line 41, in <module>\n",
      "    from pycuda._driver import Device, Context\n",
      "ModuleNotFoundError: No module named 'pycuda'\n",
      "2025-03-22 22:15:43,840 - tmu.clause_bank.clause_bank_cuda - WARNING - Could not import pycuda. This indicates that it is not installed! A possible fix is to run 'pip install pycuda'. Fallback to CPU ClauseBanks.\n"
     ]
    }
   ],
   "execution_count": 1
  },
  {
   "metadata": {
    "ExecuteTime": {
     "end_time": "2025-03-23T02:15:43.853264Z",
     "start_time": "2025-03-23T02:15:43.851798Z"
    }
   },
   "cell_type": "code",
   "source": "bits = 10",
   "id": "d4820b1cbda0e727",
   "outputs": [],
   "execution_count": 2
  },
  {
   "metadata": {
    "ExecuteTime": {
     "end_time": "2025-03-23T02:15:43.934926Z",
     "start_time": "2025-03-23T02:15:43.933356Z"
    }
   },
   "cell_type": "code",
   "source": [
    "# Create folder figures if it does not exist\n",
    "os.makedirs(\"figures\", exist_ok=True)"
   ],
   "id": "12722105cfb66efa",
   "outputs": [],
   "execution_count": 3
  },
  {
   "metadata": {
    "ExecuteTime": {
     "end_time": "2025-03-23T02:15:43.945095Z",
     "start_time": "2025-03-23T02:15:43.942463Z"
    }
   },
   "cell_type": "code",
   "source": [
    "def load_test_dataset(farm, event_id):\n",
    "    X = np.loadtxt(f\"./data_test/X_{farm}_{event_id}.txt\", dtype=np.uint32)\n",
    "    X = np.array(X).astype(np.uint32)\n",
    "    return X\n",
    "\n",
    "\n",
    "def load_test_labels(farm, event_id):\n",
    "    y = np.loadtxt(f\"./data_test/y_{farm}_{event_id}.txt\", dtype=np.uint32)\n",
    "    y = np.array(y).astype(np.uint32)\n",
    "    return y\n",
    "\n",
    "\n",
    "def load_test_status_labels(farm, event_id):\n",
    "    z = np.loadtxt(f\"./data_test/z_{farm}_{event_id}.txt\", dtype=np.uint32)\n",
    "    z = np.array(z).astype(np.uint32)\n",
    "    return z\n",
    "\n",
    "\n",
    "def load_test_label(farm, event_id):\n",
    "    event_info = pd.read_csv(f\"../../../data/care_to_compare/Wind Farm {farm}/event_info.csv\", delimiter=';')\n",
    "\n",
    "    metadata = event_info[event_info['event_id'] == event_id]\n",
    "\n",
    "    event_label = metadata[\"event_label\"].values[0]\n",
    "\n",
    "    return False if event_label == \"anomaly\" else True"
   ],
   "id": "9afef311a40435c8",
   "outputs": [],
   "execution_count": 4
  },
  {
   "metadata": {
    "ExecuteTime": {
     "end_time": "2025-03-23T02:15:43.952432Z",
     "start_time": "2025-03-23T02:15:43.950634Z"
    }
   },
   "cell_type": "code",
   "source": [
    "def load_model(filename) -> TMAutoEncoder:\n",
    "    with open(filename, \"rb\") as f:\n",
    "        model = pickle.load(f)\n",
    "\n",
    "    return model"
   ],
   "id": "652d72a575fd0627",
   "outputs": [],
   "execution_count": 5
  },
  {
   "metadata": {
    "ExecuteTime": {
     "end_time": "2025-03-23T02:15:43.963183Z",
     "start_time": "2025-03-23T02:15:43.961733Z"
    }
   },
   "cell_type": "code",
   "source": [
    "def calculate_accuracy(labels, predictions):\n",
    "    # Calculate the accuracy\n",
    "    accuracy = np.sum(labels == predictions) / len(labels)\n",
    "\n",
    "    return accuracy"
   ],
   "id": "4a1549d328c78582",
   "outputs": [],
   "execution_count": 6
  },
  {
   "metadata": {
    "ExecuteTime": {
     "end_time": "2025-03-23T02:15:43.971393Z",
     "start_time": "2025-03-23T02:15:43.969032Z"
    }
   },
   "cell_type": "code",
   "source": [
    "def binary_to_float(bin_array):\n",
    "    \"\"\"Convert a 10-bit binary array to a float between 0 and 1.\"\"\"\n",
    "    return np.dot(bin_array, 2 ** np.arange(len(bin_array))[::-1]) / (2 ** len(bin_array) - 1)\n",
    "\n",
    "\n",
    "def mse_loss(X, pred, bits_per_value=bits):\n",
    "    \"\"\"\n",
    "    Compute MSE loss for flattened binary inputs.\n",
    "    - X and pred are 1D arrays of length `num_values * bits_per_value`.\n",
    "    - We reshape them into (num_values, bits_per_value) before converting.\n",
    "    \"\"\"\n",
    "\n",
    "    num_values = int(len(X) // bits_per_value)\n",
    "\n",
    "    # Reshape into (num_values, bits_per_value)\n",
    "    X_reshaped = X.reshape(num_values, bits_per_value)\n",
    "    pred_reshaped = pred.reshape(num_values, bits_per_value)\n",
    "\n",
    "    # Convert binary sequences back to float values\n",
    "    X_floats = np.array([binary_to_float(row) for row in X_reshaped])\n",
    "    pred_floats = np.array([binary_to_float(row) for row in pred_reshaped])\n",
    "\n",
    "    # Compute MSE\n",
    "    mse = np.mean((X_floats - pred_floats) ** 2)\n",
    "    return mse"
   ],
   "id": "7198d6b336b0cf6f",
   "outputs": [],
   "execution_count": 7
  },
  {
   "metadata": {
    "ExecuteTime": {
     "end_time": "2025-03-23T02:15:43.980344Z",
     "start_time": "2025-03-23T02:15:43.975600Z"
    }
   },
   "cell_type": "code",
   "source": [
    "def reconstruction_accuracy(X, pred):\n",
    "    correct = np.sum(X == pred)\n",
    "    accuracy = correct / len(X)\n",
    "    return accuracy\n",
    "\n",
    "\n",
    "def plot_mse(X, y, pred, name, threshold):\n",
    "    # Compute MSE for each row\n",
    "    mse_per_row = [mse_loss(X[i], pred[i]) for i in range(len(X))]\n",
    "\n",
    "    # Plot SNS plot of all MSE values\n",
    "    plt.figure(figsize=(8, 4))\n",
    "    sns.histplot(mse_per_row, bins=50, kde=True, color='b')\n",
    "\n",
    "    # Add a threshold line\n",
    "    plt.axvline(threshold, color='r', linestyle='--')\n",
    "\n",
    "    # Save the plot\n",
    "    plt.savefig(f\"./figures/plot_reconstruction_acc_{name}.png\")\n",
    "\n",
    "    plt.close()\n",
    "\n",
    "\n",
    "def plot_predictions(X, y, z, pred, p, name, threshold):\n",
    "    x = np.arange(0, len(X))  # Time or index\n",
    "    r = [mse_loss(X[i], pred[i]) for i in range(len(X))]\n",
    "\n",
    "    plt.figure(figsize=(12, 6))\n",
    "\n",
    "    # Plot reconstruction accuracy (main plot)\n",
    "    plt.plot(x, r, label=\"Reconstruction Accuracy\", color='blue', alpha=0.7)\n",
    "\n",
    "    # Plot a line at the threshold\n",
    "    plt.axhline(y=threshold, color='red', linestyle='--', label=\"Threshold\")\n",
    "\n",
    "    y_mapped = np.where(y == 0, -0.2, -0.1)\n",
    "    plt.plot(x, y_mapped, label=\"Actual Anomalies (y)\", color='red', linestyle='-', linewidth=2)\n",
    "\n",
    "    # Plot p (predicted anomalies) as a binary line at -0.2 (stacked below y)\n",
    "    p_mapped = np.where(p == 0, -0.4, -0.3)\n",
    "    plt.plot(x, p_mapped, label=\"Predicted Anomalies (p)\", color='green', linestyle='-', linewidth=2)\n",
    "\n",
    "    z_mapped = np.where(np.logical_or(z == 0, z == 2), -0.6, -0.5)\n",
    "    plt.plot(x, z_mapped, label=\"Status Type Id (z)\", color='orange', linestyle='-', linewidth=2)\n",
    "\n",
    "    # Formatting\n",
    "    plt.xlabel(\"Time\")\n",
    "    plt.ylabel(\"Reconstruction Accuracy\")\n",
    "    plt.title(\"Anomaly Detection Visualization\")\n",
    "\n",
    "    # Set y-limits to make space for stacked lines\n",
    "    plt.ylim(-0.7, 1.1)\n",
    "\n",
    "    # Add horizontal reference lines for y and p\n",
    "    plt.axhline(y=-0.2, color='black', linestyle='dotted', linewidth=1, alpha=0.5)\n",
    "    plt.axhline(y=-0.4, color='black', linestyle='dotted', linewidth=1, alpha=0.5)\n",
    "    plt.axhline(y=-0.6, color='black', linestyle='dotted', linewidth=1, alpha=0.5)\n",
    "\n",
    "    # Add grid and legend\n",
    "    plt.legend()\n",
    "    plt.grid(True)\n",
    "\n",
    "    # Save the plot\n",
    "    plt.savefig(f\"./figures/plot_detections_{name}.png\")\n",
    "\n",
    "    plt.close()\n",
    "\n",
    "\n",
    "def get_predictions(X, y, z, name):\n",
    "    tm = load_model(\"models/latest_9.pkl\")\n",
    "\n",
    "    pred = tm.predict(X)\n",
    "\n",
    "    threshold = 0.08\n",
    "\n",
    "    # For each row in pred, if the MSE is greater than the threshold, then it is an anomaly\n",
    "    losses = [mse_loss(X[i], pred[i]) for i in range(len(X))]\n",
    "\n",
    "    X_predictions = np.array([1 if losses[i] > threshold else 0 for i in range(len(X))])\n",
    "\n",
    "    # Accuracy\n",
    "    accuracy = calculate_accuracy(y, X_predictions)\n",
    "\n",
    "    plot_mse(X, y, pred, name, threshold)\n",
    "    plot_predictions(X, y, z, pred, X_predictions, name, threshold)\n",
    "\n",
    "    return X_predictions, accuracy"
   ],
   "id": "e96b8166de1ca4ee",
   "outputs": [],
   "execution_count": 8
  },
  {
   "metadata": {
    "ExecuteTime": {
     "end_time": "2025-03-23T02:15:43.986724Z",
     "start_time": "2025-03-23T02:15:43.984078Z"
    }
   },
   "cell_type": "code",
   "source": [
    "test_datasets = [68, 22, 72, 73, 0, 26, 40, 42, 10, 45, 84, 25, 69, 13, 24, 3, 17, 38, 71, 14, 92, 51]\n",
    "\n",
    "\n",
    "#test_datasets = [68, 51]\n",
    "\n",
    "\n",
    "def run_prediction(farm, dataset):\n",
    "    X = load_test_dataset(farm, dataset)\n",
    "    y = load_test_labels(farm, dataset)\n",
    "    z = load_test_status_labels(farm, dataset)\n",
    "\n",
    "    is_normal = load_test_label(farm, dataset)\n",
    "\n",
    "    predictions, accuracy = get_predictions(X, y, z, f\"{farm}_{dataset}\")\n",
    "\n",
    "    return X, y, z, is_normal, predictions, accuracy\n"
   ],
   "id": "986c2e3634919b34",
   "outputs": [],
   "execution_count": 9
  },
  {
   "metadata": {
    "ExecuteTime": {
     "end_time": "2025-03-23T02:17:47.821597Z",
     "start_time": "2025-03-23T02:15:43.996459Z"
    }
   },
   "cell_type": "code",
   "source": [
    "# Create a dataframe with status_type_id;label;prediction\n",
    "elements = []\n",
    "\n",
    "for set in test_datasets:\n",
    "    res = run_prediction(\"A\", set)\n",
    "\n",
    "    result_df = pd.DataFrame({\n",
    "        'status_type_id': res[2],\n",
    "        'label': res[1],\n",
    "        'prediction': res[4]\n",
    "    })\n",
    "\n",
    "    print(f\"Done with {set}. Accuracy: {res[5]}\")\n",
    "\n",
    "    elements.append({'dataset': set, 'normal': res[3], 'data': result_df, 'accuracy': res[5]})"
   ],
   "id": "70e024b9cc85e8c9",
   "outputs": [
    {
     "name": "stdout",
     "output_type": "stream",
     "text": [
      "Done with 68. Accuracy: 0.37342047930283223\n",
      "Done with 22. Accuracy: 0.23365300784655624\n",
      "Done with 72. Accuracy: 0.4561229548834903\n",
      "Done with 73. Accuracy: 0.4794679005205321\n",
      "Done with 0. Accuracy: 0.2150158618258724\n",
      "Done with 26. Accuracy: 0.29354614850798055\n",
      "Done with 40. Accuracy: 0.32185537775977313\n",
      "Done with 42. Accuracy: 0.4902084649399874\n",
      "Done with 10. Accuracy: 0.3120567375886525\n",
      "Done with 45. Accuracy: 0.34652777777777777\n",
      "Done with 84. Accuracy: 0.43702157272094644\n",
      "Done with 25. Accuracy: 0.926537350392076\n",
      "Done with 69. Accuracy: 0.8800617045892788\n",
      "Done with 13. Accuracy: 0.9369243650572147\n",
      "Done with 24. Accuracy: 0.8913043478260869\n",
      "Done with 3. Accuracy: 0.8891580860084797\n",
      "Done with 17. Accuracy: 0.8673139158576052\n",
      "Done with 38. Accuracy: 0.8113207547169812\n",
      "Done with 71. Accuracy: 0.8893425888117599\n",
      "Done with 14. Accuracy: 0.9110994213571805\n",
      "Done with 92. Accuracy: 0.9413754227733935\n",
      "Done with 51. Accuracy: 0.9114082741328876\n"
     ]
    }
   ],
   "execution_count": 10
  },
  {
   "metadata": {
    "ExecuteTime": {
     "end_time": "2025-03-23T02:19:20.499741Z",
     "start_time": "2025-03-23T02:19:20.311095Z"
    }
   },
   "cell_type": "code",
   "source": [
    "score = calculate_care_score(elements)\n",
    "print(score)"
   ],
   "id": "aa6756d8794bc14c",
   "outputs": [
    {
     "name": "stdout",
     "output_type": "stream",
     "text": [
      "0.6704789824108351\n"
     ]
    }
   ],
   "execution_count": 12
  },
  {
   "metadata": {},
   "cell_type": "code",
   "outputs": [],
   "execution_count": null,
   "source": "",
   "id": "bf2b64cd5563128f"
  }
 ],
 "metadata": {
  "kernelspec": {
   "display_name": "Python 3",
   "language": "python",
   "name": "python3"
  },
  "language_info": {
   "codemirror_mode": {
    "name": "ipython",
    "version": 2
   },
   "file_extension": ".py",
   "mimetype": "text/x-python",
   "name": "python",
   "nbconvert_exporter": "python",
   "pygments_lexer": "ipython2",
   "version": "2.7.6"
  }
 },
 "nbformat": 4,
 "nbformat_minor": 5
}
