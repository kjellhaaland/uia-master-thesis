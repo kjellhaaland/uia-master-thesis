{
 "cells": [
  {
   "cell_type": "code",
   "id": "e28183c3-d395-4a3a-8eb4-dba55cb1d527",
   "metadata": {
    "ExecuteTime": {
     "end_time": "2025-03-23T01:55:51.895366Z",
     "start_time": "2025-03-23T01:55:51.887318Z"
    }
   },
   "source": [
    "#%pip install git+https://github.com/cair/tmu.git\n",
    "#%pip install numpy==1.26.4"
   ],
   "outputs": [],
   "execution_count": 171
  },
  {
   "cell_type": "code",
   "id": "2b757c20539f2247",
   "metadata": {
    "ExecuteTime": {
     "end_time": "2025-03-23T01:55:51.919361Z",
     "start_time": "2025-03-23T01:55:51.915628Z"
    }
   },
   "source": [
    "import numpy as np\n",
    "import pickle\n",
    "import os\n",
    "\n",
    "from tmu.models.autoencoder.autoencoder import TMAutoEncoder"
   ],
   "outputs": [],
   "execution_count": 172
  },
  {
   "metadata": {
    "ExecuteTime": {
     "end_time": "2025-03-23T01:55:51.936245Z",
     "start_time": "2025-03-23T01:55:51.931693Z"
    }
   },
   "cell_type": "code",
   "source": "bits = 10",
   "id": "828299cb718d1bb4",
   "outputs": [],
   "execution_count": 173
  },
  {
   "metadata": {
    "ExecuteTime": {
     "end_time": "2025-03-23T01:55:51.960924Z",
     "start_time": "2025-03-23T01:55:51.958948Z"
    }
   },
   "cell_type": "code",
   "source": [
    "# Create folder models if it does not exist\n",
    "os.makedirs(\"models\", exist_ok=True)"
   ],
   "id": "d427f1ccd2f319f8",
   "outputs": [],
   "execution_count": 174
  },
  {
   "cell_type": "code",
   "id": "28162fc330bc11f1",
   "metadata": {
    "ExecuteTime": {
     "end_time": "2025-03-23T01:55:51.978913Z",
     "start_time": "2025-03-23T01:55:51.976732Z"
    }
   },
   "source": [
    "def load_train_dataset(farm, event_id):\n",
    "    X = np.loadtxt(f\"./data_train/X_{farm}_{event_id}.txt\", dtype=np.uint32)\n",
    "    X = np.array(X).astype(np.uint32)\n",
    "    return X\n",
    "\n",
    "\n",
    "def load_test_dataset(farm, event_id):\n",
    "    X = np.loadtxt(f\"./data_test/X_{farm}_{event_id}.txt\", dtype=np.uint32)\n",
    "    X = np.array(X).astype(np.uint32)\n",
    "    return X\n",
    "\n",
    "\n",
    "def load_test_labels(farm, event_id):\n",
    "    y = np.loadtxt(f\"./data_test/y_{farm}_{event_id}.txt\", dtype=np.uint32)\n",
    "    y = np.array(y).astype(np.uint32)\n",
    "    return y\n"
   ],
   "outputs": [],
   "execution_count": 175
  },
  {
   "cell_type": "code",
   "id": "da4ff95f-ff25-4203-89c8-7e6046e4356b",
   "metadata": {
    "ExecuteTime": {
     "end_time": "2025-03-23T01:55:51.994854Z",
     "start_time": "2025-03-23T01:55:51.993057Z"
    }
   },
   "source": [
    "def save_model(tm: TMAutoEncoder, filename: str):\n",
    "    a, d = tm.X_train, tm.encoded_X_train\n",
    "\n",
    "    tm.X_train = None\n",
    "    tm.encoded_X_train = None\n",
    "\n",
    "    with open(f\"./models/{filename}\", \"wb\") as f:\n",
    "        pickle.dump(tm, f)\n",
    "\n",
    "    tm.X_train = a\n",
    "    tm.encoded_X_train = d"
   ],
   "outputs": [],
   "execution_count": 176
  },
  {
   "metadata": {
    "ExecuteTime": {
     "end_time": "2025-03-23T01:55:55.398133Z",
     "start_time": "2025-03-23T01:55:52.008540Z"
    }
   },
   "cell_type": "code",
   "source": [
    "# TODO: Load X_train from a dataset\n",
    "\n",
    "train_datasets = [25, 69, 13, 24, 3, 17, 38, 71, 14, 92, 51]\n",
    "test_dataset = [68, 22]\n",
    "# Load all datasets into one array\n",
    "X_train = np.concatenate([load_train_dataset(\"A\", i) for i in train_datasets])\n",
    "\n",
    "X_test = np.concatenate([load_test_dataset(\"A\", i) for i in test_dataset])\n",
    "y_test = np.concatenate([load_test_labels(\"A\", i) for i in test_dataset])\n",
    "\n",
    "print(f\"X_train shape: {X_train.shape}\")\n",
    "print(f\"X_test shape: {X_test.shape}\")\n",
    "print(f\"y_test shape: {y_test.shape}\")"
   ],
   "id": "a31d2f9342f1de77",
   "outputs": [
    {
     "name": "stdout",
     "output_type": "stream",
     "text": [
      "X_train shape: (430495, 540)\n",
      "X_test shape: (3442, 540)\n",
      "y_test shape: (3442,)\n"
     ]
    }
   ],
   "execution_count": 177
  },
  {
   "metadata": {
    "ExecuteTime": {
     "end_time": "2025-03-23T01:55:55.422121Z",
     "start_time": "2025-03-23T01:55:55.415061Z"
    }
   },
   "cell_type": "code",
   "source": [
    "def binary_to_float(bin_array):\n",
    "    \"\"\"Convert a 10-bit binary array to a float between 0 and 1.\"\"\"\n",
    "    return np.dot(bin_array, 2 ** np.arange(len(bin_array))[::-1]) / (2 ** len(bin_array) - 1)\n",
    "\n",
    "\n",
    "def mse_loss(X, pred, bits_per_value=bits):\n",
    "    \"\"\"\n",
    "    Compute MSE loss for flattened binary inputs.\n",
    "    - X and pred are 1D arrays of length `num_values * bits_per_value`.\n",
    "    - We reshape them into (num_values, bits_per_value) before converting.\n",
    "    \"\"\"\n",
    "\n",
    "    num_values = int(len(X) // bits_per_value)\n",
    "\n",
    "    # Reshape into (num_values, bits_per_value)\n",
    "    X_reshaped = X.reshape(num_values, bits_per_value)\n",
    "    pred_reshaped = pred.reshape(num_values, bits_per_value)\n",
    "\n",
    "    # Convert binary sequences back to float values\n",
    "    X_floats = np.array([binary_to_float(row) for row in X_reshaped])\n",
    "    pred_floats = np.array([binary_to_float(row) for row in pred_reshaped])\n",
    "\n",
    "    # Compute MSE\n",
    "    mse = np.mean((X_floats - pred_floats) ** 2)\n",
    "    return mse"
   ],
   "id": "99456064a07d2ee8",
   "outputs": [],
   "execution_count": 178
  },
  {
   "metadata": {
    "ExecuteTime": {
     "end_time": "2025-03-23T01:55:55.437008Z",
     "start_time": "2025-03-23T01:55:55.433175Z"
    }
   },
   "cell_type": "code",
   "source": [
    "def reconstruction_accuracy(X, pred):\n",
    "    correct = np.sum(X == pred)\n",
    "    accuracy = correct / len(X)\n",
    "    return accuracy\n",
    "\n",
    "\n",
    "def test(tm, X, y):\n",
    "    X_0s = X[y == 0]\n",
    "    X_1s = X[y == 1]\n",
    "\n",
    "    pred_0s = tm.predict(X_0s)\n",
    "    pred_1s = tm.predict(X_1s)\n",
    "\n",
    "    r_0s = [mse_loss(X_0s[i], pred_0s[i]) for i in range(len(X_0s))]\n",
    "    r_1s = [mse_loss(X_1s[i], pred_1s[i]) for i in range(len(X_1s))]\n",
    "\n",
    "    return np.median(r_0s), np.median(r_1s), len(X_0s), len(X_1s)"
   ],
   "id": "7ecf95da10037720",
   "outputs": [],
   "execution_count": 179
  },
  {
   "cell_type": "code",
   "id": "initial_id",
   "metadata": {
    "ExecuteTime": {
     "end_time": "2025-03-23T01:55:55.460811Z",
     "start_time": "2025-03-23T01:55:55.457028Z"
    }
   },
   "source": [
    "def train(args):\n",
    "    tm = TMAutoEncoder(\n",
    "        number_of_clauses=args[\"num_clauses\"],\n",
    "        T=args[\"T\"],\n",
    "        s=args[\"s\"],\n",
    "        output_active=args[\"output_active\"],\n",
    "        max_included_literals=args[\"max_included_literals\"],\n",
    "        accumulation=args[\"accumulation\"],\n",
    "        feature_negation=args[\"feature_negation\"],\n",
    "        platform=args[\"platform\"],\n",
    "        output_balancing=args[\"output_balancing\"],\n",
    "    )\n",
    "\n",
    "    print(f\"Starting training for {args['epochs']} epochs\")\n",
    "\n",
    "    for e in range(args[\"epochs\"]):\n",
    "        tm.fit(X_train, number_of_examples=args[\"number_of_examples\"])\n",
    "\n",
    "        nra, ara, nc, ac = test(tm, X_test, y_test)\n",
    "        print(f\"Epoch: {e + 1} MAccN: {nra}, MAccA: {ara}, NCount: {nc}, ACount: {ac}\")\n",
    "\n",
    "        save_model(tm, f\"latest_{e}.pkl\")\n"
   ],
   "outputs": [],
   "execution_count": 180
  },
  {
   "cell_type": "code",
   "id": "d4dc7e4da5c88e88",
   "metadata": {
    "ExecuteTime": {
     "end_time": "2025-03-23T02:04:44.917551Z",
     "start_time": "2025-03-23T01:55:55.499868Z"
    }
   },
   "source": [
    "number_of_features = X_train.shape[1]\n",
    "output_active = np.arange(number_of_features, dtype=np.uint32)\n",
    "\n",
    "number_of_clauses = 500\n",
    "\n",
    "args: dict = {\n",
    "    \"clause_weight_threshold\": 1,\n",
    "    \"number_of_examples\": 100,\n",
    "    \"output_active\": output_active,\n",
    "    \"accumulation\": 1,\n",
    "    \"num_clauses\": number_of_clauses,\n",
    "    \"T\": int(number_of_clauses * 75),\n",
    "    \"s\": 25,\n",
    "    \"epochs\": 25,\n",
    "    \"platform\": \"CPU\",\n",
    "    \"output_balancing\": 0,\n",
    "    \"max_included_literals\": number_of_features,\n",
    "    \"feature_negation\": True,\n",
    "}\n",
    "\n",
    "result = train(args)"
   ],
   "outputs": [
    {
     "name": "stdout",
     "output_type": "stream",
     "text": [
      "Starting training for 25 epochs\n",
      "Epoch: 1 MAccN: 0.05463786585093304, MAccA: 0.06367884622333377, NCount: 424, ACount: 3018\n",
      "Epoch: 2 MAccN: 0.03140254682471859, MAccA: 0.04384847787658412, NCount: 424, ACount: 3018\n",
      "Epoch: 3 MAccN: 0.02393907401054838, MAccA: 0.03642326204051679, NCount: 424, ACount: 3018\n",
      "Epoch: 4 MAccN: 0.019103910447103037, MAccA: 0.034731408232285904, NCount: 424, ACount: 3018\n",
      "Epoch: 5 MAccN: 0.018708954040416434, MAccA: 0.03352468546552992, NCount: 424, ACount: 3018\n",
      "Epoch: 6 MAccN: 0.017157113340066706, MAccA: 0.03265889572241332, NCount: 424, ACount: 3018\n",
      "Epoch: 7 MAccN: 0.014604371353443762, MAccA: 0.032244474618264546, NCount: 424, ACount: 3018\n",
      "Epoch: 8 MAccN: 0.015876371637416006, MAccA: 0.03064529931272277, NCount: 424, ACount: 3018\n",
      "Epoch: 9 MAccN: 0.015955053253111882, MAccA: 0.030673974351120417, NCount: 424, ACount: 3018\n",
      "Epoch: 10 MAccN: 0.01681602990740148, MAccA: 0.029521664261360915, NCount: 424, ACount: 3018\n",
      "Epoch: 11 MAccN: 0.015664861156720437, MAccA: 0.02918373057064866, NCount: 424, ACount: 3018\n",
      "Epoch: 12 MAccN: 0.015768121376757163, MAccA: 0.028789269628988354, NCount: 424, ACount: 3018\n",
      "Epoch: 13 MAccN: 0.015566821014639472, MAccA: 0.029489644834035676, NCount: 424, ACount: 3018\n",
      "Epoch: 14 MAccN: 0.014779712887218747, MAccA: 0.02973277660051748, NCount: 424, ACount: 3018\n",
      "Epoch: 15 MAccN: 0.013093043766584584, MAccA: 0.029102677800898296, NCount: 424, ACount: 3018\n",
      "Epoch: 16 MAccN: 0.013625049338584272, MAccA: 0.028474392757179, NCount: 424, ACount: 3018\n",
      "Epoch: 17 MAccN: 0.014564256381492216, MAccA: 0.028495972028592716, NCount: 424, ACount: 3018\n",
      "Epoch: 18 MAccN: 0.013199338709907457, MAccA: 0.027666820154653746, NCount: 424, ACount: 3018\n",
      "Epoch: 19 MAccN: 0.013003550396207455, MAccA: 0.027751332331998512, NCount: 424, ACount: 3018\n",
      "Epoch: 20 MAccN: 0.012518605154117405, MAccA: 0.02788785064192626, NCount: 424, ACount: 3018\n",
      "Epoch: 21 MAccN: 0.012700520447080744, MAccA: 0.028485761910014843, NCount: 424, ACount: 3018\n",
      "Epoch: 22 MAccN: 0.013671906173929528, MAccA: 0.029230782052968536, NCount: 424, ACount: 3018\n",
      "Epoch: 23 MAccN: 0.013877126018308919, MAccA: 0.029176378223561814, NCount: 424, ACount: 3018\n",
      "Epoch: 24 MAccN: 0.013867712182809043, MAccA: 0.029381137993273923, NCount: 424, ACount: 3018\n",
      "Epoch: 25 MAccN: 0.014028632145282521, MAccA: 0.03019827484032489, NCount: 424, ACount: 3018\n"
     ]
    }
   ],
   "execution_count": 181
  }
 ],
 "metadata": {
  "kernelspec": {
   "display_name": "Python 3 (ipykernel)",
   "language": "python",
   "name": "python3"
  },
  "language_info": {
   "codemirror_mode": {
    "name": "ipython",
    "version": 3
   },
   "file_extension": ".py",
   "mimetype": "text/x-python",
   "name": "python",
   "nbconvert_exporter": "python",
   "pygments_lexer": "ipython3",
   "version": "3.11.6"
  }
 },
 "nbformat": 4,
 "nbformat_minor": 5
}
