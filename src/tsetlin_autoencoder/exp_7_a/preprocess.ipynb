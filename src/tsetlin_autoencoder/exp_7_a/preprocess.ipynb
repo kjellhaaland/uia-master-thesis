{
 "cells": [
  {
   "metadata": {},
   "cell_type": "markdown",
   "source": [
    "## Experiment description\n",
    "\n",
    "The goal of this notebook is to preprocess all datasets in Wind Farm C to a binary format that can be used for training a TM Classifier."
   ],
   "id": "e85b94674bcffa5c"
  },
  {
   "metadata": {
    "ExecuteTime": {
     "end_time": "2025-03-23T01:46:47.277456Z",
     "start_time": "2025-03-23T01:46:47.221670Z"
    }
   },
   "cell_type": "code",
   "source": [
    "# Import all required libraries\n",
    "\n",
    "import pandas as pd\n",
    "import numpy as np\n",
    "import os"
   ],
   "id": "a7fa0f63187f7de2",
   "outputs": [],
   "execution_count": 88
  },
  {
   "metadata": {
    "ExecuteTime": {
     "end_time": "2025-03-23T01:46:47.290542Z",
     "start_time": "2025-03-23T01:46:47.282253Z"
    }
   },
   "cell_type": "code",
   "source": [
    "wind_farm = \"A\"\n",
    "train_datasets = [25, 69, 13, 24, 3, 17, 38, 71, 14, 92, 51]\n",
    "test_datasets = [68, 22, 72, 73, 0, 26, 40, 42, 10, 45, 84, 25, 69, 13, 24, 3, 17, 38, 71, 14, 92, 51]"
   ],
   "id": "7de2a6ba82e2aea6",
   "outputs": [],
   "execution_count": 89
  },
  {
   "metadata": {
    "ExecuteTime": {
     "end_time": "2025-03-23T01:46:47.322036Z",
     "start_time": "2025-03-23T01:46:47.318284Z"
    }
   },
   "cell_type": "code",
   "source": [
    "# Create folders data_test and data_train if they do not exist\n",
    "os.makedirs(\"data_test\", exist_ok=True)\n",
    "os.makedirs(\"data_train\", exist_ok=True)"
   ],
   "id": "33fcab2e88c188e5",
   "outputs": [],
   "execution_count": 90
  },
  {
   "metadata": {
    "ExecuteTime": {
     "end_time": "2025-03-23T01:46:47.334947Z",
     "start_time": "2025-03-23T01:46:47.327884Z"
    }
   },
   "cell_type": "code",
   "source": [
    "exclude_columns = [\"time_stamp\", \"asset_id\", \"id\"]\n",
    "\n",
    "\n",
    "def load_df_and_annotate_anomalies(farm, event_id):\n",
    "    path = f\"../../../data/care_to_compare/Wind Farm {farm}/datasets/{event_id}.csv\"\n",
    "    df = pd.read_csv(path, delimiter=';')\n",
    "\n",
    "    event_info = pd.read_csv(f\"../../../data/care_to_compare/Wind Farm {farm}/event_info.csv\", delimiter=';')\n",
    "\n",
    "    # Find the row where event_id = event_id\n",
    "    metadata = event_info[event_info['event_id'] == event_id]\n",
    "\n",
    "    event_label = metadata[\"event_label\"].values[0]\n",
    "    event_start_id = metadata[\"event_start_id\"].values[0]\n",
    "    event_end_id = metadata[\"event_end_id\"].values[0]\n",
    "\n",
    "    label_value = 1 if event_label == \"anomaly\" else 0\n",
    "\n",
    "    # All rows where the column \"id\" is between event_start_id and event_end_id\n",
    "    df['label'] = 0\n",
    "    df.loc[(df['id'] >= event_start_id) & (df['id'] <= event_end_id), 'label'] = label_value\n",
    "\n",
    "    # Include all columns except for the ones in exclude_columns\n",
    "    df = df[[col for col in df.columns if col not in exclude_columns]]\n",
    "\n",
    "    # Remove columns with suffixes in exclude_columns_with_suffix\n",
    "    df = df[[col for col in df.columns if not col.endswith('_max')]]\n",
    "    df = df[[col for col in df.columns if not col.endswith('_min')]]\n",
    "    df = df[[col for col in df.columns if not col.endswith('_std')]]\n",
    "\n",
    "    # Replace inf values with NaN and drop rows with NaN values\n",
    "    df.replace([np.inf, -np.inf], np.nan, inplace=True)\n",
    "    df.dropna(inplace=True)\n",
    "\n",
    "    return df"
   ],
   "id": "890df7a6f9bbbd18",
   "outputs": [],
   "execution_count": 91
  },
  {
   "metadata": {
    "ExecuteTime": {
     "end_time": "2025-03-23T01:46:47.342792Z",
     "start_time": "2025-03-23T01:46:47.339304Z"
    }
   },
   "cell_type": "code",
   "source": [
    "def calculate_min_max(farm, dataset_ids):\n",
    "    # For each column get the min and max value\n",
    "    min_max_values = {}\n",
    "\n",
    "    for dataset_id in dataset_ids:\n",
    "        df = load_df_and_annotate_anomalies(farm, dataset_id)\n",
    "\n",
    "        for col in df.columns:\n",
    "            min_val = df[col].min()\n",
    "            max_val = df[col].max()\n",
    "\n",
    "            if col not in min_max_values:\n",
    "                min_max_values[col] = (min_val, max_val)\n",
    "            else:\n",
    "                current_min, current_max = min_max_values[col]\n",
    "                min_max_values[col] = (min(min_val, current_min), max(max_val, current_max))\n",
    "\n",
    "    return min_max_values"
   ],
   "id": "a044eef9e1b7a0f8",
   "outputs": [],
   "execution_count": 92
  },
  {
   "metadata": {
    "ExecuteTime": {
     "end_time": "2025-03-23T01:46:47.354709Z",
     "start_time": "2025-03-23T01:46:47.347863Z"
    }
   },
   "cell_type": "code",
   "source": [
    "def convert_to_bit_integers_log(df, minmax, bits_per_column=8):\n",
    "    normalized_df = df.copy()\n",
    "\n",
    "    for col in df.columns:\n",
    "        min_val = minmax[col][0]\n",
    "        max_val = minmax[col][1]\n",
    "\n",
    "        # If all values are 0, then set all values to 0\n",
    "        if min_val == 0 and max_val == 0:\n",
    "            normalized_df[col] = 0\n",
    "            continue\n",
    "\n",
    "        shifted = normalized_df[col] - min_val + 1\n",
    "        log_data = np.log1p(shifted)\n",
    "\n",
    "        global_log_min = np.log1p(1)  # log1p(1) because shift guarantees min = 1\n",
    "        global_log_max = np.log1p(max_val - min_val + 1)  # Max in transformed space\n",
    "\n",
    "        normalized_df[col] = (log_data - global_log_min) / (global_log_max - global_log_min) * (\n",
    "                (2 ** bits_per_column) - 1)\n",
    "\n",
    "    # Convert the normalized values to integers\n",
    "    int_df = normalized_df.astype(int)\n",
    "\n",
    "    # Flatten each row into an array of 10-bit integers\n",
    "    int_arrays = int_df.apply(lambda row: row.values.flatten(), axis=1).tolist()\n",
    "\n",
    "    # Represent each cell as a 10-bit integer string\n",
    "    bin_arrays = [[f\"{cell:0{bits_per_column}b}\" for cell in row] for row in int_arrays]\n",
    "\n",
    "    # Split each 10-bit integer string into individual integers for each row\n",
    "    # preserve the columns of bin_arrays\n",
    "    bin_int_arrays = [[int(cell) for cell in list(''.join(row))] for row in bin_arrays]\n",
    "\n",
    "    # Convert to numpy array\n",
    "    int_arrays = np.array(bin_int_arrays)\n",
    "\n",
    "    return int_arrays\n",
    "\n",
    "\n",
    "def convert_to_bit_integers(df, minmax, bits_per_column=8):\n",
    "    normalized_df = df.copy()\n",
    "\n",
    "    for col in df.columns:\n",
    "        min_val = minmax[col][0]\n",
    "        max_val = minmax[col][1]\n",
    "\n",
    "        # If all values are the same, set all to 0\n",
    "        if min_val == max_val:\n",
    "            normalized_df[col] = 0\n",
    "            continue\n",
    "\n",
    "        # Min-Max normalization\n",
    "        normalized_df[col] = (normalized_df[col] - min_val) / (max_val - min_val)\n",
    "        normalized_df[col] *= (2 ** bits_per_column) - 1\n",
    "\n",
    "    # Convert the normalized values to integers\n",
    "    int_df = normalized_df.astype(int)\n",
    "\n",
    "    # Flatten each row into an array of bit integers\n",
    "    int_arrays = int_df.apply(lambda row: row.values.flatten(), axis=1).tolist()\n",
    "\n",
    "    # Convert each integer to a binary string of fixed length\n",
    "    bin_arrays = [[f\"{cell:0{bits_per_column}b}\" for cell in row] for row in int_arrays]\n",
    "\n",
    "    # Convert binary strings into individual bits\n",
    "    bin_int_arrays = [[int(bit) for bit in ''.join(row)] for row in bin_arrays]\n",
    "\n",
    "    # Convert to numpy array\n",
    "    int_arrays = np.array(bin_int_arrays)\n",
    "\n",
    "    return int_arrays"
   ],
   "id": "383106dfae1e5bf4",
   "outputs": [],
   "execution_count": 93
  },
  {
   "metadata": {
    "ExecuteTime": {
     "end_time": "2025-03-23T01:46:47.369489Z",
     "start_time": "2025-03-23T01:46:47.361895Z"
    }
   },
   "cell_type": "code",
   "source": [
    "def binarize_dataset_for_training(farm, event_id, output_path, min_max_values, bits_per_column=8):\n",
    "    # Load original dataset from file\n",
    "    df = load_df_and_annotate_anomalies(farm, event_id)\n",
    "    df = df[df['train_test'] == 'train']\n",
    "\n",
    "    # Remove all rows where status_type_id is not 0 or 2\n",
    "    df = df[df['status_type_id'].isin([0, 2])]\n",
    "\n",
    "    # Split into data and labels\n",
    "    X_values = df.drop(columns=['label', 'train_test', 'status_type_id'])\n",
    "    y_values = df['label']\n",
    "\n",
    "    X_values = X_values.apply(pd.to_numeric, errors='coerce')\n",
    "    X_values = X_values.dropna(axis=1)\n",
    "\n",
    "    # Print number of columns\n",
    "    print(f\"Number of features: {len(X_values.columns)}\")\n",
    "\n",
    "    X_values_bin = convert_to_bit_integers(X_values, min_max_values, bits_per_column).astype(np.uint32)\n",
    "    y_values_bin = y_values.values.astype(np.uint32)\n",
    "\n",
    "    print(f\"Number of columns: {X_values_bin.shape[1]}\")\n",
    "\n",
    "    # Output to file using np\n",
    "    np.savetxt(f\"{output_path}/X_{farm}_{event_id}.txt\", X_values_bin, fmt='%d')\n",
    "    np.savetxt(f\"{output_path}/y_{farm}_{event_id}.txt\", y_values_bin, fmt='%d')\n",
    "\n",
    "    num_1s = np.count_nonzero(y_values_bin == 1)\n",
    "    num_0s = np.count_nonzero(y_values_bin == 0)\n",
    "\n",
    "    print(f\"Saved {event_id} to {output_path}\")\n",
    "    print(f\"Number of 1s: {num_1s}, Number of 0s: {num_0s}\")\n",
    "\n",
    "\n",
    "def binarize_dataset_for_testing(farm, event_id, output_path, min_max_values, bits_per_column=8):\n",
    "    # Load original dataset from file\n",
    "    df = load_df_and_annotate_anomalies(farm, event_id)\n",
    "\n",
    "    df = df[df['train_test'] == 'prediction']\n",
    "    #df = df[df['status_type_id'].isin([0, 2])]\n",
    "    #df = df[df['label'] == 1]\n",
    "\n",
    "    # Split into data and labels\n",
    "    X_values = df.drop(columns=['label', 'train_test', 'status_type_id'])\n",
    "    y_values = df['label']\n",
    "    z_values = df['status_type_id']\n",
    "\n",
    "    X_values = X_values.apply(pd.to_numeric, errors='coerce')\n",
    "    X_values = X_values.dropna(axis=1)\n",
    "\n",
    "    # Print number of columns\n",
    "    print(f\"Number of features: {len(X_values.columns)}\")\n",
    "\n",
    "    X_values_bin = convert_to_bit_integers(X_values, min_max_values, bits_per_column).astype(np.uint32)\n",
    "    y_values_bin = y_values.values.astype(np.uint32)\n",
    "    z_valued_bin = z_values.values.astype(np.uint32)\n",
    "\n",
    "    print(f\"Number of columns: {X_values_bin.shape[1]}\")\n",
    "\n",
    "    # Output to file using np\n",
    "    np.savetxt(f\"{output_path}/X_{farm}_{event_id}.txt\", X_values_bin, fmt='%d')\n",
    "    np.savetxt(f\"{output_path}/y_{farm}_{event_id}.txt\", y_values_bin, fmt='%d')\n",
    "    np.savetxt(f\"{output_path}/z_{farm}_{event_id}.txt\", z_valued_bin, fmt='%d')\n",
    "\n",
    "    num_1s = np.count_nonzero(y_values_bin == 1)\n",
    "    num_0s = np.count_nonzero(y_values_bin == 0)\n",
    "\n",
    "    print(f\"Saved {event_id} to {output_path}\")\n",
    "    print(f\"Number of 1s: {num_1s}, Number of 0s: {num_0s}\")"
   ],
   "id": "67a9eb610d672ee3",
   "outputs": [],
   "execution_count": 94
  },
  {
   "metadata": {
    "ExecuteTime": {
     "end_time": "2025-03-23T01:46:54.215475Z",
     "start_time": "2025-03-23T01:46:47.375134Z"
    }
   },
   "cell_type": "code",
   "source": [
    "min_max_values_dict = calculate_min_max(wind_farm, test_datasets)\n",
    "\n",
    "# Save to file\n",
    "with open(\"min_max_values.txt\", \"w\") as f:\n",
    "    for key, value in min_max_values_dict.items():\n",
    "        f.write(f\"{key}: {value}\\n\")"
   ],
   "id": "b140f91bb2a74030",
   "outputs": [],
   "execution_count": 95
  },
  {
   "metadata": {
    "ExecuteTime": {
     "end_time": "2025-03-23T01:46:54.222803Z",
     "start_time": "2025-03-23T01:46:54.220112Z"
    }
   },
   "cell_type": "code",
   "source": "bits = 10",
   "id": "a824517b052b4a92",
   "outputs": [],
   "execution_count": 96
  },
  {
   "metadata": {
    "ExecuteTime": {
     "end_time": "2025-03-23T01:47:06.671251Z",
     "start_time": "2025-03-23T01:46:54.231008Z"
    }
   },
   "cell_type": "code",
   "source": [
    "for dataset in test_datasets:\n",
    "    binarize_dataset_for_testing(wind_farm, dataset, \"./data_test\", min_max_values_dict, bits)"
   ],
   "id": "e879c62b0a552f43",
   "outputs": [
    {
     "name": "stdout",
     "output_type": "stream",
     "text": [
      "Number of features: 54\n",
      "Number of columns: 540\n",
      "Saved 68 to ./data_test\n",
      "Number of 1s: 2014, Number of 0s: 281\n",
      "Number of features: 54\n",
      "Number of columns: 540\n",
      "Saved 22 to ./data_test\n",
      "Number of 1s: 1004, Number of 0s: 143\n",
      "Number of features: 54\n",
      "Number of columns: 540\n",
      "Saved 72 to ./data_test\n",
      "Number of 1s: 1009, Number of 0s: 1008\n",
      "Number of features: 54\n",
      "Number of columns: 540\n",
      "Saved 73 to ./data_test\n",
      "Number of 1s: 1009, Number of 0s: 720\n",
      "Number of features: 54\n",
      "Number of columns: 540\n",
      "Saved 0 to ./data_test\n",
      "Number of 1s: 2011, Number of 0s: 826\n",
      "Number of features: 54\n",
      "Number of columns: 540\n",
      "Saved 26 to ./data_test\n",
      "Number of 1s: 1009, Number of 0s: 432\n",
      "Number of features: 54\n",
      "Number of columns: 540\n",
      "Saved 40 to ./data_test\n",
      "Number of 1s: 4506, Number of 0s: 431\n",
      "Number of features: 54\n",
      "Number of columns: 540\n",
      "Saved 42 to ./data_test\n",
      "Number of 1s: 1007, Number of 0s: 576\n",
      "Number of features: 54\n",
      "Number of columns: 540\n",
      "Saved 10 to ./data_test\n",
      "Number of 1s: 981, Number of 0s: 288\n",
      "Number of features: 54\n",
      "Number of columns: 540\n",
      "Saved 45 to ./data_test\n",
      "Number of 1s: 1008, Number of 0s: 432\n",
      "Number of features: 54\n",
      "Number of columns: 540\n",
      "Saved 84 to ./data_test\n",
      "Number of 1s: 1005, Number of 0s: 432\n",
      "Number of features: 54\n",
      "Number of columns: 540\n",
      "Saved 25 to ./data_test\n",
      "Number of 1s: 0, Number of 0s: 2423\n",
      "Number of features: 54\n",
      "Number of columns: 540\n",
      "Saved 69 to ./data_test\n",
      "Number of 1s: 0, Number of 0s: 2593\n",
      "Number of features: 54\n",
      "Number of columns: 540\n",
      "Saved 13 to ./data_test\n",
      "Number of 1s: 0, Number of 0s: 3583\n",
      "Number of features: 54\n",
      "Number of columns: 540\n",
      "Saved 24 to ./data_test\n",
      "Number of 1s: 0, Number of 0s: 2714\n",
      "Number of features: 54\n",
      "Number of columns: 540\n",
      "Saved 3 to ./data_test\n",
      "Number of 1s: 0, Number of 0s: 3302\n",
      "Number of features: 54\n",
      "Number of columns: 540\n",
      "Saved 17 to ./data_test\n",
      "Number of 1s: 0, Number of 0s: 2781\n",
      "Number of features: 54\n",
      "Number of columns: 540\n",
      "Saved 38 to ./data_test\n",
      "Number of 1s: 0, Number of 0s: 2544\n",
      "Number of features: 54\n",
      "Number of columns: 540\n",
      "Saved 71 to ./data_test\n",
      "Number of 1s: 0, Number of 0s: 2449\n",
      "Number of features: 54\n",
      "Number of columns: 540\n",
      "Saved 14 to ./data_test\n",
      "Number of 1s: 0, Number of 0s: 1901\n",
      "Number of features: 54\n",
      "Number of columns: 540\n",
      "Saved 92 to ./data_test\n",
      "Number of 1s: 0, Number of 0s: 1774\n",
      "Number of features: 54\n",
      "Number of columns: 540\n",
      "Saved 51 to ./data_test\n",
      "Number of 1s: 0, Number of 0s: 2393\n"
     ]
    }
   ],
   "execution_count": 97
  },
  {
   "metadata": {
    "ExecuteTime": {
     "end_time": "2025-03-23T01:48:03.436205Z",
     "start_time": "2025-03-23T01:47:06.676616Z"
    }
   },
   "cell_type": "code",
   "source": [
    "for dataset in train_datasets:\n",
    "    binarize_dataset_for_training(wind_farm, dataset, \"./data_train\", min_max_values_dict, bits)"
   ],
   "id": "a312821be058472e",
   "outputs": [
    {
     "name": "stdout",
     "output_type": "stream",
     "text": [
      "Number of features: 54\n",
      "Number of columns: 540\n",
      "Saved 25 to ./data_train\n",
      "Number of 1s: 0, Number of 0s: 40838\n",
      "Number of features: 54\n",
      "Number of columns: 540\n",
      "Saved 69 to ./data_train\n",
      "Number of 1s: 0, Number of 0s: 38885\n",
      "Number of features: 54\n",
      "Number of columns: 540\n",
      "Saved 13 to ./data_train\n",
      "Number of 1s: 0, Number of 0s: 40074\n",
      "Number of features: 54\n",
      "Number of columns: 540\n",
      "Saved 24 to ./data_train\n",
      "Number of 1s: 0, Number of 0s: 40494\n",
      "Number of features: 54\n",
      "Number of columns: 540\n",
      "Saved 3 to ./data_train\n",
      "Number of 1s: 0, Number of 0s: 36877\n",
      "Number of features: 54\n",
      "Number of columns: 540\n",
      "Saved 17 to ./data_train\n",
      "Number of 1s: 0, Number of 0s: 35328\n",
      "Number of features: 54\n",
      "Number of columns: 540\n",
      "Saved 38 to ./data_train\n",
      "Number of 1s: 0, Number of 0s: 38484\n",
      "Number of features: 54\n",
      "Number of columns: 540\n",
      "Saved 71 to ./data_train\n",
      "Number of 1s: 0, Number of 0s: 40161\n",
      "Number of features: 54\n",
      "Number of columns: 540\n",
      "Saved 14 to ./data_train\n",
      "Number of 1s: 0, Number of 0s: 39143\n",
      "Number of features: 54\n",
      "Number of columns: 540\n",
      "Saved 92 to ./data_train\n",
      "Number of 1s: 0, Number of 0s: 40462\n",
      "Number of features: 54\n",
      "Number of columns: 540\n",
      "Saved 51 to ./data_train\n",
      "Number of 1s: 0, Number of 0s: 39749\n"
     ]
    }
   ],
   "execution_count": 98
  }
 ],
 "metadata": {
  "kernelspec": {
   "display_name": "Python 3",
   "language": "python",
   "name": "python3"
  },
  "language_info": {
   "codemirror_mode": {
    "name": "ipython",
    "version": 2
   },
   "file_extension": ".py",
   "mimetype": "text/x-python",
   "name": "python",
   "nbconvert_exporter": "python",
   "pygments_lexer": "ipython2",
   "version": "2.7.6"
  }
 },
 "nbformat": 4,
 "nbformat_minor": 5
}
