{
 "cells": [
  {
   "metadata": {},
   "cell_type": "markdown",
   "source": [
    "## Experiment description\n",
    "\n",
    "The goal of this notebook is to preprocess all datasets in Wind Farm C to a binary format that can be used for training a TM Classifier."
   ],
   "id": "e85b94674bcffa5c"
  },
  {
   "metadata": {
    "ExecuteTime": {
     "end_time": "2025-03-22T15:19:52.593192Z",
     "start_time": "2025-03-22T15:19:52.570552Z"
    }
   },
   "cell_type": "code",
   "source": [
    "# Import all required libraries\n",
    "\n",
    "import pandas as pd\n",
    "import numpy as np\n",
    "import os"
   ],
   "id": "a7fa0f63187f7de2",
   "outputs": [],
   "execution_count": 12
  },
  {
   "metadata": {
    "ExecuteTime": {
     "end_time": "2025-03-22T15:19:52.611953Z",
     "start_time": "2025-03-22T15:19:52.602642Z"
    }
   },
   "cell_type": "code",
   "source": [
    "wind_farm = \"B\"\n",
    "train_datasets = [83, 52, 21, 2, 23, 87, 74, 86, 82]\n",
    "test_datasets = [34, 7, 53, 27, 19, 77, 83, 52, 21, 2, 23, 87, 74, 86, 82]\n"
   ],
   "id": "7de2a6ba82e2aea6",
   "outputs": [],
   "execution_count": 13
  },
  {
   "metadata": {
    "ExecuteTime": {
     "end_time": "2025-03-22T15:19:52.628182Z",
     "start_time": "2025-03-22T15:19:52.624294Z"
    }
   },
   "cell_type": "code",
   "source": [
    "# Create folders data_test and data_train if they do not exist\n",
    "os.makedirs(\"data_test\", exist_ok=True)\n",
    "os.makedirs(\"data_train\", exist_ok=True)"
   ],
   "id": "33fcab2e88c188e5",
   "outputs": [],
   "execution_count": 14
  },
  {
   "metadata": {
    "ExecuteTime": {
     "end_time": "2025-03-22T15:19:52.652437Z",
     "start_time": "2025-03-22T15:19:52.643342Z"
    }
   },
   "cell_type": "code",
   "source": [
    "exclude_columns = [\"time_stamp\", \"asset_id\", \"id\"]\n",
    "\n",
    "\n",
    "def load_df_and_annotate_anomalies(farm, event_id):\n",
    "    path = f\"../../../data/care_to_compare/Wind Farm {farm}/datasets/{event_id}.csv\"\n",
    "    df = pd.read_csv(path, delimiter=';')\n",
    "\n",
    "    event_info = pd.read_csv(f\"../../../data/care_to_compare/Wind Farm {farm}/event_info.csv\", delimiter=';')\n",
    "\n",
    "    # Find the row where event_id = event_id\n",
    "    metadata = event_info[event_info['event_id'] == event_id]\n",
    "\n",
    "    event_label = metadata[\"event_label\"].values[0]\n",
    "    event_start_id = metadata[\"event_start_id\"].values[0]\n",
    "    event_end_id = metadata[\"event_end_id\"].values[0]\n",
    "\n",
    "    label_value = 1 if event_label == \"anomaly\" else 0\n",
    "\n",
    "    # All rows where the column \"id\" is between event_start_id and event_end_id\n",
    "    df['label'] = 0\n",
    "    df.loc[(df['id'] >= event_start_id) & (df['id'] <= event_end_id), 'label'] = label_value\n",
    "\n",
    "    # Include all columns except for the ones in exclude_columns\n",
    "    df = df[[col for col in df.columns if col not in exclude_columns]]\n",
    "\n",
    "    # Remove columns with suffixes in exclude_columns_with_suffix\n",
    "    df = df[[col for col in df.columns if not col.endswith('_max')]]\n",
    "    df = df[[col for col in df.columns if not col.endswith('_min')]]\n",
    "    df = df[[col for col in df.columns if not col.endswith('_std')]]\n",
    "\n",
    "    return df"
   ],
   "id": "890df7a6f9bbbd18",
   "outputs": [],
   "execution_count": 15
  },
  {
   "metadata": {
    "ExecuteTime": {
     "end_time": "2025-03-22T15:19:52.662467Z",
     "start_time": "2025-03-22T15:19:52.657308Z"
    }
   },
   "cell_type": "code",
   "source": [
    "def calculate_min_max(farm, dataset_ids):\n",
    "    # For each column get the min and max value\n",
    "    min_max_values = {}\n",
    "\n",
    "    for dataset_id in dataset_ids:\n",
    "        df = load_df_and_annotate_anomalies(farm, dataset_id)\n",
    "\n",
    "        for col in df.columns:\n",
    "            min_val = df[col].min()\n",
    "            max_val = df[col].max()\n",
    "\n",
    "            if col not in min_max_values:\n",
    "                min_max_values[col] = (min_val, max_val)\n",
    "            else:\n",
    "                current_min, current_max = min_max_values[col]\n",
    "                min_max_values[col] = (min(min_val, current_min), max(max_val, current_max))\n",
    "\n",
    "    return min_max_values"
   ],
   "id": "a044eef9e1b7a0f8",
   "outputs": [],
   "execution_count": 16
  },
  {
   "metadata": {
    "ExecuteTime": {
     "end_time": "2025-03-22T15:19:52.672398Z",
     "start_time": "2025-03-22T15:19:52.667333Z"
    }
   },
   "cell_type": "code",
   "source": [
    "def convert_to_bit_integers(df, minmax, bits_per_column=8):\n",
    "    normalized_df = df.copy()\n",
    "\n",
    "    for col in df.columns:\n",
    "        min_val = minmax[col][0]\n",
    "        max_val = minmax[col][1]\n",
    "\n",
    "        shifted = normalized_df[col] - min_val + 1\n",
    "        log_data = np.log1p(shifted)\n",
    "\n",
    "        global_log_min = np.log1p(1)  # log1p(1) because shift guarantees min = 1\n",
    "        global_log_max = np.log1p(max_val - min_val + 1)  # Max in transformed space\n",
    "\n",
    "        normalized_df[col] = (log_data - global_log_min) / (global_log_max - global_log_min) * (\n",
    "                (2 ** bits_per_column) - 1)\n",
    "\n",
    "    # Convert the normalized values to integers\n",
    "    int_df = normalized_df.astype(int)\n",
    "\n",
    "    # Flatten each row into an array of 10-bit integers\n",
    "    int_arrays = int_df.apply(lambda row: row.values.flatten(), axis=1).tolist()\n",
    "\n",
    "    # Represent each cell as a 10-bit integer string\n",
    "    bin_arrays = [[f\"{cell:0{bits_per_column}b}\" for cell in row] for row in int_arrays]\n",
    "\n",
    "    # Split each 10-bit integer string into individual integers for each row\n",
    "    # preserve the columns of bin_arrays\n",
    "    bin_int_arrays = [[int(cell) for cell in list(''.join(row))] for row in bin_arrays]\n",
    "\n",
    "    # Convert to numpy array\n",
    "    int_arrays = np.array(bin_int_arrays)\n",
    "\n",
    "    return int_arrays"
   ],
   "id": "383106dfae1e5bf4",
   "outputs": [],
   "execution_count": 17
  },
  {
   "metadata": {
    "ExecuteTime": {
     "end_time": "2025-03-22T15:19:52.690367Z",
     "start_time": "2025-03-22T15:19:52.677498Z"
    }
   },
   "cell_type": "code",
   "source": [
    "def binarize_dataset_for_training(farm, event_id, output_path, min_max_values, bits_per_column=8):\n",
    "    # Load original dataset from file\n",
    "    df = load_df_and_annotate_anomalies(farm, event_id)\n",
    "    df = df[df['train_test'] == 'train']\n",
    "\n",
    "    # Remove all rows where status_type_id is not 0 or 2\n",
    "    df = df[df['status_type_id'].isin([0, 2])]\n",
    "\n",
    "    # Split into data and labels\n",
    "    X_values = df.drop(columns=['label', 'train_test', 'status_type_id'])\n",
    "    y_values = df['label']\n",
    "\n",
    "    X_values = X_values.apply(pd.to_numeric, errors='coerce')\n",
    "    X_values = X_values.dropna(axis=1)\n",
    "\n",
    "    # Print number of columns\n",
    "    print(f\"Number of features: {len(X_values.columns)}\")\n",
    "\n",
    "    X_values_bin = convert_to_bit_integers(X_values, min_max_values, bits_per_column).astype(np.uint32)\n",
    "    y_values_bin = y_values.values.astype(np.uint32)\n",
    "\n",
    "    print(f\"Number of columns: {X_values_bin.shape[1]}\")\n",
    "\n",
    "    # Output to file using np\n",
    "    np.savetxt(f\"{output_path}/X_{farm}_{event_id}.txt\", X_values_bin, fmt='%d')\n",
    "    np.savetxt(f\"{output_path}/y_{farm}_{event_id}.txt\", y_values_bin, fmt='%d')\n",
    "\n",
    "    num_1s = np.count_nonzero(y_values_bin == 1)\n",
    "    num_0s = np.count_nonzero(y_values_bin == 0)\n",
    "\n",
    "    print(f\"Saved {event_id} to {output_path}\")\n",
    "    print(f\"Number of 1s: {num_1s}, Number of 0s: {num_0s}\")\n",
    "\n",
    "\n",
    "def binarize_dataset_for_testing(farm, event_id, output_path, min_max_values, bits_per_column=8):\n",
    "    # Load original dataset from file\n",
    "    df = load_df_and_annotate_anomalies(farm, event_id)\n",
    "\n",
    "    #df = df[df['train_test'] == 'prediction']\n",
    "    #df = df[df['label'] == 1]\n",
    "\n",
    "    # Split into data and labels\n",
    "    X_values = df.drop(columns=['label', 'train_test', 'status_type_id'])\n",
    "    y_values = df['label']\n",
    "    z_values = df['status_type_id']\n",
    "\n",
    "    X_values = X_values.apply(pd.to_numeric, errors='coerce')\n",
    "    X_values = X_values.dropna(axis=1)\n",
    "\n",
    "    # Print number of columns\n",
    "    print(f\"Number of features: {len(X_values.columns)}\")\n",
    "\n",
    "    X_values_bin = convert_to_bit_integers(X_values, min_max_values, bits_per_column).astype(np.uint32)\n",
    "    y_values_bin = y_values.values.astype(np.uint32)\n",
    "    z_valued_bin = z_values.values.astype(np.uint32)\n",
    "\n",
    "    print(f\"Number of columns: {X_values_bin.shape[1]}\")\n",
    "\n",
    "    # Output to file using np\n",
    "    np.savetxt(f\"{output_path}/X_{farm}_{event_id}.txt\", X_values_bin, fmt='%d')\n",
    "    np.savetxt(f\"{output_path}/y_{farm}_{event_id}.txt\", y_values_bin, fmt='%d')\n",
    "    np.savetxt(f\"{output_path}/z_{farm}_{event_id}.txt\", z_valued_bin, fmt='%d')\n",
    "\n",
    "    num_1s = np.count_nonzero(y_values_bin == 1)\n",
    "    num_0s = np.count_nonzero(y_values_bin == 0)\n",
    "\n",
    "    print(f\"Saved {event_id} to {output_path}\")\n",
    "    print(f\"Number of 1s: {num_1s}, Number of 0s: {num_0s}\")"
   ],
   "id": "67a9eb610d672ee3",
   "outputs": [],
   "execution_count": 18
  },
  {
   "metadata": {
    "ExecuteTime": {
     "end_time": "2025-03-22T15:20:03.398556Z",
     "start_time": "2025-03-22T15:19:52.707164Z"
    }
   },
   "cell_type": "code",
   "source": [
    "min_max_values_dict = calculate_min_max(wind_farm, test_datasets)\n",
    "\n",
    "# Save to file\n",
    "with open(\"min_max_values.txt\", \"w\") as f:\n",
    "    for key, value in min_max_values_dict.items():\n",
    "        f.write(f\"{key}: {value}\\n\")"
   ],
   "id": "b140f91bb2a74030",
   "outputs": [],
   "execution_count": 19
  },
  {
   "metadata": {
    "ExecuteTime": {
     "end_time": "2025-03-22T15:20:03.417674Z",
     "start_time": "2025-03-22T15:20:03.414664Z"
    }
   },
   "cell_type": "code",
   "source": "bits = 5",
   "id": "a824517b052b4a92",
   "outputs": [],
   "execution_count": 20
  },
  {
   "metadata": {
    "ExecuteTime": {
     "end_time": "2025-03-22T15:21:23.116483Z",
     "start_time": "2025-03-22T15:20:03.431198Z"
    }
   },
   "cell_type": "code",
   "source": [
    "for dataset in test_datasets:\n",
    "    binarize_dataset_for_testing(wind_farm, dataset, \"./data_test\", min_max_values_dict, bits)"
   ],
   "id": "e879c62b0a552f43",
   "outputs": [
    {
     "name": "stdout",
     "output_type": "stream",
     "text": [
      "Number of features: 63\n",
      "Number of columns: 315\n",
      "Saved 34 to ./data_test\n",
      "Number of 1s: 3169, Number of 0s: 53395\n",
      "Number of features: 63\n",
      "Number of columns: 315\n",
      "Saved 7 to ./data_test\n",
      "Number of 1s: 4465, Number of 0s: 53423\n",
      "Number of features: 63\n",
      "Number of columns: 315\n",
      "Saved 53 to ./data_test\n",
      "Number of 1s: 6048, Number of 0s: 52559\n",
      "Number of features: 63\n",
      "Number of columns: 315\n",
      "Saved 27 to ./data_test\n",
      "Number of 1s: 8785, Number of 0s: 53483\n",
      "Number of features: 63\n",
      "Number of columns: 315\n",
      "Saved 19 to ./data_test\n",
      "Number of 1s: 2881, Number of 0s: 53393\n",
      "Number of features: 63\n",
      "Number of columns: 315\n",
      "Saved 77 to ./data_test\n",
      "Number of 1s: 8641, Number of 0s: 53135\n",
      "Number of features: 63\n",
      "Number of columns: 315\n",
      "Saved 83 to ./data_test\n",
      "Number of 1s: 0, Number of 0s: 66154\n",
      "Number of features: 63\n",
      "Number of columns: 315\n",
      "Saved 52 to ./data_test\n",
      "Number of 1s: 0, Number of 0s: 55268\n",
      "Number of features: 63\n",
      "Number of columns: 315\n",
      "Saved 21 to ./data_test\n",
      "Number of 1s: 0, Number of 0s: 53514\n",
      "Number of features: 63\n",
      "Number of columns: 315\n",
      "Saved 2 to ./data_test\n",
      "Number of 1s: 0, Number of 0s: 54774\n",
      "Number of features: 63\n",
      "Number of columns: 315\n",
      "Saved 23 to ./data_test\n",
      "Number of 1s: 0, Number of 0s: 54542\n",
      "Number of features: 63\n",
      "Number of columns: 315\n",
      "Saved 87 to ./data_test\n",
      "Number of 1s: 0, Number of 0s: 55356\n",
      "Number of features: 63\n",
      "Number of columns: 315\n",
      "Saved 74 to ./data_test\n",
      "Number of 1s: 0, Number of 0s: 55602\n",
      "Number of features: 63\n",
      "Number of columns: 315\n",
      "Saved 86 to ./data_test\n",
      "Number of 1s: 0, Number of 0s: 55486\n",
      "Number of features: 63\n",
      "Number of columns: 315\n",
      "Saved 82 to ./data_test\n",
      "Number of 1s: 0, Number of 0s: 54992\n"
     ]
    }
   ],
   "execution_count": 21
  },
  {
   "metadata": {
    "ExecuteTime": {
     "end_time": "2025-03-22T15:21:27.296982Z",
     "start_time": "2025-03-22T15:21:23.133717Z"
    }
   },
   "cell_type": "code",
   "source": [
    "for dataset in train_datasets:\n",
    "    binarize_dataset_for_training(wind_farm, dataset, \"./data_train\", min_max_values_dict, bits)"
   ],
   "id": "a312821be058472e",
   "outputs": [
    {
     "name": "stdout",
     "output_type": "stream",
     "text": [
      "Number of features: 63\n",
      "Number of columns: 315\n"
     ]
    },
    {
     "ename": "KeyboardInterrupt",
     "evalue": "",
     "output_type": "error",
     "traceback": [
      "\u001B[0;31m---------------------------------------------------------------------------\u001B[0m",
      "\u001B[0;31mKeyboardInterrupt\u001B[0m                         Traceback (most recent call last)",
      "Cell \u001B[0;32mIn[22], line 2\u001B[0m\n\u001B[1;32m      1\u001B[0m \u001B[38;5;28;01mfor\u001B[39;00m dataset \u001B[38;5;129;01min\u001B[39;00m train_datasets:\n\u001B[0;32m----> 2\u001B[0m     \u001B[43mbinarize_dataset_for_training\u001B[49m\u001B[43m(\u001B[49m\u001B[43mwind_farm\u001B[49m\u001B[43m,\u001B[49m\u001B[43m \u001B[49m\u001B[43mdataset\u001B[49m\u001B[43m,\u001B[49m\u001B[43m \u001B[49m\u001B[38;5;124;43m\"\u001B[39;49m\u001B[38;5;124;43m./data_train\u001B[39;49m\u001B[38;5;124;43m\"\u001B[39;49m\u001B[43m,\u001B[49m\u001B[43m \u001B[49m\u001B[43mmin_max_values_dict\u001B[49m\u001B[43m,\u001B[49m\u001B[43m \u001B[49m\u001B[43mbits\u001B[49m\u001B[43m)\u001B[49m\n",
      "Cell \u001B[0;32mIn[18], line 25\u001B[0m, in \u001B[0;36mbinarize_dataset_for_training\u001B[0;34m(farm, event_id, output_path, min_max_values, bits_per_column)\u001B[0m\n\u001B[1;32m     22\u001B[0m \u001B[38;5;28mprint\u001B[39m(\u001B[38;5;124mf\u001B[39m\u001B[38;5;124m\"\u001B[39m\u001B[38;5;124mNumber of columns: \u001B[39m\u001B[38;5;132;01m{\u001B[39;00mX_values_bin\u001B[38;5;241m.\u001B[39mshape[\u001B[38;5;241m1\u001B[39m]\u001B[38;5;132;01m}\u001B[39;00m\u001B[38;5;124m\"\u001B[39m)\n\u001B[1;32m     24\u001B[0m \u001B[38;5;66;03m# Output to file using np\u001B[39;00m\n\u001B[0;32m---> 25\u001B[0m \u001B[43mnp\u001B[49m\u001B[38;5;241;43m.\u001B[39;49m\u001B[43msavetxt\u001B[49m\u001B[43m(\u001B[49m\u001B[38;5;124;43mf\u001B[39;49m\u001B[38;5;124;43m\"\u001B[39;49m\u001B[38;5;132;43;01m{\u001B[39;49;00m\u001B[43moutput_path\u001B[49m\u001B[38;5;132;43;01m}\u001B[39;49;00m\u001B[38;5;124;43m/X_\u001B[39;49m\u001B[38;5;132;43;01m{\u001B[39;49;00m\u001B[43mfarm\u001B[49m\u001B[38;5;132;43;01m}\u001B[39;49;00m\u001B[38;5;124;43m_\u001B[39;49m\u001B[38;5;132;43;01m{\u001B[39;49;00m\u001B[43mevent_id\u001B[49m\u001B[38;5;132;43;01m}\u001B[39;49;00m\u001B[38;5;124;43m.txt\u001B[39;49m\u001B[38;5;124;43m\"\u001B[39;49m\u001B[43m,\u001B[49m\u001B[43m \u001B[49m\u001B[43mX_values_bin\u001B[49m\u001B[43m,\u001B[49m\u001B[43m \u001B[49m\u001B[43mfmt\u001B[49m\u001B[38;5;241;43m=\u001B[39;49m\u001B[38;5;124;43m'\u001B[39;49m\u001B[38;5;132;43;01m%d\u001B[39;49;00m\u001B[38;5;124;43m'\u001B[39;49m\u001B[43m)\u001B[49m\n\u001B[1;32m     26\u001B[0m np\u001B[38;5;241m.\u001B[39msavetxt(\u001B[38;5;124mf\u001B[39m\u001B[38;5;124m\"\u001B[39m\u001B[38;5;132;01m{\u001B[39;00moutput_path\u001B[38;5;132;01m}\u001B[39;00m\u001B[38;5;124m/y_\u001B[39m\u001B[38;5;132;01m{\u001B[39;00mfarm\u001B[38;5;132;01m}\u001B[39;00m\u001B[38;5;124m_\u001B[39m\u001B[38;5;132;01m{\u001B[39;00mevent_id\u001B[38;5;132;01m}\u001B[39;00m\u001B[38;5;124m.txt\u001B[39m\u001B[38;5;124m\"\u001B[39m, y_values_bin, fmt\u001B[38;5;241m=\u001B[39m\u001B[38;5;124m'\u001B[39m\u001B[38;5;132;01m%d\u001B[39;00m\u001B[38;5;124m'\u001B[39m)\n\u001B[1;32m     28\u001B[0m num_1s \u001B[38;5;241m=\u001B[39m np\u001B[38;5;241m.\u001B[39mcount_nonzero(y_values_bin \u001B[38;5;241m==\u001B[39m \u001B[38;5;241m1\u001B[39m)\n",
      "File \u001B[0;32m~/Documents/GitHub/uia-master-thesis/.venv/lib/python3.12/site-packages/numpy/lib/npyio.py:1623\u001B[0m, in \u001B[0;36msavetxt\u001B[0;34m(fname, X, fmt, delimiter, newline, header, footer, comments, encoding)\u001B[0m\n\u001B[1;32m   1621\u001B[0m \u001B[38;5;28;01mfor\u001B[39;00m row \u001B[38;5;129;01min\u001B[39;00m X:\n\u001B[1;32m   1622\u001B[0m     \u001B[38;5;28;01mtry\u001B[39;00m:\n\u001B[0;32m-> 1623\u001B[0m         v \u001B[38;5;241m=\u001B[39m \u001B[38;5;28;43mformat\u001B[39;49m\u001B[43m \u001B[49m\u001B[38;5;241;43m%\u001B[39;49m\u001B[43m \u001B[49m\u001B[38;5;28;43mtuple\u001B[39;49m\u001B[43m(\u001B[49m\u001B[43mrow\u001B[49m\u001B[43m)\u001B[49m \u001B[38;5;241m+\u001B[39m newline\n\u001B[1;32m   1624\u001B[0m     \u001B[38;5;28;01mexcept\u001B[39;00m \u001B[38;5;167;01mTypeError\u001B[39;00m \u001B[38;5;28;01mas\u001B[39;00m e:\n\u001B[1;32m   1625\u001B[0m         \u001B[38;5;28;01mraise\u001B[39;00m \u001B[38;5;167;01mTypeError\u001B[39;00m(\u001B[38;5;124m\"\u001B[39m\u001B[38;5;124mMismatch between array dtype (\u001B[39m\u001B[38;5;124m'\u001B[39m\u001B[38;5;132;01m%s\u001B[39;00m\u001B[38;5;124m'\u001B[39m\u001B[38;5;124m) and \u001B[39m\u001B[38;5;124m\"\u001B[39m\n\u001B[1;32m   1626\u001B[0m                         \u001B[38;5;124m\"\u001B[39m\u001B[38;5;124mformat specifier (\u001B[39m\u001B[38;5;124m'\u001B[39m\u001B[38;5;132;01m%s\u001B[39;00m\u001B[38;5;124m'\u001B[39m\u001B[38;5;124m)\u001B[39m\u001B[38;5;124m\"\u001B[39m\n\u001B[1;32m   1627\u001B[0m                         \u001B[38;5;241m%\u001B[39m (\u001B[38;5;28mstr\u001B[39m(X\u001B[38;5;241m.\u001B[39mdtype), \u001B[38;5;28mformat\u001B[39m)) \u001B[38;5;28;01mfrom\u001B[39;00m \u001B[38;5;21;01me\u001B[39;00m\n",
      "\u001B[0;31mKeyboardInterrupt\u001B[0m: "
     ]
    }
   ],
   "execution_count": 22
  }
 ],
 "metadata": {
  "kernelspec": {
   "display_name": "Python 3",
   "language": "python",
   "name": "python3"
  },
  "language_info": {
   "codemirror_mode": {
    "name": "ipython",
    "version": 2
   },
   "file_extension": ".py",
   "mimetype": "text/x-python",
   "name": "python",
   "nbconvert_exporter": "python",
   "pygments_lexer": "ipython2",
   "version": "2.7.6"
  }
 },
 "nbformat": 4,
 "nbformat_minor": 5
}
