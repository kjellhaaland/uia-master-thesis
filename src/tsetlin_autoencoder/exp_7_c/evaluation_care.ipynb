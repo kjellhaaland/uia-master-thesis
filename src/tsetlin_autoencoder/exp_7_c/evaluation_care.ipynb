{
 "cells": [
  {
   "cell_type": "code",
   "id": "initial_id",
   "metadata": {
    "collapsed": true,
    "ExecuteTime": {
     "end_time": "2025-03-22T14:06:08.563689Z",
     "start_time": "2025-03-22T14:06:08.524910Z"
    }
   },
   "source": [
    "import numpy as np\n",
    "import seaborn as sns\n",
    "import matplotlib.pyplot as plt\n",
    "import pandas as pd\n",
    "import os\n",
    "\n",
    "import pickle\n",
    "\n",
    "from tmu.models.autoencoder.autoencoder import TMAutoEncoder\n",
    "from src.lib.care import calculate_care_score"
   ],
   "outputs": [],
   "execution_count": 202
  },
  {
   "metadata": {
    "ExecuteTime": {
     "end_time": "2025-03-22T14:06:08.578292Z",
     "start_time": "2025-03-22T14:06:08.573084Z"
    }
   },
   "cell_type": "code",
   "source": [
    "# Create folder figures if it does not exist\n",
    "os.makedirs(\"figures\", exist_ok=True)"
   ],
   "id": "12722105cfb66efa",
   "outputs": [],
   "execution_count": 203
  },
  {
   "metadata": {
    "ExecuteTime": {
     "end_time": "2025-03-22T14:06:08.633015Z",
     "start_time": "2025-03-22T14:06:08.619921Z"
    }
   },
   "cell_type": "code",
   "source": [
    "def load_test_dataset(farm, event_id):\n",
    "    X = np.loadtxt(f\"./data_test/X_{farm}_{event_id}.txt\", dtype=np.uint32)\n",
    "    X = np.array(X).astype(np.uint32)\n",
    "    return X\n",
    "\n",
    "\n",
    "def load_test_labels(farm, event_id):\n",
    "    y = np.loadtxt(f\"./data_test/y_{farm}_{event_id}.txt\", dtype=np.uint32)\n",
    "    y = np.array(y).astype(np.uint32)\n",
    "    return y\n",
    "\n",
    "\n",
    "def load_test_status_labels(farm, event_id):\n",
    "    z = np.loadtxt(f\"./data_test/z_{farm}_{event_id}.txt\", dtype=np.uint32)\n",
    "    z = np.array(z).astype(np.uint32)\n",
    "    return z\n",
    "\n",
    "\n",
    "def load_test_label(farm, event_id):\n",
    "    event_info = pd.read_csv(f\"../../../data/care_to_compare/Wind Farm {farm}/event_info.csv\", delimiter=';')\n",
    "\n",
    "    metadata = event_info[event_info['event_id'] == event_id]\n",
    "\n",
    "    event_label = metadata[\"event_label\"].values[0]\n",
    "\n",
    "    return False if event_label == \"anomaly\" else True"
   ],
   "id": "9afef311a40435c8",
   "outputs": [],
   "execution_count": 204
  },
  {
   "metadata": {
    "ExecuteTime": {
     "end_time": "2025-03-22T14:06:08.681208Z",
     "start_time": "2025-03-22T14:06:08.644827Z"
    }
   },
   "cell_type": "code",
   "source": [
    "def load_model(filename) -> TMAutoEncoder:\n",
    "    with open(filename, \"rb\") as f:\n",
    "        model = pickle.load(f)\n",
    "\n",
    "    return model"
   ],
   "id": "652d72a575fd0627",
   "outputs": [],
   "execution_count": 205
  },
  {
   "metadata": {
    "ExecuteTime": {
     "end_time": "2025-03-22T14:06:08.703041Z",
     "start_time": "2025-03-22T14:06:08.700518Z"
    }
   },
   "cell_type": "code",
   "source": [
    "def calculate_accuracy(labels, predictions):\n",
    "    # Calculate the accuracy\n",
    "    accuracy = np.sum(labels == predictions) / len(labels)\n",
    "\n",
    "    return accuracy"
   ],
   "id": "4a1549d328c78582",
   "outputs": [],
   "execution_count": 206
  },
  {
   "metadata": {
    "ExecuteTime": {
     "end_time": "2025-03-22T14:06:08.722115Z",
     "start_time": "2025-03-22T14:06:08.712124Z"
    }
   },
   "cell_type": "code",
   "source": [
    "def reconstruction_accuracy(X, pred):\n",
    "    correct = np.sum(X == pred)\n",
    "    accuracy = correct / len(X)\n",
    "    return accuracy\n",
    "\n",
    "\n",
    "def plot_mse(X, y, pred, name, threshold):\n",
    "    # Compute MSE for each row\n",
    "    mse_per_row = [reconstruction_accuracy(X[i], pred[i]) for i in range(len(X))]\n",
    "\n",
    "    # Plot SNS plot of all MSE values\n",
    "    plt.figure(figsize=(8, 4))\n",
    "    sns.histplot(mse_per_row, bins=50, kde=True, color='b')\n",
    "\n",
    "    # Add a threshold line\n",
    "    plt.axvline(threshold, color='r', linestyle='--')\n",
    "\n",
    "    # Save the plot\n",
    "    plt.savefig(f\"./figures/plot_reconstruction_acc_{name}.png\")\n",
    "\n",
    "    plt.close()\n",
    "\n",
    "\n",
    "def get_predictions(X, y, name):\n",
    "    tm = load_model(\"models/latest_24c.pkl\")\n",
    "    print(\"Loaded model\")\n",
    "\n",
    "    pred = tm.predict(X)\n",
    "    print(\"Predicted\")\n",
    "\n",
    "    threshold = 0.75\n",
    "\n",
    "    # For each row in pred, if the MSE is greater than the threshold, then it is an anomaly\n",
    "    losses = [calculate_accuracy(X[i], pred[i]) for i in range(len(X))]\n",
    "    print(\"Calculated losses\")\n",
    "\n",
    "    X_predictions = np.array([1 if losses[i] < threshold else 0 for i in range(len(X))])\n",
    "    print(\"Calculated predictions\")\n",
    "\n",
    "    # Accuracy\n",
    "    accuracy = calculate_accuracy(y, X_predictions)\n",
    "    print(\"Calculated accuracy\")\n",
    "\n",
    "    plot_mse(X, y, pred, name, threshold)\n",
    "    print(\"Plotted MSE\")\n",
    "\n",
    "    return X_predictions, accuracy"
   ],
   "id": "e96b8166de1ca4ee",
   "outputs": [],
   "execution_count": 207
  },
  {
   "metadata": {
    "ExecuteTime": {
     "end_time": "2025-03-22T14:06:08.732611Z",
     "start_time": "2025-03-22T14:06:08.729778Z"
    }
   },
   "cell_type": "code",
   "source": [
    "test_datasets = [55, 81, 47, 8, 85, 6]\n",
    "\n",
    "\n",
    "def run_prediction(farm, dataset):\n",
    "    X = load_test_dataset(farm, dataset)\n",
    "    y = load_test_labels(farm, dataset)\n",
    "    z = load_test_status_labels(farm, dataset)\n",
    "\n",
    "    print(f\"Loaded dataset {dataset}\")\n",
    "\n",
    "    is_normal = load_test_label(farm, dataset)\n",
    "\n",
    "    predictions, accuracy = get_predictions(X, y, f\"{farm}_{dataset}\")\n",
    "\n",
    "    return X, y, z, is_normal, predictions, accuracy\n"
   ],
   "id": "986c2e3634919b34",
   "outputs": [],
   "execution_count": 208
  },
  {
   "metadata": {
    "ExecuteTime": {
     "end_time": "2025-03-22T14:07:37.096644Z",
     "start_time": "2025-03-22T14:06:08.747375Z"
    }
   },
   "cell_type": "code",
   "source": [
    "# Create a dataframe with status_type_id;label;prediction\n",
    "\n",
    "elements = []\n",
    "\n",
    "for set in test_datasets:\n",
    "    res = run_prediction(\"C\", set)\n",
    "\n",
    "    result_df = pd.DataFrame({\n",
    "        'status_type_id': res[2],\n",
    "        'label': res[1],\n",
    "        'prediction': res[4]\n",
    "    })\n",
    "\n",
    "    print(f\"Done with {set}. Accuracy: {res[5]}\")\n",
    "\n",
    "    elements.append({'dataset': set, 'normal': res[3], 'data': result_df, 'accuracy': res[5]})"
   ],
   "id": "70e024b9cc85e8c9",
   "outputs": [
    {
     "name": "stdout",
     "output_type": "stream",
     "text": [
      "Loaded dataset 55\n",
      "Loaded model\n",
      "Predicted\n",
      "Calculated losses\n",
      "Calculated predictions\n",
      "Calculated accuracy\n",
      "Plotted MSE\n",
      "Done with 55. Accuracy: 0.2630754776072659\n",
      "Loaded dataset 81\n",
      "Loaded model\n",
      "Predicted\n",
      "Calculated losses\n",
      "Calculated predictions\n",
      "Calculated accuracy\n",
      "Plotted MSE\n",
      "Done with 81. Accuracy: 0.7944606413994169\n",
      "Loaded dataset 47\n",
      "Loaded model\n",
      "Predicted\n",
      "Calculated losses\n",
      "Calculated predictions\n",
      "Calculated accuracy\n",
      "Plotted MSE\n",
      "Done with 47. Accuracy: 0.4438807863031072\n",
      "Loaded dataset 8\n",
      "Loaded model\n",
      "Predicted\n",
      "Calculated losses\n",
      "Calculated predictions\n",
      "Calculated accuracy\n",
      "Plotted MSE\n",
      "Done with 8. Accuracy: 0.9852809991079393\n",
      "Loaded dataset 85\n",
      "Loaded model\n",
      "Predicted\n",
      "Calculated losses\n",
      "Calculated predictions\n",
      "Calculated accuracy\n",
      "Plotted MSE\n",
      "Done with 85. Accuracy: 0.6063091482649843\n",
      "Loaded dataset 6\n",
      "Loaded model\n",
      "Predicted\n",
      "Calculated losses\n",
      "Calculated predictions\n",
      "Calculated accuracy\n",
      "Plotted MSE\n",
      "Done with 6. Accuracy: 0.8355748373101952\n"
     ]
    }
   ],
   "execution_count": 209
  },
  {
   "metadata": {
    "ExecuteTime": {
     "end_time": "2025-03-22T14:07:37.201610Z",
     "start_time": "2025-03-22T14:07:37.137360Z"
    }
   },
   "cell_type": "code",
   "source": [
    "score = calculate_care_score(elements)\n",
    "print(score)"
   ],
   "id": "aa6756d8794bc14c",
   "outputs": [
    {
     "name": "stdout",
     "output_type": "stream",
     "text": [
      "0.6758183581707184\n"
     ]
    }
   ],
   "execution_count": 210
  }
 ],
 "metadata": {
  "kernelspec": {
   "display_name": "Python 3",
   "language": "python",
   "name": "python3"
  },
  "language_info": {
   "codemirror_mode": {
    "name": "ipython",
    "version": 2
   },
   "file_extension": ".py",
   "mimetype": "text/x-python",
   "name": "python",
   "nbconvert_exporter": "python",
   "pygments_lexer": "ipython2",
   "version": "2.7.6"
  }
 },
 "nbformat": 4,
 "nbformat_minor": 5
}
