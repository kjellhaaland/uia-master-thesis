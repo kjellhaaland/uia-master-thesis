{
 "cells": [
  {
   "cell_type": "code",
   "id": "e28183c3-d395-4a3a-8eb4-dba55cb1d527",
   "metadata": {
    "ExecuteTime": {
     "end_time": "2025-03-21T15:17:08.709466Z",
     "start_time": "2025-03-21T15:17:08.048557Z"
    }
   },
   "source": [
    "#%pip install git+https://github.com/cair/tmu.git\n",
    "%pip install tmu\n",
    "#%pip install numpy==1.26.4"
   ],
   "outputs": [
    {
     "name": "stdout",
     "output_type": "stream",
     "text": [
      "Requirement already satisfied: tmu in /Users/kjellhaaland/Documents/GitHub/uia-master-thesis/.venv/lib/python3.12/site-packages (0.8.3)\r\n",
      "Requirement already satisfied: cffi>=1.15.0 in /Users/kjellhaaland/Documents/GitHub/uia-master-thesis/.venv/lib/python3.12/site-packages (from tmu) (1.17.1)\r\n",
      "Requirement already satisfied: numpy in /Users/kjellhaaland/Documents/GitHub/uia-master-thesis/.venv/lib/python3.12/site-packages (from tmu) (1.26.4)\r\n",
      "Requirement already satisfied: pandas in /Users/kjellhaaland/Documents/GitHub/uia-master-thesis/.venv/lib/python3.12/site-packages (from tmu) (2.2.3)\r\n",
      "Requirement already satisfied: scikit-learn in /Users/kjellhaaland/Documents/GitHub/uia-master-thesis/.venv/lib/python3.12/site-packages (from tmu) (1.5.2)\r\n",
      "Requirement already satisfied: tqdm in /Users/kjellhaaland/Documents/GitHub/uia-master-thesis/.venv/lib/python3.12/site-packages (from tmu) (4.67.0)\r\n",
      "Requirement already satisfied: requests in /Users/kjellhaaland/Documents/GitHub/uia-master-thesis/.venv/lib/python3.12/site-packages (from tmu) (2.32.3)\r\n",
      "Requirement already satisfied: xxhash in /Users/kjellhaaland/Documents/GitHub/uia-master-thesis/.venv/lib/python3.12/site-packages (from tmu) (3.5.0)\r\n",
      "Requirement already satisfied: pycparser in /Users/kjellhaaland/Documents/GitHub/uia-master-thesis/.venv/lib/python3.12/site-packages (from cffi>=1.15.0->tmu) (2.22)\r\n",
      "Requirement already satisfied: python-dateutil>=2.8.2 in /Users/kjellhaaland/Documents/GitHub/uia-master-thesis/.venv/lib/python3.12/site-packages (from pandas->tmu) (2.9.0.post0)\r\n",
      "Requirement already satisfied: pytz>=2020.1 in /Users/kjellhaaland/Documents/GitHub/uia-master-thesis/.venv/lib/python3.12/site-packages (from pandas->tmu) (2024.2)\r\n",
      "Requirement already satisfied: tzdata>=2022.7 in /Users/kjellhaaland/Documents/GitHub/uia-master-thesis/.venv/lib/python3.12/site-packages (from pandas->tmu) (2024.2)\r\n",
      "Requirement already satisfied: charset-normalizer<4,>=2 in /Users/kjellhaaland/Documents/GitHub/uia-master-thesis/.venv/lib/python3.12/site-packages (from requests->tmu) (3.4.0)\r\n",
      "Requirement already satisfied: idna<4,>=2.5 in /Users/kjellhaaland/Documents/GitHub/uia-master-thesis/.venv/lib/python3.12/site-packages (from requests->tmu) (3.10)\r\n",
      "Requirement already satisfied: urllib3<3,>=1.21.1 in /Users/kjellhaaland/Documents/GitHub/uia-master-thesis/.venv/lib/python3.12/site-packages (from requests->tmu) (2.2.3)\r\n",
      "Requirement already satisfied: certifi>=2017.4.17 in /Users/kjellhaaland/Documents/GitHub/uia-master-thesis/.venv/lib/python3.12/site-packages (from requests->tmu) (2024.8.30)\r\n",
      "Requirement already satisfied: scipy>=1.6.0 in /Users/kjellhaaland/Documents/GitHub/uia-master-thesis/.venv/lib/python3.12/site-packages (from scikit-learn->tmu) (1.14.1)\r\n",
      "Requirement already satisfied: joblib>=1.2.0 in /Users/kjellhaaland/Documents/GitHub/uia-master-thesis/.venv/lib/python3.12/site-packages (from scikit-learn->tmu) (1.4.2)\r\n",
      "Requirement already satisfied: threadpoolctl>=3.1.0 in /Users/kjellhaaland/Documents/GitHub/uia-master-thesis/.venv/lib/python3.12/site-packages (from scikit-learn->tmu) (3.5.0)\r\n",
      "Requirement already satisfied: six>=1.5 in /Users/kjellhaaland/Documents/GitHub/uia-master-thesis/.venv/lib/python3.12/site-packages (from python-dateutil>=2.8.2->pandas->tmu) (1.16.0)\r\n",
      "\r\n",
      "\u001B[1m[\u001B[0m\u001B[34;49mnotice\u001B[0m\u001B[1;39;49m]\u001B[0m\u001B[39;49m A new release of pip is available: \u001B[0m\u001B[31;49m24.3\u001B[0m\u001B[39;49m -> \u001B[0m\u001B[32;49m25.0.1\u001B[0m\r\n",
      "\u001B[1m[\u001B[0m\u001B[34;49mnotice\u001B[0m\u001B[1;39;49m]\u001B[0m\u001B[39;49m To update, run: \u001B[0m\u001B[32;49mpip install --upgrade pip\u001B[0m\r\n",
      "Note: you may need to restart the kernel to use updated packages.\n"
     ]
    }
   ],
   "execution_count": 92
  },
  {
   "cell_type": "code",
   "id": "2b757c20539f2247",
   "metadata": {
    "ExecuteTime": {
     "end_time": "2025-03-21T15:17:08.719830Z",
     "start_time": "2025-03-21T15:17:08.717158Z"
    }
   },
   "source": [
    "import numpy as np\n",
    "import pandas as pd\n",
    "import pickle\n",
    "import os\n",
    "\n",
    "from tmu.models.autoencoder.autoencoder import TMAutoEncoder"
   ],
   "outputs": [],
   "execution_count": 93
  },
  {
   "metadata": {
    "ExecuteTime": {
     "end_time": "2025-03-21T15:17:08.730036Z",
     "start_time": "2025-03-21T15:17:08.727376Z"
    }
   },
   "cell_type": "code",
   "source": [
    "# Create folder models if it does not exist\n",
    "os.makedirs(\"models\", exist_ok=True)"
   ],
   "id": "30305fc8025f45c1",
   "outputs": [],
   "execution_count": 94
  },
  {
   "cell_type": "code",
   "id": "28162fc330bc11f1",
   "metadata": {
    "ExecuteTime": {
     "end_time": "2025-03-21T15:17:08.739720Z",
     "start_time": "2025-03-21T15:17:08.737712Z"
    }
   },
   "source": [
    "def load_train_dataset(farm, event_id):\n",
    "    X = np.loadtxt(f\"./data_train/X_{farm}_{event_id}.txt\", dtype=np.uint32)\n",
    "    X = np.array(X).astype(np.uint32)\n",
    "\n",
    "    print(f\"Event: {event_id}, Shape: {X.shape}\")\n",
    "    return X"
   ],
   "outputs": [],
   "execution_count": 95
  },
  {
   "cell_type": "code",
   "id": "da4ff95f-ff25-4203-89c8-7e6046e4356b",
   "metadata": {
    "ExecuteTime": {
     "end_time": "2025-03-21T15:17:08.749422Z",
     "start_time": "2025-03-21T15:17:08.746550Z"
    }
   },
   "source": [
    "def save_model(tm: TMAutoEncoder, filename: str):\n",
    "    a, d = tm.X_train, tm.encoded_X_train\n",
    "\n",
    "    tm.X_train = None\n",
    "    tm.encoded_X_train = None\n",
    "\n",
    "    with open(f\"./models/{filename}\", \"wb\") as f:\n",
    "        pickle.dump(tm, f)\n",
    "\n",
    "    tm.X_train = a\n",
    "    tm.encoded_X_train = d"
   ],
   "outputs": [],
   "execution_count": 96
  },
  {
   "metadata": {
    "ExecuteTime": {
     "end_time": "2025-03-21T15:17:12.165166Z",
     "start_time": "2025-03-21T15:17:08.762401Z"
    }
   },
   "cell_type": "code",
   "source": [
    "wind_farm = \"C\"\n",
    "\n",
    "available_datasets_df = pd.read_csv(f\"../../../data/care_to_compare/Wind Farm {wind_farm}/event_info.csv\",\n",
    "                                    delimiter=';')\n",
    "\n",
    "available_datasets = available_datasets_df[\"event_id\"].values\n",
    "\n",
    "print(available_datasets)\n",
    "\n",
    "# Skip 36\n",
    "\n",
    "train_datasets = available_datasets[available_datasets != 36]\n",
    "test_datasets = available_datasets[available_datasets != 36]\n",
    "\n",
    "# Load all datasets into one array\n",
    "X_train = [load_train_dataset(wind_farm, i) for i in train_datasets]\n",
    "\n",
    "# Combine all items of X_train\n",
    "X_train = np.concatenate(X_train)\n",
    "\n",
    "print(f\"X_train shape: {X_train.shape}\")"
   ],
   "id": "a31d2f9342f1de77",
   "outputs": [
    {
     "name": "stdout",
     "output_type": "stream",
     "text": [
      "[55 81 47 12  4 18 28 39 66 15 78 79 30 33 11 44 49 31 67  9 91  5 90 70\n",
      " 35 16 76  8 85  6 62 36 56 94 54 43 50 64 46 65 61 93 75 41 58 48 88 57\n",
      " 32 89 59 63 80 37 29  1 20 60]\n",
      "Event: 55, Shape: (4000, 1190)\n",
      "Event: 81, Shape: (4000, 1190)\n",
      "Event: 47, Shape: (4000, 1190)\n",
      "Event: 12, Shape: (4000, 1190)\n",
      "Event: 4, Shape: (4000, 1190)\n",
      "Event: 18, Shape: (4000, 1190)\n",
      "Event: 28, Shape: (4000, 1190)\n",
      "Event: 39, Shape: (4000, 1190)\n",
      "Event: 66, Shape: (4000, 1190)\n",
      "Event: 15, Shape: (4000, 1190)\n",
      "Event: 78, Shape: (4000, 1190)\n",
      "Event: 79, Shape: (4000, 1190)\n",
      "Event: 30, Shape: (4000, 1190)\n",
      "Event: 33, Shape: (4000, 1190)\n",
      "Event: 11, Shape: (4000, 1190)\n",
      "Event: 44, Shape: (4000, 1190)\n",
      "Event: 49, Shape: (4000, 1190)\n",
      "Event: 31, Shape: (4000, 1190)\n",
      "Event: 67, Shape: (4000, 1190)\n",
      "Event: 9, Shape: (4000, 1190)\n",
      "Event: 91, Shape: (4000, 1190)\n",
      "Event: 5, Shape: (4000, 1190)\n",
      "Event: 90, Shape: (4000, 1190)\n",
      "Event: 70, Shape: (4000, 1190)\n",
      "Event: 35, Shape: (4000, 1190)\n",
      "Event: 16, Shape: (4000, 1190)\n",
      "Event: 76, Shape: (4000, 1190)\n",
      "Event: 8, Shape: (4000, 1190)\n",
      "Event: 85, Shape: (4000, 1190)\n",
      "Event: 6, Shape: (4000, 1190)\n",
      "Event: 62, Shape: (4000, 1190)\n",
      "Event: 56, Shape: (4000, 1190)\n",
      "Event: 94, Shape: (4000, 1190)\n",
      "Event: 54, Shape: (4000, 1190)\n",
      "Event: 43, Shape: (4000, 1190)\n",
      "Event: 50, Shape: (4000, 1190)\n",
      "Event: 64, Shape: (4000, 1190)\n",
      "Event: 46, Shape: (4000, 1190)\n",
      "Event: 65, Shape: (4000, 1190)\n",
      "Event: 61, Shape: (4000, 1190)\n",
      "Event: 93, Shape: (4000, 1190)\n",
      "Event: 75, Shape: (4000, 1190)\n",
      "Event: 41, Shape: (4000, 1190)\n",
      "Event: 58, Shape: (4000, 1190)\n",
      "Event: 48, Shape: (4000, 1190)\n",
      "Event: 88, Shape: (4000, 1190)\n",
      "Event: 57, Shape: (4000, 1190)\n",
      "Event: 32, Shape: (4000, 1190)\n",
      "Event: 89, Shape: (4000, 1190)\n",
      "Event: 59, Shape: (4000, 1190)\n",
      "Event: 63, Shape: (4000, 1190)\n",
      "Event: 80, Shape: (4000, 1190)\n",
      "Event: 37, Shape: (4000, 1190)\n",
      "Event: 29, Shape: (4000, 1190)\n",
      "Event: 1, Shape: (4000, 1190)\n",
      "Event: 20, Shape: (4000, 1190)\n",
      "Event: 60, Shape: (4000, 1190)\n",
      "X_train shape: (228000, 1190)\n"
     ]
    }
   ],
   "execution_count": 97
  },
  {
   "cell_type": "code",
   "id": "initial_id",
   "metadata": {
    "ExecuteTime": {
     "end_time": "2025-03-21T15:17:12.169956Z",
     "start_time": "2025-03-21T15:17:12.167664Z"
    }
   },
   "source": [
    "def train(args):\n",
    "    tm = TMAutoEncoder(\n",
    "        number_of_clauses=args[\"num_clauses\"],\n",
    "        T=args[\"T\"],\n",
    "        s=args[\"s\"],\n",
    "        output_active=args[\"output_active\"],\n",
    "        max_included_literals=args[\"max_included_literals\"],\n",
    "        accumulation=args[\"accumulation\"],\n",
    "        feature_negation=args[\"feature_negation\"],\n",
    "        platform=args[\"platform\"],\n",
    "        output_balancing=args[\"output_balancing\"],\n",
    "    )\n",
    "\n",
    "    print(f\"Starting training for {args['epochs']} epochs\")\n",
    "\n",
    "    for e in range(args[\"epochs\"]):\n",
    "        tm.fit(X_train, number_of_examples=args[\"number_of_examples\"])\n",
    "\n",
    "        save_model(tm, f\"latest_{e}.pkl\")\n",
    "        print(f\"Epoch: {e + 1}\")\n"
   ],
   "outputs": [],
   "execution_count": 98
  },
  {
   "metadata": {
    "ExecuteTime": {
     "end_time": "2025-03-21T15:17:12.178517Z",
     "start_time": "2025-03-21T15:17:12.176151Z"
    }
   },
   "cell_type": "code",
   "source": [
    "number_of_features = X_train.shape[1]\n",
    "output_active = np.arange(number_of_features, dtype=np.uint32)\n",
    "number_of_clauses = int(4 * number_of_features)\n",
    "\n",
    "print(f\"Number of features {number_of_features}, Number of clauses: {number_of_clauses}\")"
   ],
   "id": "f06864de8ec652e5",
   "outputs": [
    {
     "name": "stdout",
     "output_type": "stream",
     "text": [
      "Number of features 1190, Number of clauses: 4760\n"
     ]
    }
   ],
   "execution_count": 99
  },
  {
   "cell_type": "code",
   "id": "d4dc7e4da5c88e88",
   "metadata": {
    "ExecuteTime": {
     "end_time": "2025-03-21T15:59:42.743658Z",
     "start_time": "2025-03-21T15:17:12.186390Z"
    }
   },
   "source": [
    "args: dict = {\n",
    "    \"clause_weight_threshold\": 1,\n",
    "    \"number_of_examples\": 10,\n",
    "    \"output_active\": output_active,\n",
    "    \"accumulation\": 1,\n",
    "    \"num_clauses\": number_of_clauses,\n",
    "    \"T\": int(number_of_clauses * 0.75 * 100),\n",
    "    \"s\": 25,\n",
    "    \"epochs\": 25,\n",
    "    \"platform\": \"CPU\",\n",
    "    \"output_balancing\": 0,\n",
    "    \"max_included_literals\": number_of_features,\n",
    "    \"feature_negation\": True,\n",
    "}\n",
    "\n",
    "result = train(args)"
   ],
   "outputs": [
    {
     "name": "stdout",
     "output_type": "stream",
     "text": [
      "Starting training for 25 epochs\n",
      "Epoch: 1\n",
      "Epoch: 2\n",
      "Epoch: 3\n",
      "Epoch: 4\n",
      "Epoch: 5\n",
      "Epoch: 6\n",
      "Epoch: 7\n",
      "Epoch: 8\n",
      "Epoch: 9\n",
      "Epoch: 10\n",
      "Epoch: 11\n",
      "Epoch: 12\n",
      "Epoch: 13\n",
      "Epoch: 14\n",
      "Epoch: 15\n",
      "Epoch: 16\n",
      "Epoch: 17\n",
      "Epoch: 18\n",
      "Epoch: 19\n",
      "Epoch: 20\n",
      "Epoch: 21\n",
      "Epoch: 22\n",
      "Epoch: 23\n",
      "Epoch: 24\n",
      "Epoch: 25\n"
     ]
    }
   ],
   "execution_count": 100
  },
  {
   "metadata": {
    "ExecuteTime": {
     "end_time": "2025-03-21T15:59:42.802702Z",
     "start_time": "2025-03-21T15:59:42.800895Z"
    }
   },
   "cell_type": "code",
   "source": "",
   "id": "fba22d9c639f3d2",
   "outputs": [],
   "execution_count": null
  }
 ],
 "metadata": {
  "kernelspec": {
   "display_name": "Python 3 (ipykernel)",
   "language": "python",
   "name": "python3"
  },
  "language_info": {
   "codemirror_mode": {
    "name": "ipython",
    "version": 3
   },
   "file_extension": ".py",
   "mimetype": "text/x-python",
   "name": "python",
   "nbconvert_exporter": "python",
   "pygments_lexer": "ipython3",
   "version": "3.11.6"
  }
 },
 "nbformat": 4,
 "nbformat_minor": 5
}
