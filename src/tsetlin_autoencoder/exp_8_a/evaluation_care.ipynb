{
 "cells": [
  {
   "cell_type": "code",
   "id": "initial_id",
   "metadata": {
    "collapsed": true,
    "ExecuteTime": {
     "end_time": "2025-05-22T16:35:41.683769Z",
     "start_time": "2025-05-22T16:35:41.679848Z"
    }
   },
   "source": [
    "import numpy as np\n",
    "import seaborn as sns\n",
    "import matplotlib.pyplot as plt\n",
    "import pandas as pd\n",
    "import os\n",
    "\n",
    "import pickle\n",
    "\n",
    "from tmu.models.autoencoder.autoencoder import TMAutoEncoder\n",
    "from src.lib.care import calculate_care_score"
   ],
   "outputs": [],
   "execution_count": 46
  },
  {
   "metadata": {
    "ExecuteTime": {
     "end_time": "2025-05-22T16:35:41.704661Z",
     "start_time": "2025-05-22T16:35:41.700895Z"
    }
   },
   "cell_type": "code",
   "source": [
    "# Create folder figures if it does not exist\n",
    "os.makedirs(\"figures\", exist_ok=True)"
   ],
   "id": "12722105cfb66efa",
   "outputs": [],
   "execution_count": 47
  },
  {
   "metadata": {
    "ExecuteTime": {
     "end_time": "2025-05-22T16:35:41.716442Z",
     "start_time": "2025-05-22T16:35:41.709430Z"
    }
   },
   "cell_type": "code",
   "source": [
    "def load_test_dataset(farm, event_id):\n",
    "    X = np.loadtxt(f\"./data_test/X_{farm}_{event_id}.txt\", dtype=np.uint32)\n",
    "    X = np.array(X).astype(np.uint32)\n",
    "\n",
    "    # Take the first 3000 rows\n",
    "    #X = X[:3000]\n",
    "\n",
    "    return X\n",
    "\n",
    "\n",
    "def load_thresh_dataset(farm, event_id):\n",
    "    X = np.loadtxt(f\"./data_train/X_{farm}_{event_id}.txt\", dtype=np.uint32)\n",
    "    X = np.array(X).astype(np.uint32)\n",
    "\n",
    "    # Take the first 5000 rows\n",
    "    X = X[:10000]\n",
    "\n",
    "    return X\n",
    "\n",
    "\n",
    "def load_test_labels(farm, event_id):\n",
    "    # Load dataframe from file\n",
    "    df = pd.read_csv(f\"./data_test/y_{farm}_{event_id}.csv\")\n",
    "\n",
    "    labels = df['label'].values\n",
    "    status_ids = df['status_type_id'].values\n",
    "    train_test = df['train_test'].values\n",
    "\n",
    "    # Take the first 3000 rows\n",
    "    #labels = labels[:3000]\n",
    "    #status_ids = status_ids[:3000]\n",
    "    #train_test = train_test[:3000]\n",
    "\n",
    "    return np.array(labels).astype(np.uint32), np.array(status_ids).astype(np.uint32), train_test\n",
    "\n",
    "\n",
    "def load_test_label(farm, event_id):\n",
    "    event_info = pd.read_csv(f\"../../../data/care_to_compare/Wind Farm {farm}/event_info.csv\", delimiter=';')\n",
    "\n",
    "    metadata = event_info[event_info['event_id'] == event_id]\n",
    "\n",
    "    event_label = metadata[\"event_label\"].values[0]\n",
    "\n",
    "    return False if event_label == \"anomaly\" else True"
   ],
   "id": "9afef311a40435c8",
   "outputs": [],
   "execution_count": 48
  },
  {
   "metadata": {
    "ExecuteTime": {
     "end_time": "2025-05-22T16:35:41.731784Z",
     "start_time": "2025-05-22T16:35:41.729567Z"
    }
   },
   "cell_type": "code",
   "source": [
    "def load_model(filename) -> TMAutoEncoder:\n",
    "    with open(filename, \"rb\") as f:\n",
    "        model = pickle.load(f)\n",
    "\n",
    "    return model"
   ],
   "id": "652d72a575fd0627",
   "outputs": [],
   "execution_count": 49
  },
  {
   "metadata": {
    "ExecuteTime": {
     "end_time": "2025-05-22T16:35:41.743354Z",
     "start_time": "2025-05-22T16:35:41.740575Z"
    }
   },
   "cell_type": "code",
   "source": [
    "def calculate_accuracy(labels, predictions):\n",
    "    # Calculate the accuracy\n",
    "    accuracy = np.sum(labels == predictions) / len(labels)\n",
    "\n",
    "    return accuracy\n",
    "\n",
    "\n",
    "def calculate_threshold(X, pred):\n",
    "    losses = [hamming_loss(X[i], pred[i]) for i in range(len(X))]\n",
    "\n",
    "    # Set the threshold as the lowest 1% of the losses\n",
    "    threshold = np.percentile(losses, 85)\n",
    "\n",
    "    return threshold\n"
   ],
   "id": "4a1549d328c78582",
   "outputs": [],
   "execution_count": 50
  },
  {
   "metadata": {
    "ExecuteTime": {
     "end_time": "2025-05-22T16:35:41.754353Z",
     "start_time": "2025-05-22T16:35:41.751677Z"
    }
   },
   "cell_type": "code",
   "source": [
    "def hamming_loss(pred, X_test):\n",
    "    \"\"\"\n",
    "    Computes the Hamming loss between predicted and ground truth binary arrays.\n",
    "\n",
    "    Parameters:\n",
    "    - pred (numpy array): Binary predictions of shape (n_samples, n_bits).\n",
    "    - X_test (numpy array): Ground truth binary values of shape (n_samples, n_bits).\n",
    "\n",
    "    Returns:\n",
    "    - float: Hamming loss (fraction of incorrect bits).\n",
    "    \"\"\"\n",
    "    assert pred.shape == X_test.shape, \"Shapes of pred and X_test must match\"\n",
    "\n",
    "    # Compute the number of differing bits\n",
    "    incorrect_bits = np.sum(pred != X_test)\n",
    "\n",
    "    # Total number of bits\n",
    "    total_bits = np.prod(X_test.shape)\n",
    "\n",
    "    # Hamming loss is the fraction of incorrect bits\n",
    "    return incorrect_bits / total_bits"
   ],
   "id": "7198d6b336b0cf6f",
   "outputs": [],
   "execution_count": 51
  },
  {
   "metadata": {
    "ExecuteTime": {
     "end_time": "2025-05-22T16:35:41.780344Z",
     "start_time": "2025-05-22T16:35:41.773241Z"
    }
   },
   "cell_type": "code",
   "source": [
    "def reconstruction_accuracy(X, pred):\n",
    "    correct = np.sum(X == pred)\n",
    "    accuracy = correct / len(X)\n",
    "    return accuracy\n",
    "\n",
    "\n",
    "def plot_mse(X, y, pred, name, threshold):\n",
    "    # Compute MSE for each row\n",
    "    mse_per_row = [hamming_loss(X[i], pred[i]) for i in range(len(X))]\n",
    "\n",
    "    # Plot SNS plot of all MSE values\n",
    "    plt.figure(figsize=(8, 4))\n",
    "    sns.histplot(mse_per_row, bins=50, kde=True, color='b')\n",
    "\n",
    "    # Add a threshold line\n",
    "    plt.axvline(threshold, color='r', linestyle='--')\n",
    "\n",
    "    # Save the plot\n",
    "    plt.savefig(f\"./figures/plot_reconstruction_acc_{name}.png\")\n",
    "\n",
    "    plt.close()\n",
    "\n",
    "\n",
    "def plot_predictions(X, y, z, pred, p, name, threshold):\n",
    "    x = np.arange(0, len(X))  # Time or index\n",
    "    r = [hamming_loss(X[i], pred[i]) for i in range(len(X))]\n",
    "\n",
    "    anomalies = np.array([1 if (p[i] == 1 and z[i] == 0) else 0 for i in range(len(X))])\n",
    "\n",
    "    y_mapped = np.where(y == 0, -0.2, -0.1)\n",
    "    a_mapped = np.where(anomalies == 0, -0.4, -0.3)\n",
    "    p_mapped = np.where(p == 0, -0.6, -0.5)\n",
    "    z_mapped = np.where(np.logical_or(z == 0, z == 2), -0.8, -0.7)\n",
    "\n",
    "    # Create a figure with two subplots (1 row, 2 columns)\n",
    "    fig, axes = plt.subplots(2, 1, figsize=(12, 10))\n",
    "\n",
    "    # First chart\n",
    "    # If z is 0 or 2, then the color is orange, if y[i] is 1, then the color is red, otherwise blue\n",
    "    colors = ['red' if y[i] == 1 else 'blue' if z[i] == 0 or z[i] == 2 else 'orange' for i in range(len(z))]\n",
    "\n",
    "    axes[0].scatter(x, r, label=\"Reconstruction Loss\", c=colors, alpha=0.7)\n",
    "    axes[0].axhline(threshold, color='red', linestyle='--', label=\"Threshold\")\n",
    "\n",
    "    axes[0].set_title(\"Reconstruction Loss\")\n",
    "    axes[0].set_xlabel(\"Time\")\n",
    "    axes[0].set_ylabel(\"Reconstruction Loss\")\n",
    "    axes[0].legend()\n",
    "\n",
    "    # Second chart\n",
    "    axes[1].plot(x, y_mapped, label=\"Actual Anomalies (y)\", color='red', linestyle='-', linewidth=2)\n",
    "    axes[1].plot(x, a_mapped, label=\"Detected Anomalies (a)\", color='purple', linestyle='-', linewidth=2)\n",
    "    axes[1].plot(x, p_mapped, label=\"Predicted Anomalies (p)\", color='green', linestyle='-', linewidth=2)\n",
    "    axes[1].plot(x, z_mapped, label=\"Status Type Id (z)\", color='orange', linestyle='-', linewidth=2)\n",
    "\n",
    "    axes[1].axhline(y=-0.1, color='black', linestyle='dotted', linewidth=1, alpha=0.5)\n",
    "    axes[1].axhline(y=-0.2, color='black', linestyle='dotted', linewidth=1, alpha=0.5)\n",
    "    axes[1].axhline(y=-0.3, color='black', linestyle='dotted', linewidth=1, alpha=0.5)\n",
    "    axes[1].axhline(y=-0.4, color='black', linestyle='dotted', linewidth=1, alpha=0.5)\n",
    "    axes[1].axhline(y=-0.5, color='black', linestyle='dotted', linewidth=1, alpha=0.5)\n",
    "    axes[1].axhline(y=-0.6, color='black', linestyle='dotted', linewidth=1, alpha=0.5)\n",
    "    axes[1].axhline(y=-0.7, color='black', linestyle='dotted', linewidth=1, alpha=0.5)\n",
    "    axes[1].axhline(y=-0.8, color='black', linestyle='dotted', linewidth=1, alpha=0.5)\n",
    "\n",
    "    axes[1].set_ylim(-0.9, 0)\n",
    "\n",
    "    axes[1].set_title(\"Anomalies\")\n",
    "    axes[1].legend()\n",
    "\n",
    "    # Adjust layout\n",
    "    plt.tight_layout()\n",
    "    plt.grid(True)\n",
    "\n",
    "    #plt.show()\n",
    "\n",
    "    # Save the plot\n",
    "    plt.savefig(f\"./figures/plot_detections_{name}.png\")\n",
    "\n",
    "    plt.close()\n",
    "\n",
    "\n",
    "def get_predictions(X, y, z, name, tm, threshold):\n",
    "    pred = tm.predict(X)\n",
    "\n",
    "    # For each row in pred, if the MSE is greater than the threshold, then it is an anomaly\n",
    "    losses = [hamming_loss(X[i], pred[i]) for i in range(len(X))]\n",
    "\n",
    "    X_predictions = np.array([1 if losses[i] > threshold else 0 for i in range(len(X))])\n",
    "\n",
    "    # Accuracy\n",
    "    accuracy = calculate_accuracy(y, X_predictions)\n",
    "\n",
    "    plot_mse(X, y, pred, name, threshold)\n",
    "    plot_predictions(X, y, z, pred, X_predictions, name, threshold)\n",
    "\n",
    "    return X_predictions, accuracy"
   ],
   "id": "e96b8166de1ca4ee",
   "outputs": [],
   "execution_count": 52
  },
  {
   "metadata": {
    "ExecuteTime": {
     "end_time": "2025-05-22T16:35:53.093222Z",
     "start_time": "2025-05-22T16:35:41.787281Z"
    }
   },
   "cell_type": "code",
   "source": [
    "test_datasets = [68, 22, 72, 73, 0, 26, 40, 42, 10, 45, 84, 25, 69, 13, 24, 3, 17, 38, 71, 14, 92, 51]\n",
    "\n",
    "tm_autoencoder = load_model(\"models/latest_24.pkl\")\n",
    "\n",
    "X_thresh = load_thresh_dataset(\"A\", 25)\n",
    "X_thresh_pred = tm_autoencoder.predict(X_thresh)\n",
    "\n",
    "threshold = calculate_threshold(X_thresh, X_thresh_pred)\n",
    "\n",
    "print(f\"Threshold: {threshold}\")\n",
    "\n",
    "\n",
    "def run_prediction(farm, dataset):\n",
    "    X = load_test_dataset(farm, dataset)\n",
    "    labels, status_ids, train_test = load_test_labels(farm, dataset)\n",
    "\n",
    "    is_normal = load_test_label(farm, dataset)\n",
    "\n",
    "    predictions, accuracy = get_predictions(X, labels, status_ids, f\"{farm}_{dataset}\", tm_autoencoder, threshold)\n",
    "\n",
    "    return X, labels, status_ids, train_test, is_normal, predictions, accuracy\n"
   ],
   "id": "986c2e3634919b34",
   "outputs": [
    {
     "name": "stdout",
     "output_type": "stream",
     "text": [
      "Threshold: 0.2765432098765432\n"
     ]
    }
   ],
   "execution_count": 53
  },
  {
   "metadata": {
    "ExecuteTime": {
     "end_time": "2025-05-22T16:37:00.823596Z",
     "start_time": "2025-05-22T16:35:53.160764Z"
    }
   },
   "cell_type": "code",
   "source": [
    "# Create a dataframe with status_type_id;label;prediction\n",
    "elements = []\n",
    "\n",
    "for set in test_datasets:\n",
    "    res = run_prediction(\"A\", set)\n",
    "\n",
    "    result_df = pd.DataFrame({\n",
    "        'status_type_id': res[2],\n",
    "        'label': res[1],\n",
    "        'prediction': res[5],\n",
    "        'train_test': res[3],\n",
    "    })\n",
    "\n",
    "    print(f\"Done with {set}. Accuracy: {res[6]}\")\n",
    "\n",
    "    elements.append({'dataset': set, 'normal': res[4], 'data': result_df, 'accuracy': res[6]})"
   ],
   "id": "70e024b9cc85e8c9",
   "outputs": [
    {
     "name": "stdout",
     "output_type": "stream",
     "text": [
      "Done with 68. Accuracy: 0.3028322440087146\n",
      "Done with 22. Accuracy: 0.2083696599825632\n",
      "Done with 72. Accuracy: 0.504214179474467\n",
      "Done with 73. Accuracy: 0.45980335454019666\n",
      "Done with 0. Accuracy: 0.35988720479379627\n",
      "Done with 26. Accuracy: 0.3705759888965996\n",
      "Done with 40. Accuracy: 0.1642697994733644\n",
      "Done with 42. Accuracy: 0.476310802274163\n",
      "Done with 10. Accuracy: 0.3735224586288416\n",
      "Done with 45. Accuracy: 0.325\n",
      "Done with 84. Accuracy: 0.4126652748782185\n",
      "Done with 25. Accuracy: 0.9207593891869583\n",
      "Done with 69. Accuracy: 0.8719629772464327\n",
      "Done with 13. Accuracy: 0.9500418643594754\n",
      "Done with 24. Accuracy: 0.9005158437730287\n",
      "Done with 3. Accuracy: 0.8588734100545125\n",
      "Done with 17. Accuracy: 0.8737864077669902\n",
      "Done with 38. Accuracy: 0.7358490566037735\n",
      "Done with 71. Accuracy: 0.9003674969375255\n",
      "Done with 14. Accuracy: 0.9100473435034192\n",
      "Done with 92. Accuracy: 0.95152198421646\n",
      "Done with 51. Accuracy: 0.8921855411617217\n"
     ]
    }
   ],
   "execution_count": 54
  },
  {
   "metadata": {
    "ExecuteTime": {
     "end_time": "2025-05-22T16:37:00.857637Z",
     "start_time": "2025-05-22T16:37:00.846236Z"
    }
   },
   "cell_type": "code",
   "source": [
    "# Safe the results to results.pkl\n",
    "with open(\"results_full_99.pkl\", \"wb\") as f:\n",
    "    pickle.dump(elements, f)"
   ],
   "id": "261ed8c1fbfdbaa0",
   "outputs": [],
   "execution_count": 55
  },
  {
   "metadata": {
    "ExecuteTime": {
     "end_time": "2025-05-22T16:47:57.885339Z",
     "start_time": "2025-05-22T16:46:53.464394Z"
    }
   },
   "cell_type": "code",
   "source": [
    "# filter out 45\n",
    "elements_to_filter_out = [45, 84]\n",
    "elements_to_process = [elem for elem in elements if elem['dataset'] not in elements_to_filter_out]\n",
    "\n",
    "score = calculate_care_score(elements_to_process)\n",
    "print(score)"
   ],
   "id": "aa6756d8794bc14c",
   "outputs": [
    {
     "name": "stdout",
     "output_type": "stream",
     "text": [
      "0.6726179225725643\n"
     ]
    }
   ],
   "execution_count": 59
  },
  {
   "metadata": {
    "ExecuteTime": {
     "end_time": "2025-05-22T16:37:01.064707Z",
     "start_time": "2025-05-22T16:37:01.062873Z"
    }
   },
   "cell_type": "code",
   "source": [
    "# Trained on only two 5 bit datasets: 0.6807648486258542\n",
    "# Trained on all 5 bit datasets: X.XX"
   ],
   "id": "bf2b64cd5563128f",
   "outputs": [],
   "execution_count": 57
  },
  {
   "metadata": {
    "ExecuteTime": {
     "end_time": "2025-05-22T16:37:01.262501Z",
     "start_time": "2025-05-22T16:37:01.083899Z"
    }
   },
   "cell_type": "code",
   "source": [
    "import pickle\n",
    "from src.lib.care import calculate_care_score\n",
    "\n",
    "# Load elements from results_full_99.pkl\n",
    "with open(\"results_full_99.pkl\", \"rb\") as f:\n",
    "    elements = pickle.load(f)\n",
    "\n",
    "# filter out 45\n",
    "elements_to_filter_out = [45, 84]\n",
    "elements_to_process = [elem for elem in elements if elem['dataset'] not in elements_to_filter_out]\n",
    "\n",
    "score = calculate_care_score(elements)\n",
    "print(score)"
   ],
   "id": "ef0eb8922ce3d018",
   "outputs": [
    {
     "name": "stdout",
     "output_type": "stream",
     "text": [
      "0.6399836951711759\n"
     ]
    }
   ],
   "execution_count": 58
  }
 ],
 "metadata": {
  "kernelspec": {
   "display_name": "Python 3",
   "language": "python",
   "name": "python3"
  },
  "language_info": {
   "codemirror_mode": {
    "name": "ipython",
    "version": 2
   },
   "file_extension": ".py",
   "mimetype": "text/x-python",
   "name": "python",
   "nbconvert_exporter": "python",
   "pygments_lexer": "ipython2",
   "version": "2.7.6"
  }
 },
 "nbformat": 4,
 "nbformat_minor": 5
}
