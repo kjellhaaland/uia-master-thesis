{
 "cells": [
  {
   "cell_type": "code",
   "id": "e28183c3-d395-4a3a-8eb4-dba55cb1d527",
   "metadata": {
    "ExecuteTime": {
     "end_time": "2025-04-05T08:43:41.598658Z",
     "start_time": "2025-04-05T08:43:41.595634Z"
    }
   },
   "source": [
    "#%pip install git+https://github.com/cair/tmu.git\n",
    "#%pip install numpy==1.26.4"
   ],
   "outputs": [],
   "execution_count": 1
  },
  {
   "cell_type": "code",
   "id": "2b757c20539f2247",
   "metadata": {
    "ExecuteTime": {
     "end_time": "2025-04-05T08:43:41.833934Z",
     "start_time": "2025-04-05T08:43:41.603541Z"
    }
   },
   "source": [
    "import numpy as np\n",
    "import pickle\n",
    "import os\n",
    "\n",
    "from tmu.models.autoencoder.autoencoder import TMAutoEncoder"
   ],
   "outputs": [
    {
     "name": "stdout",
     "output_type": "stream",
     "text": [
      "2025-04-05 10:43:41,828 - tmu.util.cuda_profiler - WARNING - Could not import pycuda: No module named 'pycuda'\n",
      "2025-04-05 10:43:41,829 - tmu.clause_bank.clause_bank_cuda - ERROR - No module named 'pycuda'\n",
      "Traceback (most recent call last):\n",
      "  File \"/Users/kjellhaaland/Documents/GitHub/uia-master-thesis/.venv/lib/python3.12/site-packages/tmu/clause_bank/clause_bank_cuda.py\", line 41, in <module>\n",
      "    from pycuda._driver import Device, Context\n",
      "ModuleNotFoundError: No module named 'pycuda'\n",
      "2025-04-05 10:43:41,830 - tmu.clause_bank.clause_bank_cuda - WARNING - Could not import pycuda. This indicates that it is not installed! A possible fix is to run 'pip install pycuda'. Fallback to CPU ClauseBanks.\n"
     ]
    }
   ],
   "execution_count": 2
  },
  {
   "metadata": {
    "ExecuteTime": {
     "end_time": "2025-04-05T08:43:41.962045Z",
     "start_time": "2025-04-05T08:43:41.958952Z"
    }
   },
   "cell_type": "code",
   "source": [
    "# Create folder models if it does not exist\n",
    "os.makedirs(\"models\", exist_ok=True)"
   ],
   "id": "d427f1ccd2f319f8",
   "outputs": [],
   "execution_count": 3
  },
  {
   "cell_type": "code",
   "id": "28162fc330bc11f1",
   "metadata": {
    "ExecuteTime": {
     "end_time": "2025-04-05T08:43:41.978865Z",
     "start_time": "2025-04-05T08:43:41.976017Z"
    }
   },
   "source": [
    "def load_train_dataset(farm, event_id):\n",
    "    X = np.loadtxt(f\"./data_train/X_{farm}_{event_id}.txt\", dtype=np.uint32)\n",
    "    X = np.array(X).astype(np.uint32)\n",
    "    return X"
   ],
   "outputs": [],
   "execution_count": 4
  },
  {
   "cell_type": "code",
   "id": "da4ff95f-ff25-4203-89c8-7e6046e4356b",
   "metadata": {
    "ExecuteTime": {
     "end_time": "2025-04-05T08:43:41.984783Z",
     "start_time": "2025-04-05T08:43:41.982550Z"
    }
   },
   "source": [
    "def save_model(tm: TMAutoEncoder, filename: str):\n",
    "    a, d = tm.X_train, tm.encoded_X_train\n",
    "\n",
    "    tm.X_train = None\n",
    "    tm.encoded_X_train = None\n",
    "\n",
    "    with open(f\"./models/{filename}\", \"wb\") as f:\n",
    "        pickle.dump(tm, f)\n",
    "\n",
    "    tm.X_train = a\n",
    "    tm.encoded_X_train = d"
   ],
   "outputs": [],
   "execution_count": 5
  },
  {
   "metadata": {
    "ExecuteTime": {
     "end_time": "2025-04-05T08:43:42.135053Z",
     "start_time": "2025-04-05T08:43:41.988590Z"
    }
   },
   "cell_type": "code",
   "source": [
    "train_datasets = [68, 22]  #, 72, 73, 0, 26, 40, 42, 10, 45, 84, 25, 69, 13, 24, 3, 17, 38, 71, 14, 92, 51]\n",
    "test_dataset = [25]\n",
    "\n",
    "# Load all datasets into one array\n",
    "X_train = np.concatenate([load_train_dataset(\"A\", i) for i in train_datasets])\n",
    "\n",
    "X_test = np.concatenate([load_train_dataset(\"A\", i) for i in test_dataset])\n",
    "\n",
    "print(f\"X_train shape: {X_train.shape}\")\n",
    "print(f\"X_test shape: {X_test.shape}\")"
   ],
   "id": "a31d2f9342f1de77",
   "outputs": [
    {
     "name": "stdout",
     "output_type": "stream",
     "text": [
      "X_train shape: (81241, 85)\n",
      "X_test shape: (40838, 85)\n"
     ]
    }
   ],
   "execution_count": 6
  },
  {
   "metadata": {
    "ExecuteTime": {
     "end_time": "2025-04-05T08:43:42.145969Z",
     "start_time": "2025-04-05T08:43:42.143823Z"
    }
   },
   "cell_type": "code",
   "source": [
    "def hamming_loss(pred, X_test):\n",
    "    \"\"\"\n",
    "    Computes the Hamming loss between predicted and ground truth binary arrays.\n",
    "\n",
    "    Parameters:\n",
    "    - pred (numpy array): Binary predictions of shape (n_samples, n_bits).\n",
    "    - X_test (numpy array): Ground truth binary values of shape (n_samples, n_bits).\n",
    "\n",
    "    Returns:\n",
    "    - float: Hamming loss (fraction of incorrect bits).\n",
    "    \"\"\"\n",
    "    assert pred.shape == X_test.shape, \"Shapes of pred and X_test must match\"\n",
    "\n",
    "    # Compute the number of differing bits\n",
    "    incorrect_bits = np.sum(pred != X_test)\n",
    "\n",
    "    # Total number of bits\n",
    "    total_bits = np.prod(X_test.shape)\n",
    "\n",
    "    # Hamming loss is the fraction of incorrect bits\n",
    "    return incorrect_bits / total_bits"
   ],
   "id": "99456064a07d2ee8",
   "outputs": [],
   "execution_count": 7
  },
  {
   "metadata": {
    "ExecuteTime": {
     "end_time": "2025-04-05T08:43:42.152880Z",
     "start_time": "2025-04-05T08:43:42.150252Z"
    }
   },
   "cell_type": "code",
   "source": [
    "def test(tm, X):\n",
    "    pred = tm.predict(X)\n",
    "\n",
    "    loss = [hamming_loss(X[i], pred[i]) for i in range(len(X))]\n",
    "\n",
    "    return np.mean(loss), np.median(loss), np.max(loss), np.min(loss)"
   ],
   "id": "7ecf95da10037720",
   "outputs": [],
   "execution_count": 8
  },
  {
   "cell_type": "code",
   "id": "initial_id",
   "metadata": {
    "ExecuteTime": {
     "end_time": "2025-04-05T08:43:42.159388Z",
     "start_time": "2025-04-05T08:43:42.157072Z"
    }
   },
   "source": [
    "def train(args):\n",
    "    tm = TMAutoEncoder(\n",
    "        number_of_clauses=args[\"num_clauses\"],\n",
    "        T=args[\"T\"],\n",
    "        s=args[\"s\"],\n",
    "        output_active=args[\"output_active\"],\n",
    "        max_included_literals=args[\"max_included_literals\"],\n",
    "        accumulation=args[\"accumulation\"],\n",
    "        feature_negation=args[\"feature_negation\"],\n",
    "        platform=args[\"platform\"],\n",
    "        output_balancing=args[\"output_balancing\"],\n",
    "    )\n",
    "\n",
    "    print(f\"Starting training for {args['epochs']} epochs\")\n",
    "\n",
    "    for e in range(args[\"epochs\"]):\n",
    "        tm.fit(X_train, number_of_examples=args[\"number_of_examples\"])\n",
    "\n",
    "        lmean, lmed, lmax, lmin = test(tm, X_test)\n",
    "        print(f\"Epoch: {e + 1} Mean loss: {lmean:4f}, Median loss: {lmed:4f}, Max loss: {lmax:4f}, Min loss: {lmin:4f}\")\n",
    "\n",
    "        save_model(tm, f\"latest_{e}.pkl\")"
   ],
   "outputs": [],
   "execution_count": 9
  },
  {
   "metadata": {
    "ExecuteTime": {
     "end_time": "2025-04-05T08:43:42.165716Z",
     "start_time": "2025-04-05T08:43:42.163409Z"
    }
   },
   "cell_type": "code",
   "source": [
    "number_of_features = X_train.shape[1]\n",
    "output_active = np.arange(number_of_features, dtype=np.uint32)\n",
    "\n",
    "print(f\"Number of features {number_of_features}\")"
   ],
   "id": "85353f371b6143a4",
   "outputs": [
    {
     "name": "stdout",
     "output_type": "stream",
     "text": [
      "Number of features 85\n"
     ]
    }
   ],
   "execution_count": 10
  },
  {
   "cell_type": "code",
   "id": "d4dc7e4da5c88e88",
   "metadata": {
    "ExecuteTime": {
     "end_time": "2025-04-05T08:48:47.391908Z",
     "start_time": "2025-04-05T08:44:11.290048Z"
    }
   },
   "source": [
    "number_of_clauses = int(1024 / 4)\n",
    "\n",
    "args: dict = {\n",
    "    \"number_of_examples\": 100,\n",
    "    \"output_active\": output_active,\n",
    "    \"accumulation\": 1,\n",
    "    \"num_clauses\": number_of_clauses,\n",
    "    \"T\": int(number_of_clauses * 0.75),\n",
    "    \"s\": 25.0,\n",
    "    \"epochs\": 25,\n",
    "    \"platform\": \"CPU\",\n",
    "    \"output_balancing\": 0,\n",
    "    \"max_included_literals\": 2 * number_of_features,\n",
    "    \"feature_negation\": True,\n",
    "}\n",
    "\n",
    "result = train(args)"
   ],
   "outputs": [
    {
     "name": "stdout",
     "output_type": "stream",
     "text": [
      "Starting training for 25 epochs\n",
      "Epoch: 1 Mean loss: 0.240301, Median loss: 0.200000, Max loss: 0.764706, Min loss: 0.011765\n",
      "Epoch: 2 Mean loss: 0.161901, Median loss: 0.117647, Max loss: 0.764706, Min loss: 0.000000\n",
      "Epoch: 3 Mean loss: 0.130828, Median loss: 0.094118, Max loss: 0.752941, Min loss: 0.000000\n",
      "Epoch: 4 Mean loss: 0.132124, Median loss: 0.082353, Max loss: 0.717647, Min loss: 0.000000\n",
      "Epoch: 5 Mean loss: 0.136109, Median loss: 0.082353, Max loss: 0.705882, Min loss: 0.000000\n",
      "Epoch: 6 Mean loss: 0.128362, Median loss: 0.082353, Max loss: 0.705882, Min loss: 0.000000\n",
      "Epoch: 7 Mean loss: 0.129374, Median loss: 0.082353, Max loss: 0.705882, Min loss: 0.000000\n",
      "Epoch: 8 Mean loss: 0.125715, Median loss: 0.082353, Max loss: 0.717647, Min loss: 0.000000\n",
      "Epoch: 9 Mean loss: 0.118966, Median loss: 0.070588, Max loss: 0.705882, Min loss: 0.000000\n",
      "Epoch: 10 Mean loss: 0.113228, Median loss: 0.070588, Max loss: 0.717647, Min loss: 0.000000\n",
      "Epoch: 11 Mean loss: 0.113474, Median loss: 0.070588, Max loss: 0.705882, Min loss: 0.000000\n",
      "Epoch: 12 Mean loss: 0.111426, Median loss: 0.070588, Max loss: 0.741176, Min loss: 0.000000\n",
      "Epoch: 13 Mean loss: 0.109214, Median loss: 0.070588, Max loss: 0.705882, Min loss: 0.000000\n",
      "Epoch: 14 Mean loss: 0.107010, Median loss: 0.070588, Max loss: 0.741176, Min loss: 0.000000\n",
      "Epoch: 15 Mean loss: 0.105803, Median loss: 0.058824, Max loss: 0.741176, Min loss: 0.000000\n",
      "Epoch: 16 Mean loss: 0.102764, Median loss: 0.058824, Max loss: 0.741176, Min loss: 0.000000\n",
      "Epoch: 17 Mean loss: 0.101720, Median loss: 0.058824, Max loss: 0.741176, Min loss: 0.000000\n",
      "Epoch: 18 Mean loss: 0.100828, Median loss: 0.058824, Max loss: 0.741176, Min loss: 0.000000\n",
      "Epoch: 19 Mean loss: 0.095444, Median loss: 0.058824, Max loss: 0.741176, Min loss: 0.000000\n",
      "Epoch: 20 Mean loss: 0.094530, Median loss: 0.058824, Max loss: 0.741176, Min loss: 0.000000\n",
      "Epoch: 21 Mean loss: 0.093668, Median loss: 0.058824, Max loss: 0.741176, Min loss: 0.000000\n",
      "Epoch: 22 Mean loss: 0.090458, Median loss: 0.058824, Max loss: 0.741176, Min loss: 0.000000\n",
      "Epoch: 23 Mean loss: 0.090221, Median loss: 0.058824, Max loss: 0.741176, Min loss: 0.000000\n",
      "Epoch: 24 Mean loss: 0.087483, Median loss: 0.047059, Max loss: 0.741176, Min loss: 0.000000\n",
      "Epoch: 25 Mean loss: 0.085830, Median loss: 0.047059, Max loss: 0.741176, Min loss: 0.000000\n"
     ]
    }
   ],
   "execution_count": 12
  }
 ],
 "metadata": {
  "kernelspec": {
   "display_name": "Python 3 (ipykernel)",
   "language": "python",
   "name": "python3"
  },
  "language_info": {
   "codemirror_mode": {
    "name": "ipython",
    "version": 3
   },
   "file_extension": ".py",
   "mimetype": "text/x-python",
   "name": "python",
   "nbconvert_exporter": "python",
   "pygments_lexer": "ipython3",
   "version": "3.11.6"
  }
 },
 "nbformat": 4,
 "nbformat_minor": 5
}
