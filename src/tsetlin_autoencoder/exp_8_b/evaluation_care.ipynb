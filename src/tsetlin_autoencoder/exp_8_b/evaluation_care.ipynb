{
 "cells": [
  {
   "cell_type": "code",
   "id": "initial_id",
   "metadata": {
    "collapsed": true,
    "ExecuteTime": {
     "end_time": "2025-04-01T20:38:53.900068Z",
     "start_time": "2025-04-01T20:38:53.853970Z"
    }
   },
   "source": [
    "import numpy as np\n",
    "import seaborn as sns\n",
    "import matplotlib.pyplot as plt\n",
    "import pandas as pd\n",
    "import os\n",
    "\n",
    "import pickle\n",
    "\n",
    "from tmu.models.autoencoder.autoencoder import TMAutoEncoder\n",
    "from src.lib.care import calculate_care_score"
   ],
   "outputs": [
    {
     "name": "stdout",
     "output_type": "stream",
     "text": [
      "2025-04-01 22:38:53,895 - tmu.util.cuda_profiler - WARNING - Could not import pycuda: No module named 'pycuda'\n",
      "2025-04-01 22:38:53,895 - tmu.clause_bank.clause_bank_cuda - ERROR - No module named 'pycuda'\n",
      "Traceback (most recent call last):\n",
      "  File \"/Users/kjellhaaland/Documents/GitHub/uia-master-thesis/.venv/lib/python3.12/site-packages/tmu/clause_bank/clause_bank_cuda.py\", line 41, in <module>\n",
      "    from pycuda._driver import Device, Context\n",
      "ModuleNotFoundError: No module named 'pycuda'\n",
      "2025-04-01 22:38:53,896 - tmu.clause_bank.clause_bank_cuda - WARNING - Could not import pycuda. This indicates that it is not installed! A possible fix is to run 'pip install pycuda'. Fallback to CPU ClauseBanks.\n"
     ]
    }
   ],
   "execution_count": 4
  },
  {
   "metadata": {
    "ExecuteTime": {
     "end_time": "2025-04-01T20:38:53.912725Z",
     "start_time": "2025-04-01T20:38:53.909756Z"
    }
   },
   "cell_type": "code",
   "source": [
    "# Create folder figures if it does not exist\n",
    "os.makedirs(\"figures\", exist_ok=True)"
   ],
   "id": "12722105cfb66efa",
   "outputs": [],
   "execution_count": 5
  },
  {
   "metadata": {
    "ExecuteTime": {
     "end_time": "2025-04-01T20:38:53.934419Z",
     "start_time": "2025-04-01T20:38:53.931350Z"
    }
   },
   "cell_type": "code",
   "source": [
    "def load_test_dataset(farm, event_id):\n",
    "    X = np.loadtxt(f\"./data_test/X_{farm}_{event_id}.txt\", dtype=np.uint32)\n",
    "    X = np.array(X).astype(np.uint32)\n",
    "\n",
    "    # Take the first 3000 rows\n",
    "    #X = X[:3000]\n",
    "\n",
    "    return X\n",
    "\n",
    "\n",
    "def load_thresh_dataset(farm, event_id):\n",
    "    X = np.loadtxt(f\"./data_train/X_{farm}_{event_id}.txt\", dtype=np.uint32)\n",
    "    X = np.array(X).astype(np.uint32)\n",
    "\n",
    "    # Take the first 5000 rows\n",
    "    X = X[:10000]\n",
    "\n",
    "    return X\n",
    "\n",
    "\n",
    "def load_test_labels(farm, event_id):\n",
    "    # Load dataframe from file\n",
    "    df = pd.read_csv(f\"./data_test/y_{farm}_{event_id}.csv\")\n",
    "\n",
    "    labels = df['label'].values\n",
    "    status_ids = df['status_type_id'].values\n",
    "    train_test = df['train_test'].values\n",
    "\n",
    "    # Take the first 3000 rows\n",
    "    #labels = labels[:3000]\n",
    "    #status_ids = status_ids[:3000]\n",
    "    #train_test = train_test[:3000]\n",
    "\n",
    "    return np.array(labels).astype(np.uint32), np.array(status_ids).astype(np.uint32), train_test\n",
    "\n",
    "\n",
    "def load_test_label(farm, event_id):\n",
    "    event_info = pd.read_csv(f\"../../../data/care_to_compare/Wind Farm {farm}/event_info.csv\", delimiter=';')\n",
    "\n",
    "    metadata = event_info[event_info['event_id'] == event_id]\n",
    "\n",
    "    event_label = metadata[\"event_label\"].values[0]\n",
    "\n",
    "    return False if event_label == \"anomaly\" else True"
   ],
   "id": "9afef311a40435c8",
   "outputs": [],
   "execution_count": 6
  },
  {
   "metadata": {
    "ExecuteTime": {
     "end_time": "2025-04-01T20:38:53.938360Z",
     "start_time": "2025-04-01T20:38:53.936327Z"
    }
   },
   "cell_type": "code",
   "source": [
    "def calculate_accuracy(labels, predictions):\n",
    "    # Calculate the accuracy\n",
    "    accuracy = np.sum(labels == predictions) / len(labels)\n",
    "\n",
    "    return accuracy\n",
    "\n",
    "\n",
    "def calculate_threshold(X, pred):\n",
    "    losses = [hamming_loss(X[i], pred[i]) for i in range(len(X))]\n",
    "\n",
    "    # Set the threshold as the lowest 1% of the losses\n",
    "    threshold = np.percentile(losses, 90)\n",
    "\n",
    "    return threshold\n"
   ],
   "id": "4a1549d328c78582",
   "outputs": [],
   "execution_count": 7
  },
  {
   "metadata": {
    "ExecuteTime": {
     "end_time": "2025-04-01T20:38:53.946491Z",
     "start_time": "2025-04-01T20:38:53.944490Z"
    }
   },
   "cell_type": "code",
   "source": [
    "def load_model(filename) -> TMAutoEncoder:\n",
    "    with open(filename, \"rb\") as f:\n",
    "        model = pickle.load(f)\n",
    "\n",
    "    return model"
   ],
   "id": "652d72a575fd0627",
   "outputs": [],
   "execution_count": 8
  },
  {
   "metadata": {
    "ExecuteTime": {
     "end_time": "2025-04-01T20:38:53.954299Z",
     "start_time": "2025-04-01T20:38:53.952681Z"
    }
   },
   "cell_type": "code",
   "source": [
    "def hamming_loss(pred, X_test):\n",
    "    \"\"\"\n",
    "    Computes the Hamming loss between predicted and ground truth binary arrays.\n",
    "\n",
    "    Parameters:\n",
    "    - pred (numpy array): Binary predictions of shape (n_samples, n_bits).\n",
    "    - X_test (numpy array): Ground truth binary values of shape (n_samples, n_bits).\n",
    "\n",
    "    Returns:\n",
    "    - float: Hamming loss (fraction of incorrect bits).\n",
    "    \"\"\"\n",
    "    assert pred.shape == X_test.shape, \"Shapes of pred and X_test must match\"\n",
    "\n",
    "    # Compute the number of differing bits\n",
    "    incorrect_bits = np.sum(pred != X_test)\n",
    "\n",
    "    # Total number of bits\n",
    "    total_bits = np.prod(X_test.shape)\n",
    "\n",
    "    # Hamming loss is the fraction of incorrect bits\n",
    "    return incorrect_bits / total_bits"
   ],
   "id": "e362b0e33bf545cd",
   "outputs": [],
   "execution_count": 9
  },
  {
   "metadata": {
    "ExecuteTime": {
     "end_time": "2025-04-01T20:38:53.966519Z",
     "start_time": "2025-04-01T20:38:53.960378Z"
    }
   },
   "cell_type": "code",
   "source": [
    "def reconstruction_accuracy(X, pred):\n",
    "    correct = np.sum(X == pred)\n",
    "    accuracy = correct / len(X)\n",
    "    return accuracy\n",
    "\n",
    "\n",
    "def plot_mse(X, y, pred, name, threshold):\n",
    "    # Compute MSE for each row\n",
    "    mse_per_row = [hamming_loss(X[i], pred[i]) for i in range(len(X))]\n",
    "\n",
    "    # Plot SNS plot of all MSE values\n",
    "    plt.figure(figsize=(8, 4))\n",
    "    sns.histplot(mse_per_row, bins=50, kde=True, color='b')\n",
    "\n",
    "    # Add a threshold line\n",
    "    plt.axvline(threshold, color='r', linestyle='--')\n",
    "\n",
    "    # Save the plot\n",
    "    plt.savefig(f\"./figures/plot_reconstruction_acc_{name}.png\")\n",
    "\n",
    "    plt.close()\n",
    "\n",
    "\n",
    "def plot_predictions(X, y, z, pred, p, name, threshold):\n",
    "    x = np.arange(0, len(X))  # Time or index\n",
    "    r = [hamming_loss(X[i], pred[i]) for i in range(len(X))]\n",
    "\n",
    "    anomalies = np.array([1 if (p[i] == 1 and z[i] == 0) else 0 for i in range(len(X))])\n",
    "\n",
    "    y_mapped = np.where(y == 0, -0.2, -0.1)\n",
    "    a_mapped = np.where(anomalies == 0, -0.4, -0.3)\n",
    "    p_mapped = np.where(p == 0, -0.6, -0.5)\n",
    "    z_mapped = np.where(np.logical_or(z == 0, z == 2), -0.8, -0.7)\n",
    "\n",
    "    # Create a figure with two subplots (1 row, 2 columns)\n",
    "    fig, axes = plt.subplots(2, 1, figsize=(12, 10))\n",
    "\n",
    "    # First chart\n",
    "    # If z is 0 or 2, then the color is orange, if y[i] is 1, then the color is red, otherwise blue\n",
    "    colors = ['red' if y[i] == 1 else 'blue' if z[i] == 0 or z[i] == 2 else 'orange' for i in range(len(z))]\n",
    "\n",
    "    axes[0].scatter(x, r, label=\"Reconstruction Loss\", c=colors, alpha=0.7)\n",
    "    axes[0].axhline(threshold, color='red', linestyle='--', label=\"Threshold\")\n",
    "\n",
    "    axes[0].set_title(\"Reconstruction Loss\")\n",
    "    axes[0].set_xlabel(\"Time\")\n",
    "    axes[0].set_ylabel(\"Reconstruction Loss\")\n",
    "    axes[0].legend()\n",
    "\n",
    "    # Second chart\n",
    "    axes[1].plot(x, y_mapped, label=\"Actual Anomalies (y)\", color='red', linestyle='-', linewidth=2)\n",
    "    axes[1].plot(x, a_mapped, label=\"Detected Anomalies (a)\", color='purple', linestyle='-', linewidth=2)\n",
    "    axes[1].plot(x, p_mapped, label=\"Predicted Anomalies (p)\", color='green', linestyle='-', linewidth=2)\n",
    "    axes[1].plot(x, z_mapped, label=\"Status Type Id (z)\", color='orange', linestyle='-', linewidth=2)\n",
    "\n",
    "    axes[1].axhline(y=-0.1, color='black', linestyle='dotted', linewidth=1, alpha=0.5)\n",
    "    axes[1].axhline(y=-0.2, color='black', linestyle='dotted', linewidth=1, alpha=0.5)\n",
    "    axes[1].axhline(y=-0.3, color='black', linestyle='dotted', linewidth=1, alpha=0.5)\n",
    "    axes[1].axhline(y=-0.4, color='black', linestyle='dotted', linewidth=1, alpha=0.5)\n",
    "    axes[1].axhline(y=-0.5, color='black', linestyle='dotted', linewidth=1, alpha=0.5)\n",
    "    axes[1].axhline(y=-0.6, color='black', linestyle='dotted', linewidth=1, alpha=0.5)\n",
    "    axes[1].axhline(y=-0.7, color='black', linestyle='dotted', linewidth=1, alpha=0.5)\n",
    "    axes[1].axhline(y=-0.8, color='black', linestyle='dotted', linewidth=1, alpha=0.5)\n",
    "\n",
    "    axes[1].set_ylim(-0.9, 0)\n",
    "\n",
    "    axes[1].set_title(\"Anomalies\")\n",
    "    axes[1].legend()\n",
    "\n",
    "    # Adjust layout\n",
    "    plt.tight_layout()\n",
    "    plt.grid(True)\n",
    "\n",
    "    # plt.show()\n",
    "\n",
    "    # Save the plot\n",
    "    plt.savefig(f\"./figures/plot_detections_{name}.png\")\n",
    "\n",
    "    plt.close()\n",
    "\n",
    "\n",
    "def get_predictions(X, y, z, name, tm, threshold):\n",
    "    pred = tm.predict(X)\n",
    "\n",
    "    # For each row in pred, if the MSE is greater than the threshold, then it is an anomaly\n",
    "    losses = [hamming_loss(X[i], pred[i]) for i in range(len(X))]\n",
    "\n",
    "    X_predictions = np.array([1 if losses[i] > threshold else 0 for i in range(len(X))])\n",
    "\n",
    "    # Accuracy\n",
    "    accuracy = calculate_accuracy(y, X_predictions)\n",
    "\n",
    "    plot_mse(X, y, pred, name, threshold)\n",
    "    plot_predictions(X, y, z, pred, X_predictions, name, threshold)\n",
    "\n",
    "    return X_predictions, accuracy"
   ],
   "id": "e96b8166de1ca4ee",
   "outputs": [],
   "execution_count": 10
  },
  {
   "metadata": {
    "ExecuteTime": {
     "end_time": "2025-04-01T20:39:04.183041Z",
     "start_time": "2025-04-01T20:38:53.972932Z"
    }
   },
   "cell_type": "code",
   "source": [
    "test_datasets = [34, 7, 53, 27, 19, 77, 83, 52, 21, 2, 23, 87, 74, 86, 82]\n",
    "\n",
    "tm_autoencoder = load_model(\"models/latest_14_full.pkl\")\n",
    "\n",
    "X_thresh = load_thresh_dataset(\"B\", 83)\n",
    "X_thresh_pred = tm_autoencoder.predict(X_thresh)\n",
    "\n",
    "threshold = calculate_threshold(X_thresh, X_thresh_pred)\n",
    "\n",
    "print(f\"Threshold: {threshold}\")\n",
    "\n",
    "\n",
    "def run_prediction(farm, dataset):\n",
    "    X = load_test_dataset(farm, dataset)\n",
    "    labels, status_ids, train_test = load_test_labels(farm, dataset)\n",
    "\n",
    "    is_normal = load_test_label(farm, dataset)\n",
    "\n",
    "    predictions, accuracy = get_predictions(X, labels, status_ids, f\"{farm}_{dataset}\", tm_autoencoder, threshold)\n",
    "\n",
    "    return X, labels, status_ids, train_test, is_normal, predictions, accuracy\n"
   ],
   "id": "986c2e3634919b34",
   "outputs": [
    {
     "name": "stdout",
     "output_type": "stream",
     "text": [
      "Threshold: 0.17777777777777778\n"
     ]
    }
   ],
   "execution_count": 11
  },
  {
   "metadata": {
    "ExecuteTime": {
     "end_time": "2025-04-01T20:54:20.333204Z",
     "start_time": "2025-04-01T20:39:04.196717Z"
    }
   },
   "cell_type": "code",
   "source": [
    "# Create a dataframe with status_type_id;label;prediction\n",
    "elements = []\n",
    "\n",
    "for set in test_datasets:\n",
    "    res = run_prediction(\"B\", set)\n",
    "\n",
    "    result_df = pd.DataFrame({\n",
    "        'status_type_id': res[2],\n",
    "        'label': res[1],\n",
    "        'prediction': res[5],\n",
    "        'train_test': res[3],\n",
    "    })\n",
    "\n",
    "    print(f\"Done with {set}. Accuracy: {res[6]}\")\n",
    "\n",
    "    elements.append({'dataset': set, 'normal': res[4], 'data': result_df, 'accuracy': res[6]})"
   ],
   "id": "70e024b9cc85e8c9",
   "outputs": [
    {
     "name": "stdout",
     "output_type": "stream",
     "text": [
      "Done with 34. Accuracy: 0.7785124551385181\n",
      "Done with 7. Accuracy: 0.8593466581443157\n",
      "Done with 53. Accuracy: 0.814694741152783\n",
      "Done with 27. Accuracy: 0.7514895530537845\n",
      "Done with 19. Accuracy: 0.8405274287846747\n",
      "Done with 77. Accuracy: 0.7285633346823148\n",
      "Done with 83. Accuracy: 0.8073283550503371\n",
      "Done with 52. Accuracy: 0.8296270830694628\n",
      "Done with 21. Accuracy: 0.8863288111522218\n",
      "Done with 2. Accuracy: 0.9240501707045442\n",
      "Done with 23. Accuracy: 0.8613886800755395\n",
      "Done with 87. Accuracy: 0.8861168819438172\n",
      "Done with 74. Accuracy: 0.8826459955756192\n",
      "Done with 86. Accuracy: 0.8198071550869604\n",
      "Done with 82. Accuracy: 0.8646530404422461\n"
     ]
    }
   ],
   "execution_count": 12
  },
  {
   "metadata": {
    "ExecuteTime": {
     "end_time": "2025-04-01T20:54:20.434710Z",
     "start_time": "2025-04-01T20:54:20.378374Z"
    }
   },
   "cell_type": "code",
   "source": [
    "# Safe the results to results.pkl\n",
    "with open(\"results_full_99.pkl\", \"wb\") as f:\n",
    "    pickle.dump(elements, f)"
   ],
   "id": "135d0e12a45b534b",
   "outputs": [],
   "execution_count": 13
  },
  {
   "metadata": {
    "ExecuteTime": {
     "end_time": "2025-04-05T07:28:33.359077Z",
     "start_time": "2025-04-05T07:26:14.525152Z"
    }
   },
   "cell_type": "code",
   "source": [
    "import pickle\n",
    "from src.lib.care import calculate_care_score\n",
    "\n",
    "# Load elements from results_full_99.pkl\n",
    "with open(\"results_full_99.pkl\", \"rb\") as f:\n",
    "    elements = pickle.load(f)\n",
    "\n",
    "score = calculate_care_score(elements)\n",
    "print(score)"
   ],
   "id": "aa6756d8794bc14c",
   "outputs": [
    {
     "name": "stdout",
     "output_type": "stream",
     "text": [
      "0.6661408285906466\n"
     ]
    }
   ],
   "execution_count": 1
  },
  {
   "metadata": {
    "ExecuteTime": {
     "end_time": "2025-04-01T20:54:20.818303Z",
     "start_time": "2025-04-01T20:54:20.816386Z"
    }
   },
   "cell_type": "code",
   "source": [
    "# Trained on only two 5 bit datasets: 0.6608247996790653\n",
    "# Trained on all 5 bit datasets: 0.6661408285906466"
   ],
   "id": "12adca5fe3b5d6b6",
   "outputs": [],
   "execution_count": 15
  }
 ],
 "metadata": {
  "kernelspec": {
   "display_name": "Python 3",
   "language": "python",
   "name": "python3"
  },
  "language_info": {
   "codemirror_mode": {
    "name": "ipython",
    "version": 2
   },
   "file_extension": ".py",
   "mimetype": "text/x-python",
   "name": "python",
   "nbconvert_exporter": "python",
   "pygments_lexer": "ipython2",
   "version": "2.7.6"
  }
 },
 "nbformat": 4,
 "nbformat_minor": 5
}
