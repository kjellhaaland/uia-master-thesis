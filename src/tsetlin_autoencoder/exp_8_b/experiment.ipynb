{
 "cells": [
  {
   "cell_type": "code",
   "id": "e28183c3-d395-4a3a-8eb4-dba55cb1d527",
   "metadata": {
    "ExecuteTime": {
     "end_time": "2025-03-26T00:34:42.940036Z",
     "start_time": "2025-03-26T00:34:42.938409Z"
    }
   },
   "source": [
    "#%pip install git+https://github.com/cair/tmu.git\n",
    "#%pip install numpy==1.26.4"
   ],
   "outputs": [],
   "execution_count": 1
  },
  {
   "cell_type": "code",
   "id": "2b757c20539f2247",
   "metadata": {
    "ExecuteTime": {
     "end_time": "2025-03-26T00:34:42.956564Z",
     "start_time": "2025-03-26T00:34:42.942227Z"
    }
   },
   "source": [
    "import numpy as np\n",
    "import pickle\n",
    "import os\n",
    "\n",
    "from tmu.models.autoencoder.autoencoder import TMAutoEncoder"
   ],
   "outputs": [
    {
     "name": "stdout",
     "output_type": "stream",
     "text": [
      "2025-03-25 20:34:42,952 - tmu.util.cuda_profiler - WARNING - Could not import pycuda: No module named 'pycuda'\n",
      "2025-03-25 20:34:42,953 - tmu.clause_bank.clause_bank_cuda - ERROR - No module named 'pycuda'\n",
      "Traceback (most recent call last):\n",
      "  File \"/Users/kjellhaaland/Documents/GitHub/uia-master-thesis/.venv/lib/python3.12/site-packages/tmu/clause_bank/clause_bank_cuda.py\", line 41, in <module>\n",
      "    from pycuda._driver import Device, Context\n",
      "ModuleNotFoundError: No module named 'pycuda'\n",
      "2025-03-25 20:34:42,953 - tmu.clause_bank.clause_bank_cuda - WARNING - Could not import pycuda. This indicates that it is not installed! A possible fix is to run 'pip install pycuda'. Fallback to CPU ClauseBanks.\n"
     ]
    }
   ],
   "execution_count": 2
  },
  {
   "metadata": {
    "ExecuteTime": {
     "end_time": "2025-03-26T00:34:43.041994Z",
     "start_time": "2025-03-26T00:34:43.039697Z"
    }
   },
   "cell_type": "code",
   "source": [
    "# Create folder models if it does not exist\n",
    "os.makedirs(\"models\", exist_ok=True)"
   ],
   "id": "30305fc8025f45c1",
   "outputs": [],
   "execution_count": 3
  },
  {
   "cell_type": "code",
   "id": "28162fc330bc11f1",
   "metadata": {
    "ExecuteTime": {
     "end_time": "2025-03-26T00:34:43.052347Z",
     "start_time": "2025-03-26T00:34:43.049689Z"
    }
   },
   "source": [
    "def load_train_dataset(farm, event_id):\n",
    "    X = np.loadtxt(f\"./data_train/X_{farm}_{event_id}.txt\", dtype=np.uint32)\n",
    "    X = np.array(X).astype(np.uint32)\n",
    "    return X\n"
   ],
   "outputs": [],
   "execution_count": 4
  },
  {
   "cell_type": "code",
   "id": "da4ff95f-ff25-4203-89c8-7e6046e4356b",
   "metadata": {
    "ExecuteTime": {
     "end_time": "2025-03-26T00:34:43.058580Z",
     "start_time": "2025-03-26T00:34:43.056347Z"
    }
   },
   "source": [
    "def save_model(tm: TMAutoEncoder, filename: str):\n",
    "    a, d = tm.X_train, tm.encoded_X_train\n",
    "\n",
    "    tm.X_train = None\n",
    "    tm.encoded_X_train = None\n",
    "\n",
    "    with open(f\"./models/{filename}\", \"wb\") as f:\n",
    "        pickle.dump(tm, f)\n",
    "\n",
    "    tm.X_train = a\n",
    "    tm.encoded_X_train = d"
   ],
   "outputs": [],
   "execution_count": 5
  },
  {
   "metadata": {
    "ExecuteTime": {
     "end_time": "2025-03-26T00:34:43.691418Z",
     "start_time": "2025-03-26T00:34:43.067003Z"
    }
   },
   "cell_type": "code",
   "source": [
    "train_datasets = [34, 7]  #, 53, 27, 19, ]  # 77, 83, 52, 21, 2, 23, 87, 74, 86, 82]\n",
    "test_dataset = [52]\n",
    "\n",
    "X_train = np.concatenate([load_train_dataset(\"B\", i) for i in train_datasets])\n",
    "\n",
    "X_test = np.concatenate([load_train_dataset(\"B\", i) for i in test_dataset])\n",
    "\n",
    "print(f\"X_train shape: {X_train.shape}\")\n",
    "print(f\"X_test shape: {X_test.shape}\")"
   ],
   "id": "a31d2f9342f1de77",
   "outputs": [
    {
     "name": "stdout",
     "output_type": "stream",
     "text": [
      "X_train shape: (93206, 315)\n",
      "X_test shape: (43994, 315)\n"
     ]
    }
   ],
   "execution_count": 6
  },
  {
   "metadata": {
    "ExecuteTime": {
     "end_time": "2025-03-26T00:34:43.706737Z",
     "start_time": "2025-03-26T00:34:43.703744Z"
    }
   },
   "cell_type": "code",
   "source": [
    "def hamming_loss(pred, X_test):\n",
    "    \"\"\"\n",
    "    Computes the Hamming loss between predicted and ground truth binary arrays.\n",
    "\n",
    "    Parameters:\n",
    "    - pred (numpy array): Binary predictions of shape (n_samples, n_bits).\n",
    "    - X_test (numpy array): Ground truth binary values of shape (n_samples, n_bits).\n",
    "\n",
    "    Returns:\n",
    "    - float: Hamming loss (fraction of incorrect bits).\n",
    "    \"\"\"\n",
    "    assert pred.shape == X_test.shape, \"Shapes of pred and X_test must match\"\n",
    "\n",
    "    # Compute the number of differing bits\n",
    "    incorrect_bits = np.sum(pred != X_test)\n",
    "\n",
    "    # Total number of bits\n",
    "    total_bits = np.prod(X_test.shape)\n",
    "\n",
    "    # Hamming loss is the fraction of incorrect bits\n",
    "    return incorrect_bits / total_bits"
   ],
   "id": "6188dfae59ac0259",
   "outputs": [],
   "execution_count": 7
  },
  {
   "metadata": {
    "ExecuteTime": {
     "end_time": "2025-03-26T00:34:43.717892Z",
     "start_time": "2025-03-26T00:34:43.716057Z"
    }
   },
   "cell_type": "code",
   "source": [
    "def test(tm, X):\n",
    "    pred = tm.predict(X)\n",
    "\n",
    "    loss = [hamming_loss(X[i], pred[i]) for i in range(len(X))]\n",
    "\n",
    "    return np.mean(loss), np.median(loss), np.max(loss), np.min(loss)"
   ],
   "id": "8b4cf0985093a6bd",
   "outputs": [],
   "execution_count": 8
  },
  {
   "cell_type": "code",
   "id": "initial_id",
   "metadata": {
    "ExecuteTime": {
     "end_time": "2025-03-26T00:34:43.725500Z",
     "start_time": "2025-03-26T00:34:43.722857Z"
    }
   },
   "source": [
    "def train(args):\n",
    "    tm = TMAutoEncoder(\n",
    "        number_of_clauses=args[\"num_clauses\"],\n",
    "        T=args[\"T\"],\n",
    "        s=args[\"s\"],\n",
    "        output_active=args[\"output_active\"],\n",
    "        max_included_literals=args[\"max_included_literals\"],\n",
    "        accumulation=args[\"accumulation\"],\n",
    "        feature_negation=args[\"feature_negation\"],\n",
    "        platform=args[\"platform\"],\n",
    "        output_balancing=args[\"output_balancing\"],\n",
    "    )\n",
    "\n",
    "    print(f\"Starting training for {args['epochs']} epochs\")\n",
    "\n",
    "    for e in range(args[\"epochs\"]):\n",
    "        tm.fit(X_train, number_of_examples=args[\"number_of_examples\"])\n",
    "\n",
    "        lmean, lmed, lmax, lmin = test(tm, X_test)\n",
    "        print(f\"Epoch: {e + 1} Mean loss: {lmean:4f}, Median loss: {lmed:4f}, Max loss: {lmax:4f}, Min loss: {lmin:4f}\")\n",
    "\n",
    "        save_model(tm, f\"latest_{e}.pkl\")\n"
   ],
   "outputs": [],
   "execution_count": 9
  },
  {
   "metadata": {
    "ExecuteTime": {
     "end_time": "2025-03-26T00:34:43.738869Z",
     "start_time": "2025-03-26T00:34:43.736879Z"
    }
   },
   "cell_type": "code",
   "source": [
    "number_of_features = X_train.shape[1]\n",
    "output_active = np.arange(number_of_features, dtype=np.uint32)\n",
    "\n",
    "print(f\"Number of features {number_of_features}\")"
   ],
   "id": "e39fbba456bd25dc",
   "outputs": [
    {
     "name": "stdout",
     "output_type": "stream",
     "text": [
      "Number of features 315\n"
     ]
    }
   ],
   "execution_count": 10
  },
  {
   "cell_type": "code",
   "id": "d4dc7e4da5c88e88",
   "metadata": {
    "ExecuteTime": {
     "end_time": "2025-03-26T00:56:18.582436Z",
     "start_time": "2025-03-26T00:34:43.756119Z"
    }
   },
   "source": [
    "number_of_clauses = 1024\n",
    "\n",
    "args: dict = {\n",
    "    \"number_of_examples\": 100,\n",
    "    \"output_active\": output_active,\n",
    "    \"accumulation\": 1,\n",
    "    \"num_clauses\": number_of_clauses,\n",
    "    \"T\": int(number_of_clauses * 0.75),\n",
    "    \"s\": 25.0,\n",
    "    \"epochs\": 15,\n",
    "    \"platform\": \"CPU\",\n",
    "    \"output_balancing\": 0,\n",
    "    \"max_included_literals\": 2 * number_of_features,\n",
    "    \"feature_negation\": True,\n",
    "}\n",
    "\n",
    "result = train(args)"
   ],
   "outputs": [
    {
     "name": "stdout",
     "output_type": "stream",
     "text": [
      "Starting training for 25 epochs\n",
      "Epoch: 1 Mean loss: 0.195910, Median loss: 0.190476, Max loss: 0.533333, Min loss: 0.073016\n",
      "Epoch: 2 Mean loss: 0.160870, Median loss: 0.155556, Max loss: 0.663492, Min loss: 0.050794\n",
      "Epoch: 3 Mean loss: 0.150542, Median loss: 0.142857, Max loss: 0.682540, Min loss: 0.041270\n",
      "Epoch: 4 Mean loss: 0.146906, Median loss: 0.136508, Max loss: 0.638095, Min loss: 0.044444\n",
      "Epoch: 5 Mean loss: 0.143412, Median loss: 0.133333, Max loss: 0.638095, Min loss: 0.025397\n",
      "Epoch: 6 Mean loss: 0.140243, Median loss: 0.126984, Max loss: 0.638095, Min loss: 0.034921\n",
      "Epoch: 7 Mean loss: 0.137050, Median loss: 0.120635, Max loss: 0.638095, Min loss: 0.038095\n",
      "Epoch: 8 Mean loss: 0.133851, Median loss: 0.117460, Max loss: 0.638095, Min loss: 0.041270\n",
      "Epoch: 9 Mean loss: 0.131331, Median loss: 0.114286, Max loss: 0.638095, Min loss: 0.038095\n",
      "Epoch: 10 Mean loss: 0.128827, Median loss: 0.114286, Max loss: 0.638095, Min loss: 0.038095\n",
      "Epoch: 11 Mean loss: 0.126634, Median loss: 0.111111, Max loss: 0.638095, Min loss: 0.034921\n",
      "Epoch: 12 Mean loss: 0.124341, Median loss: 0.107937, Max loss: 0.638095, Min loss: 0.031746\n",
      "Epoch: 13 Mean loss: 0.122863, Median loss: 0.104762, Max loss: 0.657143, Min loss: 0.034921\n",
      "Epoch: 14 Mean loss: 0.122422, Median loss: 0.104762, Max loss: 0.638095, Min loss: 0.028571\n",
      "Epoch: 15 Mean loss: 0.120210, Median loss: 0.101587, Max loss: 0.657143, Min loss: 0.028571\n",
      "Epoch: 16 Mean loss: 0.119200, Median loss: 0.101587, Max loss: 0.657143, Min loss: 0.022222\n",
      "Epoch: 17 Mean loss: 0.117328, Median loss: 0.101587, Max loss: 0.657143, Min loss: 0.025397\n",
      "Epoch: 18 Mean loss: 0.115457, Median loss: 0.098413, Max loss: 0.638095, Min loss: 0.019048\n",
      "Epoch: 19 Mean loss: 0.114100, Median loss: 0.095238, Max loss: 0.657143, Min loss: 0.022222\n",
      "Epoch: 20 Mean loss: 0.113320, Median loss: 0.095238, Max loss: 0.638095, Min loss: 0.022222\n",
      "Epoch: 21 Mean loss: 0.112016, Median loss: 0.095238, Max loss: 0.657143, Min loss: 0.025397\n",
      "Epoch: 22 Mean loss: 0.111447, Median loss: 0.095238, Max loss: 0.638095, Min loss: 0.012698\n",
      "Epoch: 23 Mean loss: 0.110439, Median loss: 0.092063, Max loss: 0.628571, Min loss: 0.019048\n",
      "Epoch: 24 Mean loss: 0.110347, Median loss: 0.092063, Max loss: 0.657143, Min loss: 0.015873\n",
      "Epoch: 25 Mean loss: 0.109344, Median loss: 0.092063, Max loss: 0.657143, Min loss: 0.019048\n"
     ]
    }
   ],
   "execution_count": 11
  }
 ],
 "metadata": {
  "kernelspec": {
   "display_name": "Python 3 (ipykernel)",
   "language": "python",
   "name": "python3"
  },
  "language_info": {
   "codemirror_mode": {
    "name": "ipython",
    "version": 3
   },
   "file_extension": ".py",
   "mimetype": "text/x-python",
   "name": "python",
   "nbconvert_exporter": "python",
   "pygments_lexer": "ipython3",
   "version": "3.11.6"
  }
 },
 "nbformat": 4,
 "nbformat_minor": 5
}
