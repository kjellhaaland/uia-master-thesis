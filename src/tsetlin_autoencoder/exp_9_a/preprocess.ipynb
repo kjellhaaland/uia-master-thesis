{
 "cells": [
  {
   "metadata": {},
   "cell_type": "markdown",
   "source": [
    "## Experiment description\n",
    "\n",
    "The goal of this notebook is to preprocess all datasets in Wind Farm C to a binary format that can be used for training a TM Classifier."
   ],
   "id": "e85b94674bcffa5c"
  },
  {
   "metadata": {
    "ExecuteTime": {
     "end_time": "2025-04-05T08:49:55.304109Z",
     "start_time": "2025-04-05T08:49:55.302132Z"
    }
   },
   "cell_type": "code",
   "source": [
    "# Import all required libraries\n",
    "\n",
    "import pandas as pd\n",
    "import numpy as np\n",
    "import os"
   ],
   "id": "a7fa0f63187f7de2",
   "outputs": [],
   "execution_count": 1
  },
  {
   "metadata": {
    "ExecuteTime": {
     "end_time": "2025-04-05T08:49:55.310105Z",
     "start_time": "2025-04-05T08:49:55.307829Z"
    }
   },
   "cell_type": "code",
   "source": [
    "wind_farm = \"A\"\n",
    "train_datasets = [68, 22, 72, 73, 0, 26, 40, 42, 10, 45, 84, 25, 69, 13, 24, 3, 17, 38, 71, 14, 92, 51]\n",
    "test_datasets = [68, 22, 72, 73, 0, 26, 40, 42, 10, 45, 84, 25, 69, 13, 24, 3, 17, 38, 71, 14, 92, 51]"
   ],
   "id": "7de2a6ba82e2aea6",
   "outputs": [],
   "execution_count": 2
  },
  {
   "metadata": {
    "ExecuteTime": {
     "end_time": "2025-04-05T08:49:55.383521Z",
     "start_time": "2025-04-05T08:49:55.379780Z"
    }
   },
   "cell_type": "code",
   "source": [
    "# Create folders data_test and data_train if they do not exist\n",
    "os.makedirs(\"data_test\", exist_ok=True)\n",
    "os.makedirs(\"data_train\", exist_ok=True)"
   ],
   "id": "33fcab2e88c188e5",
   "outputs": [],
   "execution_count": 3
  },
  {
   "metadata": {
    "ExecuteTime": {
     "end_time": "2025-04-05T08:49:55.406474Z",
     "start_time": "2025-04-05T08:49:55.401247Z"
    }
   },
   "cell_type": "code",
   "source": [
    "exclude_columns = [\"time_stamp\", \"asset_id\", \"id\"]\n",
    "\n",
    "\n",
    "def load_df_and_annotate_anomalies(farm, event_id):\n",
    "    path = f\"../../../data/care_to_compare/Wind Farm {farm}/datasets/{event_id}.csv\"\n",
    "    df = pd.read_csv(path, delimiter=';')\n",
    "\n",
    "    event_info = pd.read_csv(f\"../../../data/care_to_compare/Wind Farm {farm}/event_info.csv\", delimiter=';')\n",
    "\n",
    "    # Find the row where event_id = event_id\n",
    "    metadata = event_info[event_info['event_id'] == event_id]\n",
    "\n",
    "    event_label = metadata[\"event_label\"].values[0]\n",
    "    event_start_id = metadata[\"event_start_id\"].values[0]\n",
    "    event_end_id = metadata[\"event_end_id\"].values[0]\n",
    "\n",
    "    label_value = 1 if event_label == \"anomaly\" else 0\n",
    "\n",
    "    # All rows where the column \"id\" is between event_start_id and event_end_id\n",
    "    df['label'] = 0\n",
    "    df.loc[(df['id'] >= event_start_id) & (df['id'] <= event_end_id), 'label'] = label_value\n",
    "\n",
    "    # Include all columns except for the ones in exclude_columns\n",
    "    df = df[[col for col in df.columns if col not in exclude_columns]]\n",
    "\n",
    "    # Remove columns with suffixes in exclude_columns_with_suffix\n",
    "    #df = df[[col for col in df.columns if not col.endswith('_avg')]]\n",
    "    #df = df[[col for col in df.columns if not col.endswith('_min')]]\n",
    "    #df = df[[col for col in df.columns if not col.endswith('_std')]]\n",
    "\n",
    "    # Replace inf values with NaN and drop rows with NaN values\n",
    "    df.replace([np.inf, -np.inf], np.nan, inplace=True)\n",
    "    df.dropna(inplace=True)\n",
    "\n",
    "    return df"
   ],
   "id": "890df7a6f9bbbd18",
   "outputs": [],
   "execution_count": 4
  },
  {
   "metadata": {
    "ExecuteTime": {
     "end_time": "2025-04-05T08:49:55.412776Z",
     "start_time": "2025-04-05T08:49:55.410182Z"
    }
   },
   "cell_type": "code",
   "source": [
    "def calculate_min_max(farm, dataset_ids):\n",
    "    # For each column get the min and max value\n",
    "    min_max_values = {}\n",
    "\n",
    "    for dataset_id in dataset_ids:\n",
    "        df = load_df_and_annotate_anomalies(farm, dataset_id)\n",
    "\n",
    "        for col in df.columns:\n",
    "            min_val = df[col].min()\n",
    "            max_val = df[col].max()\n",
    "\n",
    "            if col not in min_max_values:\n",
    "                min_max_values[col] = (min_val, max_val)\n",
    "            else:\n",
    "                current_min, current_max = min_max_values[col]\n",
    "                min_max_values[col] = (min(min_val, current_min), max(max_val, current_max))\n",
    "\n",
    "    return min_max_values"
   ],
   "id": "a044eef9e1b7a0f8",
   "outputs": [],
   "execution_count": 5
  },
  {
   "metadata": {
    "ExecuteTime": {
     "end_time": "2025-04-05T08:49:55.429960Z",
     "start_time": "2025-04-05T08:49:55.425492Z"
    }
   },
   "cell_type": "code",
   "source": [
    "def convert_to_bit_integers_log(df, minmax, bits_per_column=8):\n",
    "    normalized_df = df.copy()\n",
    "\n",
    "    for col in df.columns:\n",
    "        min_val = minmax[col][0]\n",
    "        max_val = minmax[col][1]\n",
    "\n",
    "        # If all values are 0, then set all values to 0\n",
    "        if min_val == 0 and max_val == 0:\n",
    "            normalized_df[col] = 0\n",
    "            continue\n",
    "\n",
    "        shifted = normalized_df[col] - min_val + 1\n",
    "        log_data = np.log1p(shifted)\n",
    "\n",
    "        global_log_min = np.log1p(1)  # log1p(1) because shift guarantees min = 1\n",
    "        global_log_max = np.log1p(max_val - min_val + 1)  # Max in transformed space\n",
    "\n",
    "        normalized_df[col] = (log_data - global_log_min) / (global_log_max - global_log_min) * (\n",
    "                (2 ** bits_per_column) - 1)\n",
    "\n",
    "    # Convert the normalized values to integers\n",
    "    int_df = normalized_df.astype(int)\n",
    "\n",
    "    # Flatten each row into an array of 10-bit integers\n",
    "    int_arrays = int_df.apply(lambda row: row.values.flatten(), axis=1).tolist()\n",
    "\n",
    "    # Represent each cell as a 10-bit integer string\n",
    "    bin_arrays = [[f\"{cell:0{bits_per_column}b}\" for cell in row] for row in int_arrays]\n",
    "\n",
    "    # Split each 10-bit integer string into individual integers for each row\n",
    "    # preserve the columns of bin_arrays\n",
    "    bin_int_arrays = [[int(cell) for cell in list(''.join(row))] for row in bin_arrays]\n",
    "\n",
    "    # Convert to numpy array\n",
    "    int_arrays = np.array(bin_int_arrays)\n",
    "\n",
    "    return int_arrays\n",
    "\n",
    "\n",
    "def convert_to_bit_integers(df, minmax, bits_per_column=8):\n",
    "    normalized_df = df.copy()\n",
    "\n",
    "    for col in df.columns:\n",
    "        min_val = minmax[col][0]\n",
    "        max_val = minmax[col][1]\n",
    "\n",
    "        # If all values are the same, set all to 0\n",
    "        if min_val == max_val:\n",
    "            normalized_df[col] = 0\n",
    "            continue\n",
    "\n",
    "        # Min-Max normalization\n",
    "        normalized_df[col] = (normalized_df[col] - min_val) / (max_val - min_val)\n",
    "        normalized_df[col] *= (2 ** bits_per_column) - 1\n",
    "\n",
    "    # Convert the normalized values to integers\n",
    "    int_df = normalized_df.astype(int)\n",
    "\n",
    "    # Flatten each row into an array of bit integers\n",
    "    int_arrays = int_df.apply(lambda row: row.values.flatten(), axis=1).tolist()\n",
    "\n",
    "    # Convert each integer to a binary string of fixed length\n",
    "    bin_arrays = [[f\"{cell:0{bits_per_column}b}\" for cell in row] for row in int_arrays]\n",
    "\n",
    "    # Convert binary strings into individual bits\n",
    "    bin_int_arrays = [[int(bit) for bit in ''.join(row)] for row in bin_arrays]\n",
    "\n",
    "    # Convert to numpy array\n",
    "    int_arrays = np.array(bin_int_arrays)\n",
    "\n",
    "    return int_arrays"
   ],
   "id": "383106dfae1e5bf4",
   "outputs": [],
   "execution_count": 6
  },
  {
   "metadata": {
    "ExecuteTime": {
     "end_time": "2025-04-05T08:49:55.440908Z",
     "start_time": "2025-04-05T08:49:55.436231Z"
    }
   },
   "cell_type": "code",
   "source": [
    "def binarize_dataset_for_training(farm, event_id, output_path, min_max_values, bits_per_column=8):\n",
    "    # Load original dataset from file\n",
    "    df = load_df_and_annotate_anomalies(farm, event_id)\n",
    "    df = df[df['train_test'] == 'train']\n",
    "\n",
    "    # Remove all rows where status_type_id is not 0 or 2\n",
    "    df = df[df['status_type_id'].isin([0])]\n",
    "\n",
    "    # Split into data and labels\n",
    "    X_values = df.drop(columns=['label', 'train_test', 'status_type_id'])\n",
    "\n",
    "    #X_values = X_values.apply(pd.to_numeric, errors='coerce')\n",
    "\n",
    "    # Print number of columns\n",
    "    print(f\"Number of features: {len(X_values.columns)}\")\n",
    "\n",
    "    X_values_bin = convert_to_bit_integers(X_values, min_max_values, bits_per_column).astype(np.uint32)\n",
    "\n",
    "    # Output to file using np\n",
    "    np.savetxt(f\"{output_path}/X_{farm}_{event_id}.txt\", X_values_bin, fmt='%d')\n",
    "\n",
    "    label_df = pd.DataFrame({\n",
    "        'label': df['label'].values,\n",
    "        'status_type_id': df['status_type_id'].values,\n",
    "        'train_test': df['train_test'].values\n",
    "    })\n",
    "\n",
    "    label_df.to_csv(f\"{output_path}/y_{farm}_{event_id}.csv\", index=False)\n",
    "\n",
    "    print(f\"Done with {event_id}: {X_values_bin.shape}\")\n",
    "\n",
    "\n",
    "def binarize_dataset_for_testing(farm, event_id, output_path, min_max_values, bits_per_column=8):\n",
    "    # Load original dataset from file\n",
    "    df = load_df_and_annotate_anomalies(farm, event_id)\n",
    "\n",
    "    # Split into data and labels\n",
    "    X_values = df.drop(columns=['label', 'train_test', 'status_type_id'])\n",
    "    #X_values = X_values.apply(pd.to_numeric, errors='coerce')\n",
    "\n",
    "    X_values_bin = convert_to_bit_integers(X_values, min_max_values, bits_per_column).astype(np.uint32)\n",
    "\n",
    "    # Output to file using np\n",
    "    np.savetxt(f\"{output_path}/X_{farm}_{event_id}.txt\", X_values_bin, fmt='%d')\n",
    "\n",
    "    label_df = pd.DataFrame({\n",
    "        'label': df['label'].values,\n",
    "        'status_type_id': df['status_type_id'].values,\n",
    "        'train_test': df['train_test'].values\n",
    "    })\n",
    "\n",
    "    label_df.to_csv(f\"{output_path}/y_{farm}_{event_id}.csv\", index=False)\n",
    "\n",
    "    print(f\"Done with {event_id}: {X_values_bin.shape}\")"
   ],
   "id": "67a9eb610d672ee3",
   "outputs": [],
   "execution_count": 7
  },
  {
   "metadata": {
    "ExecuteTime": {
     "end_time": "2025-04-05T08:50:02.118799Z",
     "start_time": "2025-04-05T08:49:55.447281Z"
    }
   },
   "cell_type": "code",
   "source": [
    "min_max_values_dict = calculate_min_max(wind_farm, test_datasets)\n",
    "\n",
    "# Save to file\n",
    "with open(\"min_max_values.txt\", \"w\") as f:\n",
    "    for key, value in min_max_values_dict.items():\n",
    "        f.write(f\"{key}: {value}\\n\")"
   ],
   "id": "b140f91bb2a74030",
   "outputs": [],
   "execution_count": 8
  },
  {
   "metadata": {
    "ExecuteTime": {
     "end_time": "2025-04-05T08:50:02.131162Z",
     "start_time": "2025-04-05T08:50:02.128768Z"
    }
   },
   "cell_type": "code",
   "source": "bits = 5",
   "id": "a824517b052b4a92",
   "outputs": [],
   "execution_count": 9
  },
  {
   "metadata": {
    "ExecuteTime": {
     "end_time": "2025-04-05T08:52:16.609517Z",
     "start_time": "2025-04-05T08:50:02.150988Z"
    }
   },
   "cell_type": "code",
   "source": [
    "for dataset in test_datasets:\n",
    "    binarize_dataset_for_testing(wind_farm, dataset, \"./data_test\", min_max_values_dict, bits)"
   ],
   "id": "e879c62b0a552f43",
   "outputs": [
    {
     "name": "stdout",
     "output_type": "stream",
     "text": [
      "Done with 68: (54358, 405)\n",
      "Done with 22: (53035, 405)\n",
      "Done with 72: (54081, 405)\n",
      "Done with 73: (54042, 405)\n",
      "Done with 0: (54985, 405)\n",
      "Done with 26: (53701, 405)\n",
      "Done with 40: (56156, 405)\n",
      "Done with 42: (53883, 405)\n",
      "Done with 10: (53589, 405)\n",
      "Done with 45: (53739, 405)\n",
      "Done with 84: (53771, 405)\n",
      "Done with 25: (54712, 405)\n",
      "Done with 69: (54812, 405)\n",
      "Done with 13: (54010, 405)\n",
      "Done with 24: (55003, 405)\n",
      "Done with 3: (55485, 405)\n",
      "Done with 17: (55087, 405)\n",
      "Done with 38: (54835, 405)\n",
      "Done with 71: (54744, 405)\n",
      "Done with 14: (54197, 405)\n",
      "Done with 92: (54067, 405)\n",
      "Done with 51: (54435, 405)\n"
     ]
    }
   ],
   "execution_count": 10
  },
  {
   "metadata": {
    "ExecuteTime": {
     "end_time": "2025-04-05T08:54:12.675645Z",
     "start_time": "2025-04-05T08:52:16.639606Z"
    }
   },
   "cell_type": "code",
   "source": [
    "for dataset in train_datasets:\n",
    "    binarize_dataset_for_training(wind_farm, dataset, \"./data_train\", min_max_values_dict, bits)"
   ],
   "id": "a312821be058472e",
   "outputs": [
    {
     "name": "stdout",
     "output_type": "stream",
     "text": [
      "Number of features: 81\n",
      "Done with 68: (40437, 405)\n",
      "Number of features: 81\n",
      "Done with 22: (40804, 405)\n",
      "Number of features: 81\n",
      "Done with 72: (40053, 405)\n",
      "Number of features: 81\n",
      "Done with 73: (40828, 405)\n",
      "Number of features: 81\n",
      "Done with 0: (39149, 405)\n",
      "Number of features: 81\n",
      "Done with 26: (37604, 405)\n",
      "Number of features: 81\n",
      "Done with 40: (39076, 405)\n",
      "Number of features: 81\n",
      "Done with 42: (37405, 405)\n",
      "Number of features: 81\n",
      "Done with 10: (36306, 405)\n",
      "Number of features: 81\n",
      "Done with 45: (39912, 405)\n",
      "Number of features: 81\n",
      "Done with 84: (37500, 405)\n",
      "Number of features: 81\n",
      "Done with 25: (40838, 405)\n",
      "Number of features: 81\n",
      "Done with 69: (38885, 405)\n",
      "Number of features: 81\n",
      "Done with 13: (40074, 405)\n",
      "Number of features: 81\n",
      "Done with 24: (40494, 405)\n",
      "Number of features: 81\n",
      "Done with 3: (36877, 405)\n",
      "Number of features: 81\n",
      "Done with 17: (35328, 405)\n",
      "Number of features: 81\n",
      "Done with 38: (38484, 405)\n",
      "Number of features: 81\n",
      "Done with 71: (40161, 405)\n",
      "Number of features: 81\n",
      "Done with 14: (39143, 405)\n",
      "Number of features: 81\n",
      "Done with 92: (40462, 405)\n",
      "Number of features: 81\n",
      "Done with 51: (39749, 405)\n"
     ]
    }
   ],
   "execution_count": 11
  }
 ],
 "metadata": {
  "kernelspec": {
   "display_name": "Python 3",
   "language": "python",
   "name": "python3"
  },
  "language_info": {
   "codemirror_mode": {
    "name": "ipython",
    "version": 2
   },
   "file_extension": ".py",
   "mimetype": "text/x-python",
   "name": "python",
   "nbconvert_exporter": "python",
   "pygments_lexer": "ipython2",
   "version": "2.7.6"
  }
 },
 "nbformat": 4,
 "nbformat_minor": 5
}
