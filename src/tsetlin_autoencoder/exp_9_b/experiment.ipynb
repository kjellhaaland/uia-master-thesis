{
 "cells": [
  {
   "cell_type": "code",
   "id": "e28183c3-d395-4a3a-8eb4-dba55cb1d527",
   "metadata": {
    "ExecuteTime": {
     "end_time": "2025-03-26T01:06:57.126791Z",
     "start_time": "2025-03-26T01:06:57.125584Z"
    }
   },
   "source": [
    "#%pip install git+https://github.com/cair/tmu.git\n",
    "#%pip install numpy==1.26.4"
   ],
   "outputs": [],
   "execution_count": 1
  },
  {
   "cell_type": "code",
   "id": "2b757c20539f2247",
   "metadata": {
    "ExecuteTime": {
     "end_time": "2025-03-26T01:06:57.145006Z",
     "start_time": "2025-03-26T01:06:57.130792Z"
    }
   },
   "source": [
    "import numpy as np\n",
    "import pickle\n",
    "import os\n",
    "\n",
    "from tmu.models.autoencoder.autoencoder import TMAutoEncoder"
   ],
   "outputs": [
    {
     "name": "stdout",
     "output_type": "stream",
     "text": [
      "2025-03-25 21:06:57,141 - tmu.util.cuda_profiler - WARNING - Could not import pycuda: No module named 'pycuda'\n",
      "2025-03-25 21:06:57,142 - tmu.clause_bank.clause_bank_cuda - ERROR - No module named 'pycuda'\n",
      "Traceback (most recent call last):\n",
      "  File \"/Users/kjellhaaland/Documents/GitHub/uia-master-thesis/.venv/lib/python3.12/site-packages/tmu/clause_bank/clause_bank_cuda.py\", line 41, in <module>\n",
      "    from pycuda._driver import Device, Context\n",
      "ModuleNotFoundError: No module named 'pycuda'\n",
      "2025-03-25 21:06:57,142 - tmu.clause_bank.clause_bank_cuda - WARNING - Could not import pycuda. This indicates that it is not installed! A possible fix is to run 'pip install pycuda'. Fallback to CPU ClauseBanks.\n"
     ]
    }
   ],
   "execution_count": 2
  },
  {
   "metadata": {
    "ExecuteTime": {
     "end_time": "2025-03-26T01:06:57.222016Z",
     "start_time": "2025-03-26T01:06:57.220523Z"
    }
   },
   "cell_type": "code",
   "source": [
    "# Create folder models if it does not exist\n",
    "os.makedirs(\"models\", exist_ok=True)"
   ],
   "id": "30305fc8025f45c1",
   "outputs": [],
   "execution_count": 3
  },
  {
   "cell_type": "code",
   "id": "28162fc330bc11f1",
   "metadata": {
    "ExecuteTime": {
     "end_time": "2025-03-26T01:06:57.230671Z",
     "start_time": "2025-03-26T01:06:57.228292Z"
    }
   },
   "source": [
    "def load_train_dataset(farm, event_id):\n",
    "    X = np.loadtxt(f\"./data_train/X_{farm}_{event_id}.txt\", dtype=np.uint32)\n",
    "    X = np.array(X).astype(np.uint32)\n",
    "    return X\n",
    "\n",
    "\n",
    "def load_test_dataset(farm, event_id):\n",
    "    X = np.loadtxt(f\"./data_test/X_{farm}_{event_id}.txt\", dtype=np.uint32)\n",
    "    X = np.array(X).astype(np.uint32)\n",
    "    return X\n",
    "\n",
    "\n",
    "def load_test_labels(farm, event_id):\n",
    "    y = np.loadtxt(f\"./data_test/y_{farm}_{event_id}.txt\", dtype=np.uint32)\n",
    "    y = np.array(y).astype(np.uint32)\n",
    "    return y\n"
   ],
   "outputs": [],
   "execution_count": 4
  },
  {
   "cell_type": "code",
   "id": "da4ff95f-ff25-4203-89c8-7e6046e4356b",
   "metadata": {
    "ExecuteTime": {
     "end_time": "2025-03-26T01:06:57.237726Z",
     "start_time": "2025-03-26T01:06:57.235928Z"
    }
   },
   "source": [
    "def save_model(tm: TMAutoEncoder, filename: str):\n",
    "    a, d = tm.X_train, tm.encoded_X_train\n",
    "\n",
    "    tm.X_train = None\n",
    "    tm.encoded_X_train = None\n",
    "\n",
    "    with open(f\"./models/{filename}\", \"wb\") as f:\n",
    "        pickle.dump(tm, f)\n",
    "\n",
    "    tm.X_train = a\n",
    "    tm.encoded_X_train = d"
   ],
   "outputs": [],
   "execution_count": 5
  },
  {
   "metadata": {
    "ExecuteTime": {
     "end_time": "2025-03-26T01:06:59.143201Z",
     "start_time": "2025-03-26T01:06:57.241760Z"
    }
   },
   "cell_type": "code",
   "source": [
    "train_datasets = [34, 7]  #, 53, 27, 19, ]  # 77, 83, 52, 21, 2, 23, 87, 74, 86, 82]\n",
    "test_dataset = [52]\n",
    "\n",
    "X_train = np.concatenate([load_train_dataset(\"B\", i) for i in train_datasets])\n",
    "\n",
    "X_test = np.concatenate([load_train_dataset(\"B\", i) for i in test_dataset])\n",
    "\n",
    "print(f\"X_train shape: {X_train.shape}\")\n",
    "print(f\"X_test shape: {X_test.shape}\")"
   ],
   "id": "a31d2f9342f1de77",
   "outputs": [
    {
     "name": "stdout",
     "output_type": "stream",
     "text": [
      "X_train shape: (93206, 1008)\n",
      "X_test shape: (43994, 1008)\n"
     ]
    }
   ],
   "execution_count": 6
  },
  {
   "metadata": {
    "ExecuteTime": {
     "end_time": "2025-03-26T01:06:59.154563Z",
     "start_time": "2025-03-26T01:06:59.152196Z"
    }
   },
   "cell_type": "code",
   "source": [
    "def hamming_loss(pred, X_test):\n",
    "    \"\"\"\n",
    "    Computes the Hamming loss between predicted and ground truth binary arrays.\n",
    "\n",
    "    Parameters:\n",
    "    - pred (numpy array): Binary predictions of shape (n_samples, n_bits).\n",
    "    - X_test (numpy array): Ground truth binary values of shape (n_samples, n_bits).\n",
    "\n",
    "    Returns:\n",
    "    - float: Hamming loss (fraction of incorrect bits).\n",
    "    \"\"\"\n",
    "    assert pred.shape == X_test.shape, \"Shapes of pred and X_test must match\"\n",
    "\n",
    "    # Compute the number of differing bits\n",
    "    incorrect_bits = np.sum(pred != X_test)\n",
    "\n",
    "    # Total number of bits\n",
    "    total_bits = np.prod(X_test.shape)\n",
    "\n",
    "    # Hamming loss is the fraction of incorrect bits\n",
    "    return incorrect_bits / total_bits"
   ],
   "id": "6188dfae59ac0259",
   "outputs": [],
   "execution_count": 7
  },
  {
   "metadata": {
    "ExecuteTime": {
     "end_time": "2025-03-26T01:06:59.162681Z",
     "start_time": "2025-03-26T01:06:59.160384Z"
    }
   },
   "cell_type": "code",
   "source": [
    "def test(tm, X):\n",
    "    pred = tm.predict(X)\n",
    "\n",
    "    loss = [hamming_loss(X[i], pred[i]) for i in range(len(X))]\n",
    "\n",
    "    return np.mean(loss), np.median(loss), np.max(loss), np.min(loss)"
   ],
   "id": "8b4cf0985093a6bd",
   "outputs": [],
   "execution_count": 8
  },
  {
   "cell_type": "code",
   "id": "initial_id",
   "metadata": {
    "ExecuteTime": {
     "end_time": "2025-03-26T01:06:59.169955Z",
     "start_time": "2025-03-26T01:06:59.167439Z"
    }
   },
   "source": [
    "def train(args):\n",
    "    tm = TMAutoEncoder(\n",
    "        number_of_clauses=args[\"num_clauses\"],\n",
    "        T=args[\"T\"],\n",
    "        s=args[\"s\"],\n",
    "        output_active=args[\"output_active\"],\n",
    "        max_included_literals=args[\"max_included_literals\"],\n",
    "        accumulation=args[\"accumulation\"],\n",
    "        feature_negation=args[\"feature_negation\"],\n",
    "        platform=args[\"platform\"],\n",
    "        output_balancing=args[\"output_balancing\"],\n",
    "    )\n",
    "\n",
    "    print(f\"Starting training for {args['epochs']} epochs\")\n",
    "\n",
    "    for e in range(args[\"epochs\"]):\n",
    "        tm.fit(X_train, number_of_examples=args[\"number_of_examples\"])\n",
    "\n",
    "        lmean, lmed, lmax, lmin = test(tm, X_test)\n",
    "        print(f\"Epoch: {e + 1} Mean loss: {lmean:4f}, Median loss: {lmed:4f}, Max loss: {lmax:4f}, Min loss: {lmin:4f}\")\n",
    "\n",
    "        save_model(tm, f\"latest_{e}.pkl\")\n"
   ],
   "outputs": [],
   "execution_count": 9
  },
  {
   "metadata": {
    "ExecuteTime": {
     "end_time": "2025-03-26T01:06:59.175484Z",
     "start_time": "2025-03-26T01:06:59.173768Z"
    }
   },
   "cell_type": "code",
   "source": [
    "number_of_features = X_train.shape[1]\n",
    "output_active = np.arange(number_of_features, dtype=np.uint32)\n",
    "\n",
    "print(f\"Number of features {number_of_features}\")"
   ],
   "id": "e39fbba456bd25dc",
   "outputs": [
    {
     "name": "stdout",
     "output_type": "stream",
     "text": [
      "Number of features 1008\n"
     ]
    }
   ],
   "execution_count": 10
  },
  {
   "cell_type": "code",
   "id": "d4dc7e4da5c88e88",
   "metadata": {
    "ExecuteTime": {
     "end_time": "2025-03-26T02:15:56.261931Z",
     "start_time": "2025-03-26T01:06:59.186654Z"
    }
   },
   "source": [
    "number_of_clauses = 1024\n",
    "\n",
    "args: dict = {\n",
    "    \"number_of_examples\": 100,\n",
    "    \"output_active\": output_active,\n",
    "    \"accumulation\": 1,\n",
    "    \"num_clauses\": number_of_clauses,\n",
    "    \"T\": int(number_of_clauses * 0.75),\n",
    "    \"s\": 25.0,\n",
    "    \"epochs\": 25,\n",
    "    \"platform\": \"CPU\",\n",
    "    \"output_balancing\": 0,\n",
    "    \"max_included_literals\": 2 * number_of_features,\n",
    "    \"feature_negation\": True,\n",
    "}\n",
    "\n",
    "result = train(args)"
   ],
   "outputs": [
    {
     "name": "stdout",
     "output_type": "stream",
     "text": [
      "Starting training for 25 epochs\n",
      "Epoch: 1 Mean loss: 0.179480, Median loss: 0.136905, Max loss: 0.724206, Min loss: 0.048611\n",
      "Epoch: 2 Mean loss: 0.140529, Median loss: 0.122024, Max loss: 0.729167, Min loss: 0.027778\n",
      "Epoch: 3 Mean loss: 0.132321, Median loss: 0.109127, Max loss: 0.729167, Min loss: 0.023810\n",
      "Epoch: 4 Mean loss: 0.128767, Median loss: 0.105159, Max loss: 0.722222, Min loss: 0.022817\n",
      "Epoch: 5 Mean loss: 0.122535, Median loss: 0.101190, Max loss: 0.690476, Min loss: 0.017857\n",
      "Epoch: 6 Mean loss: 0.119664, Median loss: 0.097222, Max loss: 0.690476, Min loss: 0.020833\n",
      "Epoch: 7 Mean loss: 0.115030, Median loss: 0.094246, Max loss: 0.679563, Min loss: 0.020833\n",
      "Epoch: 8 Mean loss: 0.115345, Median loss: 0.092262, Max loss: 0.694444, Min loss: 0.021825\n",
      "Epoch: 9 Mean loss: 0.111489, Median loss: 0.089286, Max loss: 0.683532, Min loss: 0.021825\n",
      "Epoch: 10 Mean loss: 0.109359, Median loss: 0.087302, Max loss: 0.719246, Min loss: 0.023810\n",
      "Epoch: 11 Mean loss: 0.107332, Median loss: 0.085317, Max loss: 0.722222, Min loss: 0.019841\n",
      "Epoch: 12 Mean loss: 0.105581, Median loss: 0.083333, Max loss: 0.708333, Min loss: 0.020833\n",
      "Epoch: 13 Mean loss: 0.104098, Median loss: 0.082341, Max loss: 0.703373, Min loss: 0.016865\n",
      "Epoch: 14 Mean loss: 0.103388, Median loss: 0.080357, Max loss: 0.701389, Min loss: 0.016865\n",
      "Epoch: 15 Mean loss: 0.102088, Median loss: 0.079365, Max loss: 0.701389, Min loss: 0.017857\n",
      "Epoch: 16 Mean loss: 0.100727, Median loss: 0.078373, Max loss: 0.698413, Min loss: 0.018849\n",
      "Epoch: 17 Mean loss: 0.099614, Median loss: 0.077381, Max loss: 0.683532, Min loss: 0.013889\n",
      "Epoch: 18 Mean loss: 0.098080, Median loss: 0.076389, Max loss: 0.698413, Min loss: 0.017857\n",
      "Epoch: 19 Mean loss: 0.097547, Median loss: 0.075397, Max loss: 0.698413, Min loss: 0.015873\n",
      "Epoch: 20 Mean loss: 0.096681, Median loss: 0.074405, Max loss: 0.701389, Min loss: 0.015873\n",
      "Epoch: 21 Mean loss: 0.095859, Median loss: 0.073413, Max loss: 0.683532, Min loss: 0.015873\n",
      "Epoch: 22 Mean loss: 0.094981, Median loss: 0.073413, Max loss: 0.683532, Min loss: 0.013889\n",
      "Epoch: 23 Mean loss: 0.094832, Median loss: 0.072421, Max loss: 0.683532, Min loss: 0.017857\n",
      "Epoch: 24 Mean loss: 0.093848, Median loss: 0.071429, Max loss: 0.680556, Min loss: 0.013889\n",
      "Epoch: 25 Mean loss: 0.092987, Median loss: 0.071429, Max loss: 0.698413, Min loss: 0.015873\n"
     ]
    }
   ],
   "execution_count": 11
  }
 ],
 "metadata": {
  "kernelspec": {
   "display_name": "Python 3 (ipykernel)",
   "language": "python",
   "name": "python3"
  },
  "language_info": {
   "codemirror_mode": {
    "name": "ipython",
    "version": 3
   },
   "file_extension": ".py",
   "mimetype": "text/x-python",
   "name": "python",
   "nbconvert_exporter": "python",
   "pygments_lexer": "ipython3",
   "version": "3.11.6"
  }
 },
 "nbformat": 4,
 "nbformat_minor": 5
}
