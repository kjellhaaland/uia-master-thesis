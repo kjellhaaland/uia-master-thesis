{
 "cells": [
  {
   "cell_type": "code",
   "id": "e28183c3-d395-4a3a-8eb4-dba55cb1d527",
   "metadata": {
    "ExecuteTime": {
     "end_time": "2025-04-24T21:24:12.778819Z",
     "start_time": "2025-04-24T21:24:12.772926Z"
    }
   },
   "source": [
    "#%pip install git+https://github.com/cair/tmu.git\n",
    "#%pip install numpy==1.26.4"
   ],
   "outputs": [],
   "execution_count": 12
  },
  {
   "cell_type": "code",
   "id": "2b757c20539f2247",
   "metadata": {
    "ExecuteTime": {
     "end_time": "2025-04-24T21:24:12.789854Z",
     "start_time": "2025-04-24T21:24:12.787301Z"
    }
   },
   "source": [
    "import numpy as np\n",
    "import pickle\n",
    "import os\n",
    "\n",
    "from tmu.models.autoencoder.autoencoder import TMAutoEncoder"
   ],
   "outputs": [],
   "execution_count": 13
  },
  {
   "metadata": {
    "ExecuteTime": {
     "end_time": "2025-04-24T21:24:12.805374Z",
     "start_time": "2025-04-24T21:24:12.803041Z"
    }
   },
   "cell_type": "code",
   "source": [
    "# Create folder models if it does not exist\n",
    "os.makedirs(\"models\", exist_ok=True)"
   ],
   "id": "30305fc8025f45c1",
   "outputs": [],
   "execution_count": 14
  },
  {
   "cell_type": "code",
   "id": "28162fc330bc11f1",
   "metadata": {
    "ExecuteTime": {
     "end_time": "2025-04-24T21:24:12.818276Z",
     "start_time": "2025-04-24T21:24:12.814684Z"
    }
   },
   "source": [
    "def load_train_dataset(farm, event_id):\n",
    "    X = np.loadtxt(f\"./data_train/X_{farm}_{event_id}.txt\", dtype=np.uint32)\n",
    "    X = np.array(X).astype(np.uint32)\n",
    "    return X\n"
   ],
   "outputs": [],
   "execution_count": 15
  },
  {
   "cell_type": "code",
   "id": "da4ff95f-ff25-4203-89c8-7e6046e4356b",
   "metadata": {
    "ExecuteTime": {
     "end_time": "2025-04-24T21:24:12.835998Z",
     "start_time": "2025-04-24T21:24:12.833207Z"
    }
   },
   "source": [
    "def save_model(tm: TMAutoEncoder, filename: str):\n",
    "    a, d = tm.X_train, tm.encoded_X_train\n",
    "\n",
    "    tm.X_train = None\n",
    "    tm.encoded_X_train = None\n",
    "\n",
    "    with open(f\"./models/{filename}\", \"wb\") as f:\n",
    "        pickle.dump(tm, f)\n",
    "\n",
    "    tm.X_train = a\n",
    "    tm.encoded_X_train = d"
   ],
   "outputs": [],
   "execution_count": 16
  },
  {
   "metadata": {
    "ExecuteTime": {
     "end_time": "2025-04-24T21:24:14.786429Z",
     "start_time": "2025-04-24T21:24:12.851015Z"
    }
   },
   "cell_type": "code",
   "source": [
    "train_datasets = [55, 81, 47, 12, 4, 18, 28, 39, 66, 15, 8, 79]\n",
    "test_dataset = [30]\n",
    "\n",
    "X_train = np.concatenate([load_train_dataset(\"C\", i) for i in train_datasets])\n",
    "\n",
    "X_test = np.concatenate([load_train_dataset(\"C\", i) for i in test_dataset])\n",
    "\n",
    "print(f\"X_train shape: {X_train.shape}\")\n",
    "print(f\"X_test shape: {X_test.shape}\")"
   ],
   "id": "a31d2f9342f1de77",
   "outputs": [
    {
     "name": "stdout",
     "output_type": "stream",
     "text": [
      "X_train shape: (24000, 4760)\n",
      "X_test shape: (2000, 4760)\n"
     ]
    }
   ],
   "execution_count": 17
  },
  {
   "metadata": {
    "ExecuteTime": {
     "end_time": "2025-04-24T21:24:14.793674Z",
     "start_time": "2025-04-24T21:24:14.791240Z"
    }
   },
   "cell_type": "code",
   "source": [
    "def hamming_loss(pred, X_test):\n",
    "    \"\"\"\n",
    "    Computes the Hamming loss between predicted and ground truth binary arrays.\n",
    "\n",
    "    Parameters:\n",
    "    - pred (numpy array): Binary predictions of shape (n_samples, n_bits).\n",
    "    - X_test (numpy array): Ground truth binary values of shape (n_samples, n_bits).\n",
    "\n",
    "    Returns:\n",
    "    - float: Hamming loss (fraction of incorrect bits).\n",
    "    \"\"\"\n",
    "    assert pred.shape == X_test.shape, \"Shapes of pred and X_test must match\"\n",
    "\n",
    "    # Compute the number of differing bits\n",
    "    incorrect_bits = np.sum(pred != X_test)\n",
    "\n",
    "    # Total number of bits\n",
    "    total_bits = np.prod(X_test.shape)\n",
    "\n",
    "    # Hamming loss is the fraction of incorrect bits\n",
    "    return incorrect_bits / total_bits"
   ],
   "id": "6188dfae59ac0259",
   "outputs": [],
   "execution_count": 18
  },
  {
   "metadata": {
    "ExecuteTime": {
     "end_time": "2025-04-24T21:24:14.806771Z",
     "start_time": "2025-04-24T21:24:14.804443Z"
    }
   },
   "cell_type": "code",
   "source": [
    "def test(tm, X):\n",
    "    pred = tm.predict(X)\n",
    "\n",
    "    loss = [hamming_loss(X[i], pred[i]) for i in range(len(X))]\n",
    "\n",
    "    return np.mean(loss), np.median(loss), np.max(loss), np.min(loss)"
   ],
   "id": "8b4cf0985093a6bd",
   "outputs": [],
   "execution_count": 19
  },
  {
   "cell_type": "code",
   "id": "initial_id",
   "metadata": {
    "ExecuteTime": {
     "end_time": "2025-04-24T21:24:14.818714Z",
     "start_time": "2025-04-24T21:24:14.815176Z"
    }
   },
   "source": [
    "def train(args):\n",
    "    tm = TMAutoEncoder(\n",
    "        number_of_clauses=args[\"num_clauses\"],\n",
    "        T=args[\"T\"],\n",
    "        s=args[\"s\"],\n",
    "        output_active=args[\"output_active\"],\n",
    "        max_included_literals=args[\"max_included_literals\"],\n",
    "        accumulation=args[\"accumulation\"],\n",
    "        feature_negation=args[\"feature_negation\"],\n",
    "        platform=args[\"platform\"],\n",
    "        output_balancing=args[\"output_balancing\"],\n",
    "    )\n",
    "\n",
    "    print(f\"Starting training for {args['epochs']} epochs\")\n",
    "\n",
    "    for e in range(args[\"epochs\"]):\n",
    "        tm.fit(X_train, number_of_examples=args[\"number_of_examples\"])\n",
    "\n",
    "        lmean, lmed, lmax, lmin = test(tm, X_test)\n",
    "        print(f\"Epoch: {e + 1} Mean loss: {lmean:4f}, Median loss: {lmed:4f}, Max loss: {lmax:4f}, Min loss: {lmin:4f}\")\n",
    "\n",
    "        save_model(tm, f\"latest_{e}.pkl\")\n"
   ],
   "outputs": [],
   "execution_count": 20
  },
  {
   "metadata": {
    "ExecuteTime": {
     "end_time": "2025-04-24T21:33:24.809038Z",
     "start_time": "2025-04-24T21:33:24.806215Z"
    }
   },
   "cell_type": "code",
   "source": [
    "number_of_features = X_train.shape[1]\n",
    "output_active = np.arange(number_of_features, dtype=np.uint32)\n",
    "\n",
    "number_of_clauses = int(4096)\n",
    "\n",
    "print(f\"Number of features {number_of_features}\")\n",
    "print(f\"Number of clauses {number_of_clauses}\")"
   ],
   "id": "e39fbba456bd25dc",
   "outputs": [
    {
     "name": "stdout",
     "output_type": "stream",
     "text": [
      "Number of features 4760\n",
      "Number of clauses 4096\n"
     ]
    }
   ],
   "execution_count": 24
  },
  {
   "cell_type": "code",
   "id": "d4dc7e4da5c88e88",
   "metadata": {
    "ExecuteTime": {
     "end_time": "2025-04-25T01:34:33.041708Z",
     "start_time": "2025-04-24T21:33:25.882348Z"
    }
   },
   "source": [
    "args: dict = {\n",
    "    \"number_of_examples\": 100,\n",
    "    \"output_active\": output_active,\n",
    "    \"accumulation\": 1,\n",
    "    \"num_clauses\": number_of_clauses,\n",
    "    \"T\": int(number_of_clauses * 0.15),\n",
    "    \"s\": 15.0,\n",
    "    \"epochs\": 25,\n",
    "    \"platform\": \"CPU\",\n",
    "    \"output_balancing\": 0,\n",
    "    \"max_included_literals\": number_of_features,\n",
    "    \"feature_negation\": False,\n",
    "}\n",
    "\n",
    "result = train(args)"
   ],
   "outputs": [
    {
     "name": "stdout",
     "output_type": "stream",
     "text": [
      "Starting training for 25 epochs\n",
      "Epoch: 1 Mean loss: 1.000000, Median loss: 1.000000, Max loss: 1.000000, Min loss: 1.000000\n",
      "Epoch: 2 Mean loss: 1.000000, Median loss: 1.000000, Max loss: 1.000000, Min loss: 1.000000\n",
      "Epoch: 3 Mean loss: 1.000000, Median loss: 1.000000, Max loss: 1.000000, Min loss: 1.000000\n",
      "Epoch: 4 Mean loss: 1.000000, Median loss: 1.000000, Max loss: 1.000000, Min loss: 1.000000\n",
      "Epoch: 5 Mean loss: 1.000000, Median loss: 1.000000, Max loss: 1.000000, Min loss: 1.000000\n",
      "Epoch: 6 Mean loss: 1.000000, Median loss: 1.000000, Max loss: 1.000000, Min loss: 1.000000\n",
      "Epoch: 7 Mean loss: 1.000000, Median loss: 1.000000, Max loss: 1.000000, Min loss: 1.000000\n",
      "Epoch: 8 Mean loss: 1.000000, Median loss: 1.000000, Max loss: 1.000000, Min loss: 1.000000\n",
      "Epoch: 9 Mean loss: 1.000000, Median loss: 1.000000, Max loss: 1.000000, Min loss: 1.000000\n",
      "Epoch: 10 Mean loss: 1.000000, Median loss: 1.000000, Max loss: 1.000000, Min loss: 1.000000\n",
      "Epoch: 11 Mean loss: 1.000000, Median loss: 1.000000, Max loss: 1.000000, Min loss: 1.000000\n",
      "Epoch: 12 Mean loss: 1.000000, Median loss: 1.000000, Max loss: 1.000000, Min loss: 1.000000\n",
      "Epoch: 13 Mean loss: 1.000000, Median loss: 1.000000, Max loss: 1.000000, Min loss: 1.000000\n",
      "Epoch: 14 Mean loss: 1.000000, Median loss: 1.000000, Max loss: 1.000000, Min loss: 1.000000\n",
      "Epoch: 15 Mean loss: 1.000000, Median loss: 1.000000, Max loss: 1.000000, Min loss: 1.000000\n",
      "Epoch: 16 Mean loss: 1.000000, Median loss: 1.000000, Max loss: 1.000000, Min loss: 1.000000\n",
      "Epoch: 17 Mean loss: 1.000000, Median loss: 1.000000, Max loss: 1.000000, Min loss: 1.000000\n",
      "Epoch: 18 Mean loss: 1.000000, Median loss: 1.000000, Max loss: 1.000000, Min loss: 1.000000\n",
      "Epoch: 19 Mean loss: 1.000000, Median loss: 1.000000, Max loss: 1.000000, Min loss: 1.000000\n",
      "Epoch: 20 Mean loss: 1.000000, Median loss: 1.000000, Max loss: 1.000000, Min loss: 1.000000\n",
      "Epoch: 21 Mean loss: 1.000000, Median loss: 1.000000, Max loss: 1.000000, Min loss: 1.000000\n",
      "Epoch: 22 Mean loss: 1.000000, Median loss: 1.000000, Max loss: 1.000000, Min loss: 1.000000\n",
      "Epoch: 23 Mean loss: 1.000000, Median loss: 1.000000, Max loss: 1.000000, Min loss: 1.000000\n",
      "Epoch: 24 Mean loss: 1.000000, Median loss: 1.000000, Max loss: 1.000000, Min loss: 1.000000\n",
      "Epoch: 25 Mean loss: 1.000000, Median loss: 1.000000, Max loss: 1.000000, Min loss: 1.000000\n"
     ]
    }
   ],
   "execution_count": 25
  },
  {
   "metadata": {},
   "cell_type": "code",
   "outputs": [],
   "execution_count": null,
   "source": "",
   "id": "115017b61c0a689d"
  }
 ],
 "metadata": {
  "kernelspec": {
   "display_name": "Python 3 (ipykernel)",
   "language": "python",
   "name": "python3"
  },
  "language_info": {
   "codemirror_mode": {
    "name": "ipython",
    "version": 3
   },
   "file_extension": ".py",
   "mimetype": "text/x-python",
   "name": "python",
   "nbconvert_exporter": "python",
   "pygments_lexer": "ipython3",
   "version": "3.11.6"
  }
 },
 "nbformat": 4,
 "nbformat_minor": 5
}
