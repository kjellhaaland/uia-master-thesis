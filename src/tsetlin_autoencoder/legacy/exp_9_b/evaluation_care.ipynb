{
 "cells": [
  {
   "cell_type": "code",
   "id": "initial_id",
   "metadata": {
    "collapsed": true,
    "ExecuteTime": {
     "end_time": "2025-04-01T17:14:23.787098Z",
     "start_time": "2025-04-01T17:14:23.764441Z"
    }
   },
   "source": [
    "import numpy as np\n",
    "import seaborn as sns\n",
    "import matplotlib.pyplot as plt\n",
    "import pandas as pd\n",
    "import os\n",
    "\n",
    "import pickle\n",
    "\n",
    "from tmu.models.autoencoder.autoencoder import TMAutoEncoder\n",
    "from src.lib.care import calculate_care_score"
   ],
   "outputs": [],
   "execution_count": 38
  },
  {
   "metadata": {
    "ExecuteTime": {
     "end_time": "2025-04-01T17:14:23.808521Z",
     "start_time": "2025-04-01T17:14:23.801433Z"
    }
   },
   "cell_type": "code",
   "source": "bits = 3",
   "id": "f165f69a5ad5a0e0",
   "outputs": [],
   "execution_count": 39
  },
  {
   "metadata": {
    "ExecuteTime": {
     "end_time": "2025-04-01T17:14:23.859794Z",
     "start_time": "2025-04-01T17:14:23.853946Z"
    }
   },
   "cell_type": "code",
   "source": [
    "# Create folder figures if it does not exist\n",
    "os.makedirs(\"figures\", exist_ok=True)"
   ],
   "id": "12722105cfb66efa",
   "outputs": [],
   "execution_count": 40
  },
  {
   "metadata": {
    "ExecuteTime": {
     "end_time": "2025-04-01T17:14:23.868087Z",
     "start_time": "2025-04-01T17:14:23.863572Z"
    }
   },
   "cell_type": "code",
   "source": [
    "def load_test_dataset(farm, event_id):\n",
    "    X = np.loadtxt(f\"./data_test/X_{farm}_{event_id}.txt\", dtype=np.uint32)\n",
    "    X = np.array(X).astype(np.uint32)\n",
    "\n",
    "    # Take the last 4000 rows\n",
    "    #X = X[-10000:]\n",
    "\n",
    "    return X\n",
    "\n",
    "\n",
    "def load_thresh_dataset(farm, event_id):\n",
    "    X = np.loadtxt(f\"./data_train/X_{farm}_{event_id}.txt\", dtype=np.uint32)\n",
    "    X = np.array(X).astype(np.uint32)\n",
    "\n",
    "    # Take the first 5000 rows\n",
    "    X = X[:10000]\n",
    "\n",
    "    return X\n",
    "\n",
    "\n",
    "def load_test_labels(farm, event_id):\n",
    "    # Load dataframe from file\n",
    "    df = pd.read_csv(f\"./data_test/y_{farm}_{event_id}.csv\")\n",
    "\n",
    "    labels = df['label'].values\n",
    "    status_ids = df['status_type_id'].values\n",
    "    train_test = df['train_test'].values\n",
    "\n",
    "    # Take the first 3000 rows\n",
    "    #labels = labels[-10000:]\n",
    "    #status_ids = status_ids[-10000:]\n",
    "    #train_test = train_test[-10000:]\n",
    "\n",
    "    return np.array(labels).astype(np.uint32), np.array(status_ids).astype(np.uint32), train_test\n",
    "\n",
    "\n",
    "def load_test_label(farm, event_id):\n",
    "    event_info = pd.read_csv(f\"../../../data/care_to_compare/Wind Farm {farm}/event_info.csv\", delimiter=';')\n",
    "\n",
    "    metadata = event_info[event_info['event_id'] == event_id]\n",
    "\n",
    "    event_label = metadata[\"event_label\"].values[0]\n",
    "\n",
    "    return False if event_label == \"anomaly\" else True"
   ],
   "id": "9afef311a40435c8",
   "outputs": [],
   "execution_count": 41
  },
  {
   "metadata": {
    "ExecuteTime": {
     "end_time": "2025-04-01T17:14:23.899862Z",
     "start_time": "2025-04-01T17:14:23.896063Z"
    }
   },
   "cell_type": "code",
   "source": [
    "def calculate_accuracy(labels, predictions):\n",
    "    # Calculate the accuracy\n",
    "    accuracy = np.sum(labels == predictions) / len(labels)\n",
    "\n",
    "    return accuracy\n",
    "\n",
    "\n",
    "def calculate_threshold(X, pred):\n",
    "    losses = [huber_loss(X[i], pred[i]) for i in range(len(X))]\n",
    "\n",
    "    # Set the threshold as the lowest 1% of the losses\n",
    "    threshold = np.percentile(losses, 90)\n",
    "\n",
    "    return threshold\n"
   ],
   "id": "4a1549d328c78582",
   "outputs": [],
   "execution_count": 42
  },
  {
   "metadata": {
    "ExecuteTime": {
     "end_time": "2025-04-01T17:14:23.925381Z",
     "start_time": "2025-04-01T17:14:23.922258Z"
    }
   },
   "cell_type": "code",
   "source": [
    "def load_model(filename) -> TMAutoEncoder:\n",
    "    with open(filename, \"rb\") as f:\n",
    "        model = pickle.load(f)\n",
    "\n",
    "    return model"
   ],
   "id": "652d72a575fd0627",
   "outputs": [],
   "execution_count": 43
  },
  {
   "metadata": {
    "ExecuteTime": {
     "end_time": "2025-04-01T17:14:23.953598Z",
     "start_time": "2025-04-01T17:14:23.945073Z"
    }
   },
   "cell_type": "code",
   "source": [
    "def hamming_loss(pred, X_test):\n",
    "    \"\"\"\n",
    "    Computes the Hamming loss between predicted and ground truth binary arrays.\n",
    "\n",
    "    Parameters:\n",
    "    - pred (numpy array): Binary predictions of shape (n_samples, n_bits).\n",
    "    - X_test (numpy array): Ground truth binary values of shape (n_samples, n_bits).\n",
    "\n",
    "    Returns:\n",
    "    - float: Hamming loss (fraction of incorrect bits).\n",
    "    \"\"\"\n",
    "    assert pred.shape == X_test.shape, \"Shapes of pred and X_test must match\"\n",
    "\n",
    "    # Compute the number of differing bits\n",
    "    incorrect_bits = np.sum(pred != X_test)\n",
    "\n",
    "    # Total number of bits\n",
    "    total_bits = np.prod(X_test.shape)\n",
    "\n",
    "    # Hamming loss is the fraction of incorrect bits\n",
    "    return incorrect_bits / total_bits\n",
    "\n",
    "\n",
    "def binary_to_decimal(arr, bit_length):\n",
    "    # Split the array into chunks of bit_length\n",
    "    numbers = [int(\"\".join(map(str, arr[i:i + bit_length])), 2) for i in range(0, len(arr), bit_length)]\n",
    "    return numbers\n",
    "\n",
    "\n",
    "def mse_loss(pred, X_test):\n",
    "    # Reconstruct the original values (5 bits)\n",
    "    p = binary_to_decimal(pred, bits)\n",
    "    x = binary_to_decimal(X_test, bits)\n",
    "\n",
    "    # Compute the MSE\n",
    "    mse = np.mean((np.array(p) - np.array(x)) ** 2)\n",
    "    return mse\n",
    "\n",
    "\n",
    "def huber_loss(pred, X_test, delta=1.0):\n",
    "    # Reconstruct the original values (5 bits)\n",
    "    p = binary_to_decimal(pred, bits)\n",
    "    x = binary_to_decimal(X_test, bits)\n",
    "\n",
    "    # Compute the Huber loss\n",
    "    loss = np.where(np.abs(np.array(p) - np.array(x)) < delta, 0.5 * ((np.array(p) - np.array(x)) ** 2),\n",
    "                    delta * (np.abs(np.array(p) - np.array(x)) - 0.5 * delta))\n",
    "\n",
    "    return np.mean(loss)\n",
    "\n",
    "\n",
    "def kl_divergence(pred, X_test):\n",
    "    # Reconstruct the original values (5 bits)\n",
    "    p = binary_to_decimal(pred, bits)\n",
    "    x = binary_to_decimal(X_test, bits)\n",
    "\n",
    "    # Compute the KL divergence\n",
    "    kl = np.sum(np.array(x) * np.log(np.array(x) / np.array(p)))\n",
    "    return kl\n"
   ],
   "id": "e362b0e33bf545cd",
   "outputs": [],
   "execution_count": 44
  },
  {
   "metadata": {
    "ExecuteTime": {
     "end_time": "2025-04-01T17:14:23.979455Z",
     "start_time": "2025-04-01T17:14:23.968308Z"
    }
   },
   "cell_type": "code",
   "source": [
    "def reconstruction_accuracy(X, pred):\n",
    "    correct = np.sum(X == pred)\n",
    "    accuracy = correct / len(X)\n",
    "    return accuracy\n",
    "\n",
    "\n",
    "def plot_mse(X, y, pred, name, threshold):\n",
    "    # Compute MSE for each row\n",
    "    mse_per_row = [huber_loss(X[i], pred[i]) for i in range(len(X))]\n",
    "\n",
    "    # Plot SNS plot of all MSE values\n",
    "    plt.figure(figsize=(8, 4))\n",
    "    sns.histplot(mse_per_row, bins=50, kde=True, color='b')\n",
    "\n",
    "    # Add a threshold line\n",
    "    plt.axvline(threshold, color='r', linestyle='--')\n",
    "\n",
    "    # Save the plot\n",
    "    plt.savefig(f\"./figures/plot_reconstruction_acc_{name}.png\")\n",
    "\n",
    "    plt.close()\n",
    "\n",
    "\n",
    "def plot_predictions(X, y, z, pred, p, name, threshold):\n",
    "    x = np.arange(0, len(X))  # Time or index\n",
    "    r = [huber_loss(X[i], pred[i]) for i in range(len(X))]\n",
    "\n",
    "    anomalies = np.array([1 if (p[i] == 1 and z[i] == 0) else 0 for i in range(len(X))])\n",
    "\n",
    "    y_mapped = np.where(y == 0, -0.2, -0.1)\n",
    "    a_mapped = np.where(anomalies == 0, -0.4, -0.3)\n",
    "    p_mapped = np.where(p == 0, -0.6, -0.5)\n",
    "    z_mapped = np.where(np.logical_or(z == 0, z == 2), -0.8, -0.7)\n",
    "\n",
    "    # Create a figure with two subplots (1 row, 2 columns)\n",
    "    fig, axes = plt.subplots(2, 1, figsize=(12, 10))\n",
    "\n",
    "    # First chart\n",
    "    # If z is 0 or 2, then the color is orange, if y[i] is 1, then the color is red, otherwise blue\n",
    "    colors = ['red' if y[i] == 1 else 'blue' if z[i] == 0 or z[i] == 2 else 'orange' for i in range(len(z))]\n",
    "\n",
    "    axes[0].scatter(x, r, label=\"Reconstruction Loss\", c=colors, alpha=0.7)\n",
    "    axes[0].axhline(threshold, color='red', linestyle='--', label=\"Threshold\")\n",
    "\n",
    "    axes[0].set_title(\"Reconstruction Loss\")\n",
    "    axes[0].set_xlabel(\"Time\")\n",
    "    axes[0].set_ylabel(\"Reconstruction Loss\")\n",
    "    axes[0].legend()\n",
    "\n",
    "    # Second chart\n",
    "    axes[1].plot(x, y_mapped, label=\"Actual Anomalies (y)\", color='red', linestyle='-', linewidth=2)\n",
    "    axes[1].plot(x, a_mapped, label=\"Detected Anomalies (a)\", color='purple', linestyle='-', linewidth=2)\n",
    "    axes[1].plot(x, p_mapped, label=\"Predicted Anomalies (p)\", color='green', linestyle='-', linewidth=2)\n",
    "    axes[1].plot(x, z_mapped, label=\"Status Type Id (z)\", color='orange', linestyle='-', linewidth=2)\n",
    "\n",
    "    axes[1].axhline(y=-0.1, color='black', linestyle='dotted', linewidth=1, alpha=0.5)\n",
    "    axes[1].axhline(y=-0.2, color='black', linestyle='dotted', linewidth=1, alpha=0.5)\n",
    "    axes[1].axhline(y=-0.3, color='black', linestyle='dotted', linewidth=1, alpha=0.5)\n",
    "    axes[1].axhline(y=-0.4, color='black', linestyle='dotted', linewidth=1, alpha=0.5)\n",
    "    axes[1].axhline(y=-0.5, color='black', linestyle='dotted', linewidth=1, alpha=0.5)\n",
    "    axes[1].axhline(y=-0.6, color='black', linestyle='dotted', linewidth=1, alpha=0.5)\n",
    "    axes[1].axhline(y=-0.7, color='black', linestyle='dotted', linewidth=1, alpha=0.5)\n",
    "    axes[1].axhline(y=-0.8, color='black', linestyle='dotted', linewidth=1, alpha=0.5)\n",
    "\n",
    "    axes[1].set_ylim(-0.9, 0)\n",
    "\n",
    "    axes[1].set_title(\"Anomalies\")\n",
    "    axes[1].legend()\n",
    "\n",
    "    # Adjust layout\n",
    "    plt.tight_layout()\n",
    "    plt.grid(True)\n",
    "\n",
    "    # plt.show()\n",
    "\n",
    "    # Save the plot\n",
    "    plt.savefig(f\"./figures/plot_detections_{name}.png\")\n",
    "\n",
    "    plt.close()\n",
    "\n",
    "\n",
    "def get_predictions(X, y, z, name, tm, threshold):\n",
    "    pred = tm.predict(X)\n",
    "\n",
    "    # For each row in pred, if the MSE is greater than the threshold, then it is an anomaly\n",
    "    losses = [huber_loss(X[i], pred[i]) for i in range(len(X))]\n",
    "\n",
    "    X_predictions = np.array([1 if losses[i] > threshold else 0 for i in range(len(X))])\n",
    "\n",
    "    # Accuracy\n",
    "    accuracy = calculate_accuracy(y, X_predictions)\n",
    "\n",
    "    plot_mse(X, y, pred, name, threshold)\n",
    "    plot_predictions(X, y, z, pred, X_predictions, name, threshold)\n",
    "\n",
    "    return X_predictions, accuracy"
   ],
   "id": "e96b8166de1ca4ee",
   "outputs": [],
   "execution_count": 45
  },
  {
   "metadata": {
    "ExecuteTime": {
     "end_time": "2025-04-01T17:14:38.386167Z",
     "start_time": "2025-04-01T17:14:23.985795Z"
    }
   },
   "cell_type": "code",
   "source": [
    "test_datasets = [34, 7, 53, 74, 86, 82, 27, 19, 77, 83, 52, 21, 2, 23, 87, ]\n",
    "\n",
    "tm_autoencoder = load_model(\"models/latest_49.pkl\")\n",
    "\n",
    "X_thresh = load_thresh_dataset(\"B\", 83)\n",
    "X_thresh_pred = tm_autoencoder.predict(X_thresh)\n",
    "\n",
    "threshold = calculate_threshold(X_thresh, X_thresh_pred)\n",
    "\n",
    "print(f\"Threshold: {threshold}\")\n",
    "\n",
    "\n",
    "def run_prediction(farm, dataset):\n",
    "    X = load_test_dataset(farm, dataset)\n",
    "    labels, status_ids, train_test = load_test_labels(farm, dataset)\n",
    "\n",
    "    is_normal = load_test_label(farm, dataset)\n",
    "\n",
    "    predictions, accuracy = get_predictions(X, labels, status_ids, f\"{farm}_{dataset}\", tm_autoencoder, threshold)\n",
    "\n",
    "    return X, labels, status_ids, train_test, is_normal, predictions, accuracy\n"
   ],
   "id": "986c2e3634919b34",
   "outputs": [
    {
     "name": "stdout",
     "output_type": "stream",
     "text": [
      "Threshold: 0.11904761904761904\n"
     ]
    }
   ],
   "execution_count": 46
  },
  {
   "metadata": {
    "ExecuteTime": {
     "end_time": "2025-04-01T17:36:55.920560Z",
     "start_time": "2025-04-01T17:14:38.407759Z"
    }
   },
   "cell_type": "code",
   "source": [
    "# Create a dataframe with status_type_id;label;prediction\n",
    "elements = []\n",
    "\n",
    "for set in test_datasets:\n",
    "    res = run_prediction(\"B\", set)\n",
    "\n",
    "    result_df = pd.DataFrame({\n",
    "        'status_type_id': res[2],\n",
    "        'label': res[1],\n",
    "        'prediction': res[5],\n",
    "        'train_test': res[3],\n",
    "    })\n",
    "\n",
    "    print(f\"Done with {set}. Accuracy: {res[6]}\")\n",
    "\n",
    "    elements.append({'dataset': set, 'normal': res[4], 'data': result_df, 'accuracy': res[6]})"
   ],
   "id": "70e024b9cc85e8c9",
   "outputs": [
    {
     "name": "stdout",
     "output_type": "stream",
     "text": [
      "Done with 34. Accuracy: 0.7723423439350813\n",
      "Done with 7. Accuracy: 0.8403268436782007\n",
      "Done with 53. Accuracy: 0.8102583353240282\n",
      "Done with 74. Accuracy: 0.8891746551321019\n",
      "Done with 86. Accuracy: 0.815301432819681\n",
      "Done with 82. Accuracy: 0.8570519348268839\n",
      "Done with 27. Accuracy: 0.7582989384425137\n",
      "Done with 19. Accuracy: 0.843743891386633\n",
      "Done with 77. Accuracy: 0.7294536624848239\n",
      "Done with 83. Accuracy: 0.8265864497989539\n",
      "Done with 52. Accuracy: 0.8193497023540268\n",
      "Done with 21. Accuracy: 0.8999887879807154\n",
      "Done with 2. Accuracy: 0.9069066876015555\n",
      "Done with 23. Accuracy: 0.8648356282429732\n",
      "Done with 87. Accuracy: 0.8851052298798663\n"
     ]
    }
   ],
   "execution_count": 47
  },
  {
   "metadata": {
    "ExecuteTime": {
     "end_time": "2025-04-01T17:36:56.080968Z",
     "start_time": "2025-04-01T17:36:56.022902Z"
    }
   },
   "cell_type": "code",
   "source": [
    "# Safe the results to results.pkl\n",
    "with open(\"results_full_99.pkl\", \"wb\") as f:\n",
    "    pickle.dump(elements, f)"
   ],
   "id": "135d0e12a45b534b",
   "outputs": [],
   "execution_count": 48
  },
  {
   "metadata": {
    "ExecuteTime": {
     "end_time": "2025-04-01T17:36:56.514869Z",
     "start_time": "2025-04-01T17:36:56.194597Z"
    }
   },
   "cell_type": "code",
   "source": [
    "score = calculate_care_score(elements)\n",
    "print(score)"
   ],
   "id": "aa6756d8794bc14c",
   "outputs": [
    {
     "name": "stdout",
     "output_type": "stream",
     "text": [
      "0.6558867641599533\n"
     ]
    }
   ],
   "execution_count": 49
  },
  {
   "metadata": {
    "ExecuteTime": {
     "end_time": "2025-04-01T17:36:56.523015Z",
     "start_time": "2025-04-01T17:36:56.521838Z"
    }
   },
   "cell_type": "code",
   "source": "",
   "id": "ab36041fe048ee4e",
   "outputs": [],
   "execution_count": null
  }
 ],
 "metadata": {
  "kernelspec": {
   "display_name": "Python 3",
   "language": "python",
   "name": "python3"
  },
  "language_info": {
   "codemirror_mode": {
    "name": "ipython",
    "version": 2
   },
   "file_extension": ".py",
   "mimetype": "text/x-python",
   "name": "python",
   "nbconvert_exporter": "python",
   "pygments_lexer": "ipython2",
   "version": "2.7.6"
  }
 },
 "nbformat": 4,
 "nbformat_minor": 5
}
